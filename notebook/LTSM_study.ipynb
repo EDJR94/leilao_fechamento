{
 "cells": [
  {
   "cell_type": "markdown",
   "id": "10a826aa",
   "metadata": {},
   "source": [
    "# 0.0 IMPORTS"
   ]
  },
  {
   "cell_type": "code",
   "execution_count": 118,
   "id": "2aee96e9",
   "metadata": {
    "ExecuteTime": {
     "end_time": "2023-05-29T13:51:37.198276Z",
     "start_time": "2023-05-29T13:51:37.187242Z"
    }
   },
   "outputs": [],
   "source": [
    "import pandas as pd\n",
    "import numpy as np\n",
    "import inflection\n",
    "import os\n",
    "import seaborn as sns\n",
    "import matplotlib.pyplot as plt \n",
    "import warnings\n",
    "import xgboost as xgb\n",
    "\n",
    "from keras.models import Sequential\n",
    "from keras.layers import LSTM, Dense, Dropout\n",
    "\n",
    "from boruta import BorutaPy\n",
    "from datetime import datetime, timedelta\n",
    "from sklearn import model_selection as ms\n",
    "from sklearn import metrics as mt\n",
    "from sklearn.preprocessing import RobustScaler, MinMaxScaler, StandardScaler\n",
    "from sklearn import ensemble as en\n",
    "from sklearn import metrics as mt\n",
    "from sklearn.linear_model import LinearRegression, Lasso\n",
    "from sklearn import svm\n",
    "\n",
    "warnings.filterwarnings('ignore')"
   ]
  },
  {
   "cell_type": "markdown",
   "id": "ad2cfd1c",
   "metadata": {},
   "source": [
    "## 0.1 Loading Data"
   ]
  },
  {
   "cell_type": "code",
   "execution_count": 119,
   "id": "6e3a82ab",
   "metadata": {
    "ExecuteTime": {
     "end_time": "2023-05-29T13:51:37.948667Z",
     "start_time": "2023-05-29T13:51:37.941129Z"
    }
   },
   "outputs": [],
   "source": [
    "path = 'C:/Users/edils/repos/leilao_fechamento/data/test_petr/PETR4_B_0_5min.csv'"
   ]
  },
  {
   "cell_type": "code",
   "execution_count": 120,
   "id": "ac8be6b5",
   "metadata": {
    "ExecuteTime": {
     "end_time": "2023-05-29T13:51:38.323534Z",
     "start_time": "2023-05-29T13:51:38.301019Z"
    }
   },
   "outputs": [],
   "source": [
    "df_raw = pd.read_csv(path, encoding='iso-8859-1', sep=';')"
   ]
  },
  {
   "cell_type": "code",
   "execution_count": 121,
   "id": "442a9831",
   "metadata": {
    "ExecuteTime": {
     "end_time": "2023-05-29T13:51:38.698416Z",
     "start_time": "2023-05-29T13:51:38.688132Z"
    }
   },
   "outputs": [
    {
     "data": {
      "text/html": [
       "<div>\n",
       "<style scoped>\n",
       "    .dataframe tbody tr th:only-of-type {\n",
       "        vertical-align: middle;\n",
       "    }\n",
       "\n",
       "    .dataframe tbody tr th {\n",
       "        vertical-align: top;\n",
       "    }\n",
       "\n",
       "    .dataframe thead th {\n",
       "        text-align: right;\n",
       "    }\n",
       "</style>\n",
       "<table border=\"1\" class=\"dataframe\">\n",
       "  <thead>\n",
       "    <tr style=\"text-align: right;\">\n",
       "      <th></th>\n",
       "      <th>Ativo</th>\n",
       "      <th>Data</th>\n",
       "      <th>Hora</th>\n",
       "      <th>Abertura</th>\n",
       "      <th>Máximo</th>\n",
       "      <th>Mínimo</th>\n",
       "      <th>Fechamento</th>\n",
       "      <th>Volume</th>\n",
       "      <th>Quantidade</th>\n",
       "    </tr>\n",
       "  </thead>\n",
       "  <tbody>\n",
       "    <tr>\n",
       "      <th>0</th>\n",
       "      <td>PETR4</td>\n",
       "      <td>26/05/2023</td>\n",
       "      <td>17:30:00</td>\n",
       "      <td>26,79</td>\n",
       "      <td>26,80</td>\n",
       "      <td>26,76</td>\n",
       "      <td>26,79</td>\n",
       "      <td>1.518.499,00</td>\n",
       "      <td>56.700</td>\n",
       "    </tr>\n",
       "    <tr>\n",
       "      <th>1</th>\n",
       "      <td>PETR4</td>\n",
       "      <td>26/05/2023</td>\n",
       "      <td>16:50:00</td>\n",
       "      <td>26,76</td>\n",
       "      <td>26,80</td>\n",
       "      <td>26,74</td>\n",
       "      <td>26,80</td>\n",
       "      <td>86.912.867,00</td>\n",
       "      <td>3.244.400</td>\n",
       "    </tr>\n",
       "    <tr>\n",
       "      <th>2</th>\n",
       "      <td>PETR4</td>\n",
       "      <td>26/05/2023</td>\n",
       "      <td>16:45:00</td>\n",
       "      <td>26,77</td>\n",
       "      <td>26,80</td>\n",
       "      <td>26,74</td>\n",
       "      <td>26,77</td>\n",
       "      <td>18.082.061,00</td>\n",
       "      <td>675.700</td>\n",
       "    </tr>\n",
       "    <tr>\n",
       "      <th>3</th>\n",
       "      <td>PETR4</td>\n",
       "      <td>26/05/2023</td>\n",
       "      <td>16:40:00</td>\n",
       "      <td>26,80</td>\n",
       "      <td>26,82</td>\n",
       "      <td>26,75</td>\n",
       "      <td>26,77</td>\n",
       "      <td>18.316.014,00</td>\n",
       "      <td>683.700</td>\n",
       "    </tr>\n",
       "    <tr>\n",
       "      <th>4</th>\n",
       "      <td>PETR4</td>\n",
       "      <td>26/05/2023</td>\n",
       "      <td>16:35:00</td>\n",
       "      <td>26,81</td>\n",
       "      <td>26,83</td>\n",
       "      <td>26,78</td>\n",
       "      <td>26,81</td>\n",
       "      <td>23.448.773,00</td>\n",
       "      <td>874.900</td>\n",
       "    </tr>\n",
       "    <tr>\n",
       "      <th>...</th>\n",
       "      <td>...</td>\n",
       "      <td>...</td>\n",
       "      <td>...</td>\n",
       "      <td>...</td>\n",
       "      <td>...</td>\n",
       "      <td>...</td>\n",
       "      <td>...</td>\n",
       "      <td>...</td>\n",
       "      <td>...</td>\n",
       "    </tr>\n",
       "    <tr>\n",
       "      <th>14332</th>\n",
       "      <td>PETR4</td>\n",
       "      <td>30/09/2022</td>\n",
       "      <td>15:30:00</td>\n",
       "      <td>23,39</td>\n",
       "      <td>23,46</td>\n",
       "      <td>23,39</td>\n",
       "      <td>23,46</td>\n",
       "      <td>62.166.319,00</td>\n",
       "      <td>2.077.100</td>\n",
       "    </tr>\n",
       "    <tr>\n",
       "      <th>14333</th>\n",
       "      <td>PETR4</td>\n",
       "      <td>30/09/2022</td>\n",
       "      <td>15:25:00</td>\n",
       "      <td>23,45</td>\n",
       "      <td>23,49</td>\n",
       "      <td>23,38</td>\n",
       "      <td>23,39</td>\n",
       "      <td>28.148.235,00</td>\n",
       "      <td>940.600</td>\n",
       "    </tr>\n",
       "    <tr>\n",
       "      <th>14334</th>\n",
       "      <td>PETR4</td>\n",
       "      <td>30/09/2022</td>\n",
       "      <td>15:20:00</td>\n",
       "      <td>23,56</td>\n",
       "      <td>23,58</td>\n",
       "      <td>23,41</td>\n",
       "      <td>23,45</td>\n",
       "      <td>47.382.040,00</td>\n",
       "      <td>1.579.800</td>\n",
       "    </tr>\n",
       "    <tr>\n",
       "      <th>14335</th>\n",
       "      <td>PETR4</td>\n",
       "      <td>30/09/2022</td>\n",
       "      <td>15:15:00</td>\n",
       "      <td>23,50</td>\n",
       "      <td>23,61</td>\n",
       "      <td>23,50</td>\n",
       "      <td>23,56</td>\n",
       "      <td>25.101.653,00</td>\n",
       "      <td>833.800</td>\n",
       "    </tr>\n",
       "    <tr>\n",
       "      <th>14336</th>\n",
       "      <td>PETR4</td>\n",
       "      <td>30/09/2022</td>\n",
       "      <td>15:10:00</td>\n",
       "      <td>23,50</td>\n",
       "      <td>23,53</td>\n",
       "      <td>23,49</td>\n",
       "      <td>23,50</td>\n",
       "      <td>169.923.272,00</td>\n",
       "      <td>5.660.300</td>\n",
       "    </tr>\n",
       "  </tbody>\n",
       "</table>\n",
       "<p>14337 rows × 9 columns</p>\n",
       "</div>"
      ],
      "text/plain": [
       "       Ativo        Data      Hora Abertura Máximo Mínimo Fechamento  \\\n",
       "0      PETR4  26/05/2023  17:30:00    26,79  26,80  26,76      26,79   \n",
       "1      PETR4  26/05/2023  16:50:00    26,76  26,80  26,74      26,80   \n",
       "2      PETR4  26/05/2023  16:45:00    26,77  26,80  26,74      26,77   \n",
       "3      PETR4  26/05/2023  16:40:00    26,80  26,82  26,75      26,77   \n",
       "4      PETR4  26/05/2023  16:35:00    26,81  26,83  26,78      26,81   \n",
       "...      ...         ...       ...      ...    ...    ...        ...   \n",
       "14332  PETR4  30/09/2022  15:30:00    23,39  23,46  23,39      23,46   \n",
       "14333  PETR4  30/09/2022  15:25:00    23,45  23,49  23,38      23,39   \n",
       "14334  PETR4  30/09/2022  15:20:00    23,56  23,58  23,41      23,45   \n",
       "14335  PETR4  30/09/2022  15:15:00    23,50  23,61  23,50      23,56   \n",
       "14336  PETR4  30/09/2022  15:10:00    23,50  23,53  23,49      23,50   \n",
       "\n",
       "               Volume Quantidade  \n",
       "0        1.518.499,00     56.700  \n",
       "1       86.912.867,00  3.244.400  \n",
       "2       18.082.061,00    675.700  \n",
       "3       18.316.014,00    683.700  \n",
       "4       23.448.773,00    874.900  \n",
       "...               ...        ...  \n",
       "14332   62.166.319,00  2.077.100  \n",
       "14333   28.148.235,00    940.600  \n",
       "14334   47.382.040,00  1.579.800  \n",
       "14335   25.101.653,00    833.800  \n",
       "14336  169.923.272,00  5.660.300  \n",
       "\n",
       "[14337 rows x 9 columns]"
      ]
     },
     "execution_count": 121,
     "metadata": {},
     "output_type": "execute_result"
    }
   ],
   "source": [
    "df_raw"
   ]
  },
  {
   "cell_type": "markdown",
   "id": "69a07ea5",
   "metadata": {},
   "source": [
    "## 0.2 Helper Function"
   ]
  },
  {
   "cell_type": "code",
   "execution_count": 122,
   "id": "8ec93d21",
   "metadata": {
    "ExecuteTime": {
     "end_time": "2023-05-29T13:51:39.644250Z",
     "start_time": "2023-05-29T13:51:39.617688Z"
    }
   },
   "outputs": [],
   "source": [
    "def data_types(df1):\n",
    "    #abertura\n",
    "    df1['abertura'] = df1['abertura'].apply(lambda x: x.replace(',','.'))\n",
    "    df1['abertura'] = df1['abertura'].astype(float)\n",
    "\n",
    "    #maximo\n",
    "    df1['maximo'] = df1['maximo'].apply(lambda x: x.replace(',','.'))\n",
    "    df1['maximo'] = df1['maximo'].astype(float)\n",
    "\n",
    "    #minimo\n",
    "    df1['minimo'] = df1['minimo'].apply(lambda x: x.replace(',','.'))\n",
    "    df1['minimo'] = df1['minimo'].astype(float)\n",
    "\n",
    "    #fechamento\n",
    "    df1['fechamento'] = df1['fechamento'].apply(lambda x: x.replace(',','.'))\n",
    "    df1['fechamento'] = df1['fechamento'].astype(float)\n",
    "\n",
    "    #volume\n",
    "    df1['volume'] = df1['volume'].apply(lambda x: x.replace(\".\", \"\").replace(\",\", \".\"))\n",
    "    df1['volume'] = df1['volume'].astype(float)\n",
    "\n",
    "    #quantidade\n",
    "    df1['quantidade'] = df1['quantidade'].apply(lambda x: x.replace(\".\", \"\") if isinstance(x, str) else x)\n",
    "    df1['quantidade'] = df1['quantidade'].apply(lambda x: float(x))\n",
    "\n",
    "    #data\n",
    "    df1['data'] = df1['data'].apply(lambda x: x.replace('/','-'))\n",
    "    df1['data'] = df1['data'].apply(lambda x: datetime.strptime(x, \"%d-%m-%Y\"))\n",
    "    df1['data'] = pd.to_datetime(df1['data'], format='%d-%m-%Y')\n",
    "    df1['hora'] = df1['hora'].apply(lambda x: datetime.strptime(x, \"%H:%M:%S\"))\n",
    "    \n",
    "    return df1\n",
    "\n",
    "def rename_columns(df1):\n",
    "    cols_old = df1.columns\n",
    "    cols_new = cols_old.map(lambda x: inflection.underscore(x))\n",
    "    df1.columns = cols_new\n",
    "    df1 = df1.rename(columns={'máximo': 'maximo', 'mínimo':'minimo'})\n",
    "    \n",
    "    return df1\n",
    "\n",
    "def changing_time(df1):\n",
    "    #Horário de verão 2023-03-13\n",
    "    data_verao = pd.to_datetime('2023-03-13')\n",
    "    df1.loc[df1['data'] >= data_verao, 'hora'] += pd.Timedelta(hours=1)\n",
    "    hora_leilao = (df1['hora'].dt.hour >= 16) & (df1['hora'].dt.hour < 18) \n",
    "    df1 = df1.loc[hora_leilao,:]\n",
    "    return df1\n",
    "\n",
    "def clean_futuros(df_win):\n",
    "    cols_old = df_win.columns\n",
    "    cols_new = cols_old.map(lambda x: inflection.underscore(x))\n",
    "    df_win.columns = cols_new\n",
    "    df_win = df_win.rename(columns={'máximo': 'maximo', 'mínimo':'minimo'})\n",
    "\n",
    "    df_win['abertura'] = df_win['abertura'].astype(float)\n",
    "\n",
    "    #maximo\n",
    "\n",
    "    df_win['maximo'] = df_win['maximo'].astype(float)\n",
    "\n",
    "    #minimo\n",
    "\n",
    "    df_win['minimo'] = df_win['minimo'].astype(float)\n",
    "\n",
    "    #fechamento\n",
    "\n",
    "    df_win['fechamento'] = df_win['fechamento'].astype(float)\n",
    "\n",
    "    #volume\n",
    "    df_win['volume'] = df_win['volume'].apply(lambda x: x.replace(\".\", \"\").replace(\",\", \".\"))\n",
    "    df_win['volume'] = df_win['volume'].astype(float)\n",
    "\n",
    "    #quantidade\n",
    "    df_win['quantidade'] = df_win['quantidade'].apply(lambda x: x.replace(\".\", \"\") if isinstance(x, str) else x)\n",
    "    df_win['quantidade'] = df_win['quantidade'].apply(lambda x: float(x))\n",
    "\n",
    "    #data\n",
    "    df_win['data'] = df_win['data'].apply(lambda x: x.replace('/','-'))\n",
    "    df_win['data'] = df_win['data'].apply(lambda x: datetime.strptime(x, \"%d-%m-%Y\"))\n",
    "    df_win['data'] = pd.to_datetime(df_win['data'], format='%d-%m-%Y')\n",
    "    df_win['hora'] = df_win['hora'].apply(lambda x: datetime.strptime(x, \"%H:%M:%S\"))\n",
    "    df_win['variacao'] = (df_win['fechamento'] - df_win['abertura']) / df_win['abertura']\n",
    "    \n",
    "    #Horário de verão 2023-03-13\n",
    "    data_verao = pd.to_datetime('2023-03-13')\n",
    "    df_win.loc[df_win['data'] >= data_verao, 'hora'] += pd.Timedelta(hours=1)\n",
    "    \n",
    "    hora_leilao = (df_win['hora'].dt.hour >= 16) & (df_win['hora'].dt.hour < 18) \n",
    "    df_win = df_win.loc[hora_leilao,:]\n",
    "    \n",
    "    df_win['variacao'] = (df_win['fechamento'] - df_win['abertura']) / df_win['abertura']\n",
    "    \n",
    "    return df_win\n",
    "\n",
    "def ml_error(model_name, y, yhat):\n",
    "    mae = mt.mean_absolute_error(y, yhat)\n",
    "    mape = mt.mean_absolute_percentage_error(y, yhat)\n",
    "    rmse = np.sqrt(mt.mean_squared_error(y, yhat))\n",
    "   \n",
    "    return pd.DataFrame({'Model Name': model_name,\n",
    "                        'MAE': mae,\n",
    "                        'MAPE':mape,\n",
    "                        'RMSE':rmse},index=[0])\n",
    "    "
   ]
  },
  {
   "cell_type": "markdown",
   "id": "7d69b125",
   "metadata": {},
   "source": [
    "# 1.0 DATA DESCRIPTION "
   ]
  },
  {
   "cell_type": "code",
   "execution_count": 275,
   "id": "d4148122",
   "metadata": {
    "ExecuteTime": {
     "end_time": "2023-05-29T15:01:41.817929Z",
     "start_time": "2023-05-29T15:01:41.797280Z"
    }
   },
   "outputs": [],
   "source": [
    "df1 = df_raw.copy()"
   ]
  },
  {
   "cell_type": "code",
   "execution_count": 276,
   "id": "8ca0da8e",
   "metadata": {
    "ExecuteTime": {
     "end_time": "2023-05-29T15:01:42.035833Z",
     "start_time": "2023-05-29T15:01:42.012034Z"
    }
   },
   "outputs": [
    {
     "data": {
      "text/html": [
       "<div>\n",
       "<style scoped>\n",
       "    .dataframe tbody tr th:only-of-type {\n",
       "        vertical-align: middle;\n",
       "    }\n",
       "\n",
       "    .dataframe tbody tr th {\n",
       "        vertical-align: top;\n",
       "    }\n",
       "\n",
       "    .dataframe thead th {\n",
       "        text-align: right;\n",
       "    }\n",
       "</style>\n",
       "<table border=\"1\" class=\"dataframe\">\n",
       "  <thead>\n",
       "    <tr style=\"text-align: right;\">\n",
       "      <th></th>\n",
       "      <th>Ativo</th>\n",
       "      <th>Data</th>\n",
       "      <th>Hora</th>\n",
       "      <th>Abertura</th>\n",
       "      <th>Máximo</th>\n",
       "      <th>Mínimo</th>\n",
       "      <th>Fechamento</th>\n",
       "      <th>Volume</th>\n",
       "      <th>Quantidade</th>\n",
       "    </tr>\n",
       "  </thead>\n",
       "  <tbody>\n",
       "    <tr>\n",
       "      <th>0</th>\n",
       "      <td>PETR4</td>\n",
       "      <td>26/05/2023</td>\n",
       "      <td>17:30:00</td>\n",
       "      <td>26,79</td>\n",
       "      <td>26,80</td>\n",
       "      <td>26,76</td>\n",
       "      <td>26,79</td>\n",
       "      <td>1.518.499,00</td>\n",
       "      <td>56.700</td>\n",
       "    </tr>\n",
       "    <tr>\n",
       "      <th>1</th>\n",
       "      <td>PETR4</td>\n",
       "      <td>26/05/2023</td>\n",
       "      <td>16:50:00</td>\n",
       "      <td>26,76</td>\n",
       "      <td>26,80</td>\n",
       "      <td>26,74</td>\n",
       "      <td>26,80</td>\n",
       "      <td>86.912.867,00</td>\n",
       "      <td>3.244.400</td>\n",
       "    </tr>\n",
       "    <tr>\n",
       "      <th>2</th>\n",
       "      <td>PETR4</td>\n",
       "      <td>26/05/2023</td>\n",
       "      <td>16:45:00</td>\n",
       "      <td>26,77</td>\n",
       "      <td>26,80</td>\n",
       "      <td>26,74</td>\n",
       "      <td>26,77</td>\n",
       "      <td>18.082.061,00</td>\n",
       "      <td>675.700</td>\n",
       "    </tr>\n",
       "    <tr>\n",
       "      <th>3</th>\n",
       "      <td>PETR4</td>\n",
       "      <td>26/05/2023</td>\n",
       "      <td>16:40:00</td>\n",
       "      <td>26,80</td>\n",
       "      <td>26,82</td>\n",
       "      <td>26,75</td>\n",
       "      <td>26,77</td>\n",
       "      <td>18.316.014,00</td>\n",
       "      <td>683.700</td>\n",
       "    </tr>\n",
       "    <tr>\n",
       "      <th>4</th>\n",
       "      <td>PETR4</td>\n",
       "      <td>26/05/2023</td>\n",
       "      <td>16:35:00</td>\n",
       "      <td>26,81</td>\n",
       "      <td>26,83</td>\n",
       "      <td>26,78</td>\n",
       "      <td>26,81</td>\n",
       "      <td>23.448.773,00</td>\n",
       "      <td>874.900</td>\n",
       "    </tr>\n",
       "  </tbody>\n",
       "</table>\n",
       "</div>"
      ],
      "text/plain": [
       "   Ativo        Data      Hora Abertura Máximo Mínimo Fechamento  \\\n",
       "0  PETR4  26/05/2023  17:30:00    26,79  26,80  26,76      26,79   \n",
       "1  PETR4  26/05/2023  16:50:00    26,76  26,80  26,74      26,80   \n",
       "2  PETR4  26/05/2023  16:45:00    26,77  26,80  26,74      26,77   \n",
       "3  PETR4  26/05/2023  16:40:00    26,80  26,82  26,75      26,77   \n",
       "4  PETR4  26/05/2023  16:35:00    26,81  26,83  26,78      26,81   \n",
       "\n",
       "          Volume Quantidade  \n",
       "0   1.518.499,00     56.700  \n",
       "1  86.912.867,00  3.244.400  \n",
       "2  18.082.061,00    675.700  \n",
       "3  18.316.014,00    683.700  \n",
       "4  23.448.773,00    874.900  "
      ]
     },
     "execution_count": 276,
     "metadata": {},
     "output_type": "execute_result"
    }
   ],
   "source": [
    "df1.head()"
   ]
  },
  {
   "cell_type": "code",
   "execution_count": 277,
   "id": "5454ae11",
   "metadata": {
    "ExecuteTime": {
     "end_time": "2023-05-29T15:01:42.300137Z",
     "start_time": "2023-05-29T15:01:42.291622Z"
    }
   },
   "outputs": [],
   "source": [
    "df1 = rename_columns(df1)"
   ]
  },
  {
   "cell_type": "code",
   "execution_count": 278,
   "id": "8633a4b5",
   "metadata": {
    "ExecuteTime": {
     "end_time": "2023-05-29T15:01:42.875720Z",
     "start_time": "2023-05-29T15:01:42.593054Z"
    }
   },
   "outputs": [],
   "source": [
    "df1 = data_types(df1)"
   ]
  },
  {
   "cell_type": "code",
   "execution_count": 279,
   "id": "a3aaef6d",
   "metadata": {
    "ExecuteTime": {
     "end_time": "2023-05-29T15:01:45.324986Z",
     "start_time": "2023-05-29T15:01:45.307212Z"
    }
   },
   "outputs": [],
   "source": [
    "df1 = changing_time(df1)"
   ]
  },
  {
   "cell_type": "code",
   "execution_count": 280,
   "id": "7b6c07ae",
   "metadata": {
    "ExecuteTime": {
     "end_time": "2023-05-29T15:01:46.383680Z",
     "start_time": "2023-05-29T15:01:46.367531Z"
    }
   },
   "outputs": [],
   "source": [
    "df1 = df1.sort_values(by='data').reset_index(drop=True)"
   ]
  },
  {
   "cell_type": "code",
   "execution_count": 281,
   "id": "7b918393",
   "metadata": {
    "ExecuteTime": {
     "end_time": "2023-05-29T15:01:48.015876Z",
     "start_time": "2023-05-29T15:01:47.994872Z"
    }
   },
   "outputs": [
    {
     "data": {
      "text/html": [
       "<div>\n",
       "<style scoped>\n",
       "    .dataframe tbody tr th:only-of-type {\n",
       "        vertical-align: middle;\n",
       "    }\n",
       "\n",
       "    .dataframe tbody tr th {\n",
       "        vertical-align: top;\n",
       "    }\n",
       "\n",
       "    .dataframe thead th {\n",
       "        text-align: right;\n",
       "    }\n",
       "</style>\n",
       "<table border=\"1\" class=\"dataframe\">\n",
       "  <thead>\n",
       "    <tr style=\"text-align: right;\">\n",
       "      <th></th>\n",
       "      <th>ativo</th>\n",
       "      <th>data</th>\n",
       "      <th>hora</th>\n",
       "      <th>abertura</th>\n",
       "      <th>maximo</th>\n",
       "      <th>minimo</th>\n",
       "      <th>fechamento</th>\n",
       "      <th>volume</th>\n",
       "      <th>quantidade</th>\n",
       "    </tr>\n",
       "  </thead>\n",
       "  <tbody>\n",
       "    <tr>\n",
       "      <th>0</th>\n",
       "      <td>PETR4</td>\n",
       "      <td>2022-09-30</td>\n",
       "      <td>1900-01-01 16:00:00</td>\n",
       "      <td>23.22</td>\n",
       "      <td>23.41</td>\n",
       "      <td>23.21</td>\n",
       "      <td>23.38</td>\n",
       "      <td>31861347.0</td>\n",
       "      <td>1068900.0</td>\n",
       "    </tr>\n",
       "    <tr>\n",
       "      <th>1</th>\n",
       "      <td>PETR4</td>\n",
       "      <td>2022-09-30</td>\n",
       "      <td>1900-01-01 17:30:00</td>\n",
       "      <td>23.38</td>\n",
       "      <td>23.46</td>\n",
       "      <td>23.32</td>\n",
       "      <td>23.35</td>\n",
       "      <td>16077741.0</td>\n",
       "      <td>538800.0</td>\n",
       "    </tr>\n",
       "    <tr>\n",
       "      <th>2</th>\n",
       "      <td>PETR4</td>\n",
       "      <td>2022-09-30</td>\n",
       "      <td>1900-01-01 16:50:00</td>\n",
       "      <td>23.46</td>\n",
       "      <td>23.48</td>\n",
       "      <td>23.33</td>\n",
       "      <td>23.33</td>\n",
       "      <td>350662189.0</td>\n",
       "      <td>11760900.0</td>\n",
       "    </tr>\n",
       "    <tr>\n",
       "      <th>3</th>\n",
       "      <td>PETR4</td>\n",
       "      <td>2022-09-30</td>\n",
       "      <td>1900-01-01 16:45:00</td>\n",
       "      <td>23.46</td>\n",
       "      <td>23.48</td>\n",
       "      <td>23.40</td>\n",
       "      <td>23.45</td>\n",
       "      <td>26630327.0</td>\n",
       "      <td>889200.0</td>\n",
       "    </tr>\n",
       "    <tr>\n",
       "      <th>4</th>\n",
       "      <td>PETR4</td>\n",
       "      <td>2022-09-30</td>\n",
       "      <td>1900-01-01 16:40:00</td>\n",
       "      <td>23.42</td>\n",
       "      <td>23.46</td>\n",
       "      <td>23.41</td>\n",
       "      <td>23.44</td>\n",
       "      <td>26118333.0</td>\n",
       "      <td>872500.0</td>\n",
       "    </tr>\n",
       "    <tr>\n",
       "      <th>...</th>\n",
       "      <td>...</td>\n",
       "      <td>...</td>\n",
       "      <td>...</td>\n",
       "      <td>...</td>\n",
       "      <td>...</td>\n",
       "      <td>...</td>\n",
       "      <td>...</td>\n",
       "      <td>...</td>\n",
       "      <td>...</td>\n",
       "    </tr>\n",
       "    <tr>\n",
       "      <th>3435</th>\n",
       "      <td>PETR4</td>\n",
       "      <td>2023-05-26</td>\n",
       "      <td>1900-01-01 16:10:00</td>\n",
       "      <td>26.82</td>\n",
       "      <td>26.82</td>\n",
       "      <td>26.78</td>\n",
       "      <td>26.79</td>\n",
       "      <td>19614855.0</td>\n",
       "      <td>731700.0</td>\n",
       "    </tr>\n",
       "    <tr>\n",
       "      <th>3436</th>\n",
       "      <td>PETR4</td>\n",
       "      <td>2023-05-26</td>\n",
       "      <td>1900-01-01 16:05:00</td>\n",
       "      <td>26.83</td>\n",
       "      <td>26.83</td>\n",
       "      <td>26.80</td>\n",
       "      <td>26.81</td>\n",
       "      <td>3368292.0</td>\n",
       "      <td>125600.0</td>\n",
       "    </tr>\n",
       "    <tr>\n",
       "      <th>3437</th>\n",
       "      <td>PETR4</td>\n",
       "      <td>2023-05-26</td>\n",
       "      <td>1900-01-01 16:00:00</td>\n",
       "      <td>26.85</td>\n",
       "      <td>26.86</td>\n",
       "      <td>26.81</td>\n",
       "      <td>26.83</td>\n",
       "      <td>4983569.0</td>\n",
       "      <td>185700.0</td>\n",
       "    </tr>\n",
       "    <tr>\n",
       "      <th>3438</th>\n",
       "      <td>PETR4</td>\n",
       "      <td>2023-05-26</td>\n",
       "      <td>1900-01-01 16:55:00</td>\n",
       "      <td>26.80</td>\n",
       "      <td>26.83</td>\n",
       "      <td>26.80</td>\n",
       "      <td>26.81</td>\n",
       "      <td>5929336.0</td>\n",
       "      <td>221200.0</td>\n",
       "    </tr>\n",
       "    <tr>\n",
       "      <th>3439</th>\n",
       "      <td>PETR4</td>\n",
       "      <td>2023-05-26</td>\n",
       "      <td>1900-01-01 17:50:00</td>\n",
       "      <td>26.76</td>\n",
       "      <td>26.80</td>\n",
       "      <td>26.74</td>\n",
       "      <td>26.80</td>\n",
       "      <td>86912867.0</td>\n",
       "      <td>3244400.0</td>\n",
       "    </tr>\n",
       "  </tbody>\n",
       "</table>\n",
       "<p>3440 rows × 9 columns</p>\n",
       "</div>"
      ],
      "text/plain": [
       "      ativo       data                hora  abertura  maximo  minimo  \\\n",
       "0     PETR4 2022-09-30 1900-01-01 16:00:00     23.22   23.41   23.21   \n",
       "1     PETR4 2022-09-30 1900-01-01 17:30:00     23.38   23.46   23.32   \n",
       "2     PETR4 2022-09-30 1900-01-01 16:50:00     23.46   23.48   23.33   \n",
       "3     PETR4 2022-09-30 1900-01-01 16:45:00     23.46   23.48   23.40   \n",
       "4     PETR4 2022-09-30 1900-01-01 16:40:00     23.42   23.46   23.41   \n",
       "...     ...        ...                 ...       ...     ...     ...   \n",
       "3435  PETR4 2023-05-26 1900-01-01 16:10:00     26.82   26.82   26.78   \n",
       "3436  PETR4 2023-05-26 1900-01-01 16:05:00     26.83   26.83   26.80   \n",
       "3437  PETR4 2023-05-26 1900-01-01 16:00:00     26.85   26.86   26.81   \n",
       "3438  PETR4 2023-05-26 1900-01-01 16:55:00     26.80   26.83   26.80   \n",
       "3439  PETR4 2023-05-26 1900-01-01 17:50:00     26.76   26.80   26.74   \n",
       "\n",
       "      fechamento       volume  quantidade  \n",
       "0          23.38   31861347.0   1068900.0  \n",
       "1          23.35   16077741.0    538800.0  \n",
       "2          23.33  350662189.0  11760900.0  \n",
       "3          23.45   26630327.0    889200.0  \n",
       "4          23.44   26118333.0    872500.0  \n",
       "...          ...          ...         ...  \n",
       "3435       26.79   19614855.0    731700.0  \n",
       "3436       26.81    3368292.0    125600.0  \n",
       "3437       26.83    4983569.0    185700.0  \n",
       "3438       26.81    5929336.0    221200.0  \n",
       "3439       26.80   86912867.0   3244400.0  \n",
       "\n",
       "[3440 rows x 9 columns]"
      ]
     },
     "execution_count": 281,
     "metadata": {},
     "output_type": "execute_result"
    }
   ],
   "source": [
    "df1"
   ]
  },
  {
   "cell_type": "markdown",
   "id": "bf94df51",
   "metadata": {},
   "source": [
    "## Splitting Test Train"
   ]
  },
  {
   "cell_type": "code",
   "execution_count": 282,
   "id": "1b169dc5",
   "metadata": {
    "ExecuteTime": {
     "end_time": "2023-05-29T15:01:52.494089Z",
     "start_time": "2023-05-29T15:01:52.483666Z"
    }
   },
   "outputs": [],
   "source": [
    "data_test = pd.to_datetime('2023-05-19')"
   ]
  },
  {
   "cell_type": "code",
   "execution_count": 283,
   "id": "58b02c76",
   "metadata": {
    "ExecuteTime": {
     "end_time": "2023-05-29T15:01:53.115913Z",
     "start_time": "2023-05-29T15:01:53.111885Z"
    }
   },
   "outputs": [],
   "source": [
    "X_test = df1.loc[df1['data'] > data_test,:]"
   ]
  },
  {
   "cell_type": "code",
   "execution_count": 284,
   "id": "f4bdf829",
   "metadata": {
    "ExecuteTime": {
     "end_time": "2023-05-29T15:01:53.534725Z",
     "start_time": "2023-05-29T15:01:53.529904Z"
    }
   },
   "outputs": [],
   "source": [
    "X_train = df1.loc[df1['data'] <= data_test,:]"
   ]
  },
  {
   "cell_type": "code",
   "execution_count": 287,
   "id": "bee92f35",
   "metadata": {
    "ExecuteTime": {
     "end_time": "2023-05-29T15:03:26.728402Z",
     "start_time": "2023-05-29T15:03:26.678925Z"
    }
   },
   "outputs": [],
   "source": [
    "X_test.to_csv('X_test_arima.csv', index=False)\n",
    "X_train.to_csv('X_train_arima.csv', index=False)"
   ]
  },
  {
   "cell_type": "code",
   "execution_count": 194,
   "id": "798f5621",
   "metadata": {
    "ExecuteTime": {
     "end_time": "2023-05-29T14:04:47.323966Z",
     "start_time": "2023-05-29T14:04:47.318328Z"
    }
   },
   "outputs": [],
   "source": [
    "X_train = X_train.drop(['ativo','data','hora','abertura','maximo','minimo','volume','quantidade'], axis=1)\n"
   ]
  },
  {
   "cell_type": "code",
   "execution_count": 195,
   "id": "13e2641b",
   "metadata": {
    "ExecuteTime": {
     "end_time": "2023-05-29T14:04:47.928182Z",
     "start_time": "2023-05-29T14:04:47.911980Z"
    }
   },
   "outputs": [],
   "source": [
    "X_test = X_test.drop(['ativo','data','hora','abertura','maximo','minimo','volume','quantidade'], axis=1)"
   ]
  },
  {
   "cell_type": "code",
   "execution_count": 196,
   "id": "794b28bd",
   "metadata": {
    "ExecuteTime": {
     "end_time": "2023-05-29T14:04:53.617250Z",
     "start_time": "2023-05-29T14:04:53.602549Z"
    }
   },
   "outputs": [],
   "source": [
    "training_set = X_train.values"
   ]
  },
  {
   "cell_type": "code",
   "execution_count": 197,
   "id": "5add73ad",
   "metadata": {
    "ExecuteTime": {
     "end_time": "2023-05-29T14:04:53.788451Z",
     "start_time": "2023-05-29T14:04:53.784444Z"
    }
   },
   "outputs": [
    {
     "name": "stdout",
     "output_type": "stream",
     "text": [
      "[[23.38]\n",
      " [23.35]\n",
      " [23.33]\n",
      " ...\n",
      " [25.95]\n",
      " [25.93]\n",
      " [25.85]]\n"
     ]
    },
    {
     "data": {
      "text/plain": [
       "(3325, 1)"
      ]
     },
     "execution_count": 197,
     "metadata": {},
     "output_type": "execute_result"
    }
   ],
   "source": [
    "print(training_set)\n",
    "training_set.shape"
   ]
  },
  {
   "cell_type": "markdown",
   "id": "646524f8",
   "metadata": {
    "ExecuteTime": {
     "end_time": "2023-05-29T12:32:28.807214Z",
     "start_time": "2023-05-29T12:32:28.789518Z"
    }
   },
   "source": [
    "## 2.0 Scalling"
   ]
  },
  {
   "cell_type": "code",
   "execution_count": 200,
   "id": "6e537a7d",
   "metadata": {
    "ExecuteTime": {
     "end_time": "2023-05-29T14:05:18.451934Z",
     "start_time": "2023-05-29T14:05:18.447914Z"
    }
   },
   "outputs": [],
   "source": [
    "mms = MinMaxScaler()\n",
    "scaled_training_set = mms.fit_transform(training_set)"
   ]
  },
  {
   "cell_type": "code",
   "execution_count": 201,
   "id": "43926005",
   "metadata": {
    "ExecuteTime": {
     "end_time": "2023-05-29T14:05:19.092519Z",
     "start_time": "2023-05-29T14:05:19.084957Z"
    }
   },
   "outputs": [
    {
     "data": {
      "text/plain": [
       "array([[0.40747331],\n",
       "       [0.40480427],\n",
       "       [0.40302491],\n",
       "       ...,\n",
       "       [0.636121  ],\n",
       "       [0.63434164],\n",
       "       [0.6272242 ]])"
      ]
     },
     "execution_count": 201,
     "metadata": {},
     "output_type": "execute_result"
    }
   ],
   "source": [
    "scaled_training_set"
   ]
  },
  {
   "cell_type": "markdown",
   "id": "27221cdb",
   "metadata": {},
   "source": [
    "# 3.0 Preparing Data"
   ]
  },
  {
   "cell_type": "code",
   "execution_count": 202,
   "id": "fa8a77ed",
   "metadata": {
    "ExecuteTime": {
     "end_time": "2023-05-29T14:05:23.132130Z",
     "start_time": "2023-05-29T14:05:23.115775Z"
    }
   },
   "outputs": [],
   "source": [
    "n_steps = 60"
   ]
  },
  {
   "cell_type": "code",
   "execution_count": 240,
   "id": "34a6d326",
   "metadata": {
    "ExecuteTime": {
     "end_time": "2023-05-29T14:17:26.189066Z",
     "start_time": "2023-05-29T14:17:26.167885Z"
    }
   },
   "outputs": [],
   "source": [
    "X_train_lstm = []\n",
    "y_train_lstm = []\n",
    "\n",
    "for i in range(n_steps, len(training_set)):\n",
    "    X_train_lstm.append(scaled_training_set[i-n_steps:i,0])\n",
    "    y_train_lstm.append(scaled_training_set[i, 0])\n",
    "    \n",
    "X_train_lstm = np.array(X_train_lstm)\n",
    "y_train_lstm = np.array(y_train_lstm)"
   ]
  },
  {
   "cell_type": "code",
   "execution_count": 241,
   "id": "dafc2dc2",
   "metadata": {
    "ExecuteTime": {
     "end_time": "2023-05-29T14:17:28.290209Z",
     "start_time": "2023-05-29T14:17:28.286411Z"
    }
   },
   "outputs": [
    {
     "name": "stdout",
     "output_type": "stream",
     "text": [
      "(3265, 60)\n",
      "(3265,)\n"
     ]
    }
   ],
   "source": [
    "print(X_train_lstm.shape)\n",
    "print(y_train_lstm.shape)"
   ]
  },
  {
   "cell_type": "markdown",
   "id": "1ff6fb5f",
   "metadata": {},
   "source": [
    "# 4.0 Reshape for LSTM"
   ]
  },
  {
   "cell_type": "code",
   "execution_count": 242,
   "id": "a9477879",
   "metadata": {
    "ExecuteTime": {
     "end_time": "2023-05-29T14:17:31.416859Z",
     "start_time": "2023-05-29T14:17:31.399433Z"
    }
   },
   "outputs": [],
   "source": [
    "X_train_lstm = np.reshape(X_train_lstm,(X_train_lstm.shape[0], X_train_lstm.shape[1],1))"
   ]
  },
  {
   "cell_type": "code",
   "execution_count": 243,
   "id": "7b14e81c",
   "metadata": {
    "ExecuteTime": {
     "end_time": "2023-05-29T14:17:31.728534Z",
     "start_time": "2023-05-29T14:17:31.715503Z"
    }
   },
   "outputs": [
    {
     "data": {
      "text/plain": [
       "(3265, 60, 1)"
      ]
     },
     "execution_count": 243,
     "metadata": {},
     "output_type": "execute_result"
    }
   ],
   "source": [
    "X_train_lstm.shape"
   ]
  },
  {
   "cell_type": "code",
   "execution_count": 245,
   "id": "1f2137bb",
   "metadata": {
    "ExecuteTime": {
     "end_time": "2023-05-29T14:17:36.302315Z",
     "start_time": "2023-05-29T14:17:36.296546Z"
    }
   },
   "outputs": [
    {
     "data": {
      "text/plain": [
       "array([[[0.40747331],\n",
       "        [0.40480427],\n",
       "        [0.40302491],\n",
       "        ...,\n",
       "        [0.64857651],\n",
       "        [0.65302491],\n",
       "        [0.65836299]],\n",
       "\n",
       "       [[0.40480427],\n",
       "        [0.40302491],\n",
       "        [0.41370107],\n",
       "        ...,\n",
       "        [0.65302491],\n",
       "        [0.65836299],\n",
       "        [0.65391459]],\n",
       "\n",
       "       [[0.40302491],\n",
       "        [0.41370107],\n",
       "        [0.41281139],\n",
       "        ...,\n",
       "        [0.65836299],\n",
       "        [0.65391459],\n",
       "        [0.68149466]],\n",
       "\n",
       "       ...,\n",
       "\n",
       "       [[0.61565836],\n",
       "        [0.61565836],\n",
       "        [0.6183274 ],\n",
       "        ...,\n",
       "        [0.6316726 ],\n",
       "        [0.63256228],\n",
       "        [0.63345196]],\n",
       "\n",
       "       [[0.61565836],\n",
       "        [0.6183274 ],\n",
       "        [0.6183274 ],\n",
       "        ...,\n",
       "        [0.63256228],\n",
       "        [0.63345196],\n",
       "        [0.636121  ]],\n",
       "\n",
       "       [[0.6183274 ],\n",
       "        [0.6183274 ],\n",
       "        [0.62099644],\n",
       "        ...,\n",
       "        [0.63345196],\n",
       "        [0.636121  ],\n",
       "        [0.63434164]]])"
      ]
     },
     "execution_count": 245,
     "metadata": {},
     "output_type": "execute_result"
    }
   ],
   "source": [
    "X_train_lstm"
   ]
  },
  {
   "cell_type": "markdown",
   "id": "2ecd525c",
   "metadata": {},
   "source": [
    "# 5.0 Training LSTM"
   ]
  },
  {
   "cell_type": "code",
   "execution_count": 246,
   "id": "6fa8d9de",
   "metadata": {
    "ExecuteTime": {
     "end_time": "2023-05-29T14:17:42.560824Z",
     "start_time": "2023-05-29T14:17:41.879731Z"
    }
   },
   "outputs": [],
   "source": [
    "regressor = Sequential()\n",
    "\n",
    "regressor.add(LSTM(units = 50, return_sequences=True, input_shape = (X_train_lstm.shape[1], 1)))\n",
    "regressor.add(Dropout(0.2))\n",
    "\n",
    "regressor.add(LSTM(units = 50, return_sequences=True))\n",
    "regressor.add(Dropout(0.2))\n",
    "\n",
    "regressor.add(LSTM(units = 50, return_sequences=True))\n",
    "regressor.add(Dropout(0.2))\n",
    "\n",
    "regressor.add(LSTM(units = 50))\n",
    "regressor.add(Dropout(0.2))\n",
    "\n",
    "regressor.add(Dense(units=1))"
   ]
  },
  {
   "cell_type": "code",
   "execution_count": 247,
   "id": "01416d9e",
   "metadata": {
    "ExecuteTime": {
     "end_time": "2023-05-29T14:19:26.000643Z",
     "start_time": "2023-05-29T14:17:44.511123Z"
    }
   },
   "outputs": [
    {
     "name": "stdout",
     "output_type": "stream",
     "text": [
      "Epoch 1/20\n",
      "103/103 [==============================] - 10s 46ms/step - loss: 0.0084\n",
      "Epoch 2/20\n",
      "103/103 [==============================] - 5s 48ms/step - loss: 0.0030\n",
      "Epoch 3/20\n",
      "103/103 [==============================] - 5s 46ms/step - loss: 0.0028\n",
      "Epoch 4/20\n",
      "103/103 [==============================] - 5s 46ms/step - loss: 0.0025\n",
      "Epoch 5/20\n",
      "103/103 [==============================] - 5s 48ms/step - loss: 0.0021\n",
      "Epoch 6/20\n",
      "103/103 [==============================] - 5s 46ms/step - loss: 0.0021\n",
      "Epoch 7/20\n",
      "103/103 [==============================] - 5s 46ms/step - loss: 0.0019\n",
      "Epoch 8/20\n",
      "103/103 [==============================] - 5s 47ms/step - loss: 0.0019\n",
      "Epoch 9/20\n",
      "103/103 [==============================] - 5s 46ms/step - loss: 0.0018\n",
      "Epoch 10/20\n",
      "103/103 [==============================] - 5s 46ms/step - loss: 0.0016\n",
      "Epoch 11/20\n",
      "103/103 [==============================] - 5s 45ms/step - loss: 0.0016\n",
      "Epoch 12/20\n",
      "103/103 [==============================] - 5s 48ms/step - loss: 0.0013\n",
      "Epoch 13/20\n",
      "103/103 [==============================] - 5s 46ms/step - loss: 0.0015\n",
      "Epoch 14/20\n",
      "103/103 [==============================] - 5s 46ms/step - loss: 0.0014\n",
      "Epoch 15/20\n",
      "103/103 [==============================] - 5s 48ms/step - loss: 0.0012\n",
      "Epoch 16/20\n",
      "103/103 [==============================] - 5s 46ms/step - loss: 0.0012\n",
      "Epoch 17/20\n",
      "103/103 [==============================] - 5s 46ms/step - loss: 0.0011\n",
      "Epoch 18/20\n",
      "103/103 [==============================] - 5s 46ms/step - loss: 0.0012\n",
      "Epoch 19/20\n",
      "103/103 [==============================] - 5s 47ms/step - loss: 9.8843e-04\n",
      "Epoch 20/20\n",
      "103/103 [==============================] - 5s 46ms/step - loss: 9.8024e-04\n"
     ]
    },
    {
     "data": {
      "text/plain": [
       "<keras.callbacks.History at 0x2d473117ca0>"
      ]
     },
     "execution_count": 247,
     "metadata": {},
     "output_type": "execute_result"
    }
   ],
   "source": [
    "regressor.compile(optimizer='adam', loss='mean_squared_error')\n",
    "regressor.fit(X_train_lstm, y_train_lstm, epochs=20, batch_size=32)"
   ]
  },
  {
   "cell_type": "markdown",
   "id": "744bd9d7",
   "metadata": {},
   "source": [
    "## Testing model"
   ]
  },
  {
   "cell_type": "code",
   "execution_count": 248,
   "id": "8f2a1f00",
   "metadata": {
    "ExecuteTime": {
     "end_time": "2023-05-29T14:19:36.918462Z",
     "start_time": "2023-05-29T14:19:36.912928Z"
    }
   },
   "outputs": [],
   "source": [
    "dataset_test = X_test\n",
    "dataset_train = X_train"
   ]
  },
  {
   "cell_type": "code",
   "execution_count": 249,
   "id": "12e67259",
   "metadata": {
    "ExecuteTime": {
     "end_time": "2023-05-29T14:19:37.620671Z",
     "start_time": "2023-05-29T14:19:37.615858Z"
    }
   },
   "outputs": [],
   "source": [
    "actual_stock_price = dataset_test.values"
   ]
  },
  {
   "cell_type": "code",
   "execution_count": 250,
   "id": "cbe40100",
   "metadata": {
    "ExecuteTime": {
     "end_time": "2023-05-29T14:19:38.335006Z",
     "start_time": "2023-05-29T14:19:38.325494Z"
    }
   },
   "outputs": [],
   "source": [
    "dataset_total = pd.concat((dataset_train['fechamento'], dataset_test['fechamento']), axis=0)\n",
    "inputs = dataset_total[len(dataset_total) - len(dataset_test)-60:].values"
   ]
  },
  {
   "cell_type": "code",
   "execution_count": 251,
   "id": "bc4a0c81",
   "metadata": {
    "ExecuteTime": {
     "end_time": "2023-05-29T14:19:38.831774Z",
     "start_time": "2023-05-29T14:19:38.819755Z"
    }
   },
   "outputs": [],
   "source": [
    "inputs = inputs.reshape(-1,1)"
   ]
  },
  {
   "cell_type": "code",
   "execution_count": 252,
   "id": "71c01460",
   "metadata": {
    "ExecuteTime": {
     "end_time": "2023-05-29T14:19:40.384897Z",
     "start_time": "2023-05-29T14:19:40.375257Z"
    }
   },
   "outputs": [],
   "source": [
    "inputs = mms.transform(inputs)"
   ]
  },
  {
   "cell_type": "code",
   "execution_count": 223,
   "id": "a81dd467",
   "metadata": {
    "ExecuteTime": {
     "end_time": "2023-05-29T14:11:51.452474Z",
     "start_time": "2023-05-29T14:11:51.445917Z"
    }
   },
   "outputs": [],
   "source": []
  },
  {
   "cell_type": "code",
   "execution_count": 270,
   "id": "0935413b",
   "metadata": {
    "ExecuteTime": {
     "end_time": "2023-05-29T14:27:03.412702Z",
     "start_time": "2023-05-29T14:27:03.405673Z"
    }
   },
   "outputs": [],
   "source": [
    "X_test_lstm = []\n",
    "for i in range(60,175):#dados do test+60\n",
    "    X_test_lstm.append(inputs[i-60:i, 0])\n",
    "X_test_lstm = np.array(X_test_lstm)\n",
    "X_test_lstm = np.reshape(X_test_lstm, (X_test_lstm.shape[0], X_test_lstm.shape[1],1))\n"
   ]
  },
  {
   "cell_type": "code",
   "execution_count": 271,
   "id": "75665853",
   "metadata": {
    "ExecuteTime": {
     "end_time": "2023-05-29T14:27:03.910579Z",
     "start_time": "2023-05-29T14:27:03.892293Z"
    }
   },
   "outputs": [
    {
     "data": {
      "text/plain": [
       "(115, 60, 1)"
      ]
     },
     "execution_count": 271,
     "metadata": {},
     "output_type": "execute_result"
    }
   ],
   "source": [
    "X_test_lstm.shape"
   ]
  },
  {
   "cell_type": "code",
   "execution_count": 272,
   "id": "fe137a7b",
   "metadata": {
    "ExecuteTime": {
     "end_time": "2023-05-29T14:27:04.314528Z",
     "start_time": "2023-05-29T14:27:04.180637Z"
    }
   },
   "outputs": [
    {
     "name": "stdout",
     "output_type": "stream",
     "text": [
      "4/4 [==============================] - 0s 16ms/step\n"
     ]
    }
   ],
   "source": [
    "predicted_stock_price = regressor.predict(X_test_lstm)\n",
    "predicted_stock_price = mms.inverse_transform(predicted_stock_price)"
   ]
  },
  {
   "cell_type": "code",
   "execution_count": 273,
   "id": "64283397",
   "metadata": {
    "ExecuteTime": {
     "end_time": "2023-05-29T14:27:04.875740Z",
     "start_time": "2023-05-29T14:27:04.677796Z"
    }
   },
   "outputs": [
    {
     "data": {
      "text/plain": [
       "<matplotlib.legend.Legend at 0x2d4687c9960>"
      ]
     },
     "execution_count": 273,
     "metadata": {},
     "output_type": "execute_result"
    },
    {
     "data": {
      "image/png": "[encoded data removed]",
      "text/plain": [
       "<Figure size 640x480 with 1 Axes>"
      ]
     },
     "metadata": {},
     "output_type": "display_data"
    }
   ],
   "source": [
    "plt.plot(actual_stock_price, color='red', label = 'Actual PETR4 Stock Price')\n",
    "plt.plot(predicted_stock_price, color='blue', label='Predicted stock Price')\n",
    "plt.title('Petro Prediction')\n",
    "plt.xlabel('Time')\n",
    "plt.ylabel('Petro Price')\n",
    "plt.legend()"
   ]
  },
  {
   "cell_type": "code",
   "execution_count": 274,
   "id": "e4274724",
   "metadata": {
    "ExecuteTime": {
     "end_time": "2023-05-29T14:28:34.079712Z",
     "start_time": "2023-05-29T14:28:34.063702Z"
    }
   },
   "outputs": [
    {
     "data": {
      "text/plain": [
       "array([[[0.6183274 ],\n",
       "        [0.62099644],\n",
       "        [0.63790036],\n",
       "        ...,\n",
       "        [0.636121  ],\n",
       "        [0.63434164],\n",
       "        [0.6272242 ]],\n",
       "\n",
       "       [[0.62099644],\n",
       "        [0.63790036],\n",
       "        [0.62366548],\n",
       "        ...,\n",
       "        [0.63434164],\n",
       "        [0.6272242 ],\n",
       "        [0.6094306 ]],\n",
       "\n",
       "       [[0.63790036],\n",
       "        [0.62366548],\n",
       "        [0.62099644],\n",
       "        ...,\n",
       "        [0.6272242 ],\n",
       "        [0.6094306 ],\n",
       "        [0.6094306 ]],\n",
       "\n",
       "       ...,\n",
       "\n",
       "       [[0.69839858],\n",
       "        [0.69217082],\n",
       "        [0.69661922],\n",
       "        ...,\n",
       "        [0.71085409],\n",
       "        [0.71085409],\n",
       "        [0.71263345]],\n",
       "\n",
       "       [[0.69217082],\n",
       "        [0.69661922],\n",
       "        [0.69128114],\n",
       "        ...,\n",
       "        [0.71085409],\n",
       "        [0.71263345],\n",
       "        [0.71441281]],\n",
       "\n",
       "       [[0.69661922],\n",
       "        [0.69128114],\n",
       "        [0.69928826],\n",
       "        ...,\n",
       "        [0.71263345],\n",
       "        [0.71441281],\n",
       "        [0.71263345]]])"
      ]
     },
     "execution_count": 274,
     "metadata": {},
     "output_type": "execute_result"
    }
   ],
   "source": [
    "X_test_lstm"
   ]
  }
 ],
 "metadata": {
  "kernelspec": {
   "display_name": "Python 3 (ipykernel)",
   "language": "python",
   "name": "python3"
  },
  "language_info": {
   "codemirror_mode": {
    "name": "ipython",
    "version": 3
   },
   "file_extension": ".py",
   "mimetype": "text/x-python",
   "name": "python",
   "nbconvert_exporter": "python",
   "pygments_lexer": "ipython3",
   "version": "3.10.11"
  },
  "varInspector": {
   "cols": {
    "lenName": 16,
    "lenType": 16,
    "lenVar": 40
   },
   "kernels_config": {
    "python": {
     "delete_cmd_postfix": "",
     "delete_cmd_prefix": "del ",
     "library": "var_list.py",
     "varRefreshCmd": "print(var_dic_list())"
    },
    "r": {
     "delete_cmd_postfix": ") ",
     "delete_cmd_prefix": "rm(",
     "library": "var_list.r",
     "varRefreshCmd": "cat(var_dic_list()) "
    }
   },
   "types_to_exclude": [
    "module",
    "function",
    "builtin_function_or_method",
    "instance",
    "_Feature"
   ],
   "window_display": false
  }
 },
 "nbformat": 4,
 "nbformat_minor": 5
}
