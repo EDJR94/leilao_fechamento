{
 "cells": [
  {
   "cell_type": "markdown",
   "id": "8aea0be7",
   "metadata": {},
   "source": [
    "# 0.0 IMPORTS"
   ]
  },
  {
   "cell_type": "code",
   "execution_count": 155,
   "id": "51231c59",
   "metadata": {},
   "outputs": [],
   "source": [
    "import pandas as pd\n",
    "import numpy as np\n",
    "import inflection\n",
    "import os\n",
    "\n",
    "from datetime import datetime\n",
    "from sklearn import model_selection as ms"
   ]
  },
  {
   "cell_type": "markdown",
   "id": "e0719ce6",
   "metadata": {},
   "source": [
    "## 0.1 Loading Data"
   ]
  },
  {
   "cell_type": "code",
   "execution_count": 2,
   "id": "4272a4f8",
   "metadata": {},
   "outputs": [],
   "source": [
    "path = 'C:/Users/edils/repos/leilao_fechamento/data/5_minutos/'"
   ]
  },
  {
   "cell_type": "code",
   "execution_count": 90,
   "id": "b9fb2548",
   "metadata": {},
   "outputs": [],
   "source": [
    "df_raw_list = []\n",
    "\n",
    "for file in os.listdir(path):\n",
    "    if file.endswith('.csv'):\n",
    "        filename_path = os.path.join(path, file)\n",
    "        df = pd.read_csv(filename_path, encoding='iso-8859-1', sep=';')\n",
    "        df_raw_list.append(df)"
   ]
  },
  {
   "cell_type": "code",
   "execution_count": 91,
   "id": "780ee2d4",
   "metadata": {},
   "outputs": [],
   "source": [
    "df_raw = pd.concat(df_raw_list, axis=0)"
   ]
  },
  {
   "cell_type": "code",
   "execution_count": 106,
   "id": "fcf66309",
   "metadata": {},
   "outputs": [
    {
     "data": {
      "text/html": [
       "<div>\n",
       "<style scoped>\n",
       "    .dataframe tbody tr th:only-of-type {\n",
       "        vertical-align: middle;\n",
       "    }\n",
       "\n",
       "    .dataframe tbody tr th {\n",
       "        vertical-align: top;\n",
       "    }\n",
       "\n",
       "    .dataframe thead th {\n",
       "        text-align: right;\n",
       "    }\n",
       "</style>\n",
       "<table border=\"1\" class=\"dataframe\">\n",
       "  <thead>\n",
       "    <tr style=\"text-align: right;\">\n",
       "      <th></th>\n",
       "      <th>Ativo</th>\n",
       "      <th>Data</th>\n",
       "      <th>Hora</th>\n",
       "      <th>Abertura</th>\n",
       "      <th>Máximo</th>\n",
       "      <th>Mínimo</th>\n",
       "      <th>Fechamento</th>\n",
       "      <th>Volume</th>\n",
       "      <th>Quantidade</th>\n",
       "    </tr>\n",
       "  </thead>\n",
       "  <tbody>\n",
       "    <tr>\n",
       "      <th>0</th>\n",
       "      <td>AALR3</td>\n",
       "      <td>04/05/2023</td>\n",
       "      <td>16:50:00</td>\n",
       "      <td>22,58</td>\n",
       "      <td>22,62</td>\n",
       "      <td>22,58</td>\n",
       "      <td>22,62</td>\n",
       "      <td>1.863.812,00</td>\n",
       "      <td>82.4</td>\n",
       "    </tr>\n",
       "    <tr>\n",
       "      <th>1</th>\n",
       "      <td>AALR3</td>\n",
       "      <td>04/05/2023</td>\n",
       "      <td>16:45:00</td>\n",
       "      <td>22,59</td>\n",
       "      <td>22,59</td>\n",
       "      <td>22,57</td>\n",
       "      <td>22,59</td>\n",
       "      <td>63.206,00</td>\n",
       "      <td>2.8</td>\n",
       "    </tr>\n",
       "    <tr>\n",
       "      <th>2</th>\n",
       "      <td>AALR3</td>\n",
       "      <td>04/05/2023</td>\n",
       "      <td>16:40:00</td>\n",
       "      <td>22,59</td>\n",
       "      <td>22,60</td>\n",
       "      <td>22,57</td>\n",
       "      <td>22,60</td>\n",
       "      <td>83.560,00</td>\n",
       "      <td>3.7</td>\n",
       "    </tr>\n",
       "    <tr>\n",
       "      <th>3</th>\n",
       "      <td>AALR3</td>\n",
       "      <td>04/05/2023</td>\n",
       "      <td>16:35:00</td>\n",
       "      <td>22,54</td>\n",
       "      <td>22,59</td>\n",
       "      <td>22,52</td>\n",
       "      <td>22,59</td>\n",
       "      <td>595.579,00</td>\n",
       "      <td>26.4</td>\n",
       "    </tr>\n",
       "    <tr>\n",
       "      <th>4</th>\n",
       "      <td>AALR3</td>\n",
       "      <td>04/05/2023</td>\n",
       "      <td>16:30:00</td>\n",
       "      <td>22,54</td>\n",
       "      <td>22,57</td>\n",
       "      <td>22,54</td>\n",
       "      <td>22,56</td>\n",
       "      <td>173.678,00</td>\n",
       "      <td>7.7</td>\n",
       "    </tr>\n",
       "  </tbody>\n",
       "</table>\n",
       "</div>"
      ],
      "text/plain": [
       "   Ativo        Data      Hora Abertura Máximo Mínimo Fechamento  \\\n",
       "0  AALR3  04/05/2023  16:50:00    22,58  22,62  22,58      22,62   \n",
       "1  AALR3  04/05/2023  16:45:00    22,59  22,59  22,57      22,59   \n",
       "2  AALR3  04/05/2023  16:40:00    22,59  22,60  22,57      22,60   \n",
       "3  AALR3  04/05/2023  16:35:00    22,54  22,59  22,52      22,59   \n",
       "4  AALR3  04/05/2023  16:30:00    22,54  22,57  22,54      22,56   \n",
       "\n",
       "         Volume Quantidade  \n",
       "0  1.863.812,00       82.4  \n",
       "1     63.206,00        2.8  \n",
       "2     83.560,00        3.7  \n",
       "3    595.579,00       26.4  \n",
       "4    173.678,00        7.7  "
      ]
     },
     "execution_count": 106,
     "metadata": {},
     "output_type": "execute_result"
    }
   ],
   "source": [
    "df_raw.head()"
   ]
  },
  {
   "cell_type": "markdown",
   "id": "ed7de20e",
   "metadata": {},
   "source": [
    "## 0.2 Create Response Variable"
   ]
  },
  {
   "cell_type": "code",
   "execution_count": null,
   "id": "aecf0971",
   "metadata": {},
   "outputs": [],
   "source": [
    "#df_raw['Variação'] = df"
   ]
  },
  {
   "cell_type": "markdown",
   "id": "51810ec8",
   "metadata": {},
   "source": [
    "## 0.3 Split Train-Test"
   ]
  },
  {
   "cell_type": "code",
   "execution_count": null,
   "id": "8881a6e9",
   "metadata": {},
   "outputs": [],
   "source": [
    "X_train, X_test, y_train, y_test = ms.train_test_split()"
   ]
  },
  {
   "cell_type": "markdown",
   "id": "85e9beb1",
   "metadata": {},
   "source": [
    "## 0.4 Helper Functions"
   ]
  },
  {
   "cell_type": "code",
   "execution_count": 144,
   "id": "457e1fc3",
   "metadata": {},
   "outputs": [],
   "source": [
    "def data_types(df1):\n",
    "    #abertura\n",
    "    df1['abertura'] = df1['abertura'].apply(lambda x: x.replace(',','.'))\n",
    "    df1['abertura'] = df1['abertura'].astype(float)\n",
    "\n",
    "    #maximo\n",
    "    df1['maximo'] = df1['maximo'].apply(lambda x: x.replace(',','.'))\n",
    "    df1['maximo'] = df1['maximo'].astype(float)\n",
    "\n",
    "    #minimo\n",
    "    df1['minimo'] = df1['minimo'].apply(lambda x: x.replace(',','.'))\n",
    "    df1['minimo'] = df1['minimo'].astype(float)\n",
    "\n",
    "    #fechamento\n",
    "    df1['fechamento'] = df1['fechamento'].apply(lambda x: x.replace(',','.'))\n",
    "    df1['fechamento'] = df1['fechamento'].astype(float)\n",
    "\n",
    "    #volume\n",
    "    df1['volume'] = df1['volume'].apply(lambda x: x.replace(\".\", \"\").replace(\",\", \".\"))\n",
    "    df1['volume'] = df1['volume'].astype(float)\n",
    "\n",
    "    #quantidade\n",
    "    df1['quantidade'] = df1['quantidade'].apply(lambda x: x.replace(\".\", \"\") if isinstance(x, str) else x)\n",
    "    df1['quantidade'] = df1['quantidade'].apply(lambda x: float(x))\n",
    "\n",
    "    #data\n",
    "    df1['data'] = df1['data'].apply(lambda x: x.replace('/','-'))\n",
    "    df1['data'] = df1['data'].apply(lambda x: datetime.strptime(x, \"%d-%m-%Y\"))\n",
    "    df1['data'] = pd.to_datetime(df1['data'], format='%d-%m-%Y')\n",
    "    df1['hora'] = df1['hora'].apply(lambda x: datetime.strptime(x, \"%H:%M:%S\"))\n",
    "    \n",
    "    return df1\n",
    "\n",
    "def rename_columns(df1):\n",
    "    cols_old = df1.columns\n",
    "    cols_new = cols_old.map(lambda x: inflection.underscore(x))\n",
    "    df1.columns = cols_new\n",
    "    df1 = df1.rename(columns={'máximo': 'maximo', 'mínimo':'minimo'})\n",
    "    \n",
    "    return df1"
   ]
  },
  {
   "cell_type": "markdown",
   "id": "c3990882",
   "metadata": {},
   "source": [
    "# 1.0 DATA DESCRIPTION"
   ]
  },
  {
   "cell_type": "code",
   "execution_count": 145,
   "id": "19b98752",
   "metadata": {},
   "outputs": [],
   "source": [
    "df1 = df_raw.copy()"
   ]
  },
  {
   "cell_type": "code",
   "execution_count": 146,
   "id": "e2bc5c84",
   "metadata": {},
   "outputs": [
    {
     "data": {
      "text/html": [
       "<div>\n",
       "<style scoped>\n",
       "    .dataframe tbody tr th:only-of-type {\n",
       "        vertical-align: middle;\n",
       "    }\n",
       "\n",
       "    .dataframe tbody tr th {\n",
       "        vertical-align: top;\n",
       "    }\n",
       "\n",
       "    .dataframe thead th {\n",
       "        text-align: right;\n",
       "    }\n",
       "</style>\n",
       "<table border=\"1\" class=\"dataframe\">\n",
       "  <thead>\n",
       "    <tr style=\"text-align: right;\">\n",
       "      <th></th>\n",
       "      <th>Ativo</th>\n",
       "      <th>Data</th>\n",
       "      <th>Hora</th>\n",
       "      <th>Abertura</th>\n",
       "      <th>Máximo</th>\n",
       "      <th>Mínimo</th>\n",
       "      <th>Fechamento</th>\n",
       "      <th>Volume</th>\n",
       "      <th>Quantidade</th>\n",
       "    </tr>\n",
       "  </thead>\n",
       "  <tbody>\n",
       "    <tr>\n",
       "      <th>0</th>\n",
       "      <td>AALR3</td>\n",
       "      <td>04/05/2023</td>\n",
       "      <td>16:50:00</td>\n",
       "      <td>22,58</td>\n",
       "      <td>22,62</td>\n",
       "      <td>22,58</td>\n",
       "      <td>22,62</td>\n",
       "      <td>1.863.812,00</td>\n",
       "      <td>82.4</td>\n",
       "    </tr>\n",
       "    <tr>\n",
       "      <th>1</th>\n",
       "      <td>AALR3</td>\n",
       "      <td>04/05/2023</td>\n",
       "      <td>16:45:00</td>\n",
       "      <td>22,59</td>\n",
       "      <td>22,59</td>\n",
       "      <td>22,57</td>\n",
       "      <td>22,59</td>\n",
       "      <td>63.206,00</td>\n",
       "      <td>2.8</td>\n",
       "    </tr>\n",
       "    <tr>\n",
       "      <th>2</th>\n",
       "      <td>AALR3</td>\n",
       "      <td>04/05/2023</td>\n",
       "      <td>16:40:00</td>\n",
       "      <td>22,59</td>\n",
       "      <td>22,60</td>\n",
       "      <td>22,57</td>\n",
       "      <td>22,60</td>\n",
       "      <td>83.560,00</td>\n",
       "      <td>3.7</td>\n",
       "    </tr>\n",
       "    <tr>\n",
       "      <th>3</th>\n",
       "      <td>AALR3</td>\n",
       "      <td>04/05/2023</td>\n",
       "      <td>16:35:00</td>\n",
       "      <td>22,54</td>\n",
       "      <td>22,59</td>\n",
       "      <td>22,52</td>\n",
       "      <td>22,59</td>\n",
       "      <td>595.579,00</td>\n",
       "      <td>26.4</td>\n",
       "    </tr>\n",
       "    <tr>\n",
       "      <th>4</th>\n",
       "      <td>AALR3</td>\n",
       "      <td>04/05/2023</td>\n",
       "      <td>16:30:00</td>\n",
       "      <td>22,54</td>\n",
       "      <td>22,57</td>\n",
       "      <td>22,54</td>\n",
       "      <td>22,56</td>\n",
       "      <td>173.678,00</td>\n",
       "      <td>7.7</td>\n",
       "    </tr>\n",
       "  </tbody>\n",
       "</table>\n",
       "</div>"
      ],
      "text/plain": [
       "   Ativo        Data      Hora Abertura Máximo Mínimo Fechamento  \\\n",
       "0  AALR3  04/05/2023  16:50:00    22,58  22,62  22,58      22,62   \n",
       "1  AALR3  04/05/2023  16:45:00    22,59  22,59  22,57      22,59   \n",
       "2  AALR3  04/05/2023  16:40:00    22,59  22,60  22,57      22,60   \n",
       "3  AALR3  04/05/2023  16:35:00    22,54  22,59  22,52      22,59   \n",
       "4  AALR3  04/05/2023  16:30:00    22,54  22,57  22,54      22,56   \n",
       "\n",
       "         Volume Quantidade  \n",
       "0  1.863.812,00       82.4  \n",
       "1     63.206,00        2.8  \n",
       "2     83.560,00        3.7  \n",
       "3    595.579,00       26.4  \n",
       "4    173.678,00        7.7  "
      ]
     },
     "execution_count": 146,
     "metadata": {},
     "output_type": "execute_result"
    }
   ],
   "source": [
    "df1.head()"
   ]
  },
  {
   "cell_type": "markdown",
   "id": "4e904eed",
   "metadata": {},
   "source": [
    "## 1.1 Rename Columns"
   ]
  },
  {
   "cell_type": "code",
   "execution_count": 147,
   "id": "6e647886",
   "metadata": {},
   "outputs": [],
   "source": [
    "df1 = rename_columns(df1)"
   ]
  },
  {
   "cell_type": "markdown",
   "id": "118ffed4",
   "metadata": {},
   "source": [
    "## 1.2 Data Types"
   ]
  },
  {
   "cell_type": "code",
   "execution_count": 152,
   "id": "49be1e7e",
   "metadata": {},
   "outputs": [
    {
     "data": {
      "text/plain": [
       "ativo                 object\n",
       "data          datetime64[ns]\n",
       "hora          datetime64[ns]\n",
       "abertura             float64\n",
       "maximo               float64\n",
       "minimo               float64\n",
       "fechamento           float64\n",
       "volume               float64\n",
       "quantidade           float64\n",
       "dtype: object"
      ]
     },
     "execution_count": 152,
     "metadata": {},
     "output_type": "execute_result"
    }
   ],
   "source": [
    "df1.dtypes"
   ]
  },
  {
   "cell_type": "code",
   "execution_count": 149,
   "id": "327bebe4",
   "metadata": {},
   "outputs": [],
   "source": [
    "df1 = data_types(df1)"
   ]
  },
  {
   "cell_type": "markdown",
   "id": "ade87ecb",
   "metadata": {},
   "source": [
    "## 1.3 Check NA"
   ]
  },
  {
   "cell_type": "code",
   "execution_count": 150,
   "id": "ea379cb2",
   "metadata": {},
   "outputs": [
    {
     "data": {
      "text/plain": [
       "ativo         0\n",
       "data          0\n",
       "hora          0\n",
       "abertura      0\n",
       "maximo        0\n",
       "minimo        0\n",
       "fechamento    0\n",
       "volume        0\n",
       "quantidade    0\n",
       "dtype: int64"
      ]
     },
     "execution_count": 150,
     "metadata": {},
     "output_type": "execute_result"
    }
   ],
   "source": [
    "df1.isna().sum()"
   ]
  },
  {
   "cell_type": "markdown",
   "id": "14cd55f9",
   "metadata": {},
   "source": [
    "## 1.4 Data Shape"
   ]
  },
  {
   "cell_type": "code",
   "execution_count": 151,
   "id": "bb456fcc",
   "metadata": {},
   "outputs": [
    {
     "data": {
      "text/plain": [
       "(3670298, 9)"
      ]
     },
     "execution_count": 151,
     "metadata": {},
     "output_type": "execute_result"
    }
   ],
   "source": [
    "df1.shape"
   ]
  },
  {
   "cell_type": "code",
   "execution_count": null,
   "id": "51b64bcb",
   "metadata": {},
   "outputs": [],
   "source": []
  },
  {
   "cell_type": "code",
   "execution_count": null,
   "id": "6be839f4",
   "metadata": {},
   "outputs": [],
   "source": []
  },
  {
   "cell_type": "code",
   "execution_count": null,
   "id": "e185616a",
   "metadata": {},
   "outputs": [],
   "source": []
  },
  {
   "cell_type": "code",
   "execution_count": null,
   "id": "72ba97e0",
   "metadata": {},
   "outputs": [],
   "source": []
  }
 ],
 "metadata": {
  "hide_input": false,
  "kernelspec": {
   "display_name": "Python 3 (ipykernel)",
   "language": "python",
   "name": "python3"
  },
  "language_info": {
   "codemirror_mode": {
    "name": "ipython",
    "version": 3
   },
   "file_extension": ".py",
   "mimetype": "text/x-python",
   "name": "python",
   "nbconvert_exporter": "python",
   "pygments_lexer": "ipython3",
   "version": "3.10.11"
  }
 },
 "nbformat": 4,
 "nbformat_minor": 5
}
