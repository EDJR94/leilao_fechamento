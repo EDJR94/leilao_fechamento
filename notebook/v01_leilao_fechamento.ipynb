{
 "cells": [
  {
   "cell_type": "markdown",
   "id": "8aea0be7",
   "metadata": {
    "heading_collapsed": true
   },
   "source": [
    "# 0.0 IMPORTS"
   ]
  },
  {
   "cell_type": "code",
   "execution_count": 65,
   "id": "51231c59",
   "metadata": {
    "ExecuteTime": {
     "end_time": "2023-05-22T20:11:59.709783Z",
     "start_time": "2023-05-22T20:11:59.697731Z"
    },
    "hidden": true
   },
   "outputs": [],
   "source": [
    "import pandas as pd\n",
    "import numpy as np\n",
    "import inflection\n",
    "import os\n",
    "import seaborn as sns\n",
    "import matplotlib.pyplot as plt \n",
    "\n",
    "from datetime import datetime, timedelta\n",
    "from sklearn import model_selection as ms\n",
    "from sklearn import metrics as mt\n",
    "from sklearn.preprocessing import RobustScaler, MinMaxScaler, StandardScaler"
   ]
  },
  {
   "cell_type": "markdown",
   "id": "e0719ce6",
   "metadata": {
    "hidden": true
   },
   "source": [
    "## 0.1 Loading Data"
   ]
  },
  {
   "cell_type": "code",
   "execution_count": 2,
   "id": "4272a4f8",
   "metadata": {
    "ExecuteTime": {
     "end_time": "2023-05-22T18:57:59.751344Z",
     "start_time": "2023-05-22T18:57:59.736287Z"
    },
    "hidden": true
   },
   "outputs": [],
   "source": [
    "path = 'C:/Users/edils/repos/leilao_fechamento/data/5_minutos/'"
   ]
  },
  {
   "cell_type": "code",
   "execution_count": 3,
   "id": "29ffb95e",
   "metadata": {
    "ExecuteTime": {
     "end_time": "2023-05-22T18:58:03.684365Z",
     "start_time": "2023-05-22T18:57:59.752364Z"
    },
    "hidden": true
   },
   "outputs": [],
   "source": [
    "df_raw_list = []\n",
    "\n",
    "for file in os.listdir(path):\n",
    "    if file.endswith('.csv'):\n",
    "        filename_path = os.path.join(path, file)\n",
    "        df = pd.read_csv(filename_path, encoding='iso-8859-1', sep=';')\n",
    "        df_raw_list.append(df)"
   ]
  },
  {
   "cell_type": "code",
   "execution_count": 4,
   "id": "780ee2d4",
   "metadata": {
    "ExecuteTime": {
     "end_time": "2023-05-22T18:58:03.808343Z",
     "start_time": "2023-05-22T18:58:03.686870Z"
    },
    "hidden": true
   },
   "outputs": [],
   "source": [
    "df_raw = pd.concat(df_raw_list, axis=0)"
   ]
  },
  {
   "cell_type": "code",
   "execution_count": 5,
   "id": "fcf66309",
   "metadata": {
    "ExecuteTime": {
     "end_time": "2023-05-22T18:58:03.839344Z",
     "start_time": "2023-05-22T18:58:03.810394Z"
    },
    "hidden": true
   },
   "outputs": [
    {
     "data": {
      "text/html": [
       "<div>\n",
       "<style scoped>\n",
       "    .dataframe tbody tr th:only-of-type {\n",
       "        vertical-align: middle;\n",
       "    }\n",
       "\n",
       "    .dataframe tbody tr th {\n",
       "        vertical-align: top;\n",
       "    }\n",
       "\n",
       "    .dataframe thead th {\n",
       "        text-align: right;\n",
       "    }\n",
       "</style>\n",
       "<table border=\"1\" class=\"dataframe\">\n",
       "  <thead>\n",
       "    <tr style=\"text-align: right;\">\n",
       "      <th></th>\n",
       "      <th>Ativo</th>\n",
       "      <th>Data</th>\n",
       "      <th>Hora</th>\n",
       "      <th>Abertura</th>\n",
       "      <th>Máximo</th>\n",
       "      <th>Mínimo</th>\n",
       "      <th>Fechamento</th>\n",
       "      <th>Volume</th>\n",
       "      <th>Quantidade</th>\n",
       "    </tr>\n",
       "  </thead>\n",
       "  <tbody>\n",
       "    <tr>\n",
       "      <th>0</th>\n",
       "      <td>AALR3</td>\n",
       "      <td>22/05/2023</td>\n",
       "      <td>13:55:00</td>\n",
       "      <td>22,63</td>\n",
       "      <td>22,63</td>\n",
       "      <td>22,63</td>\n",
       "      <td>22,63</td>\n",
       "      <td>2.263,00</td>\n",
       "      <td>100.0</td>\n",
       "    </tr>\n",
       "    <tr>\n",
       "      <th>1</th>\n",
       "      <td>AALR3</td>\n",
       "      <td>22/05/2023</td>\n",
       "      <td>13:50:00</td>\n",
       "      <td>22,63</td>\n",
       "      <td>22,63</td>\n",
       "      <td>22,62</td>\n",
       "      <td>22,62</td>\n",
       "      <td>6.788,00</td>\n",
       "      <td>300.0</td>\n",
       "    </tr>\n",
       "    <tr>\n",
       "      <th>2</th>\n",
       "      <td>AALR3</td>\n",
       "      <td>22/05/2023</td>\n",
       "      <td>13:45:00</td>\n",
       "      <td>22,63</td>\n",
       "      <td>22,63</td>\n",
       "      <td>22,62</td>\n",
       "      <td>22,62</td>\n",
       "      <td>9.050,00</td>\n",
       "      <td>400.0</td>\n",
       "    </tr>\n",
       "    <tr>\n",
       "      <th>3</th>\n",
       "      <td>AALR3</td>\n",
       "      <td>22/05/2023</td>\n",
       "      <td>13:40:00</td>\n",
       "      <td>22,63</td>\n",
       "      <td>22,63</td>\n",
       "      <td>22,63</td>\n",
       "      <td>22,63</td>\n",
       "      <td>2.263,00</td>\n",
       "      <td>100.0</td>\n",
       "    </tr>\n",
       "    <tr>\n",
       "      <th>4</th>\n",
       "      <td>AALR3</td>\n",
       "      <td>22/05/2023</td>\n",
       "      <td>13:35:00</td>\n",
       "      <td>22,63</td>\n",
       "      <td>22,63</td>\n",
       "      <td>22,62</td>\n",
       "      <td>22,63</td>\n",
       "      <td>6.788,00</td>\n",
       "      <td>300.0</td>\n",
       "    </tr>\n",
       "  </tbody>\n",
       "</table>\n",
       "</div>"
      ],
      "text/plain": [
       "   Ativo        Data      Hora Abertura Máximo Mínimo Fechamento    Volume  \\\n",
       "0  AALR3  22/05/2023  13:55:00    22,63  22,63  22,63      22,63  2.263,00   \n",
       "1  AALR3  22/05/2023  13:50:00    22,63  22,63  22,62      22,62  6.788,00   \n",
       "2  AALR3  22/05/2023  13:45:00    22,63  22,63  22,62      22,62  9.050,00   \n",
       "3  AALR3  22/05/2023  13:40:00    22,63  22,63  22,63      22,63  2.263,00   \n",
       "4  AALR3  22/05/2023  13:35:00    22,63  22,63  22,62      22,63  6.788,00   \n",
       "\n",
       "  Quantidade  \n",
       "0      100.0  \n",
       "1      300.0  \n",
       "2      400.0  \n",
       "3      100.0  \n",
       "4      300.0  "
      ]
     },
     "execution_count": 5,
     "metadata": {},
     "output_type": "execute_result"
    }
   ],
   "source": [
    "df_raw.head()"
   ]
  },
  {
   "cell_type": "markdown",
   "id": "85e9beb1",
   "metadata": {
    "heading_collapsed": true,
    "hidden": true
   },
   "source": [
    "## 0.4 Helper Functions"
   ]
  },
  {
   "cell_type": "code",
   "execution_count": 7,
   "id": "bf49b366",
   "metadata": {
    "ExecuteTime": {
     "end_time": "2023-05-22T18:58:03.869683Z",
     "start_time": "2023-05-22T18:58:03.855412Z"
    },
    "hidden": true
   },
   "outputs": [],
   "source": [
    "def data_types(df1):\n",
    "    #abertura\n",
    "    df1['abertura'] = df1['abertura'].apply(lambda x: x.replace(',','.'))\n",
    "    df1['abertura'] = df1['abertura'].astype(float)\n",
    "\n",
    "    #maximo\n",
    "    df1['maximo'] = df1['maximo'].apply(lambda x: x.replace(',','.'))\n",
    "    df1['maximo'] = df1['maximo'].astype(float)\n",
    "\n",
    "    #minimo\n",
    "    df1['minimo'] = df1['minimo'].apply(lambda x: x.replace(',','.'))\n",
    "    df1['minimo'] = df1['minimo'].astype(float)\n",
    "\n",
    "    #fechamento\n",
    "    df1['fechamento'] = df1['fechamento'].apply(lambda x: x.replace(',','.'))\n",
    "    df1['fechamento'] = df1['fechamento'].astype(float)\n",
    "\n",
    "    #volume\n",
    "    df1['volume'] = df1['volume'].apply(lambda x: x.replace(\".\", \"\").replace(\",\", \".\"))\n",
    "    df1['volume'] = df1['volume'].astype(float)\n",
    "\n",
    "    #quantidade\n",
    "    df1['quantidade'] = df1['quantidade'].apply(lambda x: x.replace(\".\", \"\") if isinstance(x, str) else x)\n",
    "    df1['quantidade'] = df1['quantidade'].apply(lambda x: float(x))\n",
    "\n",
    "    #data\n",
    "    df1['data'] = df1['data'].apply(lambda x: x.replace('/','-'))\n",
    "    df1['data'] = df1['data'].apply(lambda x: datetime.strptime(x, \"%d-%m-%Y\"))\n",
    "    df1['data'] = pd.to_datetime(df1['data'], format='%d-%m-%Y')\n",
    "    df1['hora'] = df1['hora'].apply(lambda x: datetime.strptime(x, \"%H:%M:%S\"))\n",
    "    \n",
    "    return df1\n",
    "\n",
    "def rename_columns(df1):\n",
    "    cols_old = df1.columns\n",
    "    cols_new = cols_old.map(lambda x: inflection.underscore(x))\n",
    "    df1.columns = cols_new\n",
    "    df1 = df1.rename(columns={'máximo': 'maximo', 'mínimo':'minimo'})\n",
    "    \n",
    "    return df1\n",
    "\n",
    "def horario_verao(df1):\n",
    "    #Horário de verão 2023-03-13\n",
    "    data_verao = pd.to_datetime('2023-03-13')\n",
    "    df1.loc[df1['data'] >= data_verao, 'hora'] += pd.Timedelta(hours=1)\n",
    "    return df1\n",
    "\n",
    "def clean_futuros(df_win):\n",
    "    cols_old = df_win.columns\n",
    "    cols_new = cols_old.map(lambda x: inflection.underscore(x))\n",
    "    df_win.columns = cols_new\n",
    "    df_win = df_win.rename(columns={'máximo': 'maximo', 'mínimo':'minimo'})\n",
    "\n",
    "    df_win['abertura'] = df_win['abertura'].astype(float)\n",
    "\n",
    "    #maximo\n",
    "\n",
    "    df_win['maximo'] = df_win['maximo'].astype(float)\n",
    "\n",
    "    #minimo\n",
    "\n",
    "    df_win['minimo'] = df_win['minimo'].astype(float)\n",
    "\n",
    "    #fechamento\n",
    "\n",
    "    df_win['fechamento'] = df_win['fechamento'].astype(float)\n",
    "\n",
    "    #volume\n",
    "    df_win['volume'] = df_win['volume'].apply(lambda x: x.replace(\".\", \"\").replace(\",\", \".\"))\n",
    "    df_win['volume'] = df_win['volume'].astype(float)\n",
    "\n",
    "    #quantidade\n",
    "    df_win['quantidade'] = df_win['quantidade'].apply(lambda x: x.replace(\".\", \"\") if isinstance(x, str) else x)\n",
    "    df_win['quantidade'] = df_win['quantidade'].apply(lambda x: float(x))\n",
    "\n",
    "    #data\n",
    "    df_win['data'] = df_win['data'].apply(lambda x: x.replace('/','-'))\n",
    "    df_win['data'] = df_win['data'].apply(lambda x: datetime.strptime(x, \"%d-%m-%Y\"))\n",
    "    df_win['data'] = pd.to_datetime(df_win['data'], format='%d-%m-%Y')\n",
    "    df_win['hora'] = df_win['hora'].apply(lambda x: datetime.strptime(x, \"%H:%M:%S\"))\n",
    "    df_win['variacao'] = (df_win['fechamento'] - df_win['abertura']) / df_win['abertura']\n",
    "    \n",
    "    #Horário de verão 2023-03-13\n",
    "    data_verao = pd.to_datetime('2023-03-13')\n",
    "    df_win.loc[df_win['data'] >= data_verao, 'hora'] += pd.Timedelta(hours=1)\n",
    "    \n",
    "    hora_leilao = (df_win['hora'].dt.hour >= 16) & (df_win['hora'].dt.hour < 18) \n",
    "    df_win = df_win.loc[hora_leilao,:]\n",
    "    \n",
    "    df_win['variacao'] = (df_win['fechamento'] - df_win['abertura']) / df_win['abertura']\n",
    "    \n",
    "    return df_win"
   ]
  },
  {
   "cell_type": "markdown",
   "id": "c3990882",
   "metadata": {},
   "source": [
    "# 1.0 DATA DESCRIPTION"
   ]
  },
  {
   "cell_type": "code",
   "execution_count": 8,
   "id": "19b98752",
   "metadata": {
    "ExecuteTime": {
     "end_time": "2023-05-22T18:58:04.245136Z",
     "start_time": "2023-05-22T18:58:03.870696Z"
    }
   },
   "outputs": [],
   "source": [
    "df1 = df_raw.copy()"
   ]
  },
  {
   "cell_type": "code",
   "execution_count": 9,
   "id": "e2bc5c84",
   "metadata": {
    "ExecuteTime": {
     "end_time": "2023-05-22T18:58:04.261002Z",
     "start_time": "2023-05-22T18:58:04.246639Z"
    }
   },
   "outputs": [
    {
     "data": {
      "text/html": [
       "<div>\n",
       "<style scoped>\n",
       "    .dataframe tbody tr th:only-of-type {\n",
       "        vertical-align: middle;\n",
       "    }\n",
       "\n",
       "    .dataframe tbody tr th {\n",
       "        vertical-align: top;\n",
       "    }\n",
       "\n",
       "    .dataframe thead th {\n",
       "        text-align: right;\n",
       "    }\n",
       "</style>\n",
       "<table border=\"1\" class=\"dataframe\">\n",
       "  <thead>\n",
       "    <tr style=\"text-align: right;\">\n",
       "      <th></th>\n",
       "      <th>Ativo</th>\n",
       "      <th>Data</th>\n",
       "      <th>Hora</th>\n",
       "      <th>Abertura</th>\n",
       "      <th>Máximo</th>\n",
       "      <th>Mínimo</th>\n",
       "      <th>Fechamento</th>\n",
       "      <th>Volume</th>\n",
       "      <th>Quantidade</th>\n",
       "    </tr>\n",
       "  </thead>\n",
       "  <tbody>\n",
       "    <tr>\n",
       "      <th>0</th>\n",
       "      <td>AALR3</td>\n",
       "      <td>22/05/2023</td>\n",
       "      <td>13:55:00</td>\n",
       "      <td>22,63</td>\n",
       "      <td>22,63</td>\n",
       "      <td>22,63</td>\n",
       "      <td>22,63</td>\n",
       "      <td>2.263,00</td>\n",
       "      <td>100.0</td>\n",
       "    </tr>\n",
       "    <tr>\n",
       "      <th>1</th>\n",
       "      <td>AALR3</td>\n",
       "      <td>22/05/2023</td>\n",
       "      <td>13:50:00</td>\n",
       "      <td>22,63</td>\n",
       "      <td>22,63</td>\n",
       "      <td>22,62</td>\n",
       "      <td>22,62</td>\n",
       "      <td>6.788,00</td>\n",
       "      <td>300.0</td>\n",
       "    </tr>\n",
       "    <tr>\n",
       "      <th>2</th>\n",
       "      <td>AALR3</td>\n",
       "      <td>22/05/2023</td>\n",
       "      <td>13:45:00</td>\n",
       "      <td>22,63</td>\n",
       "      <td>22,63</td>\n",
       "      <td>22,62</td>\n",
       "      <td>22,62</td>\n",
       "      <td>9.050,00</td>\n",
       "      <td>400.0</td>\n",
       "    </tr>\n",
       "    <tr>\n",
       "      <th>3</th>\n",
       "      <td>AALR3</td>\n",
       "      <td>22/05/2023</td>\n",
       "      <td>13:40:00</td>\n",
       "      <td>22,63</td>\n",
       "      <td>22,63</td>\n",
       "      <td>22,63</td>\n",
       "      <td>22,63</td>\n",
       "      <td>2.263,00</td>\n",
       "      <td>100.0</td>\n",
       "    </tr>\n",
       "    <tr>\n",
       "      <th>4</th>\n",
       "      <td>AALR3</td>\n",
       "      <td>22/05/2023</td>\n",
       "      <td>13:35:00</td>\n",
       "      <td>22,63</td>\n",
       "      <td>22,63</td>\n",
       "      <td>22,62</td>\n",
       "      <td>22,63</td>\n",
       "      <td>6.788,00</td>\n",
       "      <td>300.0</td>\n",
       "    </tr>\n",
       "    <tr>\n",
       "      <th>...</th>\n",
       "      <td>...</td>\n",
       "      <td>...</td>\n",
       "      <td>...</td>\n",
       "      <td>...</td>\n",
       "      <td>...</td>\n",
       "      <td>...</td>\n",
       "      <td>...</td>\n",
       "      <td>...</td>\n",
       "      <td>...</td>\n",
       "    </tr>\n",
       "    <tr>\n",
       "      <th>11112</th>\n",
       "      <td>ZAMP3</td>\n",
       "      <td>18/11/2022</td>\n",
       "      <td>15:15:00</td>\n",
       "      <td>6,18</td>\n",
       "      <td>6,20</td>\n",
       "      <td>6,16</td>\n",
       "      <td>6,19</td>\n",
       "      <td>61.801,00</td>\n",
       "      <td>10.000</td>\n",
       "    </tr>\n",
       "    <tr>\n",
       "      <th>11113</th>\n",
       "      <td>ZAMP3</td>\n",
       "      <td>18/11/2022</td>\n",
       "      <td>15:10:00</td>\n",
       "      <td>6,13</td>\n",
       "      <td>6,20</td>\n",
       "      <td>6,11</td>\n",
       "      <td>6,20</td>\n",
       "      <td>184.486,00</td>\n",
       "      <td>29.900</td>\n",
       "    </tr>\n",
       "    <tr>\n",
       "      <th>11114</th>\n",
       "      <td>ZAMP3</td>\n",
       "      <td>18/11/2022</td>\n",
       "      <td>15:05:00</td>\n",
       "      <td>6,12</td>\n",
       "      <td>6,16</td>\n",
       "      <td>6,11</td>\n",
       "      <td>6,13</td>\n",
       "      <td>59.410,00</td>\n",
       "      <td>9.700</td>\n",
       "    </tr>\n",
       "    <tr>\n",
       "      <th>11115</th>\n",
       "      <td>ZAMP3</td>\n",
       "      <td>18/11/2022</td>\n",
       "      <td>15:00:00</td>\n",
       "      <td>6,11</td>\n",
       "      <td>6,14</td>\n",
       "      <td>6,10</td>\n",
       "      <td>6,11</td>\n",
       "      <td>90.544,00</td>\n",
       "      <td>14.800</td>\n",
       "    </tr>\n",
       "    <tr>\n",
       "      <th>11116</th>\n",
       "      <td>ZAMP3</td>\n",
       "      <td>18/11/2022</td>\n",
       "      <td>14:55:00</td>\n",
       "      <td>6,08</td>\n",
       "      <td>6,12</td>\n",
       "      <td>6,05</td>\n",
       "      <td>6,11</td>\n",
       "      <td>80.237,00</td>\n",
       "      <td>13.200</td>\n",
       "    </tr>\n",
       "  </tbody>\n",
       "</table>\n",
       "<p>3182329 rows × 9 columns</p>\n",
       "</div>"
      ],
      "text/plain": [
       "       Ativo        Data      Hora Abertura Máximo Mínimo Fechamento  \\\n",
       "0      AALR3  22/05/2023  13:55:00    22,63  22,63  22,63      22,63   \n",
       "1      AALR3  22/05/2023  13:50:00    22,63  22,63  22,62      22,62   \n",
       "2      AALR3  22/05/2023  13:45:00    22,63  22,63  22,62      22,62   \n",
       "3      AALR3  22/05/2023  13:40:00    22,63  22,63  22,63      22,63   \n",
       "4      AALR3  22/05/2023  13:35:00    22,63  22,63  22,62      22,63   \n",
       "...      ...         ...       ...      ...    ...    ...        ...   \n",
       "11112  ZAMP3  18/11/2022  15:15:00     6,18   6,20   6,16       6,19   \n",
       "11113  ZAMP3  18/11/2022  15:10:00     6,13   6,20   6,11       6,20   \n",
       "11114  ZAMP3  18/11/2022  15:05:00     6,12   6,16   6,11       6,13   \n",
       "11115  ZAMP3  18/11/2022  15:00:00     6,11   6,14   6,10       6,11   \n",
       "11116  ZAMP3  18/11/2022  14:55:00     6,08   6,12   6,05       6,11   \n",
       "\n",
       "           Volume Quantidade  \n",
       "0        2.263,00      100.0  \n",
       "1        6.788,00      300.0  \n",
       "2        9.050,00      400.0  \n",
       "3        2.263,00      100.0  \n",
       "4        6.788,00      300.0  \n",
       "...           ...        ...  \n",
       "11112   61.801,00     10.000  \n",
       "11113  184.486,00     29.900  \n",
       "11114   59.410,00      9.700  \n",
       "11115   90.544,00     14.800  \n",
       "11116   80.237,00     13.200  \n",
       "\n",
       "[3182329 rows x 9 columns]"
      ]
     },
     "execution_count": 9,
     "metadata": {},
     "output_type": "execute_result"
    }
   ],
   "source": [
    "df1"
   ]
  },
  {
   "cell_type": "markdown",
   "id": "4e904eed",
   "metadata": {},
   "source": [
    "## 1.1 Rename Columns"
   ]
  },
  {
   "cell_type": "code",
   "execution_count": 10,
   "id": "6e647886",
   "metadata": {
    "ExecuteTime": {
     "end_time": "2023-05-22T18:58:04.386639Z",
     "start_time": "2023-05-22T18:58:04.264511Z"
    }
   },
   "outputs": [],
   "source": [
    "df1 = rename_columns(df1)"
   ]
  },
  {
   "cell_type": "markdown",
   "id": "118ffed4",
   "metadata": {},
   "source": [
    "## 1.2 Data Types"
   ]
  },
  {
   "cell_type": "code",
   "execution_count": 51,
   "id": "49be1e7e",
   "metadata": {
    "ExecuteTime": {
     "end_time": "2023-05-22T19:20:41.439732Z",
     "start_time": "2023-05-22T19:20:41.421894Z"
    }
   },
   "outputs": [
    {
     "data": {
      "text/plain": [
       "ativo                 object\n",
       "data          datetime64[ns]\n",
       "hora          datetime64[ns]\n",
       "abertura             float64\n",
       "maximo               float64\n",
       "minimo               float64\n",
       "fechamento           float64\n",
       "volume               float64\n",
       "quantidade           float64\n",
       "variacao             float64\n",
       "dtype: object"
      ]
     },
     "execution_count": 51,
     "metadata": {},
     "output_type": "execute_result"
    }
   ],
   "source": [
    "df1.dtypes"
   ]
  },
  {
   "cell_type": "code",
   "execution_count": 12,
   "id": "327bebe4",
   "metadata": {
    "ExecuteTime": {
     "end_time": "2023-05-22T18:58:53.173574Z",
     "start_time": "2023-05-22T18:58:04.402972Z"
    }
   },
   "outputs": [],
   "source": [
    "df1 = data_types(df1)"
   ]
  },
  {
   "cell_type": "markdown",
   "id": "ade87ecb",
   "metadata": {},
   "source": [
    "## 1.3 Check NA"
   ]
  },
  {
   "cell_type": "code",
   "execution_count": 13,
   "id": "2214f271",
   "metadata": {
    "ExecuteTime": {
     "end_time": "2023-05-22T18:58:53.440475Z",
     "start_time": "2023-05-22T18:58:53.174579Z"
    }
   },
   "outputs": [
    {
     "data": {
      "text/plain": [
       "ativo         0\n",
       "data          0\n",
       "hora          0\n",
       "abertura      0\n",
       "maximo        0\n",
       "minimo        0\n",
       "fechamento    0\n",
       "volume        0\n",
       "quantidade    0\n",
       "dtype: int64"
      ]
     },
     "execution_count": 13,
     "metadata": {},
     "output_type": "execute_result"
    }
   ],
   "source": [
    "df1.isna().sum()"
   ]
  },
  {
   "cell_type": "markdown",
   "id": "14cd55f9",
   "metadata": {},
   "source": [
    "## 1.4 Data Shape"
   ]
  },
  {
   "cell_type": "code",
   "execution_count": 14,
   "id": "bb456fcc",
   "metadata": {
    "ExecuteTime": {
     "end_time": "2023-05-22T18:58:53.456699Z",
     "start_time": "2023-05-22T18:58:53.441490Z"
    }
   },
   "outputs": [
    {
     "data": {
      "text/plain": [
       "(3182329, 9)"
      ]
     },
     "execution_count": 14,
     "metadata": {},
     "output_type": "execute_result"
    }
   ],
   "source": [
    "df1.shape"
   ]
  },
  {
   "cell_type": "markdown",
   "id": "c887716e",
   "metadata": {},
   "source": [
    "## 1.5 Horário de Verão"
   ]
  },
  {
   "cell_type": "code",
   "execution_count": 15,
   "id": "d2d06b80",
   "metadata": {
    "ExecuteTime": {
     "end_time": "2023-05-22T18:58:53.502812Z",
     "start_time": "2023-05-22T18:58:53.457953Z"
    }
   },
   "outputs": [],
   "source": [
    "#Horário de verão 2023-03-13\n",
    "data_verao = pd.to_datetime('2023-03-13')\n",
    "df1.loc[df1['data'] >= data_verao, 'hora'] += pd.Timedelta(hours=1)"
   ]
  },
  {
   "cell_type": "code",
   "execution_count": null,
   "id": "a1ab5710",
   "metadata": {},
   "outputs": [],
   "source": []
  },
  {
   "cell_type": "markdown",
   "id": "416a056d",
   "metadata": {},
   "source": [
    "## 1.5 Changing Time"
   ]
  },
  {
   "cell_type": "code",
   "execution_count": 16,
   "id": "e221b55f",
   "metadata": {
    "ExecuteTime": {
     "end_time": "2023-05-22T18:58:53.753472Z",
     "start_time": "2023-05-22T18:58:53.503830Z"
    }
   },
   "outputs": [],
   "source": [
    "hora_leilao = (df1['hora'].dt.hour >= 16) & (df1['hora'].dt.hour < 18) \n",
    "df1 = df1.loc[hora_leilao,:]"
   ]
  },
  {
   "cell_type": "markdown",
   "id": "5c87f8c5",
   "metadata": {},
   "source": [
    "## 1.6 Create Response Variable"
   ]
  },
  {
   "cell_type": "code",
   "execution_count": 17,
   "id": "3b299fec",
   "metadata": {
    "ExecuteTime": {
     "end_time": "2023-05-22T18:59:11.133854Z",
     "start_time": "2023-05-22T18:59:11.115459Z"
    }
   },
   "outputs": [],
   "source": [
    "df1['variacao'] = (df1['fechamento'] - df1['abertura']) / df1['abertura']"
   ]
  },
  {
   "cell_type": "code",
   "execution_count": 18,
   "id": "0c9b4c43",
   "metadata": {
    "ExecuteTime": {
     "end_time": "2023-05-22T18:59:14.667924Z",
     "start_time": "2023-05-22T18:59:14.649543Z"
    }
   },
   "outputs": [
    {
     "data": {
      "text/html": [
       "<div>\n",
       "<style scoped>\n",
       "    .dataframe tbody tr th:only-of-type {\n",
       "        vertical-align: middle;\n",
       "    }\n",
       "\n",
       "    .dataframe tbody tr th {\n",
       "        vertical-align: top;\n",
       "    }\n",
       "\n",
       "    .dataframe thead th {\n",
       "        text-align: right;\n",
       "    }\n",
       "</style>\n",
       "<table border=\"1\" class=\"dataframe\">\n",
       "  <thead>\n",
       "    <tr style=\"text-align: right;\">\n",
       "      <th></th>\n",
       "      <th>ativo</th>\n",
       "      <th>data</th>\n",
       "      <th>hora</th>\n",
       "      <th>abertura</th>\n",
       "      <th>maximo</th>\n",
       "      <th>minimo</th>\n",
       "      <th>fechamento</th>\n",
       "      <th>volume</th>\n",
       "      <th>quantidade</th>\n",
       "      <th>variacao</th>\n",
       "    </tr>\n",
       "  </thead>\n",
       "  <tbody>\n",
       "    <tr>\n",
       "      <th>46</th>\n",
       "      <td>AALR3</td>\n",
       "      <td>2023-05-19</td>\n",
       "      <td>1900-01-01 17:50:00</td>\n",
       "      <td>22.69</td>\n",
       "      <td>22.70</td>\n",
       "      <td>22.67</td>\n",
       "      <td>22.70</td>\n",
       "      <td>1865902.0</td>\n",
       "      <td>82.2</td>\n",
       "      <td>0.000441</td>\n",
       "    </tr>\n",
       "    <tr>\n",
       "      <th>47</th>\n",
       "      <td>AALR3</td>\n",
       "      <td>2023-05-19</td>\n",
       "      <td>1900-01-01 17:45:00</td>\n",
       "      <td>22.67</td>\n",
       "      <td>22.68</td>\n",
       "      <td>22.67</td>\n",
       "      <td>22.68</td>\n",
       "      <td>15875.0</td>\n",
       "      <td>700.0</td>\n",
       "      <td>0.000441</td>\n",
       "    </tr>\n",
       "    <tr>\n",
       "      <th>48</th>\n",
       "      <td>AALR3</td>\n",
       "      <td>2023-05-19</td>\n",
       "      <td>1900-01-01 17:40:00</td>\n",
       "      <td>22.69</td>\n",
       "      <td>22.69</td>\n",
       "      <td>22.67</td>\n",
       "      <td>22.68</td>\n",
       "      <td>22680.0</td>\n",
       "      <td>1.0</td>\n",
       "      <td>-0.000441</td>\n",
       "    </tr>\n",
       "    <tr>\n",
       "      <th>49</th>\n",
       "      <td>AALR3</td>\n",
       "      <td>2023-05-19</td>\n",
       "      <td>1900-01-01 17:35:00</td>\n",
       "      <td>22.65</td>\n",
       "      <td>22.68</td>\n",
       "      <td>22.65</td>\n",
       "      <td>22.68</td>\n",
       "      <td>43061.0</td>\n",
       "      <td>1.9</td>\n",
       "      <td>0.001325</td>\n",
       "    </tr>\n",
       "    <tr>\n",
       "      <th>50</th>\n",
       "      <td>AALR3</td>\n",
       "      <td>2023-05-19</td>\n",
       "      <td>1900-01-01 17:30:00</td>\n",
       "      <td>22.69</td>\n",
       "      <td>22.70</td>\n",
       "      <td>22.62</td>\n",
       "      <td>22.63</td>\n",
       "      <td>362681.0</td>\n",
       "      <td>16.0</td>\n",
       "      <td>-0.002644</td>\n",
       "    </tr>\n",
       "    <tr>\n",
       "      <th>...</th>\n",
       "      <td>...</td>\n",
       "      <td>...</td>\n",
       "      <td>...</td>\n",
       "      <td>...</td>\n",
       "      <td>...</td>\n",
       "      <td>...</td>\n",
       "      <td>...</td>\n",
       "      <td>...</td>\n",
       "      <td>...</td>\n",
       "      <td>...</td>\n",
       "    </tr>\n",
       "    <tr>\n",
       "      <th>11099</th>\n",
       "      <td>ZAMP3</td>\n",
       "      <td>2022-11-18</td>\n",
       "      <td>1900-01-01 16:20:00</td>\n",
       "      <td>6.07</td>\n",
       "      <td>6.10</td>\n",
       "      <td>6.04</td>\n",
       "      <td>6.04</td>\n",
       "      <td>63115.0</td>\n",
       "      <td>10400.0</td>\n",
       "      <td>-0.004942</td>\n",
       "    </tr>\n",
       "    <tr>\n",
       "      <th>11100</th>\n",
       "      <td>ZAMP3</td>\n",
       "      <td>2022-11-18</td>\n",
       "      <td>1900-01-01 16:15:00</td>\n",
       "      <td>6.07</td>\n",
       "      <td>6.11</td>\n",
       "      <td>6.07</td>\n",
       "      <td>6.09</td>\n",
       "      <td>75447.0</td>\n",
       "      <td>12400.0</td>\n",
       "      <td>0.003295</td>\n",
       "    </tr>\n",
       "    <tr>\n",
       "      <th>11101</th>\n",
       "      <td>ZAMP3</td>\n",
       "      <td>2022-11-18</td>\n",
       "      <td>1900-01-01 16:10:00</td>\n",
       "      <td>6.06</td>\n",
       "      <td>6.10</td>\n",
       "      <td>6.06</td>\n",
       "      <td>6.10</td>\n",
       "      <td>53466.0</td>\n",
       "      <td>8800.0</td>\n",
       "      <td>0.006601</td>\n",
       "    </tr>\n",
       "    <tr>\n",
       "      <th>11102</th>\n",
       "      <td>ZAMP3</td>\n",
       "      <td>2022-11-18</td>\n",
       "      <td>1900-01-01 16:05:00</td>\n",
       "      <td>6.09</td>\n",
       "      <td>6.12</td>\n",
       "      <td>6.06</td>\n",
       "      <td>6.06</td>\n",
       "      <td>81670.0</td>\n",
       "      <td>13400.0</td>\n",
       "      <td>-0.004926</td>\n",
       "    </tr>\n",
       "    <tr>\n",
       "      <th>11103</th>\n",
       "      <td>ZAMP3</td>\n",
       "      <td>2022-11-18</td>\n",
       "      <td>1900-01-01 16:00:00</td>\n",
       "      <td>6.05</td>\n",
       "      <td>6.09</td>\n",
       "      <td>6.04</td>\n",
       "      <td>6.08</td>\n",
       "      <td>59414.0</td>\n",
       "      <td>9800.0</td>\n",
       "      <td>0.004959</td>\n",
       "    </tr>\n",
       "  </tbody>\n",
       "</table>\n",
       "<p>779605 rows × 10 columns</p>\n",
       "</div>"
      ],
      "text/plain": [
       "       ativo       data                hora  abertura  maximo  minimo  \\\n",
       "46     AALR3 2023-05-19 1900-01-01 17:50:00     22.69   22.70   22.67   \n",
       "47     AALR3 2023-05-19 1900-01-01 17:45:00     22.67   22.68   22.67   \n",
       "48     AALR3 2023-05-19 1900-01-01 17:40:00     22.69   22.69   22.67   \n",
       "49     AALR3 2023-05-19 1900-01-01 17:35:00     22.65   22.68   22.65   \n",
       "50     AALR3 2023-05-19 1900-01-01 17:30:00     22.69   22.70   22.62   \n",
       "...      ...        ...                 ...       ...     ...     ...   \n",
       "11099  ZAMP3 2022-11-18 1900-01-01 16:20:00      6.07    6.10    6.04   \n",
       "11100  ZAMP3 2022-11-18 1900-01-01 16:15:00      6.07    6.11    6.07   \n",
       "11101  ZAMP3 2022-11-18 1900-01-01 16:10:00      6.06    6.10    6.06   \n",
       "11102  ZAMP3 2022-11-18 1900-01-01 16:05:00      6.09    6.12    6.06   \n",
       "11103  ZAMP3 2022-11-18 1900-01-01 16:00:00      6.05    6.09    6.04   \n",
       "\n",
       "       fechamento     volume  quantidade  variacao  \n",
       "46          22.70  1865902.0        82.2  0.000441  \n",
       "47          22.68    15875.0       700.0  0.000441  \n",
       "48          22.68    22680.0         1.0 -0.000441  \n",
       "49          22.68    43061.0         1.9  0.001325  \n",
       "50          22.63   362681.0        16.0 -0.002644  \n",
       "...           ...        ...         ...       ...  \n",
       "11099        6.04    63115.0     10400.0 -0.004942  \n",
       "11100        6.09    75447.0     12400.0  0.003295  \n",
       "11101        6.10    53466.0      8800.0  0.006601  \n",
       "11102        6.06    81670.0     13400.0 -0.004926  \n",
       "11103        6.08    59414.0      9800.0  0.004959  \n",
       "\n",
       "[779605 rows x 10 columns]"
      ]
     },
     "execution_count": 18,
     "metadata": {},
     "output_type": "execute_result"
    }
   ],
   "source": [
    "df1"
   ]
  },
  {
   "cell_type": "markdown",
   "id": "37def9ec",
   "metadata": {},
   "source": [
    "## 1.7 Split Train Test"
   ]
  },
  {
   "cell_type": "code",
   "execution_count": 21,
   "id": "34f460b2",
   "metadata": {
    "ExecuteTime": {
     "end_time": "2023-05-22T19:01:41.866044Z",
     "start_time": "2023-05-22T19:01:41.828234Z"
    }
   },
   "outputs": [],
   "source": [
    "X = df1.drop('variacao', axis=1).copy()\n",
    "y = df1['variacao'].copy()"
   ]
  },
  {
   "cell_type": "code",
   "execution_count": 24,
   "id": "5acaf5ed",
   "metadata": {
    "ExecuteTime": {
     "end_time": "2023-05-22T19:02:27.628368Z",
     "start_time": "2023-05-22T19:02:27.511158Z"
    }
   },
   "outputs": [],
   "source": [
    "X_train, X_test, y_train, y_test = ms.train_test_split(X, y, test_size=0.25, random_state=0)"
   ]
  },
  {
   "cell_type": "markdown",
   "id": "3e5d4828",
   "metadata": {},
   "source": [
    "# 2.0 Feature Engineering"
   ]
  },
  {
   "cell_type": "code",
   "execution_count": 43,
   "id": "e6a3d6b1",
   "metadata": {
    "ExecuteTime": {
     "end_time": "2023-05-22T19:14:31.545370Z",
     "start_time": "2023-05-22T19:14:31.503889Z"
    }
   },
   "outputs": [],
   "source": [
    "df2 = df1.copy()"
   ]
  },
  {
   "cell_type": "code",
   "execution_count": 44,
   "id": "c658c2fb",
   "metadata": {
    "ExecuteTime": {
     "end_time": "2023-05-22T19:14:32.454287Z",
     "start_time": "2023-05-22T19:14:32.286922Z"
    }
   },
   "outputs": [],
   "source": [
    "#create futures variation\n",
    "df_win = pd.read_csv('C:/Users/edils/repos/leilao_fechamento/data/futuros/WINFUT_F_0_5min.csv', encoding='iso-8859-1', sep=';')\n",
    "# df_dol = pd.read_csv('C:/Users/edils/repos/leilao_fechamento/data/futuros/WINFUT_F_0_5min.csv', encoding='iso-8859-1', sep=';')\n",
    "# df_sp = pd.read_csv('C:/Users/edils/repos/leilao_fechamento/data/futuros/WINFUT_F_0_5min.csv', encoding='iso-8859-1', sep=';')\n",
    "\n",
    "df_win = clean_futuros(df_win)\n",
    "# df_dol = clean_futuros(df_dol)\n",
    "# df_sp = clean_futuros(df_sp)"
   ]
  },
  {
   "cell_type": "code",
   "execution_count": 45,
   "id": "e4f144ac",
   "metadata": {
    "ExecuteTime": {
     "end_time": "2023-05-22T19:14:33.312451Z",
     "start_time": "2023-05-22T19:14:33.176882Z"
    },
    "scrolled": false
   },
   "outputs": [],
   "source": [
    "df2 = pd.merge(df2, df_win[['data','hora','variacao']], on=['data','hora'], how='left')\n",
    "df2 = df2.rename(columns={'variacao_x':'variacao', 'variacao_y':'variacao_win'})\n"
   ]
  },
  {
   "cell_type": "code",
   "execution_count": 48,
   "id": "449f71c8",
   "metadata": {
    "ExecuteTime": {
     "end_time": "2023-05-22T19:15:01.516987Z",
     "start_time": "2023-05-22T19:15:01.419492Z"
    }
   },
   "outputs": [],
   "source": [
    "df2 = df2.dropna()"
   ]
  },
  {
   "cell_type": "code",
   "execution_count": 49,
   "id": "089590f2",
   "metadata": {
    "ExecuteTime": {
     "end_time": "2023-05-22T19:15:04.894223Z",
     "start_time": "2023-05-22T19:15:04.868573Z"
    }
   },
   "outputs": [
    {
     "data": {
      "text/html": [
       "<div>\n",
       "<style scoped>\n",
       "    .dataframe tbody tr th:only-of-type {\n",
       "        vertical-align: middle;\n",
       "    }\n",
       "\n",
       "    .dataframe tbody tr th {\n",
       "        vertical-align: top;\n",
       "    }\n",
       "\n",
       "    .dataframe thead th {\n",
       "        text-align: right;\n",
       "    }\n",
       "</style>\n",
       "<table border=\"1\" class=\"dataframe\">\n",
       "  <thead>\n",
       "    <tr style=\"text-align: right;\">\n",
       "      <th></th>\n",
       "      <th>ativo</th>\n",
       "      <th>data</th>\n",
       "      <th>hora</th>\n",
       "      <th>abertura</th>\n",
       "      <th>maximo</th>\n",
       "      <th>minimo</th>\n",
       "      <th>fechamento</th>\n",
       "      <th>volume</th>\n",
       "      <th>quantidade</th>\n",
       "      <th>variacao</th>\n",
       "      <th>variacao_win</th>\n",
       "    </tr>\n",
       "  </thead>\n",
       "  <tbody>\n",
       "    <tr>\n",
       "      <th>0</th>\n",
       "      <td>AALR3</td>\n",
       "      <td>2023-05-19</td>\n",
       "      <td>1900-01-01 17:50:00</td>\n",
       "      <td>22.69</td>\n",
       "      <td>22.70</td>\n",
       "      <td>22.67</td>\n",
       "      <td>22.70</td>\n",
       "      <td>1865902.0</td>\n",
       "      <td>82.2</td>\n",
       "      <td>0.000441</td>\n",
       "      <td>-0.000313</td>\n",
       "    </tr>\n",
       "    <tr>\n",
       "      <th>1</th>\n",
       "      <td>AALR3</td>\n",
       "      <td>2023-05-19</td>\n",
       "      <td>1900-01-01 17:45:00</td>\n",
       "      <td>22.67</td>\n",
       "      <td>22.68</td>\n",
       "      <td>22.67</td>\n",
       "      <td>22.68</td>\n",
       "      <td>15875.0</td>\n",
       "      <td>700.0</td>\n",
       "      <td>0.000441</td>\n",
       "      <td>0.000269</td>\n",
       "    </tr>\n",
       "    <tr>\n",
       "      <th>2</th>\n",
       "      <td>AALR3</td>\n",
       "      <td>2023-05-19</td>\n",
       "      <td>1900-01-01 17:40:00</td>\n",
       "      <td>22.69</td>\n",
       "      <td>22.69</td>\n",
       "      <td>22.67</td>\n",
       "      <td>22.68</td>\n",
       "      <td>22680.0</td>\n",
       "      <td>1.0</td>\n",
       "      <td>-0.000441</td>\n",
       "      <td>0.000807</td>\n",
       "    </tr>\n",
       "    <tr>\n",
       "      <th>3</th>\n",
       "      <td>AALR3</td>\n",
       "      <td>2023-05-19</td>\n",
       "      <td>1900-01-01 17:35:00</td>\n",
       "      <td>22.65</td>\n",
       "      <td>22.68</td>\n",
       "      <td>22.65</td>\n",
       "      <td>22.68</td>\n",
       "      <td>43061.0</td>\n",
       "      <td>1.9</td>\n",
       "      <td>0.001325</td>\n",
       "      <td>0.000673</td>\n",
       "    </tr>\n",
       "    <tr>\n",
       "      <th>4</th>\n",
       "      <td>AALR3</td>\n",
       "      <td>2023-05-19</td>\n",
       "      <td>1900-01-01 17:30:00</td>\n",
       "      <td>22.69</td>\n",
       "      <td>22.70</td>\n",
       "      <td>22.62</td>\n",
       "      <td>22.63</td>\n",
       "      <td>362681.0</td>\n",
       "      <td>16.0</td>\n",
       "      <td>-0.002644</td>\n",
       "      <td>0.000404</td>\n",
       "    </tr>\n",
       "    <tr>\n",
       "      <th>...</th>\n",
       "      <td>...</td>\n",
       "      <td>...</td>\n",
       "      <td>...</td>\n",
       "      <td>...</td>\n",
       "      <td>...</td>\n",
       "      <td>...</td>\n",
       "      <td>...</td>\n",
       "      <td>...</td>\n",
       "      <td>...</td>\n",
       "      <td>...</td>\n",
       "      <td>...</td>\n",
       "    </tr>\n",
       "    <tr>\n",
       "      <th>778823</th>\n",
       "      <td>ZAMP3</td>\n",
       "      <td>2023-01-06</td>\n",
       "      <td>1900-01-01 16:20:00</td>\n",
       "      <td>5.20</td>\n",
       "      <td>5.21</td>\n",
       "      <td>5.19</td>\n",
       "      <td>5.20</td>\n",
       "      <td>17165.0</td>\n",
       "      <td>3300.0</td>\n",
       "      <td>0.000000</td>\n",
       "      <td>-0.000044</td>\n",
       "    </tr>\n",
       "    <tr>\n",
       "      <th>778824</th>\n",
       "      <td>ZAMP3</td>\n",
       "      <td>2023-01-06</td>\n",
       "      <td>1900-01-01 16:15:00</td>\n",
       "      <td>5.19</td>\n",
       "      <td>5.20</td>\n",
       "      <td>5.18</td>\n",
       "      <td>5.20</td>\n",
       "      <td>16094.0</td>\n",
       "      <td>3100.0</td>\n",
       "      <td>0.001927</td>\n",
       "      <td>0.000449</td>\n",
       "    </tr>\n",
       "    <tr>\n",
       "      <th>778825</th>\n",
       "      <td>ZAMP3</td>\n",
       "      <td>2023-01-06</td>\n",
       "      <td>1900-01-01 16:10:00</td>\n",
       "      <td>5.17</td>\n",
       "      <td>5.20</td>\n",
       "      <td>5.15</td>\n",
       "      <td>5.18</td>\n",
       "      <td>65776.0</td>\n",
       "      <td>12700.0</td>\n",
       "      <td>0.001934</td>\n",
       "      <td>0.000273</td>\n",
       "    </tr>\n",
       "    <tr>\n",
       "      <th>778826</th>\n",
       "      <td>ZAMP3</td>\n",
       "      <td>2023-01-06</td>\n",
       "      <td>1900-01-01 16:05:00</td>\n",
       "      <td>5.16</td>\n",
       "      <td>5.18</td>\n",
       "      <td>5.16</td>\n",
       "      <td>5.17</td>\n",
       "      <td>18089.0</td>\n",
       "      <td>3500.0</td>\n",
       "      <td>0.001938</td>\n",
       "      <td>0.001189</td>\n",
       "    </tr>\n",
       "    <tr>\n",
       "      <th>778827</th>\n",
       "      <td>ZAMP3</td>\n",
       "      <td>2023-01-06</td>\n",
       "      <td>1900-01-01 16:00:00</td>\n",
       "      <td>5.20</td>\n",
       "      <td>5.20</td>\n",
       "      <td>5.16</td>\n",
       "      <td>5.16</td>\n",
       "      <td>37338.0</td>\n",
       "      <td>7200.0</td>\n",
       "      <td>-0.007692</td>\n",
       "      <td>-0.002233</td>\n",
       "    </tr>\n",
       "  </tbody>\n",
       "</table>\n",
       "<p>516228 rows × 11 columns</p>\n",
       "</div>"
      ],
      "text/plain": [
       "        ativo       data                hora  abertura  maximo  minimo  \\\n",
       "0       AALR3 2023-05-19 1900-01-01 17:50:00     22.69   22.70   22.67   \n",
       "1       AALR3 2023-05-19 1900-01-01 17:45:00     22.67   22.68   22.67   \n",
       "2       AALR3 2023-05-19 1900-01-01 17:40:00     22.69   22.69   22.67   \n",
       "3       AALR3 2023-05-19 1900-01-01 17:35:00     22.65   22.68   22.65   \n",
       "4       AALR3 2023-05-19 1900-01-01 17:30:00     22.69   22.70   22.62   \n",
       "...       ...        ...                 ...       ...     ...     ...   \n",
       "778823  ZAMP3 2023-01-06 1900-01-01 16:20:00      5.20    5.21    5.19   \n",
       "778824  ZAMP3 2023-01-06 1900-01-01 16:15:00      5.19    5.20    5.18   \n",
       "778825  ZAMP3 2023-01-06 1900-01-01 16:10:00      5.17    5.20    5.15   \n",
       "778826  ZAMP3 2023-01-06 1900-01-01 16:05:00      5.16    5.18    5.16   \n",
       "778827  ZAMP3 2023-01-06 1900-01-01 16:00:00      5.20    5.20    5.16   \n",
       "\n",
       "        fechamento     volume  quantidade  variacao  variacao_win  \n",
       "0            22.70  1865902.0        82.2  0.000441     -0.000313  \n",
       "1            22.68    15875.0       700.0  0.000441      0.000269  \n",
       "2            22.68    22680.0         1.0 -0.000441      0.000807  \n",
       "3            22.68    43061.0         1.9  0.001325      0.000673  \n",
       "4            22.63   362681.0        16.0 -0.002644      0.000404  \n",
       "...            ...        ...         ...       ...           ...  \n",
       "778823        5.20    17165.0      3300.0  0.000000     -0.000044  \n",
       "778824        5.20    16094.0      3100.0  0.001927      0.000449  \n",
       "778825        5.18    65776.0     12700.0  0.001934      0.000273  \n",
       "778826        5.17    18089.0      3500.0  0.001938      0.001189  \n",
       "778827        5.16    37338.0      7200.0 -0.007692     -0.002233  \n",
       "\n",
       "[516228 rows x 11 columns]"
      ]
     },
     "execution_count": 49,
     "metadata": {},
     "output_type": "execute_result"
    }
   ],
   "source": [
    "df2"
   ]
  },
  {
   "cell_type": "markdown",
   "id": "57a6d96d",
   "metadata": {},
   "source": [
    "# 3.0 EDA"
   ]
  },
  {
   "cell_type": "code",
   "execution_count": 50,
   "id": "58113e6d",
   "metadata": {
    "ExecuteTime": {
     "end_time": "2023-05-22T19:19:58.508235Z",
     "start_time": "2023-05-22T19:19:58.495758Z"
    }
   },
   "outputs": [],
   "source": [
    "df3 = df2.copy()"
   ]
  },
  {
   "cell_type": "code",
   "execution_count": 53,
   "id": "24763265",
   "metadata": {
    "ExecuteTime": {
     "end_time": "2023-05-22T19:20:55.039641Z",
     "start_time": "2023-05-22T19:20:55.031124Z"
    }
   },
   "outputs": [],
   "source": [
    "numerical_attributes = df3.select_dtypes(include=['float64','datetime64[ns]'])"
   ]
  },
  {
   "cell_type": "code",
   "execution_count": 56,
   "id": "54bdb7cc",
   "metadata": {
    "ExecuteTime": {
     "end_time": "2023-05-22T19:24:06.004687Z",
     "start_time": "2023-05-22T19:24:02.024573Z"
    }
   },
   "outputs": [
    {
     "name": "stderr",
     "output_type": "stream",
     "text": [
      "C:\\Users\\edils\\AppData\\Local\\Temp\\ipykernel_13700\\3217822694.py:1: FutureWarning: ['data', 'hora'] did not aggregate successfully. If any error is raised this will raise in a future version of pandas. Drop these columns/ops to avoid this warning.\n",
      "  stats = numerical_attributes.agg(['min','max', lambda x: max(x)-min(x),'mean','std','skew', 'kurtosis']).T\n"
     ]
    }
   ],
   "source": [
    "stats = numerical_attributes.agg(['min','max', lambda x: max(x)-min(x),'mean','std','skew', 'kurtosis']).T"
   ]
  },
  {
   "cell_type": "code",
   "execution_count": 57,
   "id": "1824e20f",
   "metadata": {
    "ExecuteTime": {
     "end_time": "2023-05-22T19:24:06.907720Z",
     "start_time": "2023-05-22T19:24:06.897624Z"
    }
   },
   "outputs": [
    {
     "data": {
      "text/html": [
       "<div>\n",
       "<style scoped>\n",
       "    .dataframe tbody tr th:only-of-type {\n",
       "        vertical-align: middle;\n",
       "    }\n",
       "\n",
       "    .dataframe tbody tr th {\n",
       "        vertical-align: top;\n",
       "    }\n",
       "\n",
       "    .dataframe thead th {\n",
       "        text-align: right;\n",
       "    }\n",
       "</style>\n",
       "<table border=\"1\" class=\"dataframe\">\n",
       "  <thead>\n",
       "    <tr style=\"text-align: right;\">\n",
       "      <th></th>\n",
       "      <th>min</th>\n",
       "      <th>max</th>\n",
       "      <th>&lt;lambda&gt;</th>\n",
       "      <th>mean</th>\n",
       "      <th>std</th>\n",
       "      <th>skew</th>\n",
       "      <th>kurtosis</th>\n",
       "    </tr>\n",
       "  </thead>\n",
       "  <tbody>\n",
       "    <tr>\n",
       "      <th>data</th>\n",
       "      <td>2023-01-06 00:00:00</td>\n",
       "      <td>2023-05-19 00:00:00</td>\n",
       "      <td>133 days 00:00:00</td>\n",
       "      <td>2023-03-13 09:08:15.325321472</td>\n",
       "      <td>39 days 05:19:16.166164162</td>\n",
       "      <td>NaN</td>\n",
       "      <td>NaN</td>\n",
       "    </tr>\n",
       "    <tr>\n",
       "      <th>hora</th>\n",
       "      <td>1900-01-01 16:00:00</td>\n",
       "      <td>1900-01-01 17:50:00</td>\n",
       "      <td>0 days 01:50:00</td>\n",
       "      <td>1900-01-01 16:55:16.511889408</td>\n",
       "      <td>0 days 00:33:13.745158588</td>\n",
       "      <td>NaN</td>\n",
       "      <td>NaN</td>\n",
       "    </tr>\n",
       "    <tr>\n",
       "      <th>abertura</th>\n",
       "      <td>0.33</td>\n",
       "      <td>238.7</td>\n",
       "      <td>238.37</td>\n",
       "      <td>16.06897</td>\n",
       "      <td>20.936346</td>\n",
       "      <td>5.251326</td>\n",
       "      <td>43.282328</td>\n",
       "    </tr>\n",
       "    <tr>\n",
       "      <th>maximo</th>\n",
       "      <td>0.33</td>\n",
       "      <td>240.0</td>\n",
       "      <td>239.67</td>\n",
       "      <td>16.091237</td>\n",
       "      <td>20.954671</td>\n",
       "      <td>5.249144</td>\n",
       "      <td>43.252276</td>\n",
       "    </tr>\n",
       "    <tr>\n",
       "      <th>minimo</th>\n",
       "      <td>0.33</td>\n",
       "      <td>238.62</td>\n",
       "      <td>238.29</td>\n",
       "      <td>16.046721</td>\n",
       "      <td>20.918761</td>\n",
       "      <td>5.25388</td>\n",
       "      <td>43.318238</td>\n",
       "    </tr>\n",
       "    <tr>\n",
       "      <th>fechamento</th>\n",
       "      <td>0.33</td>\n",
       "      <td>240.0</td>\n",
       "      <td>239.67</td>\n",
       "      <td>16.069179</td>\n",
       "      <td>20.937213</td>\n",
       "      <td>5.251927</td>\n",
       "      <td>43.291945</td>\n",
       "    </tr>\n",
       "    <tr>\n",
       "      <th>volume</th>\n",
       "      <td>4.64</td>\n",
       "      <td>1947680443.0</td>\n",
       "      <td>1947680438.36</td>\n",
       "      <td>1409134.321526</td>\n",
       "      <td>8517384.009066</td>\n",
       "      <td>63.150165</td>\n",
       "      <td>9165.724056</td>\n",
       "    </tr>\n",
       "    <tr>\n",
       "      <th>quantidade</th>\n",
       "      <td>1.0</td>\n",
       "      <td>94180900.0</td>\n",
       "      <td>94180899.0</td>\n",
       "      <td>97448.735181</td>\n",
       "      <td>506673.467386</td>\n",
       "      <td>48.726284</td>\n",
       "      <td>5718.664766</td>\n",
       "    </tr>\n",
       "    <tr>\n",
       "      <th>variacao</th>\n",
       "      <td>-0.125</td>\n",
       "      <td>0.125</td>\n",
       "      <td>0.25</td>\n",
       "      <td>0.000031</td>\n",
       "      <td>0.004271</td>\n",
       "      <td>1.02381</td>\n",
       "      <td>110.259709</td>\n",
       "    </tr>\n",
       "    <tr>\n",
       "      <th>variacao_win</th>\n",
       "      <td>-0.007396</td>\n",
       "      <td>0.005519</td>\n",
       "      <td>0.012915</td>\n",
       "      <td>-0.000003</td>\n",
       "      <td>0.000922</td>\n",
       "      <td>-0.017041</td>\n",
       "      <td>5.154947</td>\n",
       "    </tr>\n",
       "  </tbody>\n",
       "</table>\n",
       "</div>"
      ],
      "text/plain": [
       "                              min                  max           <lambda>  \\\n",
       "data          2023-01-06 00:00:00  2023-05-19 00:00:00  133 days 00:00:00   \n",
       "hora          1900-01-01 16:00:00  1900-01-01 17:50:00    0 days 01:50:00   \n",
       "abertura                     0.33                238.7             238.37   \n",
       "maximo                       0.33                240.0             239.67   \n",
       "minimo                       0.33               238.62             238.29   \n",
       "fechamento                   0.33                240.0             239.67   \n",
       "volume                       4.64         1947680443.0      1947680438.36   \n",
       "quantidade                    1.0           94180900.0         94180899.0   \n",
       "variacao                   -0.125                0.125               0.25   \n",
       "variacao_win            -0.007396             0.005519           0.012915   \n",
       "\n",
       "                                       mean                         std  \\\n",
       "data          2023-03-13 09:08:15.325321472  39 days 05:19:16.166164162   \n",
       "hora          1900-01-01 16:55:16.511889408   0 days 00:33:13.745158588   \n",
       "abertura                           16.06897                   20.936346   \n",
       "maximo                            16.091237                   20.954671   \n",
       "minimo                            16.046721                   20.918761   \n",
       "fechamento                        16.069179                   20.937213   \n",
       "volume                       1409134.321526              8517384.009066   \n",
       "quantidade                     97448.735181               506673.467386   \n",
       "variacao                           0.000031                    0.004271   \n",
       "variacao_win                      -0.000003                    0.000922   \n",
       "\n",
       "                   skew     kurtosis  \n",
       "data                NaN          NaN  \n",
       "hora                NaN          NaN  \n",
       "abertura       5.251326    43.282328  \n",
       "maximo         5.249144    43.252276  \n",
       "minimo          5.25388    43.318238  \n",
       "fechamento     5.251927    43.291945  \n",
       "volume        63.150165  9165.724056  \n",
       "quantidade    48.726284  5718.664766  \n",
       "variacao        1.02381   110.259709  \n",
       "variacao_win  -0.017041     5.154947  "
      ]
     },
     "execution_count": 57,
     "metadata": {},
     "output_type": "execute_result"
    }
   ],
   "source": [
    "stats"
   ]
  },
  {
   "cell_type": "code",
   "execution_count": 64,
   "id": "a3de91be",
   "metadata": {
    "ExecuteTime": {
     "end_time": "2023-05-22T20:09:02.953470Z",
     "start_time": "2023-05-22T20:09:01.272267Z"
    }
   },
   "outputs": [
    {
     "name": "stderr",
     "output_type": "stream",
     "text": [
      "C:\\Users\\edils\\AppData\\Local\\Temp\\ipykernel_13700\\2996909662.py:3: UserWarning: To output multiple subplots, the figure containing the passed axes is being cleared.\n",
      "  numerical_attributes.hist(ax = ax, bins=25);\n"
     ]
    },
    {
     "data": {
      "image/png": "[encoded data removed]",
      "text/plain": [
       "<Figure size 2000x1000 with 12 Axes>"
      ]
     },
     "metadata": {},
     "output_type": "display_data"
    }
   ],
   "source": [
    "fig = plt.figure(figsize=(20,10))\n",
    "ax = fig.gca()\n",
    "numerical_attributes.hist(ax = ax, bins=25);"
   ]
  },
  {
   "cell_type": "markdown",
   "id": "72971f20",
   "metadata": {},
   "source": [
    "# 4.0 Data Preparation"
   ]
  },
  {
   "cell_type": "code",
   "execution_count": 97,
   "id": "72b922a6",
   "metadata": {
    "ExecuteTime": {
     "end_time": "2023-05-22T20:31:38.889803Z",
     "start_time": "2023-05-22T20:31:38.869900Z"
    }
   },
   "outputs": [],
   "source": [
    "df4 = df3.copy()"
   ]
  },
  {
   "cell_type": "code",
   "execution_count": 98,
   "id": "d5ccba4e",
   "metadata": {
    "ExecuteTime": {
     "end_time": "2023-05-22T20:31:39.886468Z",
     "start_time": "2023-05-22T20:31:39.820546Z"
    }
   },
   "outputs": [],
   "source": [
    "ss = StandardScaler()\n",
    "\n",
    "#Poisson -> abertura, maximo, minimo fechamento Usar \n",
    "df4['abertura'] = np.log(df4['abertura'])\n",
    "df4['maximo'] = np.log(df4['maximo'])\n",
    "df4['minimo'] = np.log(df4['minimo'])\n",
    "df4['fechamento'] = np.log(df4['fechamento'])\n",
    "df4['volume'] = np.log(df4['volume'])\n",
    "df4['quantidade'] = np.log(df4['quantidade'])\n",
    "df4['variacao'] = ss.fit_transform(df4['variacao'].values.reshape(-1,1))\n",
    "df4['variacao_win'] = ss.fit_transform(df4['variacao_win'].values.reshape(-1,1))"
   ]
  },
  {
   "cell_type": "code",
   "execution_count": 99,
   "id": "89ffd9cf",
   "metadata": {
    "ExecuteTime": {
     "end_time": "2023-05-22T20:31:48.877340Z",
     "start_time": "2023-05-22T20:31:48.852790Z"
    }
   },
   "outputs": [
    {
     "data": {
      "text/html": [
       "<div>\n",
       "<style scoped>\n",
       "    .dataframe tbody tr th:only-of-type {\n",
       "        vertical-align: middle;\n",
       "    }\n",
       "\n",
       "    .dataframe tbody tr th {\n",
       "        vertical-align: top;\n",
       "    }\n",
       "\n",
       "    .dataframe thead th {\n",
       "        text-align: right;\n",
       "    }\n",
       "</style>\n",
       "<table border=\"1\" class=\"dataframe\">\n",
       "  <thead>\n",
       "    <tr style=\"text-align: right;\">\n",
       "      <th></th>\n",
       "      <th>ativo</th>\n",
       "      <th>data</th>\n",
       "      <th>hora</th>\n",
       "      <th>abertura</th>\n",
       "      <th>maximo</th>\n",
       "      <th>minimo</th>\n",
       "      <th>fechamento</th>\n",
       "      <th>volume</th>\n",
       "      <th>quantidade</th>\n",
       "      <th>variacao</th>\n",
       "      <th>variacao_win</th>\n",
       "    </tr>\n",
       "  </thead>\n",
       "  <tbody>\n",
       "    <tr>\n",
       "      <th>0</th>\n",
       "      <td>AALR3</td>\n",
       "      <td>2023-05-19</td>\n",
       "      <td>1900-01-01 17:50:00</td>\n",
       "      <td>3.121924</td>\n",
       "      <td>3.122365</td>\n",
       "      <td>3.121042</td>\n",
       "      <td>3.122365</td>\n",
       "      <td>14.439255</td>\n",
       "      <td>4.409155</td>\n",
       "      <td>0.095831</td>\n",
       "      <td>-0.336726</td>\n",
       "    </tr>\n",
       "    <tr>\n",
       "      <th>1</th>\n",
       "      <td>AALR3</td>\n",
       "      <td>2023-05-19</td>\n",
       "      <td>1900-01-01 17:45:00</td>\n",
       "      <td>3.121042</td>\n",
       "      <td>3.121483</td>\n",
       "      <td>3.121042</td>\n",
       "      <td>3.121483</td>\n",
       "      <td>9.672501</td>\n",
       "      <td>6.551080</td>\n",
       "      <td>0.095922</td>\n",
       "      <td>0.294905</td>\n",
       "    </tr>\n",
       "    <tr>\n",
       "      <th>2</th>\n",
       "      <td>AALR3</td>\n",
       "      <td>2023-05-19</td>\n",
       "      <td>1900-01-01 17:40:00</td>\n",
       "      <td>3.121924</td>\n",
       "      <td>3.121924</td>\n",
       "      <td>3.121042</td>\n",
       "      <td>3.121483</td>\n",
       "      <td>10.029239</td>\n",
       "      <td>0.000000</td>\n",
       "      <td>-0.110551</td>\n",
       "      <td>0.878739</td>\n",
       "    </tr>\n",
       "    <tr>\n",
       "      <th>3</th>\n",
       "      <td>AALR3</td>\n",
       "      <td>2023-05-19</td>\n",
       "      <td>1900-01-01 17:35:00</td>\n",
       "      <td>3.120160</td>\n",
       "      <td>3.121483</td>\n",
       "      <td>3.120160</td>\n",
       "      <td>3.121483</td>\n",
       "      <td>10.670373</td>\n",
       "      <td>0.641854</td>\n",
       "      <td>0.302760</td>\n",
       "      <td>0.733330</td>\n",
       "    </tr>\n",
       "    <tr>\n",
       "      <th>4</th>\n",
       "      <td>AALR3</td>\n",
       "      <td>2023-05-19</td>\n",
       "      <td>1900-01-01 17:30:00</td>\n",
       "      <td>3.121924</td>\n",
       "      <td>3.122365</td>\n",
       "      <td>3.118834</td>\n",
       "      <td>3.119276</td>\n",
       "      <td>12.801279</td>\n",
       "      <td>2.772589</td>\n",
       "      <td>-0.626506</td>\n",
       "      <td>0.441511</td>\n",
       "    </tr>\n",
       "    <tr>\n",
       "      <th>...</th>\n",
       "      <td>...</td>\n",
       "      <td>...</td>\n",
       "      <td>...</td>\n",
       "      <td>...</td>\n",
       "      <td>...</td>\n",
       "      <td>...</td>\n",
       "      <td>...</td>\n",
       "      <td>...</td>\n",
       "      <td>...</td>\n",
       "      <td>...</td>\n",
       "      <td>...</td>\n",
       "    </tr>\n",
       "    <tr>\n",
       "      <th>778823</th>\n",
       "      <td>ZAMP3</td>\n",
       "      <td>2023-01-06</td>\n",
       "      <td>1900-01-01 16:20:00</td>\n",
       "      <td>1.648659</td>\n",
       "      <td>1.650580</td>\n",
       "      <td>1.646734</td>\n",
       "      <td>1.648659</td>\n",
       "      <td>9.750628</td>\n",
       "      <td>8.101678</td>\n",
       "      <td>-0.007360</td>\n",
       "      <td>-0.044377</td>\n",
       "    </tr>\n",
       "    <tr>\n",
       "      <th>778824</th>\n",
       "      <td>ZAMP3</td>\n",
       "      <td>2023-01-06</td>\n",
       "      <td>1900-01-01 16:15:00</td>\n",
       "      <td>1.646734</td>\n",
       "      <td>1.648659</td>\n",
       "      <td>1.644805</td>\n",
       "      <td>1.648659</td>\n",
       "      <td>9.686202</td>\n",
       "      <td>8.039157</td>\n",
       "      <td>0.443778</td>\n",
       "      <td>0.490256</td>\n",
       "    </tr>\n",
       "    <tr>\n",
       "      <th>778825</th>\n",
       "      <td>ZAMP3</td>\n",
       "      <td>2023-01-06</td>\n",
       "      <td>1900-01-01 16:10:00</td>\n",
       "      <td>1.642873</td>\n",
       "      <td>1.648659</td>\n",
       "      <td>1.638997</td>\n",
       "      <td>1.644805</td>\n",
       "      <td>11.094010</td>\n",
       "      <td>9.449357</td>\n",
       "      <td>0.445523</td>\n",
       "      <td>0.299389</td>\n",
       "    </tr>\n",
       "    <tr>\n",
       "      <th>778826</th>\n",
       "      <td>ZAMP3</td>\n",
       "      <td>2023-01-06</td>\n",
       "      <td>1900-01-01 16:05:00</td>\n",
       "      <td>1.640937</td>\n",
       "      <td>1.644805</td>\n",
       "      <td>1.640937</td>\n",
       "      <td>1.642873</td>\n",
       "      <td>9.803059</td>\n",
       "      <td>8.160518</td>\n",
       "      <td>0.446401</td>\n",
       "      <td>1.294063</td>\n",
       "    </tr>\n",
       "    <tr>\n",
       "      <th>778827</th>\n",
       "      <td>ZAMP3</td>\n",
       "      <td>2023-01-06</td>\n",
       "      <td>1900-01-01 16:00:00</td>\n",
       "      <td>1.648659</td>\n",
       "      <td>1.648659</td>\n",
       "      <td>1.640937</td>\n",
       "      <td>1.640937</td>\n",
       "      <td>10.527767</td>\n",
       "      <td>8.881836</td>\n",
       "      <td>-1.808441</td>\n",
       "      <td>-2.419707</td>\n",
       "    </tr>\n",
       "  </tbody>\n",
       "</table>\n",
       "<p>516228 rows × 11 columns</p>\n",
       "</div>"
      ],
      "text/plain": [
       "        ativo       data                hora  abertura    maximo    minimo  \\\n",
       "0       AALR3 2023-05-19 1900-01-01 17:50:00  3.121924  3.122365  3.121042   \n",
       "1       AALR3 2023-05-19 1900-01-01 17:45:00  3.121042  3.121483  3.121042   \n",
       "2       AALR3 2023-05-19 1900-01-01 17:40:00  3.121924  3.121924  3.121042   \n",
       "3       AALR3 2023-05-19 1900-01-01 17:35:00  3.120160  3.121483  3.120160   \n",
       "4       AALR3 2023-05-19 1900-01-01 17:30:00  3.121924  3.122365  3.118834   \n",
       "...       ...        ...                 ...       ...       ...       ...   \n",
       "778823  ZAMP3 2023-01-06 1900-01-01 16:20:00  1.648659  1.650580  1.646734   \n",
       "778824  ZAMP3 2023-01-06 1900-01-01 16:15:00  1.646734  1.648659  1.644805   \n",
       "778825  ZAMP3 2023-01-06 1900-01-01 16:10:00  1.642873  1.648659  1.638997   \n",
       "778826  ZAMP3 2023-01-06 1900-01-01 16:05:00  1.640937  1.644805  1.640937   \n",
       "778827  ZAMP3 2023-01-06 1900-01-01 16:00:00  1.648659  1.648659  1.640937   \n",
       "\n",
       "        fechamento     volume  quantidade  variacao  variacao_win  \n",
       "0         3.122365  14.439255    4.409155  0.095831     -0.336726  \n",
       "1         3.121483   9.672501    6.551080  0.095922      0.294905  \n",
       "2         3.121483  10.029239    0.000000 -0.110551      0.878739  \n",
       "3         3.121483  10.670373    0.641854  0.302760      0.733330  \n",
       "4         3.119276  12.801279    2.772589 -0.626506      0.441511  \n",
       "...            ...        ...         ...       ...           ...  \n",
       "778823    1.648659   9.750628    8.101678 -0.007360     -0.044377  \n",
       "778824    1.648659   9.686202    8.039157  0.443778      0.490256  \n",
       "778825    1.644805  11.094010    9.449357  0.445523      0.299389  \n",
       "778826    1.642873   9.803059    8.160518  0.446401      1.294063  \n",
       "778827    1.640937  10.527767    8.881836 -1.808441     -2.419707  \n",
       "\n",
       "[516228 rows x 11 columns]"
      ]
     },
     "execution_count": 99,
     "metadata": {},
     "output_type": "execute_result"
    }
   ],
   "source": [
    "df4"
   ]
  }
 ],
 "metadata": {
  "hide_input": false,
  "kernelspec": {
   "display_name": "Python 3 (ipykernel)",
   "language": "python",
   "name": "python3"
  },
  "language_info": {
   "codemirror_mode": {
    "name": "ipython",
    "version": 3
   },
   "file_extension": ".py",
   "mimetype": "text/x-python",
   "name": "python",
   "nbconvert_exporter": "python",
   "pygments_lexer": "ipython3",
   "version": "3.10.11"
  },
  "varInspector": {
   "cols": {
    "lenName": 16,
    "lenType": 16,
    "lenVar": 40
   },
   "kernels_config": {
    "python": {
     "delete_cmd_postfix": "",
     "delete_cmd_prefix": "del ",
     "library": "var_list.py",
     "varRefreshCmd": "print(var_dic_list())"
    },
    "r": {
     "delete_cmd_postfix": ") ",
     "delete_cmd_prefix": "rm(",
     "library": "var_list.r",
     "varRefreshCmd": "cat(var_dic_list()) "
    }
   },
   "types_to_exclude": [
    "module",
    "function",
    "builtin_function_or_method",
    "instance",
    "_Feature"
   ],
   "window_display": false
  }
 },
 "nbformat": 4,
 "nbformat_minor": 5
}
