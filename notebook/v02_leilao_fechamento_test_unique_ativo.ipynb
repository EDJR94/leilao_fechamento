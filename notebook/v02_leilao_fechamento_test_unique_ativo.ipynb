{
 "cells": [
  {
   "cell_type": "markdown",
   "id": "8aea0be7",
   "metadata": {},
   "source": [
    "# 0.0 IMPORTS"
   ]
  },
  {
   "cell_type": "code",
   "execution_count": 2,
   "id": "51231c59",
   "metadata": {
    "ExecuteTime": {
     "end_time": "2023-05-29T15:22:43.609854Z",
     "start_time": "2023-05-29T15:22:43.603393Z"
    }
   },
   "outputs": [],
   "source": [
    "import pandas as pd\n",
    "import numpy as np\n",
    "import inflection\n",
    "import os\n",
    "import seaborn as sns\n",
    "import matplotlib.pyplot as plt \n",
    "import warnings\n",
    "import xgboost as xgb\n",
    "\n",
    "from keras.models import Sequential\n",
    "from keras.layers import LSTM, Dense, Dropout\n",
    "\n",
    "from boruta import BorutaPy\n",
    "from datetime import datetime, timedelta\n",
    "from sklearn import model_selection as ms\n",
    "from sklearn import metrics as mt\n",
    "from sklearn.preprocessing import RobustScaler, MinMaxScaler, StandardScaler\n",
    "from sklearn import ensemble as en\n",
    "from sklearn import metrics as mt\n",
    "from sklearn.linear_model import LinearRegression, Lasso\n",
    "from sklearn import svm\n",
    "\n",
    "warnings.filterwarnings('ignore')"
   ]
  },
  {
   "cell_type": "markdown",
   "id": "e0719ce6",
   "metadata": {},
   "source": [
    "## 0.1 Loading Data"
   ]
  },
  {
   "cell_type": "code",
   "execution_count": 42,
   "id": "4272a4f8",
   "metadata": {
    "ExecuteTime": {
     "end_time": "2023-05-29T15:27:38.074597Z",
     "start_time": "2023-05-29T15:27:38.058056Z"
    }
   },
   "outputs": [],
   "source": [
    "path = 'C:/Users/edils/repos/leilao_fechamento/data/test_petr/'"
   ]
  },
  {
   "cell_type": "code",
   "execution_count": 43,
   "id": "29ffb95e",
   "metadata": {
    "ExecuteTime": {
     "end_time": "2023-05-29T15:27:38.450010Z",
     "start_time": "2023-05-29T15:27:38.444688Z"
    }
   },
   "outputs": [],
   "source": [
    "# df_raw_list = []\n",
    "\n",
    "# for file in os.listdir(path):\n",
    "#     if file.endswith('.csv'):\n",
    "#         filename_path = os.path.join(path, file)\n",
    "#         df = pd.read_csv(filename_path, encoding='iso-8859-1', sep=';')\n",
    "#         df_raw_list.append(df)"
   ]
  },
  {
   "cell_type": "code",
   "execution_count": 44,
   "id": "780ee2d4",
   "metadata": {
    "ExecuteTime": {
     "end_time": "2023-05-29T15:27:39.201549Z",
     "start_time": "2023-05-29T15:27:39.193484Z"
    }
   },
   "outputs": [],
   "source": [
    "# df_raw = pd.concat(df_raw_list, axis=0)"
   ]
  },
  {
   "cell_type": "code",
   "execution_count": 45,
   "id": "c80c8195",
   "metadata": {
    "ExecuteTime": {
     "end_time": "2023-05-29T15:27:40.110020Z",
     "start_time": "2023-05-29T15:27:40.082766Z"
    }
   },
   "outputs": [],
   "source": [
    "df_raw = pd.read_csv(path + 'PETR4_B_0_5min.csv', encoding='iso-8859-1', sep=';')"
   ]
  },
  {
   "cell_type": "code",
   "execution_count": 46,
   "id": "fcf66309",
   "metadata": {
    "ExecuteTime": {
     "end_time": "2023-05-29T15:27:41.963265Z",
     "start_time": "2023-05-29T15:27:41.943057Z"
    }
   },
   "outputs": [
    {
     "data": {
      "text/html": [
       "<div>\n",
       "<style scoped>\n",
       "    .dataframe tbody tr th:only-of-type {\n",
       "        vertical-align: middle;\n",
       "    }\n",
       "\n",
       "    .dataframe tbody tr th {\n",
       "        vertical-align: top;\n",
       "    }\n",
       "\n",
       "    .dataframe thead th {\n",
       "        text-align: right;\n",
       "    }\n",
       "</style>\n",
       "<table border=\"1\" class=\"dataframe\">\n",
       "  <thead>\n",
       "    <tr style=\"text-align: right;\">\n",
       "      <th></th>\n",
       "      <th>Ativo</th>\n",
       "      <th>Data</th>\n",
       "      <th>Hora</th>\n",
       "      <th>Abertura</th>\n",
       "      <th>Máximo</th>\n",
       "      <th>Mínimo</th>\n",
       "      <th>Fechamento</th>\n",
       "      <th>Volume</th>\n",
       "      <th>Quantidade</th>\n",
       "    </tr>\n",
       "  </thead>\n",
       "  <tbody>\n",
       "    <tr>\n",
       "      <th>0</th>\n",
       "      <td>PETR4</td>\n",
       "      <td>26/05/2023</td>\n",
       "      <td>17:30:00</td>\n",
       "      <td>26,79</td>\n",
       "      <td>26,80</td>\n",
       "      <td>26,76</td>\n",
       "      <td>26,79</td>\n",
       "      <td>1.518.499,00</td>\n",
       "      <td>56.700</td>\n",
       "    </tr>\n",
       "    <tr>\n",
       "      <th>1</th>\n",
       "      <td>PETR4</td>\n",
       "      <td>26/05/2023</td>\n",
       "      <td>16:50:00</td>\n",
       "      <td>26,76</td>\n",
       "      <td>26,80</td>\n",
       "      <td>26,74</td>\n",
       "      <td>26,80</td>\n",
       "      <td>86.912.867,00</td>\n",
       "      <td>3.244.400</td>\n",
       "    </tr>\n",
       "    <tr>\n",
       "      <th>2</th>\n",
       "      <td>PETR4</td>\n",
       "      <td>26/05/2023</td>\n",
       "      <td>16:45:00</td>\n",
       "      <td>26,77</td>\n",
       "      <td>26,80</td>\n",
       "      <td>26,74</td>\n",
       "      <td>26,77</td>\n",
       "      <td>18.082.061,00</td>\n",
       "      <td>675.700</td>\n",
       "    </tr>\n",
       "    <tr>\n",
       "      <th>3</th>\n",
       "      <td>PETR4</td>\n",
       "      <td>26/05/2023</td>\n",
       "      <td>16:40:00</td>\n",
       "      <td>26,80</td>\n",
       "      <td>26,82</td>\n",
       "      <td>26,75</td>\n",
       "      <td>26,77</td>\n",
       "      <td>18.316.014,00</td>\n",
       "      <td>683.700</td>\n",
       "    </tr>\n",
       "    <tr>\n",
       "      <th>4</th>\n",
       "      <td>PETR4</td>\n",
       "      <td>26/05/2023</td>\n",
       "      <td>16:35:00</td>\n",
       "      <td>26,81</td>\n",
       "      <td>26,83</td>\n",
       "      <td>26,78</td>\n",
       "      <td>26,81</td>\n",
       "      <td>23.448.773,00</td>\n",
       "      <td>874.900</td>\n",
       "    </tr>\n",
       "  </tbody>\n",
       "</table>\n",
       "</div>"
      ],
      "text/plain": [
       "   Ativo        Data      Hora Abertura Máximo Mínimo Fechamento  \\\n",
       "0  PETR4  26/05/2023  17:30:00    26,79  26,80  26,76      26,79   \n",
       "1  PETR4  26/05/2023  16:50:00    26,76  26,80  26,74      26,80   \n",
       "2  PETR4  26/05/2023  16:45:00    26,77  26,80  26,74      26,77   \n",
       "3  PETR4  26/05/2023  16:40:00    26,80  26,82  26,75      26,77   \n",
       "4  PETR4  26/05/2023  16:35:00    26,81  26,83  26,78      26,81   \n",
       "\n",
       "          Volume Quantidade  \n",
       "0   1.518.499,00     56.700  \n",
       "1  86.912.867,00  3.244.400  \n",
       "2  18.082.061,00    675.700  \n",
       "3  18.316.014,00    683.700  \n",
       "4  23.448.773,00    874.900  "
      ]
     },
     "execution_count": 46,
     "metadata": {},
     "output_type": "execute_result"
    }
   ],
   "source": [
    "df_raw.head()"
   ]
  },
  {
   "cell_type": "code",
   "execution_count": 47,
   "id": "8fca58e1",
   "metadata": {
    "ExecuteTime": {
     "end_time": "2023-05-29T15:27:42.756524Z",
     "start_time": "2023-05-29T15:27:42.737161Z"
    }
   },
   "outputs": [
    {
     "data": {
      "text/plain": [
       "Ativo         object\n",
       "Data          object\n",
       "Hora          object\n",
       "Abertura      object\n",
       "Máximo        object\n",
       "Mínimo        object\n",
       "Fechamento    object\n",
       "Volume        object\n",
       "Quantidade    object\n",
       "dtype: object"
      ]
     },
     "execution_count": 47,
     "metadata": {},
     "output_type": "execute_result"
    }
   ],
   "source": [
    "df_raw.dtypes"
   ]
  },
  {
   "cell_type": "markdown",
   "id": "85e9beb1",
   "metadata": {},
   "source": [
    "## 0.2 Helper Functions"
   ]
  },
  {
   "cell_type": "code",
   "execution_count": 48,
   "id": "bf49b366",
   "metadata": {
    "ExecuteTime": {
     "end_time": "2023-05-29T15:27:43.908713Z",
     "start_time": "2023-05-29T15:27:43.877926Z"
    }
   },
   "outputs": [],
   "source": [
    "def data_types(df1):\n",
    "    #abertura\n",
    "    df1['abertura'] = df1['abertura'].apply(lambda x: x.replace(',','.'))\n",
    "    df1['abertura'] = df1['abertura'].astype(float)\n",
    "\n",
    "    #maximo\n",
    "    df1['maximo'] = df1['maximo'].apply(lambda x: x.replace(',','.'))\n",
    "    df1['maximo'] = df1['maximo'].astype(float)\n",
    "\n",
    "    #minimo\n",
    "    df1['minimo'] = df1['minimo'].apply(lambda x: x.replace(',','.'))\n",
    "    df1['minimo'] = df1['minimo'].astype(float)\n",
    "\n",
    "    #fechamento\n",
    "    df1['fechamento'] = df1['fechamento'].apply(lambda x: x.replace(',','.'))\n",
    "    df1['fechamento'] = df1['fechamento'].astype(float)\n",
    "\n",
    "    #volume\n",
    "    df1['volume'] = df1['volume'].apply(lambda x: x.replace(\".\", \"\").replace(\",\", \".\"))\n",
    "    df1['volume'] = df1['volume'].astype(float)\n",
    "\n",
    "    #quantidade\n",
    "    df1['quantidade'] = df1['quantidade'].apply(lambda x: x.replace(\".\", \"\") if isinstance(x, str) else x)\n",
    "    df1['quantidade'] = df1['quantidade'].apply(lambda x: float(x))\n",
    "\n",
    "    #data\n",
    "    df1['data'] = df1['data'].apply(lambda x: x.replace('/','-'))\n",
    "    df1['data'] = df1['data'].apply(lambda x: datetime.strptime(x, \"%d-%m-%Y\"))\n",
    "    df1['data'] = pd.to_datetime(df1['data'], format='%d-%m-%Y')\n",
    "    df1['hora'] = df1['hora'].apply(lambda x: datetime.strptime(x, \"%H:%M:%S\"))\n",
    "    \n",
    "    return df1\n",
    "\n",
    "def rename_columns(df1):\n",
    "    cols_old = df1.columns\n",
    "    cols_new = cols_old.map(lambda x: inflection.underscore(x))\n",
    "    df1.columns = cols_new\n",
    "    df1 = df1.rename(columns={'máximo': 'maximo', 'mínimo':'minimo'})\n",
    "    \n",
    "    return df1\n",
    "\n",
    "def changing_time(df1):\n",
    "    #Horário de verão 2023-03-13\n",
    "    data_verao = pd.to_datetime('2023-03-13')\n",
    "    df1.loc[df1['data'] >= data_verao, 'hora'] += pd.Timedelta(hours=1)\n",
    "    hora_leilao = (df1['hora'].dt.hour >= 16) & (df1['hora'].dt.hour < 18) \n",
    "    df1 = df1.loc[hora_leilao,:]\n",
    "    return df1\n",
    "\n",
    "def clean_futuros(df_win):\n",
    "    cols_old = df_win.columns\n",
    "    cols_new = cols_old.map(lambda x: inflection.underscore(x))\n",
    "    df_win.columns = cols_new\n",
    "    df_win = df_win.rename(columns={'máximo': 'maximo', 'mínimo':'minimo'})\n",
    "\n",
    "    df_win['abertura'] = df_win['abertura'].astype(float)\n",
    "\n",
    "    #maximo\n",
    "\n",
    "    df_win['maximo'] = df_win['maximo'].astype(float)\n",
    "\n",
    "    #minimo\n",
    "\n",
    "    df_win['minimo'] = df_win['minimo'].astype(float)\n",
    "\n",
    "    #fechamento\n",
    "\n",
    "    df_win['fechamento'] = df_win['fechamento'].astype(float)\n",
    "\n",
    "    #volume\n",
    "    df_win['volume'] = df_win['volume'].apply(lambda x: x.replace(\".\", \"\").replace(\",\", \".\"))\n",
    "    df_win['volume'] = df_win['volume'].astype(float)\n",
    "\n",
    "    #quantidade\n",
    "    df_win['quantidade'] = df_win['quantidade'].apply(lambda x: x.replace(\".\", \"\") if isinstance(x, str) else x)\n",
    "    df_win['quantidade'] = df_win['quantidade'].apply(lambda x: float(x))\n",
    "\n",
    "    #data\n",
    "    df_win['data'] = df_win['data'].apply(lambda x: x.replace('/','-'))\n",
    "    df_win['data'] = df_win['data'].apply(lambda x: datetime.strptime(x, \"%d-%m-%Y\"))\n",
    "    df_win['data'] = pd.to_datetime(df_win['data'], format='%d-%m-%Y')\n",
    "    df_win['hora'] = df_win['hora'].apply(lambda x: datetime.strptime(x, \"%H:%M:%S\"))\n",
    "    df_win['variacao'] = (df_win['fechamento'] - df_win['abertura']) / df_win['abertura']\n",
    "    \n",
    "    #Horário de verão 2023-03-13\n",
    "    data_verao = pd.to_datetime('2023-03-13')\n",
    "    df_win.loc[df_win['data'] >= data_verao, 'hora'] += pd.Timedelta(hours=1)\n",
    "    \n",
    "    hora_leilao = (df_win['hora'].dt.hour >= 16) & (df_win['hora'].dt.hour < 18) \n",
    "    df_win = df_win.loc[hora_leilao,:]\n",
    "    \n",
    "    df_win['variacao'] = (df_win['fechamento'] - df_win['abertura']) / df_win['abertura']\n",
    "    \n",
    "    return df_win\n",
    "\n",
    "def ml_error(model_name, y, yhat):\n",
    "    mae = mt.mean_absolute_error(y, yhat)\n",
    "    mape = mt.mean_absolute_percentage_error(y, yhat)\n",
    "    rmse = np.sqrt(mt.mean_squared_error(y, yhat))\n",
    "   \n",
    "    return pd.DataFrame({'Model Name': model_name,\n",
    "                        'MAE': mae,\n",
    "                        'MAPE':mape,\n",
    "                        'RMSE':rmse},index=[0])\n",
    "    "
   ]
  },
  {
   "cell_type": "markdown",
   "id": "c3990882",
   "metadata": {},
   "source": [
    "# 1.0 DATA DESCRIPTION"
   ]
  },
  {
   "cell_type": "code",
   "execution_count": 70,
   "id": "19b98752",
   "metadata": {
    "ExecuteTime": {
     "end_time": "2023-05-29T16:09:18.093985Z",
     "start_time": "2023-05-29T16:09:18.076810Z"
    }
   },
   "outputs": [],
   "source": [
    "df1 = df_raw.copy()"
   ]
  },
  {
   "cell_type": "code",
   "execution_count": 71,
   "id": "e2bc5c84",
   "metadata": {
    "ExecuteTime": {
     "end_time": "2023-05-29T16:09:18.295365Z",
     "start_time": "2023-05-29T16:09:18.281921Z"
    }
   },
   "outputs": [
    {
     "data": {
      "text/html": [
       "<div>\n",
       "<style scoped>\n",
       "    .dataframe tbody tr th:only-of-type {\n",
       "        vertical-align: middle;\n",
       "    }\n",
       "\n",
       "    .dataframe tbody tr th {\n",
       "        vertical-align: top;\n",
       "    }\n",
       "\n",
       "    .dataframe thead th {\n",
       "        text-align: right;\n",
       "    }\n",
       "</style>\n",
       "<table border=\"1\" class=\"dataframe\">\n",
       "  <thead>\n",
       "    <tr style=\"text-align: right;\">\n",
       "      <th></th>\n",
       "      <th>Ativo</th>\n",
       "      <th>Data</th>\n",
       "      <th>Hora</th>\n",
       "      <th>Abertura</th>\n",
       "      <th>Máximo</th>\n",
       "      <th>Mínimo</th>\n",
       "      <th>Fechamento</th>\n",
       "      <th>Volume</th>\n",
       "      <th>Quantidade</th>\n",
       "    </tr>\n",
       "  </thead>\n",
       "  <tbody>\n",
       "    <tr>\n",
       "      <th>0</th>\n",
       "      <td>PETR4</td>\n",
       "      <td>26/05/2023</td>\n",
       "      <td>17:30:00</td>\n",
       "      <td>26,79</td>\n",
       "      <td>26,80</td>\n",
       "      <td>26,76</td>\n",
       "      <td>26,79</td>\n",
       "      <td>1.518.499,00</td>\n",
       "      <td>56.700</td>\n",
       "    </tr>\n",
       "    <tr>\n",
       "      <th>1</th>\n",
       "      <td>PETR4</td>\n",
       "      <td>26/05/2023</td>\n",
       "      <td>16:50:00</td>\n",
       "      <td>26,76</td>\n",
       "      <td>26,80</td>\n",
       "      <td>26,74</td>\n",
       "      <td>26,80</td>\n",
       "      <td>86.912.867,00</td>\n",
       "      <td>3.244.400</td>\n",
       "    </tr>\n",
       "    <tr>\n",
       "      <th>2</th>\n",
       "      <td>PETR4</td>\n",
       "      <td>26/05/2023</td>\n",
       "      <td>16:45:00</td>\n",
       "      <td>26,77</td>\n",
       "      <td>26,80</td>\n",
       "      <td>26,74</td>\n",
       "      <td>26,77</td>\n",
       "      <td>18.082.061,00</td>\n",
       "      <td>675.700</td>\n",
       "    </tr>\n",
       "    <tr>\n",
       "      <th>3</th>\n",
       "      <td>PETR4</td>\n",
       "      <td>26/05/2023</td>\n",
       "      <td>16:40:00</td>\n",
       "      <td>26,80</td>\n",
       "      <td>26,82</td>\n",
       "      <td>26,75</td>\n",
       "      <td>26,77</td>\n",
       "      <td>18.316.014,00</td>\n",
       "      <td>683.700</td>\n",
       "    </tr>\n",
       "    <tr>\n",
       "      <th>4</th>\n",
       "      <td>PETR4</td>\n",
       "      <td>26/05/2023</td>\n",
       "      <td>16:35:00</td>\n",
       "      <td>26,81</td>\n",
       "      <td>26,83</td>\n",
       "      <td>26,78</td>\n",
       "      <td>26,81</td>\n",
       "      <td>23.448.773,00</td>\n",
       "      <td>874.900</td>\n",
       "    </tr>\n",
       "    <tr>\n",
       "      <th>...</th>\n",
       "      <td>...</td>\n",
       "      <td>...</td>\n",
       "      <td>...</td>\n",
       "      <td>...</td>\n",
       "      <td>...</td>\n",
       "      <td>...</td>\n",
       "      <td>...</td>\n",
       "      <td>...</td>\n",
       "      <td>...</td>\n",
       "    </tr>\n",
       "    <tr>\n",
       "      <th>14332</th>\n",
       "      <td>PETR4</td>\n",
       "      <td>30/09/2022</td>\n",
       "      <td>15:30:00</td>\n",
       "      <td>23,39</td>\n",
       "      <td>23,46</td>\n",
       "      <td>23,39</td>\n",
       "      <td>23,46</td>\n",
       "      <td>62.166.319,00</td>\n",
       "      <td>2.077.100</td>\n",
       "    </tr>\n",
       "    <tr>\n",
       "      <th>14333</th>\n",
       "      <td>PETR4</td>\n",
       "      <td>30/09/2022</td>\n",
       "      <td>15:25:00</td>\n",
       "      <td>23,45</td>\n",
       "      <td>23,49</td>\n",
       "      <td>23,38</td>\n",
       "      <td>23,39</td>\n",
       "      <td>28.148.235,00</td>\n",
       "      <td>940.600</td>\n",
       "    </tr>\n",
       "    <tr>\n",
       "      <th>14334</th>\n",
       "      <td>PETR4</td>\n",
       "      <td>30/09/2022</td>\n",
       "      <td>15:20:00</td>\n",
       "      <td>23,56</td>\n",
       "      <td>23,58</td>\n",
       "      <td>23,41</td>\n",
       "      <td>23,45</td>\n",
       "      <td>47.382.040,00</td>\n",
       "      <td>1.579.800</td>\n",
       "    </tr>\n",
       "    <tr>\n",
       "      <th>14335</th>\n",
       "      <td>PETR4</td>\n",
       "      <td>30/09/2022</td>\n",
       "      <td>15:15:00</td>\n",
       "      <td>23,50</td>\n",
       "      <td>23,61</td>\n",
       "      <td>23,50</td>\n",
       "      <td>23,56</td>\n",
       "      <td>25.101.653,00</td>\n",
       "      <td>833.800</td>\n",
       "    </tr>\n",
       "    <tr>\n",
       "      <th>14336</th>\n",
       "      <td>PETR4</td>\n",
       "      <td>30/09/2022</td>\n",
       "      <td>15:10:00</td>\n",
       "      <td>23,50</td>\n",
       "      <td>23,53</td>\n",
       "      <td>23,49</td>\n",
       "      <td>23,50</td>\n",
       "      <td>169.923.272,00</td>\n",
       "      <td>5.660.300</td>\n",
       "    </tr>\n",
       "  </tbody>\n",
       "</table>\n",
       "<p>14337 rows × 9 columns</p>\n",
       "</div>"
      ],
      "text/plain": [
       "       Ativo        Data      Hora Abertura Máximo Mínimo Fechamento  \\\n",
       "0      PETR4  26/05/2023  17:30:00    26,79  26,80  26,76      26,79   \n",
       "1      PETR4  26/05/2023  16:50:00    26,76  26,80  26,74      26,80   \n",
       "2      PETR4  26/05/2023  16:45:00    26,77  26,80  26,74      26,77   \n",
       "3      PETR4  26/05/2023  16:40:00    26,80  26,82  26,75      26,77   \n",
       "4      PETR4  26/05/2023  16:35:00    26,81  26,83  26,78      26,81   \n",
       "...      ...         ...       ...      ...    ...    ...        ...   \n",
       "14332  PETR4  30/09/2022  15:30:00    23,39  23,46  23,39      23,46   \n",
       "14333  PETR4  30/09/2022  15:25:00    23,45  23,49  23,38      23,39   \n",
       "14334  PETR4  30/09/2022  15:20:00    23,56  23,58  23,41      23,45   \n",
       "14335  PETR4  30/09/2022  15:15:00    23,50  23,61  23,50      23,56   \n",
       "14336  PETR4  30/09/2022  15:10:00    23,50  23,53  23,49      23,50   \n",
       "\n",
       "               Volume Quantidade  \n",
       "0        1.518.499,00     56.700  \n",
       "1       86.912.867,00  3.244.400  \n",
       "2       18.082.061,00    675.700  \n",
       "3       18.316.014,00    683.700  \n",
       "4       23.448.773,00    874.900  \n",
       "...               ...        ...  \n",
       "14332   62.166.319,00  2.077.100  \n",
       "14333   28.148.235,00    940.600  \n",
       "14334   47.382.040,00  1.579.800  \n",
       "14335   25.101.653,00    833.800  \n",
       "14336  169.923.272,00  5.660.300  \n",
       "\n",
       "[14337 rows x 9 columns]"
      ]
     },
     "execution_count": 71,
     "metadata": {},
     "output_type": "execute_result"
    }
   ],
   "source": [
    "df1"
   ]
  },
  {
   "cell_type": "markdown",
   "id": "4e904eed",
   "metadata": {},
   "source": [
    "## 1.1 Rename Columns"
   ]
  },
  {
   "cell_type": "code",
   "execution_count": 72,
   "id": "6e647886",
   "metadata": {
    "ExecuteTime": {
     "end_time": "2023-05-29T16:09:19.055470Z",
     "start_time": "2023-05-29T16:09:19.044826Z"
    }
   },
   "outputs": [],
   "source": [
    "df1 = rename_columns(df1)"
   ]
  },
  {
   "cell_type": "markdown",
   "id": "118ffed4",
   "metadata": {},
   "source": [
    "## 1.2 Data Types"
   ]
  },
  {
   "cell_type": "code",
   "execution_count": 73,
   "id": "49be1e7e",
   "metadata": {
    "ExecuteTime": {
     "end_time": "2023-05-29T16:09:19.898133Z",
     "start_time": "2023-05-29T16:09:19.879323Z"
    }
   },
   "outputs": [
    {
     "data": {
      "text/plain": [
       "ativo         object\n",
       "data          object\n",
       "hora          object\n",
       "abertura      object\n",
       "maximo        object\n",
       "minimo        object\n",
       "fechamento    object\n",
       "volume        object\n",
       "quantidade    object\n",
       "dtype: object"
      ]
     },
     "execution_count": 73,
     "metadata": {},
     "output_type": "execute_result"
    }
   ],
   "source": [
    "df1.dtypes"
   ]
  },
  {
   "cell_type": "code",
   "execution_count": 74,
   "id": "327bebe4",
   "metadata": {
    "ExecuteTime": {
     "end_time": "2023-05-29T16:09:20.864006Z",
     "start_time": "2023-05-29T16:09:20.368993Z"
    }
   },
   "outputs": [],
   "source": [
    "df1 = data_types(df1)"
   ]
  },
  {
   "cell_type": "markdown",
   "id": "ade87ecb",
   "metadata": {},
   "source": [
    "## 1.3 Check NA"
   ]
  },
  {
   "cell_type": "code",
   "execution_count": 75,
   "id": "2214f271",
   "metadata": {
    "ExecuteTime": {
     "end_time": "2023-05-29T16:09:22.015043Z",
     "start_time": "2023-05-29T16:09:21.994268Z"
    }
   },
   "outputs": [
    {
     "data": {
      "text/plain": [
       "ativo         0\n",
       "data          0\n",
       "hora          0\n",
       "abertura      0\n",
       "maximo        0\n",
       "minimo        0\n",
       "fechamento    0\n",
       "volume        0\n",
       "quantidade    0\n",
       "dtype: int64"
      ]
     },
     "execution_count": 75,
     "metadata": {},
     "output_type": "execute_result"
    }
   ],
   "source": [
    "df1.isna().sum()"
   ]
  },
  {
   "cell_type": "markdown",
   "id": "14cd55f9",
   "metadata": {},
   "source": [
    "## 1.4 Data Shape"
   ]
  },
  {
   "cell_type": "code",
   "execution_count": 76,
   "id": "bb456fcc",
   "metadata": {
    "ExecuteTime": {
     "end_time": "2023-05-29T16:09:23.135511Z",
     "start_time": "2023-05-29T16:09:23.122995Z"
    }
   },
   "outputs": [
    {
     "data": {
      "text/plain": [
       "(14337, 9)"
      ]
     },
     "execution_count": 76,
     "metadata": {},
     "output_type": "execute_result"
    }
   ],
   "source": [
    "df1.shape"
   ]
  },
  {
   "cell_type": "markdown",
   "id": "416a056d",
   "metadata": {},
   "source": [
    "## 1.5 Changing Time"
   ]
  },
  {
   "cell_type": "code",
   "execution_count": 77,
   "id": "e221b55f",
   "metadata": {
    "ExecuteTime": {
     "end_time": "2023-05-29T16:09:24.227357Z",
     "start_time": "2023-05-29T16:09:24.219914Z"
    }
   },
   "outputs": [],
   "source": [
    "df1 = changing_time(df1)"
   ]
  },
  {
   "cell_type": "markdown",
   "id": "5c87f8c5",
   "metadata": {},
   "source": [
    "## 1.6 Create Response Variable"
   ]
  },
  {
   "cell_type": "code",
   "execution_count": 78,
   "id": "3b299fec",
   "metadata": {
    "ExecuteTime": {
     "end_time": "2023-05-29T16:09:26.150587Z",
     "start_time": "2023-05-29T16:09:26.145419Z"
    }
   },
   "outputs": [],
   "source": [
    "df1['variacao'] = (df1['fechamento'] - df1['abertura']) / df1['abertura']"
   ]
  },
  {
   "cell_type": "code",
   "execution_count": 79,
   "id": "0c9b4c43",
   "metadata": {
    "ExecuteTime": {
     "end_time": "2023-05-29T16:09:29.863398Z",
     "start_time": "2023-05-29T16:09:29.838202Z"
    }
   },
   "outputs": [
    {
     "data": {
      "text/html": [
       "<div>\n",
       "<style scoped>\n",
       "    .dataframe tbody tr th:only-of-type {\n",
       "        vertical-align: middle;\n",
       "    }\n",
       "\n",
       "    .dataframe tbody tr th {\n",
       "        vertical-align: top;\n",
       "    }\n",
       "\n",
       "    .dataframe thead th {\n",
       "        text-align: right;\n",
       "    }\n",
       "</style>\n",
       "<table border=\"1\" class=\"dataframe\">\n",
       "  <thead>\n",
       "    <tr style=\"text-align: right;\">\n",
       "      <th></th>\n",
       "      <th>ativo</th>\n",
       "      <th>data</th>\n",
       "      <th>hora</th>\n",
       "      <th>abertura</th>\n",
       "      <th>maximo</th>\n",
       "      <th>minimo</th>\n",
       "      <th>fechamento</th>\n",
       "      <th>volume</th>\n",
       "      <th>quantidade</th>\n",
       "      <th>variacao</th>\n",
       "    </tr>\n",
       "  </thead>\n",
       "  <tbody>\n",
       "    <tr>\n",
       "      <th>1</th>\n",
       "      <td>PETR4</td>\n",
       "      <td>2023-05-26</td>\n",
       "      <td>1900-01-01 17:50:00</td>\n",
       "      <td>26.76</td>\n",
       "      <td>26.80</td>\n",
       "      <td>26.74</td>\n",
       "      <td>26.80</td>\n",
       "      <td>86912867.0</td>\n",
       "      <td>3244400.0</td>\n",
       "      <td>0.001495</td>\n",
       "    </tr>\n",
       "    <tr>\n",
       "      <th>2</th>\n",
       "      <td>PETR4</td>\n",
       "      <td>2023-05-26</td>\n",
       "      <td>1900-01-01 17:45:00</td>\n",
       "      <td>26.77</td>\n",
       "      <td>26.80</td>\n",
       "      <td>26.74</td>\n",
       "      <td>26.77</td>\n",
       "      <td>18082061.0</td>\n",
       "      <td>675700.0</td>\n",
       "      <td>0.000000</td>\n",
       "    </tr>\n",
       "    <tr>\n",
       "      <th>3</th>\n",
       "      <td>PETR4</td>\n",
       "      <td>2023-05-26</td>\n",
       "      <td>1900-01-01 17:40:00</td>\n",
       "      <td>26.80</td>\n",
       "      <td>26.82</td>\n",
       "      <td>26.75</td>\n",
       "      <td>26.77</td>\n",
       "      <td>18316014.0</td>\n",
       "      <td>683700.0</td>\n",
       "      <td>-0.001119</td>\n",
       "    </tr>\n",
       "    <tr>\n",
       "      <th>4</th>\n",
       "      <td>PETR4</td>\n",
       "      <td>2023-05-26</td>\n",
       "      <td>1900-01-01 17:35:00</td>\n",
       "      <td>26.81</td>\n",
       "      <td>26.83</td>\n",
       "      <td>26.78</td>\n",
       "      <td>26.81</td>\n",
       "      <td>23448773.0</td>\n",
       "      <td>874900.0</td>\n",
       "      <td>0.000000</td>\n",
       "    </tr>\n",
       "    <tr>\n",
       "      <th>5</th>\n",
       "      <td>PETR4</td>\n",
       "      <td>2023-05-26</td>\n",
       "      <td>1900-01-01 17:30:00</td>\n",
       "      <td>26.82</td>\n",
       "      <td>26.83</td>\n",
       "      <td>26.80</td>\n",
       "      <td>26.82</td>\n",
       "      <td>6016491.0</td>\n",
       "      <td>224400.0</td>\n",
       "      <td>0.000000</td>\n",
       "    </tr>\n",
       "    <tr>\n",
       "      <th>...</th>\n",
       "      <td>...</td>\n",
       "      <td>...</td>\n",
       "      <td>...</td>\n",
       "      <td>...</td>\n",
       "      <td>...</td>\n",
       "      <td>...</td>\n",
       "      <td>...</td>\n",
       "      <td>...</td>\n",
       "      <td>...</td>\n",
       "      <td>...</td>\n",
       "    </tr>\n",
       "    <tr>\n",
       "      <th>14322</th>\n",
       "      <td>PETR4</td>\n",
       "      <td>2022-09-30</td>\n",
       "      <td>1900-01-01 16:20:00</td>\n",
       "      <td>23.35</td>\n",
       "      <td>23.46</td>\n",
       "      <td>23.35</td>\n",
       "      <td>23.44</td>\n",
       "      <td>15120624.0</td>\n",
       "      <td>505800.0</td>\n",
       "      <td>0.003854</td>\n",
       "    </tr>\n",
       "    <tr>\n",
       "      <th>14323</th>\n",
       "      <td>PETR4</td>\n",
       "      <td>2022-09-30</td>\n",
       "      <td>1900-01-01 16:15:00</td>\n",
       "      <td>23.33</td>\n",
       "      <td>23.42</td>\n",
       "      <td>23.31</td>\n",
       "      <td>23.35</td>\n",
       "      <td>24243153.0</td>\n",
       "      <td>812400.0</td>\n",
       "      <td>0.000857</td>\n",
       "    </tr>\n",
       "    <tr>\n",
       "      <th>14324</th>\n",
       "      <td>PETR4</td>\n",
       "      <td>2022-09-30</td>\n",
       "      <td>1900-01-01 16:10:00</td>\n",
       "      <td>23.35</td>\n",
       "      <td>23.35</td>\n",
       "      <td>23.31</td>\n",
       "      <td>23.34</td>\n",
       "      <td>14726478.0</td>\n",
       "      <td>494100.0</td>\n",
       "      <td>-0.000428</td>\n",
       "    </tr>\n",
       "    <tr>\n",
       "      <th>14325</th>\n",
       "      <td>PETR4</td>\n",
       "      <td>2022-09-30</td>\n",
       "      <td>1900-01-01 16:05:00</td>\n",
       "      <td>23.38</td>\n",
       "      <td>23.46</td>\n",
       "      <td>23.34</td>\n",
       "      <td>23.35</td>\n",
       "      <td>22449454.0</td>\n",
       "      <td>751200.0</td>\n",
       "      <td>-0.001283</td>\n",
       "    </tr>\n",
       "    <tr>\n",
       "      <th>14326</th>\n",
       "      <td>PETR4</td>\n",
       "      <td>2022-09-30</td>\n",
       "      <td>1900-01-01 16:00:00</td>\n",
       "      <td>23.22</td>\n",
       "      <td>23.41</td>\n",
       "      <td>23.21</td>\n",
       "      <td>23.38</td>\n",
       "      <td>31861347.0</td>\n",
       "      <td>1068900.0</td>\n",
       "      <td>0.006891</td>\n",
       "    </tr>\n",
       "  </tbody>\n",
       "</table>\n",
       "<p>3440 rows × 10 columns</p>\n",
       "</div>"
      ],
      "text/plain": [
       "       ativo       data                hora  abertura  maximo  minimo  \\\n",
       "1      PETR4 2023-05-26 1900-01-01 17:50:00     26.76   26.80   26.74   \n",
       "2      PETR4 2023-05-26 1900-01-01 17:45:00     26.77   26.80   26.74   \n",
       "3      PETR4 2023-05-26 1900-01-01 17:40:00     26.80   26.82   26.75   \n",
       "4      PETR4 2023-05-26 1900-01-01 17:35:00     26.81   26.83   26.78   \n",
       "5      PETR4 2023-05-26 1900-01-01 17:30:00     26.82   26.83   26.80   \n",
       "...      ...        ...                 ...       ...     ...     ...   \n",
       "14322  PETR4 2022-09-30 1900-01-01 16:20:00     23.35   23.46   23.35   \n",
       "14323  PETR4 2022-09-30 1900-01-01 16:15:00     23.33   23.42   23.31   \n",
       "14324  PETR4 2022-09-30 1900-01-01 16:10:00     23.35   23.35   23.31   \n",
       "14325  PETR4 2022-09-30 1900-01-01 16:05:00     23.38   23.46   23.34   \n",
       "14326  PETR4 2022-09-30 1900-01-01 16:00:00     23.22   23.41   23.21   \n",
       "\n",
       "       fechamento      volume  quantidade  variacao  \n",
       "1           26.80  86912867.0   3244400.0  0.001495  \n",
       "2           26.77  18082061.0    675700.0  0.000000  \n",
       "3           26.77  18316014.0    683700.0 -0.001119  \n",
       "4           26.81  23448773.0    874900.0  0.000000  \n",
       "5           26.82   6016491.0    224400.0  0.000000  \n",
       "...           ...         ...         ...       ...  \n",
       "14322       23.44  15120624.0    505800.0  0.003854  \n",
       "14323       23.35  24243153.0    812400.0  0.000857  \n",
       "14324       23.34  14726478.0    494100.0 -0.000428  \n",
       "14325       23.35  22449454.0    751200.0 -0.001283  \n",
       "14326       23.38  31861347.0   1068900.0  0.006891  \n",
       "\n",
       "[3440 rows x 10 columns]"
      ]
     },
     "execution_count": 79,
     "metadata": {},
     "output_type": "execute_result"
    }
   ],
   "source": [
    "df1"
   ]
  },
  {
   "cell_type": "code",
   "execution_count": 59,
   "id": "664edd43",
   "metadata": {
    "ExecuteTime": {
     "end_time": "2023-05-29T15:28:00.841399Z",
     "start_time": "2023-05-29T15:28:00.825685Z"
    }
   },
   "outputs": [],
   "source": [
    "df1 = df1.drop(['abertura', 'fechamento'], axis=1)"
   ]
  },
  {
   "cell_type": "markdown",
   "id": "37def9ec",
   "metadata": {},
   "source": [
    "## 1.7 Split Train Test"
   ]
  },
  {
   "cell_type": "code",
   "execution_count": 19,
   "id": "34f460b2",
   "metadata": {
    "ExecuteTime": {
     "end_time": "2023-05-29T15:23:11.932643Z",
     "start_time": "2023-05-29T15:23:11.916529Z"
    }
   },
   "outputs": [],
   "source": [
    "# df_splitted = df1.drop('variacao', axis=1).copy()\n",
    "# y_splitted = df1['variacao'].copy()"
   ]
  },
  {
   "cell_type": "code",
   "execution_count": 20,
   "id": "5acaf5ed",
   "metadata": {
    "ExecuteTime": {
     "end_time": "2023-05-29T15:23:12.136864Z",
     "start_time": "2023-05-29T15:23:12.126555Z"
    }
   },
   "outputs": [],
   "source": [
    "# df1_splitted, X_test, y1_splitted, y_test = ms.train_test_split(df_splitted, y_splitted, test_size=0.25, random_state=0)"
   ]
  },
  {
   "cell_type": "code",
   "execution_count": 21,
   "id": "8fa94323",
   "metadata": {
    "ExecuteTime": {
     "end_time": "2023-05-29T15:23:12.543937Z",
     "start_time": "2023-05-29T15:23:12.536205Z"
    }
   },
   "outputs": [],
   "source": [
    "# df1 = df1_splitted.copy()\n",
    "# df1['variacao'] = y1_splitted.copy()"
   ]
  },
  {
   "cell_type": "markdown",
   "id": "3e5d4828",
   "metadata": {},
   "source": [
    "# 2.0 Feature Engineering"
   ]
  },
  {
   "cell_type": "code",
   "execution_count": 80,
   "id": "e6a3d6b1",
   "metadata": {
    "ExecuteTime": {
     "end_time": "2023-05-29T16:09:35.133428Z",
     "start_time": "2023-05-29T16:09:35.127894Z"
    }
   },
   "outputs": [],
   "source": [
    "df2 = df1.copy()"
   ]
  },
  {
   "cell_type": "code",
   "execution_count": 81,
   "id": "c719c606",
   "metadata": {
    "ExecuteTime": {
     "end_time": "2023-05-29T16:09:35.759527Z",
     "start_time": "2023-05-29T16:09:35.739617Z"
    }
   },
   "outputs": [
    {
     "data": {
      "text/html": [
       "<div>\n",
       "<style scoped>\n",
       "    .dataframe tbody tr th:only-of-type {\n",
       "        vertical-align: middle;\n",
       "    }\n",
       "\n",
       "    .dataframe tbody tr th {\n",
       "        vertical-align: top;\n",
       "    }\n",
       "\n",
       "    .dataframe thead th {\n",
       "        text-align: right;\n",
       "    }\n",
       "</style>\n",
       "<table border=\"1\" class=\"dataframe\">\n",
       "  <thead>\n",
       "    <tr style=\"text-align: right;\">\n",
       "      <th></th>\n",
       "      <th>ativo</th>\n",
       "      <th>data</th>\n",
       "      <th>hora</th>\n",
       "      <th>abertura</th>\n",
       "      <th>maximo</th>\n",
       "      <th>minimo</th>\n",
       "      <th>fechamento</th>\n",
       "      <th>volume</th>\n",
       "      <th>quantidade</th>\n",
       "      <th>variacao</th>\n",
       "    </tr>\n",
       "  </thead>\n",
       "  <tbody>\n",
       "    <tr>\n",
       "      <th>1</th>\n",
       "      <td>PETR4</td>\n",
       "      <td>2023-05-26</td>\n",
       "      <td>1900-01-01 17:50:00</td>\n",
       "      <td>26.76</td>\n",
       "      <td>26.80</td>\n",
       "      <td>26.74</td>\n",
       "      <td>26.80</td>\n",
       "      <td>86912867.0</td>\n",
       "      <td>3244400.0</td>\n",
       "      <td>0.001495</td>\n",
       "    </tr>\n",
       "    <tr>\n",
       "      <th>2</th>\n",
       "      <td>PETR4</td>\n",
       "      <td>2023-05-26</td>\n",
       "      <td>1900-01-01 17:45:00</td>\n",
       "      <td>26.77</td>\n",
       "      <td>26.80</td>\n",
       "      <td>26.74</td>\n",
       "      <td>26.77</td>\n",
       "      <td>18082061.0</td>\n",
       "      <td>675700.0</td>\n",
       "      <td>0.000000</td>\n",
       "    </tr>\n",
       "    <tr>\n",
       "      <th>3</th>\n",
       "      <td>PETR4</td>\n",
       "      <td>2023-05-26</td>\n",
       "      <td>1900-01-01 17:40:00</td>\n",
       "      <td>26.80</td>\n",
       "      <td>26.82</td>\n",
       "      <td>26.75</td>\n",
       "      <td>26.77</td>\n",
       "      <td>18316014.0</td>\n",
       "      <td>683700.0</td>\n",
       "      <td>-0.001119</td>\n",
       "    </tr>\n",
       "    <tr>\n",
       "      <th>4</th>\n",
       "      <td>PETR4</td>\n",
       "      <td>2023-05-26</td>\n",
       "      <td>1900-01-01 17:35:00</td>\n",
       "      <td>26.81</td>\n",
       "      <td>26.83</td>\n",
       "      <td>26.78</td>\n",
       "      <td>26.81</td>\n",
       "      <td>23448773.0</td>\n",
       "      <td>874900.0</td>\n",
       "      <td>0.000000</td>\n",
       "    </tr>\n",
       "    <tr>\n",
       "      <th>5</th>\n",
       "      <td>PETR4</td>\n",
       "      <td>2023-05-26</td>\n",
       "      <td>1900-01-01 17:30:00</td>\n",
       "      <td>26.82</td>\n",
       "      <td>26.83</td>\n",
       "      <td>26.80</td>\n",
       "      <td>26.82</td>\n",
       "      <td>6016491.0</td>\n",
       "      <td>224400.0</td>\n",
       "      <td>0.000000</td>\n",
       "    </tr>\n",
       "  </tbody>\n",
       "</table>\n",
       "</div>"
      ],
      "text/plain": [
       "   ativo       data                hora  abertura  maximo  minimo  fechamento  \\\n",
       "1  PETR4 2023-05-26 1900-01-01 17:50:00     26.76   26.80   26.74       26.80   \n",
       "2  PETR4 2023-05-26 1900-01-01 17:45:00     26.77   26.80   26.74       26.77   \n",
       "3  PETR4 2023-05-26 1900-01-01 17:40:00     26.80   26.82   26.75       26.77   \n",
       "4  PETR4 2023-05-26 1900-01-01 17:35:00     26.81   26.83   26.78       26.81   \n",
       "5  PETR4 2023-05-26 1900-01-01 17:30:00     26.82   26.83   26.80       26.82   \n",
       "\n",
       "       volume  quantidade  variacao  \n",
       "1  86912867.0   3244400.0  0.001495  \n",
       "2  18082061.0    675700.0  0.000000  \n",
       "3  18316014.0    683700.0 -0.001119  \n",
       "4  23448773.0    874900.0  0.000000  \n",
       "5   6016491.0    224400.0  0.000000  "
      ]
     },
     "execution_count": 81,
     "metadata": {},
     "output_type": "execute_result"
    }
   ],
   "source": [
    "df2.head()"
   ]
  },
  {
   "cell_type": "code",
   "execution_count": 82,
   "id": "c658c2fb",
   "metadata": {
    "ExecuteTime": {
     "end_time": "2023-05-29T16:09:36.567724Z",
     "start_time": "2023-05-29T16:09:36.299574Z"
    }
   },
   "outputs": [],
   "source": [
    "#create futures variation\n",
    "df_win = pd.read_csv('C:/Users/edils/repos/leilao_fechamento/data/test_petr/WINFUT_F_0_5min.csv', encoding='iso-8859-1', sep=';')\n",
    "# df_dol = pd.read_csv('C:/Users/edils/repos/leilao_fechamento/data/futuros/WINFUT_F_0_5min.csv', encoding='iso-8859-1', sep=';')\n",
    "# df_sp = pd.read_csv('C:/Users/edils/repos/leilao_fechamento/data/futuros/WINFUT_F_0_5min.csv', encoding='iso-8859-1', sep=';')\n",
    "\n",
    "df_win = clean_futuros(df_win)\n",
    "# df_dol = clean_futuros(df_dol)\n",
    "# df_sp = clean_futuros(df_sp)"
   ]
  },
  {
   "cell_type": "code",
   "execution_count": 83,
   "id": "e4f144ac",
   "metadata": {
    "ExecuteTime": {
     "end_time": "2023-05-29T16:09:38.593309Z",
     "start_time": "2023-05-29T16:09:38.579998Z"
    },
    "scrolled": false
   },
   "outputs": [],
   "source": [
    "df2 = pd.merge(df2, df_win[['data','hora','variacao']], on=['data','hora'], how='left')\n",
    "df2 = df2.rename(columns={'variacao_x':'variacao', 'variacao_y':'variacao_win'})\n"
   ]
  },
  {
   "cell_type": "code",
   "execution_count": 84,
   "id": "449f71c8",
   "metadata": {
    "ExecuteTime": {
     "end_time": "2023-05-29T16:09:47.435328Z",
     "start_time": "2023-05-29T16:09:47.418343Z"
    }
   },
   "outputs": [],
   "source": [
    "df2 = df2.dropna()"
   ]
  },
  {
   "cell_type": "code",
   "execution_count": 85,
   "id": "089590f2",
   "metadata": {
    "ExecuteTime": {
     "end_time": "2023-05-29T16:09:48.540285Z",
     "start_time": "2023-05-29T16:09:48.521924Z"
    }
   },
   "outputs": [],
   "source": [
    "df2 = df2.sort_values(by='data')"
   ]
  },
  {
   "cell_type": "code",
   "execution_count": 86,
   "id": "c08962ff",
   "metadata": {
    "ExecuteTime": {
     "end_time": "2023-05-29T16:09:50.147881Z",
     "start_time": "2023-05-29T16:09:50.133097Z"
    }
   },
   "outputs": [],
   "source": [
    "data_test = pd.to_datetime('2023-05-19')\n",
    "X_test = df2.loc[df2['data'] > data_test,:]\n",
    "X_train = df2.loc[df2['data'] <= data_test,:]"
   ]
  },
  {
   "cell_type": "code",
   "execution_count": 87,
   "id": "1f3459e1",
   "metadata": {
    "ExecuteTime": {
     "end_time": "2023-05-29T16:09:53.975049Z",
     "start_time": "2023-05-29T16:09:53.943280Z"
    }
   },
   "outputs": [],
   "source": [
    "X_test.to_csv('X_test.csv', index=False)\n",
    "X_train.to_csv('X_train.csv', index=False)"
   ]
  },
  {
   "cell_type": "markdown",
   "id": "57a6d96d",
   "metadata": {},
   "source": [
    "# 3.0 EDA"
   ]
  },
  {
   "cell_type": "code",
   "execution_count": 132,
   "id": "58113e6d",
   "metadata": {
    "ExecuteTime": {
     "end_time": "2023-05-23T17:42:02.832794Z",
     "start_time": "2023-05-23T17:42:02.817808Z"
    }
   },
   "outputs": [],
   "source": [
    "df3 = df2.copy()"
   ]
  },
  {
   "cell_type": "code",
   "execution_count": 133,
   "id": "24763265",
   "metadata": {
    "ExecuteTime": {
     "end_time": "2023-05-23T17:42:02.848204Z",
     "start_time": "2023-05-23T17:42:02.833869Z"
    }
   },
   "outputs": [],
   "source": [
    "numerical_attributes = df3.select_dtypes(include=['float64','datetime64[ns]'])"
   ]
  },
  {
   "cell_type": "code",
   "execution_count": 134,
   "id": "54bdb7cc",
   "metadata": {
    "ExecuteTime": {
     "end_time": "2023-05-23T17:42:05.853446Z",
     "start_time": "2023-05-23T17:42:02.849290Z"
    }
   },
   "outputs": [],
   "source": [
    "stats = numerical_attributes.agg(['min','max', lambda x: max(x)-min(x),'mean','std','skew', 'kurtosis']).T"
   ]
  },
  {
   "cell_type": "code",
   "execution_count": 135,
   "id": "1824e20f",
   "metadata": {
    "ExecuteTime": {
     "end_time": "2023-05-23T17:42:05.869430Z",
     "start_time": "2023-05-23T17:42:05.854475Z"
    }
   },
   "outputs": [
    {
     "data": {
      "text/html": [
       "<div>\n",
       "<style scoped>\n",
       "    .dataframe tbody tr th:only-of-type {\n",
       "        vertical-align: middle;\n",
       "    }\n",
       "\n",
       "    .dataframe tbody tr th {\n",
       "        vertical-align: top;\n",
       "    }\n",
       "\n",
       "    .dataframe thead th {\n",
       "        text-align: right;\n",
       "    }\n",
       "</style>\n",
       "<table border=\"1\" class=\"dataframe\">\n",
       "  <thead>\n",
       "    <tr style=\"text-align: right;\">\n",
       "      <th></th>\n",
       "      <th>min</th>\n",
       "      <th>max</th>\n",
       "      <th>&lt;lambda&gt;</th>\n",
       "      <th>mean</th>\n",
       "      <th>std</th>\n",
       "      <th>skew</th>\n",
       "      <th>kurtosis</th>\n",
       "    </tr>\n",
       "  </thead>\n",
       "  <tbody>\n",
       "    <tr>\n",
       "      <th>data</th>\n",
       "      <td>2023-01-06 00:00:00</td>\n",
       "      <td>2023-05-19 00:00:00</td>\n",
       "      <td>133 days 00:00:00</td>\n",
       "      <td>2023-03-13 06:49:56.531791872</td>\n",
       "      <td>39 days 01:59:03.450908081</td>\n",
       "      <td>NaN</td>\n",
       "      <td>NaN</td>\n",
       "    </tr>\n",
       "    <tr>\n",
       "      <th>hora</th>\n",
       "      <td>1900-01-01 16:00:00</td>\n",
       "      <td>1900-01-01 17:50:00</td>\n",
       "      <td>0 days 01:50:00</td>\n",
       "      <td>1900-01-01 16:54:51.618497280</td>\n",
       "      <td>0 days 00:33:12.897528707</td>\n",
       "      <td>NaN</td>\n",
       "      <td>NaN</td>\n",
       "    </tr>\n",
       "    <tr>\n",
       "      <th>maximo</th>\n",
       "      <td>20.24</td>\n",
       "      <td>26.6</td>\n",
       "      <td>6.36</td>\n",
       "      <td>22.899995</td>\n",
       "      <td>1.400882</td>\n",
       "      <td>0.284141</td>\n",
       "      <td>-0.224456</td>\n",
       "    </tr>\n",
       "    <tr>\n",
       "      <th>minimo</th>\n",
       "      <td>20.14</td>\n",
       "      <td>26.53</td>\n",
       "      <td>6.39</td>\n",
       "      <td>22.839769</td>\n",
       "      <td>1.397842</td>\n",
       "      <td>0.281944</td>\n",
       "      <td>-0.235219</td>\n",
       "    </tr>\n",
       "    <tr>\n",
       "      <th>volume</th>\n",
       "      <td>1339742.0</td>\n",
       "      <td>926735952.0</td>\n",
       "      <td>925396210.0</td>\n",
       "      <td>23100857.407033</td>\n",
       "      <td>41069722.944316</td>\n",
       "      <td>8.837302</td>\n",
       "      <td>137.947333</td>\n",
       "    </tr>\n",
       "    <tr>\n",
       "      <th>quantidade</th>\n",
       "      <td>55300.0</td>\n",
       "      <td>39435100.0</td>\n",
       "      <td>39379800.0</td>\n",
       "      <td>917241.425819</td>\n",
       "      <td>1643637.131152</td>\n",
       "      <td>9.594356</td>\n",
       "      <td>167.012159</td>\n",
       "    </tr>\n",
       "    <tr>\n",
       "      <th>variacao</th>\n",
       "      <td>-0.016178</td>\n",
       "      <td>0.013732</td>\n",
       "      <td>0.02991</td>\n",
       "      <td>-0.000014</td>\n",
       "      <td>0.001784</td>\n",
       "      <td>0.007266</td>\n",
       "      <td>7.72577</td>\n",
       "    </tr>\n",
       "    <tr>\n",
       "      <th>variacao_win</th>\n",
       "      <td>-0.007396</td>\n",
       "      <td>0.005519</td>\n",
       "      <td>0.012915</td>\n",
       "      <td>-0.000002</td>\n",
       "      <td>0.00092</td>\n",
       "      <td>-0.01544</td>\n",
       "      <td>5.160853</td>\n",
       "    </tr>\n",
       "  </tbody>\n",
       "</table>\n",
       "</div>"
      ],
      "text/plain": [
       "                              min                  max           <lambda>  \\\n",
       "data          2023-01-06 00:00:00  2023-05-19 00:00:00  133 days 00:00:00   \n",
       "hora          1900-01-01 16:00:00  1900-01-01 17:50:00    0 days 01:50:00   \n",
       "maximo                      20.24                 26.6               6.36   \n",
       "minimo                      20.14                26.53               6.39   \n",
       "volume                  1339742.0          926735952.0        925396210.0   \n",
       "quantidade                55300.0           39435100.0         39379800.0   \n",
       "variacao                -0.016178             0.013732            0.02991   \n",
       "variacao_win            -0.007396             0.005519           0.012915   \n",
       "\n",
       "                                       mean                         std  \\\n",
       "data          2023-03-13 06:49:56.531791872  39 days 01:59:03.450908081   \n",
       "hora          1900-01-01 16:54:51.618497280   0 days 00:33:12.897528707   \n",
       "maximo                            22.899995                    1.400882   \n",
       "minimo                            22.839769                    1.397842   \n",
       "volume                      23100857.407033             41069722.944316   \n",
       "quantidade                    917241.425819              1643637.131152   \n",
       "variacao                          -0.000014                    0.001784   \n",
       "variacao_win                      -0.000002                     0.00092   \n",
       "\n",
       "                  skew    kurtosis  \n",
       "data               NaN         NaN  \n",
       "hora               NaN         NaN  \n",
       "maximo        0.284141   -0.224456  \n",
       "minimo        0.281944   -0.235219  \n",
       "volume        8.837302  137.947333  \n",
       "quantidade    9.594356  167.012159  \n",
       "variacao      0.007266     7.72577  \n",
       "variacao_win  -0.01544    5.160853  "
      ]
     },
     "execution_count": 135,
     "metadata": {},
     "output_type": "execute_result"
    }
   ],
   "source": [
    "stats"
   ]
  },
  {
   "cell_type": "code",
   "execution_count": 136,
   "id": "a3de91be",
   "metadata": {
    "ExecuteTime": {
     "end_time": "2023-05-23T17:42:07.398466Z",
     "start_time": "2023-05-23T17:42:05.870477Z"
    }
   },
   "outputs": [
    {
     "data": {
      "image/png": "[encoded data removed]",
      "text/plain": [
       "<Figure size 2000x1000 with 9 Axes>"
      ]
     },
     "metadata": {},
     "output_type": "display_data"
    }
   ],
   "source": [
    "fig = plt.figure(figsize=(20,10))\n",
    "ax = fig.gca()\n",
    "numerical_attributes.hist(ax = ax, bins=25);"
   ]
  },
  {
   "cell_type": "code",
   "execution_count": 137,
   "id": "1874813f",
   "metadata": {
    "ExecuteTime": {
     "end_time": "2023-05-23T17:42:07.728350Z",
     "start_time": "2023-05-23T17:42:07.400604Z"
    }
   },
   "outputs": [
    {
     "data": {
      "text/plain": [
       "<Axes: >"
      ]
     },
     "execution_count": 137,
     "metadata": {},
     "output_type": "execute_result"
    },
    {
     "data": {
      "image/png": "[encoded data removed]",
      "text/plain": [
       "<Figure size 640x480 with 2 Axes>"
      ]
     },
     "metadata": {},
     "output_type": "display_data"
    }
   ],
   "source": [
    "sns.heatmap(numerical_attributes.corr(method='pearson'), annot=True)"
   ]
  },
  {
   "cell_type": "markdown",
   "id": "72971f20",
   "metadata": {},
   "source": [
    "# 4.0 Data Preparation"
   ]
  },
  {
   "cell_type": "code",
   "execution_count": 138,
   "id": "72b922a6",
   "metadata": {
    "ExecuteTime": {
     "end_time": "2023-05-23T17:42:07.743923Z",
     "start_time": "2023-05-23T17:42:07.729515Z"
    }
   },
   "outputs": [],
   "source": [
    "df4 = df3.copy()"
   ]
  },
  {
   "cell_type": "code",
   "execution_count": 139,
   "id": "25b093c8",
   "metadata": {
    "ExecuteTime": {
     "end_time": "2023-05-23T17:42:07.759327Z",
     "start_time": "2023-05-23T17:42:07.745427Z"
    }
   },
   "outputs": [
    {
     "data": {
      "text/html": [
       "<div>\n",
       "<style scoped>\n",
       "    .dataframe tbody tr th:only-of-type {\n",
       "        vertical-align: middle;\n",
       "    }\n",
       "\n",
       "    .dataframe tbody tr th {\n",
       "        vertical-align: top;\n",
       "    }\n",
       "\n",
       "    .dataframe thead th {\n",
       "        text-align: right;\n",
       "    }\n",
       "</style>\n",
       "<table border=\"1\" class=\"dataframe\">\n",
       "  <thead>\n",
       "    <tr style=\"text-align: right;\">\n",
       "      <th></th>\n",
       "      <th>ativo</th>\n",
       "      <th>data</th>\n",
       "      <th>hora</th>\n",
       "      <th>maximo</th>\n",
       "      <th>minimo</th>\n",
       "      <th>volume</th>\n",
       "      <th>quantidade</th>\n",
       "      <th>variacao</th>\n",
       "      <th>variacao_win</th>\n",
       "    </tr>\n",
       "  </thead>\n",
       "  <tbody>\n",
       "    <tr>\n",
       "      <th>0</th>\n",
       "      <td>PETR4</td>\n",
       "      <td>2023-05-19</td>\n",
       "      <td>1900-01-01 17:50:00</td>\n",
       "      <td>25.94</td>\n",
       "      <td>25.87</td>\n",
       "      <td>497227027.0</td>\n",
       "      <td>19183700.0</td>\n",
       "      <td>0.001933</td>\n",
       "      <td>-0.000313</td>\n",
       "    </tr>\n",
       "    <tr>\n",
       "      <th>1</th>\n",
       "      <td>PETR4</td>\n",
       "      <td>2023-05-19</td>\n",
       "      <td>1900-01-01 17:45:00</td>\n",
       "      <td>25.92</td>\n",
       "      <td>25.82</td>\n",
       "      <td>33582703.0</td>\n",
       "      <td>1298000.0</td>\n",
       "      <td>0.000774</td>\n",
       "      <td>0.000269</td>\n",
       "    </tr>\n",
       "    <tr>\n",
       "      <th>2</th>\n",
       "      <td>PETR4</td>\n",
       "      <td>2023-05-19</td>\n",
       "      <td>1900-01-01 17:40:00</td>\n",
       "      <td>25.87</td>\n",
       "      <td>25.79</td>\n",
       "      <td>24891664.0</td>\n",
       "      <td>963900.0</td>\n",
       "      <td>0.000387</td>\n",
       "      <td>0.000807</td>\n",
       "    </tr>\n",
       "    <tr>\n",
       "      <th>3</th>\n",
       "      <td>PETR4</td>\n",
       "      <td>2023-05-19</td>\n",
       "      <td>1900-01-01 17:35:00</td>\n",
       "      <td>25.82</td>\n",
       "      <td>25.75</td>\n",
       "      <td>18727949.0</td>\n",
       "      <td>726200.0</td>\n",
       "      <td>0.001552</td>\n",
       "      <td>0.000673</td>\n",
       "    </tr>\n",
       "    <tr>\n",
       "      <th>4</th>\n",
       "      <td>PETR4</td>\n",
       "      <td>2023-05-19</td>\n",
       "      <td>1900-01-01 17:30:00</td>\n",
       "      <td>25.79</td>\n",
       "      <td>25.71</td>\n",
       "      <td>12525794.0</td>\n",
       "      <td>486400.0</td>\n",
       "      <td>0.001554</td>\n",
       "      <td>0.000404</td>\n",
       "    </tr>\n",
       "  </tbody>\n",
       "</table>\n",
       "</div>"
      ],
      "text/plain": [
       "   ativo       data                hora  maximo  minimo       volume  \\\n",
       "0  PETR4 2023-05-19 1900-01-01 17:50:00   25.94   25.87  497227027.0   \n",
       "1  PETR4 2023-05-19 1900-01-01 17:45:00   25.92   25.82   33582703.0   \n",
       "2  PETR4 2023-05-19 1900-01-01 17:40:00   25.87   25.79   24891664.0   \n",
       "3  PETR4 2023-05-19 1900-01-01 17:35:00   25.82   25.75   18727949.0   \n",
       "4  PETR4 2023-05-19 1900-01-01 17:30:00   25.79   25.71   12525794.0   \n",
       "\n",
       "   quantidade  variacao  variacao_win  \n",
       "0  19183700.0  0.001933     -0.000313  \n",
       "1   1298000.0  0.000774      0.000269  \n",
       "2    963900.0  0.000387      0.000807  \n",
       "3    726200.0  0.001552      0.000673  \n",
       "4    486400.0  0.001554      0.000404  "
      ]
     },
     "execution_count": 139,
     "metadata": {},
     "output_type": "execute_result"
    }
   ],
   "source": [
    "df4.head()"
   ]
  },
  {
   "cell_type": "markdown",
   "id": "b4320812",
   "metadata": {},
   "source": [
    "## 4.1 Rescalling "
   ]
  },
  {
   "cell_type": "code",
   "execution_count": 140,
   "id": "d5ccba4e",
   "metadata": {
    "ExecuteTime": {
     "end_time": "2023-05-23T17:42:07.806142Z",
     "start_time": "2023-05-23T17:42:07.760352Z"
    }
   },
   "outputs": [],
   "source": [
    "ss = StandardScaler()\n",
    "mms = MinMaxScaler()\n",
    "\n",
    "#Poisson -> abertura, maximo, minimo fechamento Usar \n",
    "df4['maximo'] = mms.fit_transform(df4['maximo'].values.reshape(-1,1))\n",
    "df4['minimo'] = mms.fit_transform(df4['minimo'].values.reshape(-1,1))\n",
    "df4['volume'] = mms.fit_transform(df4['volume'].values.reshape(-1,1))\n",
    "df4['quantidade'] = mms.fit_transform(df4['quantidade'].values.reshape(-1,1))\n",
    "df4['variacao'] = mms.fit_transform(df4['variacao'].values.reshape(-1,1))\n",
    "df4['variacao_win'] = mms.fit_transform(df4['variacao_win'].values.reshape(-1,1))"
   ]
  },
  {
   "cell_type": "code",
   "execution_count": 141,
   "id": "c12d27d4",
   "metadata": {
    "ExecuteTime": {
     "end_time": "2023-05-23T17:42:07.822089Z",
     "start_time": "2023-05-23T17:42:07.807201Z"
    }
   },
   "outputs": [],
   "source": [
    "numerical_attributes_transformed = df4.select_dtypes(include='float64')"
   ]
  },
  {
   "cell_type": "code",
   "execution_count": 142,
   "id": "0dc3ba51",
   "metadata": {
    "ExecuteTime": {
     "end_time": "2023-05-23T17:42:09.086576Z",
     "start_time": "2023-05-23T17:42:07.826914Z"
    }
   },
   "outputs": [
    {
     "data": {
      "image/png": "[encoded data removed]",
      "text/plain": [
       "<Figure size 2000x1000 with 6 Axes>"
      ]
     },
     "metadata": {},
     "output_type": "display_data"
    }
   ],
   "source": [
    "fig = plt.figure(figsize=(20,10))\n",
    "ax = fig.gca()\n",
    "numerical_attributes_transformed.hist(ax = ax, bins=25);"
   ]
  },
  {
   "cell_type": "markdown",
   "id": "72796b2d",
   "metadata": {},
   "source": [
    "## 4.2 Nature Transformation"
   ]
  },
  {
   "cell_type": "code",
   "execution_count": 143,
   "id": "8b3e034d",
   "metadata": {
    "ExecuteTime": {
     "end_time": "2023-05-23T17:42:12.618330Z",
     "start_time": "2023-05-23T17:42:09.088652Z"
    }
   },
   "outputs": [],
   "source": [
    "df4['data_sin'] = df4['data'].apply(lambda x: np.sin((x.day * (2. * np.pi/21)) + (x.month * (2. * np.pi/12))))\n",
    "df4['data_cos'] = df4['data'].apply(lambda x: np.cos((x.day * (2. * np.pi/21)) + (x.month * (2. * np.pi/12))))\n",
    "\n",
    "df4['hora_sin'] = df4['hora'].apply(lambda x: np.sin((x.hour * (2. * np.pi/24)) + (x.minute * (2.*np.pi/60))))\n",
    "df4['hora_cos'] = df4['hora'].apply(lambda x: np.cos((x.hour * (2. * np.pi/24)) + (x.minute * (2.*np.pi/60))))\n"
   ]
  },
  {
   "cell_type": "markdown",
   "id": "2b0e3dc0",
   "metadata": {},
   "source": [
    "## 4.3 Encoding"
   ]
  },
  {
   "cell_type": "code",
   "execution_count": 144,
   "id": "4b6a7158",
   "metadata": {
    "ExecuteTime": {
     "end_time": "2023-05-23T17:42:12.649054Z",
     "start_time": "2023-05-23T17:42:12.619376Z"
    }
   },
   "outputs": [],
   "source": [
    "#Frequency encoding no ativo\n",
    "fe_ativo = df4['ativo'].value_counts(normalize=True)\n",
    "df4['ativo'] = df4['ativo'].map(fe_ativo)"
   ]
  },
  {
   "cell_type": "markdown",
   "id": "6a7379f4",
   "metadata": {},
   "source": [
    "## 4.4 Split train Validation"
   ]
  },
  {
   "cell_type": "code",
   "execution_count": 145,
   "id": "6f7ceeb9",
   "metadata": {
    "ExecuteTime": {
     "end_time": "2023-05-23T17:42:12.696313Z",
     "start_time": "2023-05-23T17:42:12.650110Z"
    }
   },
   "outputs": [],
   "source": [
    "X = df4.drop('variacao', axis=1).copy()\n",
    "y = df4['variacao']"
   ]
  },
  {
   "cell_type": "code",
   "execution_count": 146,
   "id": "e1ccda2b",
   "metadata": {
    "ExecuteTime": {
     "end_time": "2023-05-23T17:42:12.758483Z",
     "start_time": "2023-05-23T17:42:12.697388Z"
    }
   },
   "outputs": [],
   "source": [
    "X_train, X_val, y_train, y_val = ms.train_test_split(X, y, test_size=0.2, random_state=0)"
   ]
  },
  {
   "cell_type": "markdown",
   "id": "fe1fdf17",
   "metadata": {
    "heading_collapsed": true
   },
   "source": [
    "# 5.0 Feature Selection"
   ]
  },
  {
   "cell_type": "markdown",
   "id": "1d7c3315",
   "metadata": {
    "hidden": true
   },
   "source": [
    "## 5.1 Boruta"
   ]
  },
  {
   "cell_type": "code",
   "execution_count": 147,
   "id": "3d5d748a",
   "metadata": {
    "ExecuteTime": {
     "end_time": "2023-05-23T17:42:12.774168Z",
     "start_time": "2023-05-23T17:42:12.760535Z"
    },
    "hidden": true
   },
   "outputs": [],
   "source": [
    "#Retirar datetime para usra no boruta\n",
    "x_train_boruta = X_train.drop(columns=(['data','hora'])).copy()"
   ]
  },
  {
   "cell_type": "code",
   "execution_count": 148,
   "id": "b8a060ab",
   "metadata": {
    "ExecuteTime": {
     "end_time": "2023-05-23T17:42:12.789713Z",
     "start_time": "2023-05-23T17:42:12.775169Z"
    },
    "hidden": true
   },
   "outputs": [],
   "source": [
    "rf = en.RandomForestRegressor(n_jobs=-1)"
   ]
  },
  {
   "cell_type": "code",
   "execution_count": 149,
   "id": "ff1cb7ec",
   "metadata": {
    "ExecuteTime": {
     "end_time": "2023-05-23T17:55:09.604873Z",
     "start_time": "2023-05-23T17:42:12.790755Z"
    },
    "hidden": true
   },
   "outputs": [
    {
     "name": "stdout",
     "output_type": "stream",
     "text": [
      "Iteration: \t1 / 100\n",
      "Confirmed: \t0\n",
      "Tentative: \t10\n",
      "Rejected: \t0\n",
      "Iteration: \t2 / 100\n",
      "Confirmed: \t0\n",
      "Tentative: \t10\n",
      "Rejected: \t0\n",
      "Iteration: \t3 / 100\n",
      "Confirmed: \t0\n",
      "Tentative: \t10\n",
      "Rejected: \t0\n",
      "Iteration: \t4 / 100\n",
      "Confirmed: \t0\n",
      "Tentative: \t10\n",
      "Rejected: \t0\n",
      "Iteration: \t5 / 100\n",
      "Confirmed: \t0\n",
      "Tentative: \t10\n",
      "Rejected: \t0\n",
      "Iteration: \t6 / 100\n",
      "Confirmed: \t0\n",
      "Tentative: \t10\n",
      "Rejected: \t0\n",
      "Iteration: \t7 / 100\n",
      "Confirmed: \t0\n",
      "Tentative: \t10\n",
      "Rejected: \t0\n",
      "Iteration: \t8 / 100\n",
      "Confirmed: \t3\n",
      "Tentative: \t0\n",
      "Rejected: \t7\n",
      "\n",
      "\n",
      "BorutaPy finished running.\n",
      "\n",
      "Iteration: \t9 / 100\n",
      "Confirmed: \t3\n",
      "Tentative: \t0\n",
      "Rejected: \t7\n"
     ]
    }
   ],
   "source": [
    "x_train_n = x_train_boruta.values\n",
    "y_train_n = y_train.values\n",
    "boruta = BorutaPy(rf, n_estimators='auto', verbose=2, random_state=42).fit(x_train_n, y_train_n)"
   ]
  },
  {
   "cell_type": "code",
   "execution_count": 150,
   "id": "c5bee309",
   "metadata": {
    "ExecuteTime": {
     "end_time": "2023-05-23T18:08:23.177562Z",
     "start_time": "2023-05-23T18:08:23.168590Z"
    },
    "hidden": true
   },
   "outputs": [],
   "source": [
    "cols_boruta = boruta.support_.tolist()"
   ]
  },
  {
   "cell_type": "code",
   "execution_count": 151,
   "id": "88614af2",
   "metadata": {
    "ExecuteTime": {
     "end_time": "2023-05-23T18:09:10.665079Z",
     "start_time": "2023-05-23T18:09:10.648361Z"
    },
    "hidden": true
   },
   "outputs": [],
   "source": [
    "x_train_selected_boruta = x_train_boruta.loc[:,cols_boruta].columns.tolist()"
   ]
  },
  {
   "cell_type": "code",
   "execution_count": 152,
   "id": "e5343409",
   "metadata": {
    "ExecuteTime": {
     "end_time": "2023-05-23T18:09:16.478778Z",
     "start_time": "2023-05-23T18:09:16.460880Z"
    },
    "hidden": true
   },
   "outputs": [
    {
     "data": {
      "text/plain": [
       "['volume', 'quantidade', 'variacao_win']"
      ]
     },
     "execution_count": 152,
     "metadata": {},
     "output_type": "execute_result"
    }
   ],
   "source": [
    "x_train_selected_boruta"
   ]
  },
  {
   "cell_type": "markdown",
   "id": "33aec694",
   "metadata": {
    "heading_collapsed": true,
    "hidden": true
   },
   "source": [
    "## 5.2 Extratree Regressor"
   ]
  },
  {
   "cell_type": "code",
   "execution_count": 153,
   "id": "b451279c",
   "metadata": {
    "ExecuteTime": {
     "end_time": "2023-05-23T17:57:17.019462Z",
     "start_time": "2023-05-23T17:57:17.009095Z"
    },
    "hidden": true
   },
   "outputs": [],
   "source": [
    "et = en.RandomForestRegressor(n_jobs=-1)"
   ]
  },
  {
   "cell_type": "code",
   "execution_count": 154,
   "id": "e48910c5",
   "metadata": {
    "ExecuteTime": {
     "end_time": "2023-05-23T17:58:35.822784Z",
     "start_time": "2023-05-23T17:57:17.507900Z"
    },
    "hidden": true
   },
   "outputs": [
    {
     "data": {
      "text/html": [
       "<style>#sk-container-id-2 {color: black;background-color: white;}#sk-container-id-2 pre{padding: 0;}#sk-container-id-2 div.sk-toggleable {background-color: white;}#sk-container-id-2 label.sk-toggleable__label {cursor: pointer;display: block;width: 100%;margin-bottom: 0;padding: 0.3em;box-sizing: border-box;text-align: center;}#sk-container-id-2 label.sk-toggleable__label-arrow:before {content: \"▸\";float: left;margin-right: 0.25em;color: #696969;}#sk-container-id-2 label.sk-toggleable__label-arrow:hover:before {color: black;}#sk-container-id-2 div.sk-estimator:hover label.sk-toggleable__label-arrow:before {color: black;}#sk-container-id-2 div.sk-toggleable__content {max-height: 0;max-width: 0;overflow: hidden;text-align: left;background-color: #f0f8ff;}#sk-container-id-2 div.sk-toggleable__content pre {margin: 0.2em;color: black;border-radius: 0.25em;background-color: #f0f8ff;}#sk-container-id-2 input.sk-toggleable__control:checked~div.sk-toggleable__content {max-height: 200px;max-width: 100%;overflow: auto;}#sk-container-id-2 input.sk-toggleable__control:checked~label.sk-toggleable__label-arrow:before {content: \"▾\";}#sk-container-id-2 div.sk-estimator input.sk-toggleable__control:checked~label.sk-toggleable__label {background-color: #d4ebff;}#sk-container-id-2 div.sk-label input.sk-toggleable__control:checked~label.sk-toggleable__label {background-color: #d4ebff;}#sk-container-id-2 input.sk-hidden--visually {border: 0;clip: rect(1px 1px 1px 1px);clip: rect(1px, 1px, 1px, 1px);height: 1px;margin: -1px;overflow: hidden;padding: 0;position: absolute;width: 1px;}#sk-container-id-2 div.sk-estimator {font-family: monospace;background-color: #f0f8ff;border: 1px dotted black;border-radius: 0.25em;box-sizing: border-box;margin-bottom: 0.5em;}#sk-container-id-2 div.sk-estimator:hover {background-color: #d4ebff;}#sk-container-id-2 div.sk-parallel-item::after {content: \"\";width: 100%;border-bottom: 1px solid gray;flex-grow: 1;}#sk-container-id-2 div.sk-label:hover label.sk-toggleable__label {background-color: #d4ebff;}#sk-container-id-2 div.sk-serial::before {content: \"\";position: absolute;border-left: 1px solid gray;box-sizing: border-box;top: 0;bottom: 0;left: 50%;z-index: 0;}#sk-container-id-2 div.sk-serial {display: flex;flex-direction: column;align-items: center;background-color: white;padding-right: 0.2em;padding-left: 0.2em;position: relative;}#sk-container-id-2 div.sk-item {position: relative;z-index: 1;}#sk-container-id-2 div.sk-parallel {display: flex;align-items: stretch;justify-content: center;background-color: white;position: relative;}#sk-container-id-2 div.sk-item::before, #sk-container-id-2 div.sk-parallel-item::before {content: \"\";position: absolute;border-left: 1px solid gray;box-sizing: border-box;top: 0;bottom: 0;left: 50%;z-index: -1;}#sk-container-id-2 div.sk-parallel-item {display: flex;flex-direction: column;z-index: 1;position: relative;background-color: white;}#sk-container-id-2 div.sk-parallel-item:first-child::after {align-self: flex-end;width: 50%;}#sk-container-id-2 div.sk-parallel-item:last-child::after {align-self: flex-start;width: 50%;}#sk-container-id-2 div.sk-parallel-item:only-child::after {width: 0;}#sk-container-id-2 div.sk-dashed-wrapped {border: 1px dashed gray;margin: 0 0.4em 0.5em 0.4em;box-sizing: border-box;padding-bottom: 0.4em;background-color: white;}#sk-container-id-2 div.sk-label label {font-family: monospace;font-weight: bold;display: inline-block;line-height: 1.2em;}#sk-container-id-2 div.sk-label-container {text-align: center;}#sk-container-id-2 div.sk-container {/* jupyter's `normalize.less` sets `[hidden] { display: none; }` but bootstrap.min.css set `[hidden] { display: none !important; }` so we also need the `!important` here to be able to override the default hidden behavior on the sphinx rendered scikit-learn.org. See: https://github.com/scikit-learn/scikit-learn/issues/21755 */display: inline-block !important;position: relative;}#sk-container-id-2 div.sk-text-repr-fallback {display: none;}</style><div id=\"sk-container-id-2\" class=\"sk-top-container\"><div class=\"sk-text-repr-fallback\"><pre>RandomForestRegressor(n_jobs=-1)</pre><b>In a Jupyter environment, please rerun this cell to show the HTML representation or trust the notebook. <br />On GitHub, the HTML representation is unable to render, please try loading this page with nbviewer.org.</b></div><div class=\"sk-container\" hidden><div class=\"sk-item\"><div class=\"sk-estimator sk-toggleable\"><input class=\"sk-toggleable__control sk-hidden--visually\" id=\"sk-estimator-id-2\" type=\"checkbox\" checked><label for=\"sk-estimator-id-2\" class=\"sk-toggleable__label sk-toggleable__label-arrow\">RandomForestRegressor</label><div class=\"sk-toggleable__content\"><pre>RandomForestRegressor(n_jobs=-1)</pre></div></div></div></div></div>"
      ],
      "text/plain": [
       "RandomForestRegressor(n_jobs=-1)"
      ]
     },
     "execution_count": 154,
     "metadata": {},
     "output_type": "execute_result"
    }
   ],
   "source": [
    "et.fit(x_train_n, y_train_n)"
   ]
  },
  {
   "cell_type": "code",
   "execution_count": 155,
   "id": "6413fdfe",
   "metadata": {
    "ExecuteTime": {
     "end_time": "2023-05-23T18:13:30.712321Z",
     "start_time": "2023-05-23T18:13:30.646980Z"
    },
    "hidden": true
   },
   "outputs": [
    {
     "data": {
      "text/html": [
       "<div>\n",
       "<style scoped>\n",
       "    .dataframe tbody tr th:only-of-type {\n",
       "        vertical-align: middle;\n",
       "    }\n",
       "\n",
       "    .dataframe tbody tr th {\n",
       "        vertical-align: top;\n",
       "    }\n",
       "\n",
       "    .dataframe thead th {\n",
       "        text-align: right;\n",
       "    }\n",
       "</style>\n",
       "<table border=\"1\" class=\"dataframe\">\n",
       "  <thead>\n",
       "    <tr style=\"text-align: right;\">\n",
       "      <th></th>\n",
       "      <th>Features</th>\n",
       "      <th>Ranking</th>\n",
       "    </tr>\n",
       "  </thead>\n",
       "  <tbody>\n",
       "    <tr>\n",
       "      <th>5</th>\n",
       "      <td>variacao_win</td>\n",
       "      <td>0.482872</td>\n",
       "    </tr>\n",
       "    <tr>\n",
       "      <th>4</th>\n",
       "      <td>quantidade</td>\n",
       "      <td>0.114056</td>\n",
       "    </tr>\n",
       "    <tr>\n",
       "      <th>3</th>\n",
       "      <td>volume</td>\n",
       "      <td>0.112024</td>\n",
       "    </tr>\n",
       "    <tr>\n",
       "      <th>7</th>\n",
       "      <td>data_cos</td>\n",
       "      <td>0.060873</td>\n",
       "    </tr>\n",
       "    <tr>\n",
       "      <th>2</th>\n",
       "      <td>minimo</td>\n",
       "      <td>0.049812</td>\n",
       "    </tr>\n",
       "    <tr>\n",
       "      <th>6</th>\n",
       "      <td>data_sin</td>\n",
       "      <td>0.048996</td>\n",
       "    </tr>\n",
       "    <tr>\n",
       "      <th>1</th>\n",
       "      <td>maximo</td>\n",
       "      <td>0.046170</td>\n",
       "    </tr>\n",
       "    <tr>\n",
       "      <th>8</th>\n",
       "      <td>hora_sin</td>\n",
       "      <td>0.044452</td>\n",
       "    </tr>\n",
       "    <tr>\n",
       "      <th>9</th>\n",
       "      <td>hora_cos</td>\n",
       "      <td>0.040744</td>\n",
       "    </tr>\n",
       "    <tr>\n",
       "      <th>0</th>\n",
       "      <td>ativo</td>\n",
       "      <td>0.000000</td>\n",
       "    </tr>\n",
       "  </tbody>\n",
       "</table>\n",
       "</div>"
      ],
      "text/plain": [
       "       Features   Ranking\n",
       "5  variacao_win  0.482872\n",
       "4    quantidade  0.114056\n",
       "3        volume  0.112024\n",
       "7      data_cos  0.060873\n",
       "2        minimo  0.049812\n",
       "6      data_sin  0.048996\n",
       "1        maximo  0.046170\n",
       "8      hora_sin  0.044452\n",
       "9      hora_cos  0.040744\n",
       "0         ativo  0.000000"
      ]
     },
     "execution_count": 155,
     "metadata": {},
     "output_type": "execute_result"
    }
   ],
   "source": [
    "importances = et.feature_importances_\n",
    "features = {}\n",
    "\n",
    "for i in range(len(x_train_boruta.columns)):\n",
    "    features[x_train_boruta.columns[i]] = importances[i]\n",
    "    \n",
    "features = pd.DataFrame(features, index=[0])    \n",
    "features = features.melt(var_name='Features', value_name='Ranking')\n",
    "features.sort_values(ascending=False, by='Ranking')"
   ]
  },
  {
   "cell_type": "code",
   "execution_count": 156,
   "id": "07bf66ee",
   "metadata": {
    "ExecuteTime": {
     "end_time": "2023-05-23T18:15:30.892129Z",
     "start_time": "2023-05-23T18:15:30.880537Z"
    },
    "hidden": true
   },
   "outputs": [],
   "source": [
    "cols_selected = {'volume','quantidade','variacao_win'}"
   ]
  },
  {
   "cell_type": "markdown",
   "id": "ec4b679e",
   "metadata": {},
   "source": [
    "# 6.0 Machine Learning"
   ]
  },
  {
   "cell_type": "code",
   "execution_count": 157,
   "id": "c738de1c",
   "metadata": {
    "ExecuteTime": {
     "end_time": "2023-05-23T19:23:36.480942Z",
     "start_time": "2023-05-23T19:23:36.453328Z"
    }
   },
   "outputs": [],
   "source": [
    "x_train = X_train.loc[:,cols_selected]\n",
    "x_val = X_val.loc[:,cols_selected]"
   ]
  },
  {
   "cell_type": "markdown",
   "id": "1c820269",
   "metadata": {
    "heading_collapsed": true
   },
   "source": [
    "## 6.1 Average Model"
   ]
  },
  {
   "cell_type": "code",
   "execution_count": 60,
   "id": "61f11879",
   "metadata": {
    "ExecuteTime": {
     "end_time": "2023-05-23T20:17:14.403111Z",
     "start_time": "2023-05-23T20:17:14.313752Z"
    },
    "hidden": true
   },
   "outputs": [],
   "source": [
    "aux1 = x_train.copy()\n",
    "aux1['ativo'] = X_train['ativo'].copy()\n",
    "aux1['variacao'] = y_train.copy()\n",
    "\n",
    "#prediction\n",
    "media_aux1 = aux1.loc[:,['ativo','variacao']].groupby('ativo').mean().reset_index().rename(columns={'variacao':'prediction'})\n",
    "aux1 = pd.merge(aux1, media_aux1, how='left', on='ativo')\n",
    "yhat_baseline = aux1['prediction']\n",
    "\n",
    "#performance\n",
    "metrics_avg = ml_error( 'Average Model', y_train, yhat_baseline )\n"
   ]
  },
  {
   "cell_type": "markdown",
   "id": "becbb37d",
   "metadata": {
    "heading_collapsed": true
   },
   "source": [
    "## 6.2 Linear Regression"
   ]
  },
  {
   "cell_type": "code",
   "execution_count": 61,
   "id": "b3cd5110",
   "metadata": {
    "ExecuteTime": {
     "end_time": "2023-05-23T20:17:16.460259Z",
     "start_time": "2023-05-23T20:17:16.399476Z"
    },
    "hidden": true
   },
   "outputs": [],
   "source": [
    "lr = LinearRegression()\n",
    "\n",
    "lr.fit(x_train, y_train)\n",
    "\n",
    "yhat_lr = lr.predict(x_val)"
   ]
  },
  {
   "cell_type": "code",
   "execution_count": 62,
   "id": "9754cb31",
   "metadata": {
    "ExecuteTime": {
     "end_time": "2023-05-23T20:17:20.923791Z",
     "start_time": "2023-05-23T20:17:20.908612Z"
    },
    "hidden": true
   },
   "outputs": [],
   "source": [
    "metrics_lr = ml_error('Linear Regression', y_val, yhat_lr)"
   ]
  },
  {
   "cell_type": "markdown",
   "id": "ecf7af04",
   "metadata": {
    "heading_collapsed": true
   },
   "source": [
    "## 6.3 Linear Regression LASSO"
   ]
  },
  {
   "cell_type": "code",
   "execution_count": 63,
   "id": "70af640b",
   "metadata": {
    "ExecuteTime": {
     "end_time": "2023-05-23T20:17:23.798241Z",
     "start_time": "2023-05-23T20:17:23.764145Z"
    },
    "hidden": true
   },
   "outputs": [],
   "source": [
    "lasso = Lasso(alpha=0.01)\n",
    "\n",
    "lasso.fit(x_train, y_train)\n",
    "\n",
    "yhat_lasso = lasso.predict(x_val)"
   ]
  },
  {
   "cell_type": "code",
   "execution_count": 64,
   "id": "27de9b45",
   "metadata": {
    "ExecuteTime": {
     "end_time": "2023-05-23T20:17:24.326125Z",
     "start_time": "2023-05-23T20:17:24.317430Z"
    },
    "hidden": true
   },
   "outputs": [],
   "source": [
    "metrics_lasso = ml_error('Lasso', y_val, yhat_lasso)"
   ]
  },
  {
   "cell_type": "markdown",
   "id": "d943c182",
   "metadata": {
    "heading_collapsed": true
   },
   "source": [
    "## 6.4 Random Forest"
   ]
  },
  {
   "cell_type": "code",
   "execution_count": 65,
   "id": "8266223d",
   "metadata": {
    "ExecuteTime": {
     "end_time": "2023-05-23T19:36:29.929234Z",
     "start_time": "2023-05-23T19:35:35.483547Z"
    },
    "hidden": true
   },
   "outputs": [],
   "source": [
    "rf = en.RandomForestRegressor(n_jobs=-1)\n",
    "\n",
    "rf.fit(x_train, y_train)\n",
    "\n",
    "yhat_rf = rf.predict(x_val)"
   ]
  },
  {
   "cell_type": "code",
   "execution_count": 66,
   "id": "b9b25c2c",
   "metadata": {
    "ExecuteTime": {
     "end_time": "2023-05-23T20:03:20.261003Z",
     "start_time": "2023-05-23T20:03:20.244958Z"
    },
    "hidden": true
   },
   "outputs": [],
   "source": [
    "metrics_rf = ml_error('Random Forest', y_val, yhat_rf )"
   ]
  },
  {
   "cell_type": "markdown",
   "id": "5c0c90e1",
   "metadata": {
    "heading_collapsed": true
   },
   "source": [
    "##  6.5 XGBoost"
   ]
  },
  {
   "cell_type": "code",
   "execution_count": 67,
   "id": "d614c0e8",
   "metadata": {
    "ExecuteTime": {
     "end_time": "2023-05-23T19:38:33.048241Z",
     "start_time": "2023-05-23T19:38:25.140074Z"
    },
    "hidden": true
   },
   "outputs": [],
   "source": [
    "xgb_model = xgb.XGBRegressor()\n",
    "\n",
    "xgb_model.fit(x_train, y_train)\n",
    "\n",
    "yhat_xgb = xgb_model.predict(x_val)\n"
   ]
  },
  {
   "cell_type": "code",
   "execution_count": 68,
   "id": "6954093b",
   "metadata": {
    "ExecuteTime": {
     "end_time": "2023-05-23T20:03:22.494708Z",
     "start_time": "2023-05-23T20:03:22.478929Z"
    },
    "hidden": true
   },
   "outputs": [],
   "source": [
    "metrics_xgb = ml_error('XGBoost', y_val, yhat_xgb)"
   ]
  },
  {
   "cell_type": "markdown",
   "id": "3a42f984",
   "metadata": {
    "heading_collapsed": true
   },
   "source": [
    "## 6.6 SVM"
   ]
  },
  {
   "cell_type": "code",
   "execution_count": 69,
   "id": "d723616c",
   "metadata": {
    "ExecuteTime": {
     "end_time": "2023-05-23T20:15:04.262601Z",
     "start_time": "2023-05-23T20:14:10.354070Z"
    },
    "hidden": true
   },
   "outputs": [],
   "source": [
    "model_svm = svm.LinearSVR()\n",
    "\n",
    "model_svm.fit(x_train, y_train)\n",
    "\n",
    "yhat_svm = model_svm.predict(x_val)"
   ]
  },
  {
   "cell_type": "code",
   "execution_count": 70,
   "id": "d1da859f",
   "metadata": {
    "ExecuteTime": {
     "end_time": "2023-05-23T20:15:07.706398Z",
     "start_time": "2023-05-23T20:15:07.688458Z"
    },
    "hidden": true
   },
   "outputs": [],
   "source": [
    "metrics_svm = ml_error('SVM', y_val, yhat_svm)"
   ]
  },
  {
   "cell_type": "markdown",
   "id": "f94e03ec",
   "metadata": {},
   "source": [
    "## 6.7 LSTM"
   ]
  },
  {
   "cell_type": "code",
   "execution_count": 158,
   "id": "2f2e2337",
   "metadata": {},
   "outputs": [],
   "source": [
    "scaled_data = x_train.copy()\n",
    "scaled_data['variacao'] = y_train.copy()"
   ]
  },
  {
   "cell_type": "code",
   "execution_count": 159,
   "id": "ad02b5e7",
   "metadata": {},
   "outputs": [],
   "source": [
    "scaled_training_data = scaled_data.values"
   ]
  },
  {
   "cell_type": "code",
   "execution_count": 180,
   "id": "b3515fbb",
   "metadata": {},
   "outputs": [
    {
     "data": {
      "text/html": [
       "<div>\n",
       "<style scoped>\n",
       "    .dataframe tbody tr th:only-of-type {\n",
       "        vertical-align: middle;\n",
       "    }\n",
       "\n",
       "    .dataframe tbody tr th {\n",
       "        vertical-align: top;\n",
       "    }\n",
       "\n",
       "    .dataframe thead th {\n",
       "        text-align: right;\n",
       "    }\n",
       "</style>\n",
       "<table border=\"1\" class=\"dataframe\">\n",
       "  <thead>\n",
       "    <tr style=\"text-align: right;\">\n",
       "      <th></th>\n",
       "      <th>volume</th>\n",
       "      <th>quantidade</th>\n",
       "      <th>variacao_win</th>\n",
       "      <th>variacao</th>\n",
       "    </tr>\n",
       "  </thead>\n",
       "  <tbody>\n",
       "    <tr>\n",
       "      <th>15</th>\n",
       "      <td>0.084356</td>\n",
       "      <td>0.076684</td>\n",
       "      <td>0.499944</td>\n",
       "      <td>0.515031</td>\n",
       "    </tr>\n",
       "    <tr>\n",
       "      <th>206</th>\n",
       "      <td>0.008283</td>\n",
       "      <td>0.007923</td>\n",
       "      <td>0.648397</td>\n",
       "      <td>0.581821</td>\n",
       "    </tr>\n",
       "    <tr>\n",
       "      <th>1129</th>\n",
       "      <td>0.003308</td>\n",
       "      <td>0.003019</td>\n",
       "      <td>0.550727</td>\n",
       "      <td>0.540899</td>\n",
       "    </tr>\n",
       "    <tr>\n",
       "      <th>1185</th>\n",
       "      <td>0.038930</td>\n",
       "      <td>0.035612</td>\n",
       "      <td>0.602294</td>\n",
       "      <td>0.599502</td>\n",
       "    </tr>\n",
       "    <tr>\n",
       "      <th>1788</th>\n",
       "      <td>0.041063</td>\n",
       "      <td>0.036051</td>\n",
       "      <td>0.633917</td>\n",
       "      <td>0.554970</td>\n",
       "    </tr>\n",
       "    <tr>\n",
       "      <th>...</th>\n",
       "      <td>...</td>\n",
       "      <td>...</td>\n",
       "      <td>...</td>\n",
       "      <td>...</td>\n",
       "    </tr>\n",
       "    <tr>\n",
       "      <th>1033</th>\n",
       "      <td>0.004946</td>\n",
       "      <td>0.004845</td>\n",
       "      <td>0.572682</td>\n",
       "      <td>0.525305</td>\n",
       "    </tr>\n",
       "    <tr>\n",
       "      <th>1731</th>\n",
       "      <td>0.132788</td>\n",
       "      <td>0.118965</td>\n",
       "      <td>0.568779</td>\n",
       "      <td>0.469490</td>\n",
       "    </tr>\n",
       "    <tr>\n",
       "      <th>763</th>\n",
       "      <td>0.010999</td>\n",
       "      <td>0.010861</td>\n",
       "      <td>0.613744</td>\n",
       "      <td>0.556625</td>\n",
       "    </tr>\n",
       "    <tr>\n",
       "      <th>835</th>\n",
       "      <td>0.004830</td>\n",
       "      <td>0.004954</td>\n",
       "      <td>0.623555</td>\n",
       "      <td>0.557073</td>\n",
       "    </tr>\n",
       "    <tr>\n",
       "      <th>1653</th>\n",
       "      <td>0.022234</td>\n",
       "      <td>0.020216</td>\n",
       "      <td>0.801249</td>\n",
       "      <td>0.599247</td>\n",
       "    </tr>\n",
       "  </tbody>\n",
       "</table>\n",
       "<p>1660 rows × 4 columns</p>\n",
       "</div>"
      ],
      "text/plain": [
       "        volume  quantidade  variacao_win  variacao\n",
       "15    0.084356    0.076684      0.499944  0.515031\n",
       "206   0.008283    0.007923      0.648397  0.581821\n",
       "1129  0.003308    0.003019      0.550727  0.540899\n",
       "1185  0.038930    0.035612      0.602294  0.599502\n",
       "1788  0.041063    0.036051      0.633917  0.554970\n",
       "...        ...         ...           ...       ...\n",
       "1033  0.004946    0.004845      0.572682  0.525305\n",
       "1731  0.132788    0.118965      0.568779  0.469490\n",
       "763   0.010999    0.010861      0.613744  0.556625\n",
       "835   0.004830    0.004954      0.623555  0.557073\n",
       "1653  0.022234    0.020216      0.801249  0.599247\n",
       "\n",
       "[1660 rows x 4 columns]"
      ]
     },
     "execution_count": 180,
     "metadata": {},
     "output_type": "execute_result"
    }
   ],
   "source": [
    "scaled_data"
   ]
  },
  {
   "cell_type": "code",
   "execution_count": 160,
   "id": "77a1e053",
   "metadata": {},
   "outputs": [],
   "source": [
    "n_steps = 60\n",
    "X_train_lstm = []\n",
    "y_train_lstm = []\n",
    "\n",
    "for i in range(n_steps, len(scaled_training_data)):\n",
    "    X_train_lstm.append(scaled_training_data[i-n_steps:i])\n",
    "    y_train_lstm.append(scaled_training_data[i, -1])\n",
    "    \n",
    "X_train_lstm = np.array(X_train_lstm)\n",
    "y_train_lstm = np.array(y_train_lstm)    "
   ]
  },
  {
   "cell_type": "code",
   "execution_count": 161,
   "id": "dd059abc",
   "metadata": {},
   "outputs": [
    {
     "data": {
      "text/plain": [
       "(1600, 60, 4)"
      ]
     },
     "execution_count": 161,
     "metadata": {},
     "output_type": "execute_result"
    }
   ],
   "source": [
    "X_train_lstm.shape"
   ]
  },
  {
   "cell_type": "code",
   "execution_count": 162,
   "id": "4b65066c",
   "metadata": {},
   "outputs": [],
   "source": [
    "#Reshape for LSTM\n",
    "X_train_lstm = np.reshape(X_train_lstm, (X_train_lstm.shape[0], X_train_lstm.shape[1], X_train_lstm.shape[2], 1))\n"
   ]
  },
  {
   "cell_type": "code",
   "execution_count": 163,
   "id": "6dd80f83",
   "metadata": {},
   "outputs": [],
   "source": [
    "regressor = Sequential()\n",
    "\n",
    "regressor.add(LSTM(units = 50, return_sequences=True, input_shape = (X_train_lstm.shape[1], X_train_lstm.shape[2])))\n",
    "regressor.add(Dropout(0.2))\n",
    "\n",
    "regressor.add(LSTM(units = 50, return_sequences=True))\n",
    "regressor.add(Dropout(0.2))\n",
    "\n",
    "regressor.add(LSTM(units = 50, return_sequences=True))\n",
    "regressor.add(Dropout(0.2))\n",
    "\n",
    "regressor.add(LSTM(units = 50))\n",
    "regressor.add(Dropout(0.2))\n",
    "\n",
    "regressor.add(Dense(units=1))"
   ]
  },
  {
   "cell_type": "code",
   "execution_count": 164,
   "id": "9e7d8245",
   "metadata": {},
   "outputs": [
    {
     "name": "stdout",
     "output_type": "stream",
     "text": [
      "Epoch 1/10\n",
      "50/50 [==============================] - 8s 77ms/step - loss: 0.0269\n",
      "Epoch 2/10\n",
      "50/50 [==============================] - 4s 76ms/step - loss: 0.0072\n",
      "Epoch 3/10\n",
      "50/50 [==============================] - 4s 81ms/step - loss: 0.0065\n",
      "Epoch 4/10\n",
      "50/50 [==============================] - 4s 84ms/step - loss: 0.0061\n",
      "Epoch 5/10\n",
      "50/50 [==============================] - 4s 71ms/step - loss: 0.0063\n",
      "Epoch 6/10\n",
      "50/50 [==============================] - 4s 76ms/step - loss: 0.0060\n",
      "Epoch 7/10\n",
      "50/50 [==============================] - 4s 81ms/step - loss: 0.0057\n",
      "Epoch 8/10\n",
      "50/50 [==============================] - 4s 82ms/step - loss: 0.0056\n",
      "Epoch 9/10\n",
      "50/50 [==============================] - 4s 74ms/step - loss: 0.0055\n",
      "Epoch 10/10\n",
      "50/50 [==============================] - 4s 70ms/step - loss: 0.0055\n"
     ]
    },
    {
     "data": {
      "text/plain": [
       "<keras.callbacks.History at 0x168108f3dc0>"
      ]
     },
     "execution_count": 164,
     "metadata": {},
     "output_type": "execute_result"
    }
   ],
   "source": [
    "regressor.compile(optimizer='adam', loss='mse')\n",
    "regressor.fit(X_train_lstm, y_train_lstm, epochs=10, batch_size=32)"
   ]
  },
  {
   "cell_type": "code",
   "execution_count": 196,
   "id": "ac9c402d",
   "metadata": {},
   "outputs": [],
   "source": [
    "#Testing FAZER AMANHÃ\n",
    "X_test = pd.read_csv('C:/Users/edils/repos/leilao_fechamento/data/test_petr/PETR4_B_0_5min.csv', encoding='iso-8859-1', sep=';')"
   ]
  },
  {
   "cell_type": "code",
   "execution_count": 197,
   "id": "aba15d6d",
   "metadata": {},
   "outputs": [],
   "source": [
    "X_test = rename_columns(X_test)\n",
    "X_test = data_types(X_test)\n",
    "X_test = changing_time(X_test)\n",
    "X_test['variacao'] = (X_test['fechamento'] - X_test['abertura']) / X_test['abertura']\n",
    "X_test = X_test.drop(['abertura', 'fechamento'], axis=1)\n",
    "df_win = pd.read_csv('C:/Users/edils/repos/leilao_fechamento/data/test_petr/WINFUT_F_0_5min.csv', encoding='iso-8859-1', sep=';')\n",
    "df_win = clean_futuros(df_win)\n",
    "X_test = pd.merge(X_test, df_win[['data','hora','variacao']], on=['data','hora'], how='left')\n",
    "X_test = X_test.rename(columns={'variacao_x':'variacao', 'variacao_y':'variacao_win'})\n",
    "\n"
   ]
  },
  {
   "cell_type": "code",
   "execution_count": 198,
   "id": "03c3d39d",
   "metadata": {},
   "outputs": [],
   "source": [
    "data_test = pd.to_datetime('2023-05-19')\n",
    "\n",
    "X_test = X_test.loc[(X_test['data'] > data_test),:]"
   ]
  },
  {
   "cell_type": "code",
   "execution_count": 203,
   "id": "d31da42b",
   "metadata": {},
   "outputs": [],
   "source": [
    "cols_selected = ['volume','quantidade','variacao_win','variacao']\n",
    "cols_x_test = ['volume','quantidade','variacao_win']"
   ]
  },
  {
   "cell_type": "code",
   "execution_count": 210,
   "id": "8124c9e7",
   "metadata": {},
   "outputs": [],
   "source": [
    "df_test = X_test.loc[:,cols_selected]"
   ]
  },
  {
   "cell_type": "code",
   "execution_count": 211,
   "id": "ebdd47cc",
   "metadata": {},
   "outputs": [],
   "source": [
    "x_test_lstm= df_test.loc[:,cols_x_test].values"
   ]
  },
  {
   "cell_type": "code",
   "execution_count": 213,
   "id": "f49270d4",
   "metadata": {},
   "outputs": [],
   "source": [
    "x_test_lstm = np.reshape(x_test_lstm, (x_test_lstm.shape[0], x_test_lstm.shape[1], 1))"
   ]
  },
  {
   "cell_type": "code",
   "execution_count": 214,
   "id": "f53e092b",
   "metadata": {},
   "outputs": [],
   "source": [
    "y_test = df_test['variacao'].values"
   ]
  },
  {
   "cell_type": "code",
   "execution_count": 216,
   "id": "6b191e08",
   "metadata": {},
   "outputs": [
    {
     "data": {
      "text/plain": [
       "(115, 3, 1)"
      ]
     },
     "execution_count": 216,
     "metadata": {},
     "output_type": "execute_result"
    }
   ],
   "source": [
    "x_test_lstm.shape"
   ]
  },
  {
   "cell_type": "code",
   "execution_count": 217,
   "id": "1eacee77",
   "metadata": {},
   "outputs": [
    {
     "ename": "ValueError",
     "evalue": "in user code:\n\n    File \"C:\\Users\\edils\\anaconda3\\envs\\leilao_fechamento\\lib\\site-packages\\keras\\engine\\training.py\", line 2169, in predict_function  *\n        return step_function(self, iterator)\n    File \"C:\\Users\\edils\\anaconda3\\envs\\leilao_fechamento\\lib\\site-packages\\keras\\engine\\training.py\", line 2155, in step_function  **\n        outputs = model.distribute_strategy.run(run_step, args=(data,))\n    File \"C:\\Users\\edils\\anaconda3\\envs\\leilao_fechamento\\lib\\site-packages\\keras\\engine\\training.py\", line 2143, in run_step  **\n        outputs = model.predict_step(data)\n    File \"C:\\Users\\edils\\anaconda3\\envs\\leilao_fechamento\\lib\\site-packages\\keras\\engine\\training.py\", line 2111, in predict_step\n        return self(x, training=False)\n    File \"C:\\Users\\edils\\anaconda3\\envs\\leilao_fechamento\\lib\\site-packages\\keras\\utils\\traceback_utils.py\", line 70, in error_handler\n        raise e.with_traceback(filtered_tb) from None\n    File \"C:\\Users\\edils\\anaconda3\\envs\\leilao_fechamento\\lib\\site-packages\\keras\\engine\\input_spec.py\", line 298, in assert_input_compatibility\n        raise ValueError(\n\n    ValueError: Input 0 of layer \"sequential_3\" is incompatible with the layer: expected shape=(None, 60, 4), found shape=(None, 3, 1)\n",
     "output_type": "error",
     "traceback": [
      "\u001b[1;31m---------------------------------------------------------------------------\u001b[0m",
      "\u001b[1;31mValueError\u001b[0m                                Traceback (most recent call last)",
      "Cell \u001b[1;32mIn[217], line 1\u001b[0m\n\u001b[1;32m----> 1\u001b[0m predicted_stock_price \u001b[38;5;241m=\u001b[39m \u001b[43mregressor\u001b[49m\u001b[38;5;241;43m.\u001b[39;49m\u001b[43mpredict\u001b[49m\u001b[43m(\u001b[49m\u001b[43mx_test_lstm\u001b[49m\u001b[43m)\u001b[49m\n",
      "File \u001b[1;32m~\\anaconda3\\envs\\leilao_fechamento\\lib\\site-packages\\keras\\utils\\traceback_utils.py:70\u001b[0m, in \u001b[0;36mfilter_traceback.<locals>.error_handler\u001b[1;34m(*args, **kwargs)\u001b[0m\n\u001b[0;32m     67\u001b[0m     filtered_tb \u001b[38;5;241m=\u001b[39m _process_traceback_frames(e\u001b[38;5;241m.\u001b[39m__traceback__)\n\u001b[0;32m     68\u001b[0m     \u001b[38;5;66;03m# To get the full stack trace, call:\u001b[39;00m\n\u001b[0;32m     69\u001b[0m     \u001b[38;5;66;03m# `tf.debugging.disable_traceback_filtering()`\u001b[39;00m\n\u001b[1;32m---> 70\u001b[0m     \u001b[38;5;28;01mraise\u001b[39;00m e\u001b[38;5;241m.\u001b[39mwith_traceback(filtered_tb) \u001b[38;5;28;01mfrom\u001b[39;00m \u001b[38;5;28mNone\u001b[39m\n\u001b[0;32m     71\u001b[0m \u001b[38;5;28;01mfinally\u001b[39;00m:\n\u001b[0;32m     72\u001b[0m     \u001b[38;5;28;01mdel\u001b[39;00m filtered_tb\n",
      "File \u001b[1;32m~\\AppData\\Local\\Temp\\__autograph_generated_file1bkfba63.py:15\u001b[0m, in \u001b[0;36mouter_factory.<locals>.inner_factory.<locals>.tf__predict_function\u001b[1;34m(iterator)\u001b[0m\n\u001b[0;32m     13\u001b[0m \u001b[38;5;28;01mtry\u001b[39;00m:\n\u001b[0;32m     14\u001b[0m     do_return \u001b[38;5;241m=\u001b[39m \u001b[38;5;28;01mTrue\u001b[39;00m\n\u001b[1;32m---> 15\u001b[0m     retval_ \u001b[38;5;241m=\u001b[39m ag__\u001b[38;5;241m.\u001b[39mconverted_call(ag__\u001b[38;5;241m.\u001b[39mld(step_function), (ag__\u001b[38;5;241m.\u001b[39mld(\u001b[38;5;28mself\u001b[39m), ag__\u001b[38;5;241m.\u001b[39mld(iterator)), \u001b[38;5;28;01mNone\u001b[39;00m, fscope)\n\u001b[0;32m     16\u001b[0m \u001b[38;5;28;01mexcept\u001b[39;00m:\n\u001b[0;32m     17\u001b[0m     do_return \u001b[38;5;241m=\u001b[39m \u001b[38;5;28;01mFalse\u001b[39;00m\n",
      "\u001b[1;31mValueError\u001b[0m: in user code:\n\n    File \"C:\\Users\\edils\\anaconda3\\envs\\leilao_fechamento\\lib\\site-packages\\keras\\engine\\training.py\", line 2169, in predict_function  *\n        return step_function(self, iterator)\n    File \"C:\\Users\\edils\\anaconda3\\envs\\leilao_fechamento\\lib\\site-packages\\keras\\engine\\training.py\", line 2155, in step_function  **\n        outputs = model.distribute_strategy.run(run_step, args=(data,))\n    File \"C:\\Users\\edils\\anaconda3\\envs\\leilao_fechamento\\lib\\site-packages\\keras\\engine\\training.py\", line 2143, in run_step  **\n        outputs = model.predict_step(data)\n    File \"C:\\Users\\edils\\anaconda3\\envs\\leilao_fechamento\\lib\\site-packages\\keras\\engine\\training.py\", line 2111, in predict_step\n        return self(x, training=False)\n    File \"C:\\Users\\edils\\anaconda3\\envs\\leilao_fechamento\\lib\\site-packages\\keras\\utils\\traceback_utils.py\", line 70, in error_handler\n        raise e.with_traceback(filtered_tb) from None\n    File \"C:\\Users\\edils\\anaconda3\\envs\\leilao_fechamento\\lib\\site-packages\\keras\\engine\\input_spec.py\", line 298, in assert_input_compatibility\n        raise ValueError(\n\n    ValueError: Input 0 of layer \"sequential_3\" is incompatible with the layer: expected shape=(None, 60, 4), found shape=(None, 3, 1)\n"
     ]
    }
   ],
   "source": [
    "predicted_stock_price = regressor.predict(x_test_lstm)"
   ]
  },
  {
   "cell_type": "code",
   "execution_count": 141,
   "id": "027545f0",
   "metadata": {},
   "outputs": [],
   "source": [
    "x_train_exp = np.expand_dims(x_train, axis=2)\n",
    "x_val_exp = np.expand_dims(x_val, axis=2)\n",
    "\n",
    "# Definir o número de características\n",
    "n_features = len(cols_selected)\n",
    "\n",
    "# Definir o modelo LSTM\n",
    "model = Sequential()\n",
    "model.add(LSTM(64, activation='relu', input_shape=(n_features, 1)))\n",
    "model.add(Dense(1))\n",
    "model.compile(optimizer='adam', loss='mse')\n",
    "\n",
    "# Treinar o modelo\n",
    "model.fit(x_train_exp, y_train, epochs=10, batch_size=32, validation_data=(x_val_exp, y_val))"
   ]
  },
  {
   "cell_type": "code",
   "execution_count": 132,
   "id": "e16d620b",
   "metadata": {},
   "outputs": [
    {
     "name": "stdout",
     "output_type": "stream",
     "text": [
      "2162/2162 [==============================] - 3s 2ms/step\n"
     ]
    }
   ],
   "source": [
    "yhat_lstm = model.predict(x_val_exp)"
   ]
  },
  {
   "cell_type": "code",
   "execution_count": 134,
   "id": "e26f7e1a",
   "metadata": {},
   "outputs": [
    {
     "data": {
      "text/plain": [
       "array([[0.4946571 ],\n",
       "       [0.49360162],\n",
       "       [0.49754885],\n",
       "       ...,\n",
       "       [0.49917766],\n",
       "       [0.50005484],\n",
       "       [0.49941757]], dtype=float32)"
      ]
     },
     "execution_count": 134,
     "metadata": {},
     "output_type": "execute_result"
    }
   ],
   "source": [
    "yhat_lstm"
   ]
  },
  {
   "cell_type": "code",
   "execution_count": 145,
   "id": "d5a7a009",
   "metadata": {},
   "outputs": [
    {
     "data": {
      "text/plain": [
       "294141    0.509193\n",
       "369058    0.516000\n",
       "233257    0.496974\n",
       "358349    0.495280\n",
       "38777     0.472943\n",
       "            ...   \n",
       "327888    0.518519\n",
       "473282    0.500000\n",
       "104558    0.488701\n",
       "282707    0.486885\n",
       "440976    0.502625\n",
       "Name: variacao, Length: 69177, dtype: float64"
      ]
     },
     "execution_count": 145,
     "metadata": {},
     "output_type": "execute_result"
    }
   ],
   "source": [
    "y_val"
   ]
  },
  {
   "cell_type": "code",
   "execution_count": 142,
   "id": "994a8393",
   "metadata": {},
   "outputs": [
    {
     "data": {
      "text/html": [
       "<div>\n",
       "<style scoped>\n",
       "    .dataframe tbody tr th:only-of-type {\n",
       "        vertical-align: middle;\n",
       "    }\n",
       "\n",
       "    .dataframe tbody tr th {\n",
       "        vertical-align: top;\n",
       "    }\n",
       "\n",
       "    .dataframe thead th {\n",
       "        text-align: right;\n",
       "    }\n",
       "</style>\n",
       "<table border=\"1\" class=\"dataframe\">\n",
       "  <thead>\n",
       "    <tr style=\"text-align: right;\">\n",
       "      <th></th>\n",
       "      <th>Model Name</th>\n",
       "      <th>MAE</th>\n",
       "      <th>MAPE</th>\n",
       "      <th>RMSE</th>\n",
       "    </tr>\n",
       "  </thead>\n",
       "  <tbody>\n",
       "    <tr>\n",
       "      <th>0</th>\n",
       "      <td>LSTM</td>\n",
       "      <td>0.008337</td>\n",
       "      <td>0.017067</td>\n",
       "      <td>0.017245</td>\n",
       "    </tr>\n",
       "  </tbody>\n",
       "</table>\n",
       "</div>"
      ],
      "text/plain": [
       "  Model Name       MAE      MAPE      RMSE\n",
       "0       LSTM  0.008337  0.017067  0.017245"
      ]
     },
     "execution_count": 142,
     "metadata": {},
     "output_type": "execute_result"
    }
   ],
   "source": [
    "ml_error('LSTM', y_val, yhat_lstm)"
   ]
  },
  {
   "cell_type": "markdown",
   "id": "24287b25",
   "metadata": {},
   "source": [
    "## 6.7 Model Perfomance Compare"
   ]
  },
  {
   "cell_type": "code",
   "execution_count": 71,
   "id": "0f1010cf",
   "metadata": {
    "ExecuteTime": {
     "end_time": "2023-05-23T20:17:29.591384Z",
     "start_time": "2023-05-23T20:17:29.583037Z"
    }
   },
   "outputs": [],
   "source": [
    "metrics = pd.concat([metrics_avg, metrics_lr, metrics_lasso, metrics_rf, metrics_xgb, metrics_svm])"
   ]
  },
  {
   "cell_type": "code",
   "execution_count": 72,
   "id": "b351bd38",
   "metadata": {
    "ExecuteTime": {
     "end_time": "2023-05-23T20:18:00.013856Z",
     "start_time": "2023-05-23T20:18:00.002777Z"
    }
   },
   "outputs": [
    {
     "data": {
      "text/html": [
       "<div>\n",
       "<style scoped>\n",
       "    .dataframe tbody tr th:only-of-type {\n",
       "        vertical-align: middle;\n",
       "    }\n",
       "\n",
       "    .dataframe tbody tr th {\n",
       "        vertical-align: top;\n",
       "    }\n",
       "\n",
       "    .dataframe thead th {\n",
       "        text-align: right;\n",
       "    }\n",
       "</style>\n",
       "<table border=\"1\" class=\"dataframe\">\n",
       "  <thead>\n",
       "    <tr style=\"text-align: right;\">\n",
       "      <th></th>\n",
       "      <th>Model Name</th>\n",
       "      <th>MAE</th>\n",
       "      <th>MAPE</th>\n",
       "      <th>RMSE</th>\n",
       "    </tr>\n",
       "  </thead>\n",
       "  <tbody>\n",
       "    <tr>\n",
       "      <th>0</th>\n",
       "      <td>SVM</td>\n",
       "      <td>0.036092</td>\n",
       "      <td>6.839265e-02</td>\n",
       "      <td>0.047377</td>\n",
       "    </tr>\n",
       "    <tr>\n",
       "      <th>0</th>\n",
       "      <td>Linear Regression</td>\n",
       "      <td>0.036176</td>\n",
       "      <td>6.884200e-02</td>\n",
       "      <td>0.047924</td>\n",
       "    </tr>\n",
       "    <tr>\n",
       "      <th>0</th>\n",
       "      <td>Random Forest</td>\n",
       "      <td>0.038652</td>\n",
       "      <td>7.355755e-02</td>\n",
       "      <td>0.053512</td>\n",
       "    </tr>\n",
       "    <tr>\n",
       "      <th>0</th>\n",
       "      <td>Lasso</td>\n",
       "      <td>0.044109</td>\n",
       "      <td>8.432071e-02</td>\n",
       "      <td>0.057224</td>\n",
       "    </tr>\n",
       "    <tr>\n",
       "      <th>0</th>\n",
       "      <td>XGBoost</td>\n",
       "      <td>0.041133</td>\n",
       "      <td>7.799197e-02</td>\n",
       "      <td>0.058012</td>\n",
       "    </tr>\n",
       "    <tr>\n",
       "      <th>0</th>\n",
       "      <td>Average Model</td>\n",
       "      <td>0.040930</td>\n",
       "      <td>1.941113e+12</td>\n",
       "      <td>0.058296</td>\n",
       "    </tr>\n",
       "  </tbody>\n",
       "</table>\n",
       "</div>"
      ],
      "text/plain": [
       "          Model Name       MAE          MAPE      RMSE\n",
       "0                SVM  0.036092  6.839265e-02  0.047377\n",
       "0  Linear Regression  0.036176  6.884200e-02  0.047924\n",
       "0      Random Forest  0.038652  7.355755e-02  0.053512\n",
       "0              Lasso  0.044109  8.432071e-02  0.057224\n",
       "0            XGBoost  0.041133  7.799197e-02  0.058012\n",
       "0      Average Model  0.040930  1.941113e+12  0.058296"
      ]
     },
     "execution_count": 72,
     "metadata": {},
     "output_type": "execute_result"
    }
   ],
   "source": [
    "metrics.sort_values(by='RMSE')"
   ]
  },
  {
   "cell_type": "code",
   "execution_count": 102,
   "id": "77d21bdf",
   "metadata": {},
   "outputs": [
    {
     "data": {
      "text/plain": [
       "294141    0.526169\n",
       "369058    0.921279\n",
       "233257   -0.183071\n",
       "358349   -0.281402\n",
       "38777    -1.577998\n",
       "            ...   \n",
       "327888    1.067467\n",
       "473282   -0.007443\n",
       "104558   -0.663320\n",
       "282707   -0.768690\n",
       "440976    0.144907\n",
       "Name: variacao, Length: 69177, dtype: float64"
      ]
     },
     "execution_count": 102,
     "metadata": {},
     "output_type": "execute_result"
    }
   ],
   "source": [
    "y_val"
   ]
  },
  {
   "cell_type": "code",
   "execution_count": 103,
   "id": "76cb5faf",
   "metadata": {},
   "outputs": [
    {
     "data": {
      "text/plain": [
       "array([-0.20773979, -0.26806396, -0.05848419, ...,  0.02295487,\n",
       "        0.13367519,  0.08648355], dtype=float32)"
      ]
     },
     "execution_count": 103,
     "metadata": {},
     "output_type": "execute_result"
    }
   ],
   "source": [
    "yhat_xgb"
   ]
  },
  {
   "cell_type": "markdown",
   "id": "cfb16725",
   "metadata": {},
   "source": [
    "## 6.8 Cross Validation"
   ]
  },
  {
   "cell_type": "code",
   "execution_count": 116,
   "id": "48c30fbb",
   "metadata": {
    "ExecuteTime": {
     "end_time": "2023-05-23T20:21:34.295622Z",
     "start_time": "2023-05-23T20:21:34.263016Z"
    }
   },
   "outputs": [],
   "source": [
    "x_cross = X.loc[:,cols_selected]"
   ]
  },
  {
   "cell_type": "code",
   "execution_count": null,
   "id": "8b308ce0",
   "metadata": {},
   "outputs": [],
   "source": [
    "lr_cross_val = ms.cross_val_score(lr, x_cross, y, cv=5 )"
   ]
  },
  {
   "cell_type": "code",
   "execution_count": 128,
   "id": "168a5f48",
   "metadata": {
    "ExecuteTime": {
     "end_time": "2023-05-23T20:34:05.740623Z",
     "start_time": "2023-05-23T20:34:05.736569Z"
    }
   },
   "outputs": [
    {
     "name": "stdout",
     "output_type": "stream",
     "text": [
      "0.9994839888425145\n"
     ]
    }
   ],
   "source": [
    "print(np.mean(lr_cross_val))"
   ]
  },
  {
   "cell_type": "code",
   "execution_count": null,
   "id": "8410eb42",
   "metadata": {},
   "outputs": [],
   "source": []
  },
  {
   "cell_type": "code",
   "execution_count": null,
   "id": "6d369ec0",
   "metadata": {},
   "outputs": [],
   "source": []
  },
  {
   "cell_type": "code",
   "execution_count": null,
   "id": "f3115b74",
   "metadata": {},
   "outputs": [],
   "source": []
  }
 ],
 "metadata": {
  "hide_input": false,
  "kernelspec": {
   "display_name": "Python 3 (ipykernel)",
   "language": "python",
   "name": "python3"
  },
  "language_info": {
   "codemirror_mode": {
    "name": "ipython",
    "version": 3
   },
   "file_extension": ".py",
   "mimetype": "text/x-python",
   "name": "python",
   "nbconvert_exporter": "python",
   "pygments_lexer": "ipython3",
   "version": "3.10.11"
  },
  "varInspector": {
   "cols": {
    "lenName": 16,
    "lenType": 16,
    "lenVar": 40
   },
   "kernels_config": {
    "python": {
     "delete_cmd_postfix": "",
     "delete_cmd_prefix": "del ",
     "library": "var_list.py",
     "varRefreshCmd": "print(var_dic_list())"
    },
    "r": {
     "delete_cmd_postfix": ") ",
     "delete_cmd_prefix": "rm(",
     "library": "var_list.r",
     "varRefreshCmd": "cat(var_dic_list()) "
    }
   },
   "types_to_exclude": [
    "module",
    "function",
    "builtin_function_or_method",
    "instance",
    "_Feature"
   ],
   "window_display": false
  }
 },
 "nbformat": 4,
 "nbformat_minor": 5
}
