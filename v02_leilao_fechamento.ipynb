{
 "cells": [
  {
   "cell_type": "markdown",
   "id": "8aea0be7",
   "metadata": {},
   "source": [
    "# 0.0 IMPORTS"
   ]
  },
  {
   "cell_type": "code",
   "execution_count": 1,
   "id": "51231c59",
   "metadata": {
    "ExecuteTime": {
     "end_time": "2023-06-16T14:01:55.526119Z",
     "start_time": "2023-06-16T14:01:49.663040Z"
    }
   },
   "outputs": [],
   "source": [
    "import pandas as pd\n",
    "import numpy as np\n",
    "import inflection\n",
    "import os\n",
    "import seaborn as sns\n",
    "import matplotlib.pyplot as plt \n",
    "import warnings\n",
    "import xgboost as xgb\n",
    "\n",
    "from keras.models import Sequential\n",
    "from keras.layers import LSTM, Dense\n",
    "\n",
    "from boruta import BorutaPy\n",
    "from datetime import datetime, timedelta\n",
    "from sklearn import model_selection as ms\n",
    "from sklearn import metrics as mt\n",
    "from sklearn.preprocessing import RobustScaler, MinMaxScaler, StandardScaler\n",
    "from sklearn import ensemble as en\n",
    "from sklearn import metrics as mt\n",
    "from sklearn.linear_model import LinearRegression, Lasso\n",
    "from sklearn import svm\n",
    "\n",
    "warnings.filterwarnings('ignore')"
   ]
  },
  {
   "cell_type": "markdown",
   "id": "e0719ce6",
   "metadata": {},
   "source": [
    "## 0.1 Loading Data"
   ]
  },
  {
   "cell_type": "code",
   "execution_count": 2,
   "id": "4272a4f8",
   "metadata": {
    "ExecuteTime": {
     "end_time": "2023-06-16T14:01:55.541394Z",
     "start_time": "2023-06-16T14:01:55.528170Z"
    }
   },
   "outputs": [],
   "source": [
    "path = 'C:/Users/edils/repos/leilao_fechamento/data/5_minutos/'"
   ]
  },
  {
   "cell_type": "code",
   "execution_count": 3,
   "id": "29ffb95e",
   "metadata": {
    "ExecuteTime": {
     "end_time": "2023-06-16T14:02:00.295281Z",
     "start_time": "2023-06-16T14:01:55.543448Z"
    }
   },
   "outputs": [],
   "source": [
    "df_raw_list = []\n",
    "\n",
    "for file in os.listdir(path):\n",
    "    if file.endswith('.csv'):\n",
    "        filename_path = os.path.join(path, file)\n",
    "        df = pd.read_csv(filename_path, encoding='iso-8859-1', sep=';')\n",
    "        df_raw_list.append(df)"
   ]
  },
  {
   "cell_type": "code",
   "execution_count": 4,
   "id": "780ee2d4",
   "metadata": {
    "ExecuteTime": {
     "end_time": "2023-06-16T14:02:00.434227Z",
     "start_time": "2023-06-16T14:02:00.297342Z"
    }
   },
   "outputs": [],
   "source": [
    "df_raw = pd.concat(df_raw_list, axis=0)"
   ]
  },
  {
   "cell_type": "code",
   "execution_count": 5,
   "id": "fcf66309",
   "metadata": {
    "ExecuteTime": {
     "end_time": "2023-06-16T14:02:00.450293Z",
     "start_time": "2023-06-16T14:02:00.435243Z"
    }
   },
   "outputs": [
    {
     "data": {
      "text/html": [
       "<div>\n",
       "<style scoped>\n",
       "    .dataframe tbody tr th:only-of-type {\n",
       "        vertical-align: middle;\n",
       "    }\n",
       "\n",
       "    .dataframe tbody tr th {\n",
       "        vertical-align: top;\n",
       "    }\n",
       "\n",
       "    .dataframe thead th {\n",
       "        text-align: right;\n",
       "    }\n",
       "</style>\n",
       "<table border=\"1\" class=\"dataframe\">\n",
       "  <thead>\n",
       "    <tr style=\"text-align: right;\">\n",
       "      <th></th>\n",
       "      <th>Ativo</th>\n",
       "      <th>Data</th>\n",
       "      <th>Hora</th>\n",
       "      <th>Abertura</th>\n",
       "      <th>Máximo</th>\n",
       "      <th>Mínimo</th>\n",
       "      <th>Fechamento</th>\n",
       "      <th>Volume</th>\n",
       "      <th>Quantidade</th>\n",
       "    </tr>\n",
       "  </thead>\n",
       "  <tbody>\n",
       "    <tr>\n",
       "      <th>0</th>\n",
       "      <td>AALR3</td>\n",
       "      <td>06/06/2023</td>\n",
       "      <td>11:20:00</td>\n",
       "      <td>23,17</td>\n",
       "      <td>23,17</td>\n",
       "      <td>23,17</td>\n",
       "      <td>23,17</td>\n",
       "      <td>4.634,00</td>\n",
       "      <td>200.0</td>\n",
       "    </tr>\n",
       "    <tr>\n",
       "      <th>1</th>\n",
       "      <td>AALR3</td>\n",
       "      <td>06/06/2023</td>\n",
       "      <td>11:15:00</td>\n",
       "      <td>23,17</td>\n",
       "      <td>23,19</td>\n",
       "      <td>23,16</td>\n",
       "      <td>23,17</td>\n",
       "      <td>69.494,00</td>\n",
       "      <td>3.0</td>\n",
       "    </tr>\n",
       "    <tr>\n",
       "      <th>2</th>\n",
       "      <td>AALR3</td>\n",
       "      <td>06/06/2023</td>\n",
       "      <td>11:10:00</td>\n",
       "      <td>23,19</td>\n",
       "      <td>23,19</td>\n",
       "      <td>23,18</td>\n",
       "      <td>23,18</td>\n",
       "      <td>13.912,00</td>\n",
       "      <td>600.0</td>\n",
       "    </tr>\n",
       "    <tr>\n",
       "      <th>3</th>\n",
       "      <td>AALR3</td>\n",
       "      <td>06/06/2023</td>\n",
       "      <td>11:05:00</td>\n",
       "      <td>23,19</td>\n",
       "      <td>23,21</td>\n",
       "      <td>23,19</td>\n",
       "      <td>23,21</td>\n",
       "      <td>18.559,00</td>\n",
       "      <td>800.0</td>\n",
       "    </tr>\n",
       "    <tr>\n",
       "      <th>4</th>\n",
       "      <td>AALR3</td>\n",
       "      <td>06/06/2023</td>\n",
       "      <td>11:00:00</td>\n",
       "      <td>23,19</td>\n",
       "      <td>23,21</td>\n",
       "      <td>23,19</td>\n",
       "      <td>23,21</td>\n",
       "      <td>34.793,00</td>\n",
       "      <td>1.5</td>\n",
       "    </tr>\n",
       "  </tbody>\n",
       "</table>\n",
       "</div>"
      ],
      "text/plain": [
       "   Ativo        Data      Hora Abertura Máximo Mínimo Fechamento     Volume  \\\n",
       "0  AALR3  06/06/2023  11:20:00    23,17  23,17  23,17      23,17   4.634,00   \n",
       "1  AALR3  06/06/2023  11:15:00    23,17  23,19  23,16      23,17  69.494,00   \n",
       "2  AALR3  06/06/2023  11:10:00    23,19  23,19  23,18      23,18  13.912,00   \n",
       "3  AALR3  06/06/2023  11:05:00    23,19  23,21  23,19      23,21  18.559,00   \n",
       "4  AALR3  06/06/2023  11:00:00    23,19  23,21  23,19      23,21  34.793,00   \n",
       "\n",
       "  Quantidade  \n",
       "0      200.0  \n",
       "1        3.0  \n",
       "2      600.0  \n",
       "3      800.0  \n",
       "4        1.5  "
      ]
     },
     "execution_count": 5,
     "metadata": {},
     "output_type": "execute_result"
    }
   ],
   "source": [
    "df_raw.head()"
   ]
  },
  {
   "cell_type": "code",
   "execution_count": 6,
   "id": "8fca58e1",
   "metadata": {
    "ExecuteTime": {
     "end_time": "2023-06-16T14:02:00.465851Z",
     "start_time": "2023-06-16T14:02:00.451294Z"
    }
   },
   "outputs": [
    {
     "data": {
      "text/plain": [
       "Ativo         object\n",
       "Data          object\n",
       "Hora          object\n",
       "Abertura      object\n",
       "Máximo        object\n",
       "Mínimo        object\n",
       "Fechamento    object\n",
       "Volume        object\n",
       "Quantidade    object\n",
       "dtype: object"
      ]
     },
     "execution_count": 6,
     "metadata": {},
     "output_type": "execute_result"
    }
   ],
   "source": [
    "df_raw.dtypes"
   ]
  },
  {
   "cell_type": "markdown",
   "id": "85e9beb1",
   "metadata": {},
   "source": [
    "## 0.2 Helper Functions"
   ]
  },
  {
   "cell_type": "code",
   "execution_count": 45,
   "id": "bf49b366",
   "metadata": {
    "ExecuteTime": {
     "end_time": "2023-06-16T14:25:08.592683Z",
     "start_time": "2023-06-16T14:25:08.566334Z"
    }
   },
   "outputs": [],
   "source": [
    "def data_types(df1):\n",
    "    #abertura\n",
    "    df1['abertura'] = df1['abertura'].apply(lambda x: x.replace(',', '.') if isinstance(x, str) else x)\n",
    "    df1['abertura'] = df1['abertura'].apply(lambda x: x.replace('.', '') if isinstance(x, str) else x)\n",
    "    df1['abertura'] = df1['abertura'].astype(float)\n",
    "\n",
    "    #maximo\n",
    "    df1['maximo'] = df1['maximo'].apply(lambda x: x.replace(',', '.') if isinstance(x, str) else x)\n",
    "    df1['maximo'] = df1['maximo'].apply(lambda x: x.replace('.', '') if isinstance(x, str) else x)\n",
    "    df1['maximo'] = df1['maximo'].astype(float)\n",
    "\n",
    "    #minimo\n",
    "    df1['minimo'] = df1['minimo'].apply(lambda x: x.replace(',', '.') if isinstance(x, str) else x)\n",
    "    df1['minimo'] = df1['minimo'].apply(lambda x: x.replace('.', '') if isinstance(x, str) else x)\n",
    "    df1['minimo'] = df1['minimo'].astype(float)\n",
    "\n",
    "    #fechamento\n",
    "    df1['fechamento'] = df1['fechamento'].apply(lambda x: x.replace(',', '.') if isinstance(x, str) else x)\n",
    "    df1['fechamento'] = df1['fechamento'].apply(lambda x: x.replace('.', '') if isinstance(x, str) else x)\n",
    "    df1['fechamento'] = df1['fechamento'].astype(float)\n",
    "\n",
    "    #volume\n",
    "    df1['volume'] = df1['volume'].apply(lambda x: x.replace(\".\", \"\").replace(\",\", \".\"))\n",
    "    df1['volume'] = df1['volume'].astype(float)\n",
    "\n",
    "    #quantidade\n",
    "    df1['quantidade'] = df1['quantidade'].apply(lambda x: x.replace(\".\", \"\") if isinstance(x, str) else x)\n",
    "    df1['quantidade'] = df1['quantidade'].apply(lambda x: float(x))\n",
    "\n",
    "    #data\n",
    "    df1['data'] = df1['data'].apply(lambda x: x.replace('/','-'))\n",
    "    df1['data'] = df1['data'].apply(lambda x: datetime.strptime(x, \"%d-%m-%Y\"))\n",
    "    df1['data'] = pd.to_datetime(df1['data'], format='%d-%m-%Y')\n",
    "    df1['hora'] = df1['hora'].apply(lambda x: datetime.strptime(x, \"%H:%M:%S\"))\n",
    "    \n",
    "    return df1\n",
    "\n",
    "def rename_columns(df1):\n",
    "    cols_old = df1.columns\n",
    "    cols_new = cols_old.map(lambda x: inflection.underscore(x))\n",
    "    df1.columns = cols_new\n",
    "    df1 = df1.rename(columns={'máximo': 'maximo', 'mínimo':'minimo'})\n",
    "    \n",
    "    return df1\n",
    "\n",
    "def changing_time(df1):\n",
    "    #Horário de verão 2023-03-13\n",
    "    data_verao = pd.to_datetime('2023-03-13')\n",
    "    df1.loc[df1['data'] >= data_verao, 'hora'] += pd.Timedelta(hours=1)\n",
    "    hora_leilao = (df1['hora'].dt.hour >= 16) & (df1['hora'].dt.hour < 18) \n",
    "    df1 = df1.loc[hora_leilao,:]\n",
    "    return df1\n",
    "\n",
    "def clean_futuros(df_win):\n",
    "    cols_old = df_win.columns\n",
    "    cols_new = cols_old.map(lambda x: inflection.underscore(x))\n",
    "    df_win.columns = cols_new\n",
    "    df_win = df_win.rename(columns={'máximo': 'maximo', 'mínimo':'minimo'})\n",
    "\n",
    "    df_win['abertura'] = df_win['abertura'].astype(float)\n",
    "\n",
    "    #maximo\n",
    "\n",
    "    df_win['maximo'] = df_win['maximo'].astype(float)\n",
    "\n",
    "    #minimo\n",
    "\n",
    "    df_win['minimo'] = df_win['minimo'].astype(float)\n",
    "\n",
    "    #fechamento\n",
    "\n",
    "    df_win['fechamento'] = df_win['fechamento'].astype(float)\n",
    "\n",
    "    #volume\n",
    "    df_win['volume'] = df_win['volume'].apply(lambda x: x.replace(\".\", \"\").replace(\",\", \".\"))\n",
    "    df_win['volume'] = df_win['volume'].astype(float)\n",
    "\n",
    "    #quantidade\n",
    "    df_win['quantidade'] = df_win['quantidade'].apply(lambda x: x.replace(\".\", \"\") if isinstance(x, str) else x)\n",
    "    df_win['quantidade'] = df_win['quantidade'].apply(lambda x: float(x))\n",
    "\n",
    "    #data\n",
    "    df_win['data'] = df_win['data'].apply(lambda x: x.replace('/','-'))\n",
    "    df_win['data'] = df_win['data'].apply(lambda x: datetime.strptime(x, \"%d-%m-%Y\"))\n",
    "    df_win['data'] = pd.to_datetime(df_win['data'], format='%d-%m-%Y')\n",
    "    df_win['hora'] = df_win['hora'].apply(lambda x: datetime.strptime(x, \"%H:%M:%S\"))\n",
    "    df_win['variacao'] = (df_win['fechamento'] - df_win['abertura']) / df_win['abertura']\n",
    "    \n",
    "    #Horário de verão 2023-03-13\n",
    "    data_verao = pd.to_datetime('2023-03-13')\n",
    "    df_win.loc[df_win['data'] >= data_verao, 'hora'] += pd.Timedelta(hours=1)\n",
    "    \n",
    "    hora_leilao = (df_win['hora'].dt.hour >= 16) & (df_win['hora'].dt.hour < 18) \n",
    "    df_win = df_win.loc[hora_leilao,:]\n",
    "    \n",
    "    df_win['variacao'] = (df_win['fechamento'] - df_win['abertura']) / df_win['abertura']\n",
    "    \n",
    "    return df_win\n",
    "\n",
    "palette = [\"#00BFFF\", \"#DC143C\", \"#FFA07A\", \"#FFD700\", \"#8B008B\", \"#7CFC00\", \"#FF69B4\", \"#00CED1\", \"#FF6347\", \"#9400D3\"]\n",
    "def jupyter_settings(palette):\n",
    "    %matplotlib inline\n",
    "    plt.style.use( 'bmh' )\n",
    "    plt.rcParams['figure.figsize'] = [12, 6]\n",
    "    pd.options.display.max_columns = None\n",
    "    pd.options.display.max_rows = 50\n",
    "    pd.set_option( 'display.expand_frame_repr', False )\n",
    "    sns.set(font_scale=2)\n",
    "    sns.set_theme(palette=palette)\n",
    "    warnings.simplefilter(\"ignore\")\n",
    "    # plt.rcParams.update({'font.size': 10})\n",
    "    sns.set_style(\"white\")\n",
    "\n",
    "    \n",
    "jupyter_settings(palette)\n",
    "    "
   ]
  },
  {
   "cell_type": "markdown",
   "id": "c3990882",
   "metadata": {},
   "source": [
    "# 1.0 DATA DESCRIPTION"
   ]
  },
  {
   "cell_type": "code",
   "execution_count": 46,
   "id": "19b98752",
   "metadata": {
    "ExecuteTime": {
     "end_time": "2023-06-16T14:25:09.779886Z",
     "start_time": "2023-06-16T14:25:09.417875Z"
    }
   },
   "outputs": [],
   "source": [
    "df1 = df_raw.copy()"
   ]
  },
  {
   "cell_type": "code",
   "execution_count": 47,
   "id": "e2bc5c84",
   "metadata": {
    "ExecuteTime": {
     "end_time": "2023-06-16T14:25:09.795332Z",
     "start_time": "2023-06-16T14:25:09.780888Z"
    }
   },
   "outputs": [
    {
     "data": {
      "text/html": [
       "<div>\n",
       "<style scoped>\n",
       "    .dataframe tbody tr th:only-of-type {\n",
       "        vertical-align: middle;\n",
       "    }\n",
       "\n",
       "    .dataframe tbody tr th {\n",
       "        vertical-align: top;\n",
       "    }\n",
       "\n",
       "    .dataframe thead th {\n",
       "        text-align: right;\n",
       "    }\n",
       "</style>\n",
       "<table border=\"1\" class=\"dataframe\">\n",
       "  <thead>\n",
       "    <tr style=\"text-align: right;\">\n",
       "      <th></th>\n",
       "      <th>Ativo</th>\n",
       "      <th>Data</th>\n",
       "      <th>Hora</th>\n",
       "      <th>Abertura</th>\n",
       "      <th>Máximo</th>\n",
       "      <th>Mínimo</th>\n",
       "      <th>Fechamento</th>\n",
       "      <th>Volume</th>\n",
       "      <th>Quantidade</th>\n",
       "    </tr>\n",
       "  </thead>\n",
       "  <tbody>\n",
       "    <tr>\n",
       "      <th>0</th>\n",
       "      <td>AALR3</td>\n",
       "      <td>06/06/2023</td>\n",
       "      <td>11:20:00</td>\n",
       "      <td>23,17</td>\n",
       "      <td>23,17</td>\n",
       "      <td>23,17</td>\n",
       "      <td>23,17</td>\n",
       "      <td>4.634,00</td>\n",
       "      <td>200.0</td>\n",
       "    </tr>\n",
       "    <tr>\n",
       "      <th>1</th>\n",
       "      <td>AALR3</td>\n",
       "      <td>06/06/2023</td>\n",
       "      <td>11:15:00</td>\n",
       "      <td>23,17</td>\n",
       "      <td>23,19</td>\n",
       "      <td>23,16</td>\n",
       "      <td>23,17</td>\n",
       "      <td>69.494,00</td>\n",
       "      <td>3.0</td>\n",
       "    </tr>\n",
       "    <tr>\n",
       "      <th>2</th>\n",
       "      <td>AALR3</td>\n",
       "      <td>06/06/2023</td>\n",
       "      <td>11:10:00</td>\n",
       "      <td>23,19</td>\n",
       "      <td>23,19</td>\n",
       "      <td>23,18</td>\n",
       "      <td>23,18</td>\n",
       "      <td>13.912,00</td>\n",
       "      <td>600.0</td>\n",
       "    </tr>\n",
       "    <tr>\n",
       "      <th>3</th>\n",
       "      <td>AALR3</td>\n",
       "      <td>06/06/2023</td>\n",
       "      <td>11:05:00</td>\n",
       "      <td>23,19</td>\n",
       "      <td>23,21</td>\n",
       "      <td>23,19</td>\n",
       "      <td>23,21</td>\n",
       "      <td>18.559,00</td>\n",
       "      <td>800.0</td>\n",
       "    </tr>\n",
       "    <tr>\n",
       "      <th>4</th>\n",
       "      <td>AALR3</td>\n",
       "      <td>06/06/2023</td>\n",
       "      <td>11:00:00</td>\n",
       "      <td>23,19</td>\n",
       "      <td>23,21</td>\n",
       "      <td>23,19</td>\n",
       "      <td>23,21</td>\n",
       "      <td>34.793,00</td>\n",
       "      <td>1.5</td>\n",
       "    </tr>\n",
       "    <tr>\n",
       "      <th>...</th>\n",
       "      <td>...</td>\n",
       "      <td>...</td>\n",
       "      <td>...</td>\n",
       "      <td>...</td>\n",
       "      <td>...</td>\n",
       "      <td>...</td>\n",
       "      <td>...</td>\n",
       "      <td>...</td>\n",
       "      <td>...</td>\n",
       "    </tr>\n",
       "    <tr>\n",
       "      <th>10027</th>\n",
       "      <td>ZAMP3</td>\n",
       "      <td>19/12/2022</td>\n",
       "      <td>16:55:00</td>\n",
       "      <td>4,53</td>\n",
       "      <td>4,54</td>\n",
       "      <td>4,53</td>\n",
       "      <td>4,54</td>\n",
       "      <td>29.498,00</td>\n",
       "      <td>6.500</td>\n",
       "    </tr>\n",
       "    <tr>\n",
       "      <th>10028</th>\n",
       "      <td>ZAMP3</td>\n",
       "      <td>19/12/2022</td>\n",
       "      <td>16:50:00</td>\n",
       "      <td>4,54</td>\n",
       "      <td>4,55</td>\n",
       "      <td>4,53</td>\n",
       "      <td>4,53</td>\n",
       "      <td>69.912,00</td>\n",
       "      <td>15.400</td>\n",
       "    </tr>\n",
       "    <tr>\n",
       "      <th>10029</th>\n",
       "      <td>ZAMP3</td>\n",
       "      <td>19/12/2022</td>\n",
       "      <td>16:45:00</td>\n",
       "      <td>4,57</td>\n",
       "      <td>4,57</td>\n",
       "      <td>4,54</td>\n",
       "      <td>4,54</td>\n",
       "      <td>36.878,00</td>\n",
       "      <td>8.100</td>\n",
       "    </tr>\n",
       "    <tr>\n",
       "      <th>10030</th>\n",
       "      <td>ZAMP3</td>\n",
       "      <td>19/12/2022</td>\n",
       "      <td>16:40:00</td>\n",
       "      <td>4,57</td>\n",
       "      <td>4,58</td>\n",
       "      <td>4,56</td>\n",
       "      <td>4,56</td>\n",
       "      <td>18.266,00</td>\n",
       "      <td>4.000</td>\n",
       "    </tr>\n",
       "    <tr>\n",
       "      <th>10031</th>\n",
       "      <td>ZAMP3</td>\n",
       "      <td>19/12/2022</td>\n",
       "      <td>16:35:00</td>\n",
       "      <td>4,56</td>\n",
       "      <td>4,57</td>\n",
       "      <td>4,56</td>\n",
       "      <td>4,57</td>\n",
       "      <td>30.600,00</td>\n",
       "      <td>6.700</td>\n",
       "    </tr>\n",
       "  </tbody>\n",
       "</table>\n",
       "<p>2973670 rows × 9 columns</p>\n",
       "</div>"
      ],
      "text/plain": [
       "       Ativo        Data      Hora Abertura Máximo Mínimo Fechamento     Volume Quantidade\n",
       "0      AALR3  06/06/2023  11:20:00    23,17  23,17  23,17      23,17   4.634,00      200.0\n",
       "1      AALR3  06/06/2023  11:15:00    23,17  23,19  23,16      23,17  69.494,00        3.0\n",
       "2      AALR3  06/06/2023  11:10:00    23,19  23,19  23,18      23,18  13.912,00      600.0\n",
       "3      AALR3  06/06/2023  11:05:00    23,19  23,21  23,19      23,21  18.559,00      800.0\n",
       "4      AALR3  06/06/2023  11:00:00    23,19  23,21  23,19      23,21  34.793,00        1.5\n",
       "...      ...         ...       ...      ...    ...    ...        ...        ...        ...\n",
       "10027  ZAMP3  19/12/2022  16:55:00     4,53   4,54   4,53       4,54  29.498,00      6.500\n",
       "10028  ZAMP3  19/12/2022  16:50:00     4,54   4,55   4,53       4,53  69.912,00     15.400\n",
       "10029  ZAMP3  19/12/2022  16:45:00     4,57   4,57   4,54       4,54  36.878,00      8.100\n",
       "10030  ZAMP3  19/12/2022  16:40:00     4,57   4,58   4,56       4,56  18.266,00      4.000\n",
       "10031  ZAMP3  19/12/2022  16:35:00     4,56   4,57   4,56       4,57  30.600,00      6.700\n",
       "\n",
       "[2973670 rows x 9 columns]"
      ]
     },
     "execution_count": 47,
     "metadata": {},
     "output_type": "execute_result"
    }
   ],
   "source": [
    "df1"
   ]
  },
  {
   "cell_type": "markdown",
   "id": "4e904eed",
   "metadata": {},
   "source": [
    "## 1.1 Rename Columns"
   ]
  },
  {
   "cell_type": "code",
   "execution_count": 48,
   "id": "6e647886",
   "metadata": {
    "ExecuteTime": {
     "end_time": "2023-06-16T14:25:10.887552Z",
     "start_time": "2023-06-16T14:25:10.811850Z"
    }
   },
   "outputs": [],
   "source": [
    "df1 = rename_columns(df1)"
   ]
  },
  {
   "cell_type": "markdown",
   "id": "118ffed4",
   "metadata": {},
   "source": [
    "## 1.2 Data Types"
   ]
  },
  {
   "cell_type": "code",
   "execution_count": 49,
   "id": "49be1e7e",
   "metadata": {
    "ExecuteTime": {
     "end_time": "2023-06-16T14:25:11.477655Z",
     "start_time": "2023-06-16T14:25:11.466859Z"
    }
   },
   "outputs": [
    {
     "data": {
      "text/plain": [
       "ativo         object\n",
       "data          object\n",
       "hora          object\n",
       "abertura      object\n",
       "maximo        object\n",
       "minimo        object\n",
       "fechamento    object\n",
       "volume        object\n",
       "quantidade    object\n",
       "dtype: object"
      ]
     },
     "execution_count": 49,
     "metadata": {},
     "output_type": "execute_result"
    }
   ],
   "source": [
    "df1.dtypes"
   ]
  },
  {
   "cell_type": "code",
   "execution_count": 50,
   "id": "327bebe4",
   "metadata": {
    "ExecuteTime": {
     "end_time": "2023-06-16T14:25:58.196524Z",
     "start_time": "2023-06-16T14:25:11.735635Z"
    }
   },
   "outputs": [],
   "source": [
    "df1 = data_types(df1)"
   ]
  },
  {
   "cell_type": "markdown",
   "id": "ade87ecb",
   "metadata": {},
   "source": [
    "## 1.3 Check NA"
   ]
  },
  {
   "cell_type": "code",
   "execution_count": 51,
   "id": "2214f271",
   "metadata": {
    "ExecuteTime": {
     "end_time": "2023-06-16T14:25:58.446443Z",
     "start_time": "2023-06-16T14:25:58.198575Z"
    }
   },
   "outputs": [
    {
     "data": {
      "text/plain": [
       "ativo         0\n",
       "data          0\n",
       "hora          0\n",
       "abertura      0\n",
       "maximo        0\n",
       "minimo        0\n",
       "fechamento    0\n",
       "volume        0\n",
       "quantidade    0\n",
       "dtype: int64"
      ]
     },
     "execution_count": 51,
     "metadata": {},
     "output_type": "execute_result"
    }
   ],
   "source": [
    "df1.isna().sum()"
   ]
  },
  {
   "cell_type": "markdown",
   "id": "14cd55f9",
   "metadata": {},
   "source": [
    "## 1.4 Data Shape"
   ]
  },
  {
   "cell_type": "code",
   "execution_count": 52,
   "id": "bb456fcc",
   "metadata": {
    "ExecuteTime": {
     "end_time": "2023-06-16T14:25:58.462255Z",
     "start_time": "2023-06-16T14:25:58.447444Z"
    }
   },
   "outputs": [
    {
     "data": {
      "text/plain": [
       "(2973670, 9)"
      ]
     },
     "execution_count": 52,
     "metadata": {},
     "output_type": "execute_result"
    }
   ],
   "source": [
    "df1.shape"
   ]
  },
  {
   "cell_type": "markdown",
   "id": "416a056d",
   "metadata": {},
   "source": [
    "## 1.5 Changing Time"
   ]
  },
  {
   "cell_type": "code",
   "execution_count": 53,
   "id": "e221b55f",
   "metadata": {
    "ExecuteTime": {
     "end_time": "2023-06-16T14:25:58.758192Z",
     "start_time": "2023-06-16T14:25:58.464390Z"
    }
   },
   "outputs": [],
   "source": [
    "df1 = changing_time(df1)"
   ]
  },
  {
   "cell_type": "markdown",
   "id": "5c87f8c5",
   "metadata": {},
   "source": [
    "## 1.6 Create Response Variable"
   ]
  },
  {
   "cell_type": "code",
   "execution_count": 54,
   "id": "3b299fec",
   "metadata": {
    "ExecuteTime": {
     "end_time": "2023-06-16T14:25:58.774206Z",
     "start_time": "2023-06-16T14:25:58.759193Z"
    }
   },
   "outputs": [],
   "source": [
    "df1['variacao'] = (df1['fechamento'] - df1['abertura']) / df1['abertura']"
   ]
  },
  {
   "cell_type": "code",
   "execution_count": 56,
   "id": "0c9b4c43",
   "metadata": {
    "ExecuteTime": {
     "end_time": "2023-06-16T14:27:48.689649Z",
     "start_time": "2023-06-16T14:27:48.665069Z"
    }
   },
   "outputs": [
    {
     "data": {
      "text/html": [
       "<div>\n",
       "<style scoped>\n",
       "    .dataframe tbody tr th:only-of-type {\n",
       "        vertical-align: middle;\n",
       "    }\n",
       "\n",
       "    .dataframe tbody tr th {\n",
       "        vertical-align: top;\n",
       "    }\n",
       "\n",
       "    .dataframe thead th {\n",
       "        text-align: right;\n",
       "    }\n",
       "</style>\n",
       "<table border=\"1\" class=\"dataframe\">\n",
       "  <thead>\n",
       "    <tr style=\"text-align: right;\">\n",
       "      <th></th>\n",
       "      <th>ativo</th>\n",
       "      <th>data</th>\n",
       "      <th>hora</th>\n",
       "      <th>abertura</th>\n",
       "      <th>maximo</th>\n",
       "      <th>minimo</th>\n",
       "      <th>fechamento</th>\n",
       "      <th>volume</th>\n",
       "      <th>quantidade</th>\n",
       "      <th>variacao</th>\n",
       "    </tr>\n",
       "  </thead>\n",
       "  <tbody>\n",
       "    <tr>\n",
       "      <th>16</th>\n",
       "      <td>AALR3</td>\n",
       "      <td>2023-06-05</td>\n",
       "      <td>1900-01-01 17:50:00</td>\n",
       "      <td>2320.0</td>\n",
       "      <td>2320.0</td>\n",
       "      <td>2315.0</td>\n",
       "      <td>2315.0</td>\n",
       "      <td>1317308.0</td>\n",
       "      <td>56.9</td>\n",
       "      <td>-0.002155</td>\n",
       "    </tr>\n",
       "    <tr>\n",
       "      <th>17</th>\n",
       "      <td>AALR3</td>\n",
       "      <td>2023-06-05</td>\n",
       "      <td>1900-01-01 17:45:00</td>\n",
       "      <td>2321.0</td>\n",
       "      <td>2321.0</td>\n",
       "      <td>2318.0</td>\n",
       "      <td>2318.0</td>\n",
       "      <td>13918.0</td>\n",
       "      <td>600.0</td>\n",
       "      <td>-0.001293</td>\n",
       "    </tr>\n",
       "    <tr>\n",
       "      <th>18</th>\n",
       "      <td>AALR3</td>\n",
       "      <td>2023-06-05</td>\n",
       "      <td>1900-01-01 17:40:00</td>\n",
       "      <td>2320.0</td>\n",
       "      <td>2322.0</td>\n",
       "      <td>2316.0</td>\n",
       "      <td>2319.0</td>\n",
       "      <td>171597.0</td>\n",
       "      <td>7.4</td>\n",
       "      <td>-0.000431</td>\n",
       "    </tr>\n",
       "    <tr>\n",
       "      <th>19</th>\n",
       "      <td>AALR3</td>\n",
       "      <td>2023-06-05</td>\n",
       "      <td>1900-01-01 17:35:00</td>\n",
       "      <td>2318.0</td>\n",
       "      <td>2320.0</td>\n",
       "      <td>2318.0</td>\n",
       "      <td>2319.0</td>\n",
       "      <td>18554.0</td>\n",
       "      <td>800.0</td>\n",
       "      <td>0.000431</td>\n",
       "    </tr>\n",
       "    <tr>\n",
       "      <th>20</th>\n",
       "      <td>AALR3</td>\n",
       "      <td>2023-06-05</td>\n",
       "      <td>1900-01-01 17:30:00</td>\n",
       "      <td>2318.0</td>\n",
       "      <td>2324.0</td>\n",
       "      <td>2318.0</td>\n",
       "      <td>2319.0</td>\n",
       "      <td>41777.0</td>\n",
       "      <td>1.8</td>\n",
       "      <td>0.000431</td>\n",
       "    </tr>\n",
       "  </tbody>\n",
       "</table>\n",
       "</div>"
      ],
      "text/plain": [
       "    ativo       data                hora  abertura  maximo  minimo  fechamento     volume  quantidade  variacao\n",
       "16  AALR3 2023-06-05 1900-01-01 17:50:00    2320.0  2320.0  2315.0      2315.0  1317308.0        56.9 -0.002155\n",
       "17  AALR3 2023-06-05 1900-01-01 17:45:00    2321.0  2321.0  2318.0      2318.0    13918.0       600.0 -0.001293\n",
       "18  AALR3 2023-06-05 1900-01-01 17:40:00    2320.0  2322.0  2316.0      2319.0   171597.0         7.4 -0.000431\n",
       "19  AALR3 2023-06-05 1900-01-01 17:35:00    2318.0  2320.0  2318.0      2319.0    18554.0       800.0  0.000431\n",
       "20  AALR3 2023-06-05 1900-01-01 17:30:00    2318.0  2324.0  2318.0      2319.0    41777.0         1.8  0.000431"
      ]
     },
     "execution_count": 56,
     "metadata": {},
     "output_type": "execute_result"
    }
   ],
   "source": [
    "df1.head()"
   ]
  },
  {
   "cell_type": "markdown",
   "id": "3e5d4828",
   "metadata": {},
   "source": [
    "# 2.0 Feature Engineering"
   ]
  },
  {
   "cell_type": "code",
   "execution_count": 67,
   "id": "e6a3d6b1",
   "metadata": {
    "ExecuteTime": {
     "end_time": "2023-06-16T14:41:01.911328Z",
     "start_time": "2023-06-16T14:41:01.880366Z"
    }
   },
   "outputs": [],
   "source": [
    "df2 = df1.copy()"
   ]
  },
  {
   "cell_type": "code",
   "execution_count": 85,
   "id": "62c51f5c",
   "metadata": {
    "ExecuteTime": {
     "end_time": "2023-06-16T14:50:46.975982Z",
     "start_time": "2023-06-16T14:50:46.953602Z"
    }
   },
   "outputs": [
    {
     "data": {
      "text/html": [
       "<div>\n",
       "<style scoped>\n",
       "    .dataframe tbody tr th:only-of-type {\n",
       "        vertical-align: middle;\n",
       "    }\n",
       "\n",
       "    .dataframe tbody tr th {\n",
       "        vertical-align: top;\n",
       "    }\n",
       "\n",
       "    .dataframe thead th {\n",
       "        text-align: right;\n",
       "    }\n",
       "</style>\n",
       "<table border=\"1\" class=\"dataframe\">\n",
       "  <thead>\n",
       "    <tr style=\"text-align: right;\">\n",
       "      <th></th>\n",
       "      <th>ativo</th>\n",
       "      <th>data</th>\n",
       "      <th>hora</th>\n",
       "      <th>abertura</th>\n",
       "      <th>maximo</th>\n",
       "      <th>minimo</th>\n",
       "      <th>fechamento</th>\n",
       "      <th>volume</th>\n",
       "      <th>quantidade</th>\n",
       "      <th>variacao</th>\n",
       "      <th>tipo_candle</th>\n",
       "    </tr>\n",
       "  </thead>\n",
       "  <tbody>\n",
       "    <tr>\n",
       "      <th>16</th>\n",
       "      <td>AALR3</td>\n",
       "      <td>2023-06-05</td>\n",
       "      <td>1900-01-01 17:50:00</td>\n",
       "      <td>2320.0</td>\n",
       "      <td>2320.0</td>\n",
       "      <td>2315.0</td>\n",
       "      <td>2315.0</td>\n",
       "      <td>1317308.0</td>\n",
       "      <td>56.9</td>\n",
       "      <td>-0.002155</td>\n",
       "      <td>negativo</td>\n",
       "    </tr>\n",
       "    <tr>\n",
       "      <th>17</th>\n",
       "      <td>AALR3</td>\n",
       "      <td>2023-06-05</td>\n",
       "      <td>1900-01-01 17:45:00</td>\n",
       "      <td>2321.0</td>\n",
       "      <td>2321.0</td>\n",
       "      <td>2318.0</td>\n",
       "      <td>2318.0</td>\n",
       "      <td>13918.0</td>\n",
       "      <td>600.0</td>\n",
       "      <td>-0.001293</td>\n",
       "      <td>negativo</td>\n",
       "    </tr>\n",
       "    <tr>\n",
       "      <th>18</th>\n",
       "      <td>AALR3</td>\n",
       "      <td>2023-06-05</td>\n",
       "      <td>1900-01-01 17:40:00</td>\n",
       "      <td>2320.0</td>\n",
       "      <td>2322.0</td>\n",
       "      <td>2316.0</td>\n",
       "      <td>2319.0</td>\n",
       "      <td>171597.0</td>\n",
       "      <td>7.4</td>\n",
       "      <td>-0.000431</td>\n",
       "      <td>negativo</td>\n",
       "    </tr>\n",
       "    <tr>\n",
       "      <th>19</th>\n",
       "      <td>AALR3</td>\n",
       "      <td>2023-06-05</td>\n",
       "      <td>1900-01-01 17:35:00</td>\n",
       "      <td>2318.0</td>\n",
       "      <td>2320.0</td>\n",
       "      <td>2318.0</td>\n",
       "      <td>2319.0</td>\n",
       "      <td>18554.0</td>\n",
       "      <td>800.0</td>\n",
       "      <td>0.000431</td>\n",
       "      <td>positivo</td>\n",
       "    </tr>\n",
       "    <tr>\n",
       "      <th>20</th>\n",
       "      <td>AALR3</td>\n",
       "      <td>2023-06-05</td>\n",
       "      <td>1900-01-01 17:30:00</td>\n",
       "      <td>2318.0</td>\n",
       "      <td>2324.0</td>\n",
       "      <td>2318.0</td>\n",
       "      <td>2319.0</td>\n",
       "      <td>41777.0</td>\n",
       "      <td>1.8</td>\n",
       "      <td>0.000431</td>\n",
       "      <td>positivo</td>\n",
       "    </tr>\n",
       "  </tbody>\n",
       "</table>\n",
       "</div>"
      ],
      "text/plain": [
       "    ativo       data                hora  abertura  maximo  minimo  fechamento     volume  quantidade  variacao tipo_candle\n",
       "16  AALR3 2023-06-05 1900-01-01 17:50:00    2320.0  2320.0  2315.0      2315.0  1317308.0        56.9 -0.002155    negativo\n",
       "17  AALR3 2023-06-05 1900-01-01 17:45:00    2321.0  2321.0  2318.0      2318.0    13918.0       600.0 -0.001293    negativo\n",
       "18  AALR3 2023-06-05 1900-01-01 17:40:00    2320.0  2322.0  2316.0      2319.0   171597.0         7.4 -0.000431    negativo\n",
       "19  AALR3 2023-06-05 1900-01-01 17:35:00    2318.0  2320.0  2318.0      2319.0    18554.0       800.0  0.000431    positivo\n",
       "20  AALR3 2023-06-05 1900-01-01 17:30:00    2318.0  2324.0  2318.0      2319.0    41777.0         1.8  0.000431    positivo"
      ]
     },
     "execution_count": 85,
     "metadata": {},
     "output_type": "execute_result"
    }
   ],
   "source": [
    "df2.head()"
   ]
  },
  {
   "cell_type": "markdown",
   "id": "7aadfce0",
   "metadata": {},
   "source": [
    "## Selecionar os ultimos 30 dias uteis"
   ]
  },
  {
   "cell_type": "code",
   "execution_count": 140,
   "id": "5f4513c5",
   "metadata": {
    "ExecuteTime": {
     "end_time": "2023-06-16T16:02:32.362391Z",
     "start_time": "2023-06-16T16:02:32.337485Z"
    }
   },
   "outputs": [],
   "source": [
    "ultimos_30_dias = df2['data'].unique()[:30]"
   ]
  },
  {
   "cell_type": "code",
   "execution_count": 143,
   "id": "8db67d6d",
   "metadata": {
    "ExecuteTime": {
     "end_time": "2023-06-16T16:03:44.845751Z",
     "start_time": "2023-06-16T16:03:44.824652Z"
    }
   },
   "outputs": [],
   "source": [
    "df2_30 = df2.loc[df2['data'].isin(ultimos_30_dias),:]"
   ]
  },
  {
   "cell_type": "markdown",
   "id": "e6ea3f4c",
   "metadata": {},
   "source": [
    "## Candle Positivo/Negativo"
   ]
  },
  {
   "cell_type": "code",
   "execution_count": 69,
   "id": "190af528",
   "metadata": {
    "ExecuteTime": {
     "end_time": "2023-06-16T14:41:09.283550Z",
     "start_time": "2023-06-16T14:41:03.303011Z"
    }
   },
   "outputs": [],
   "source": [
    "df2_30['tipo_candle'] = np.zeros\n",
    "df2_30['tipo_candle'] = df2_30.apply(lambda x: 'positivo' if x['variacao'] > 0 else ('zero' if x['variacao'] == 0 else 'negativo'), axis=1)"
   ]
  },
  {
   "cell_type": "markdown",
   "id": "f9b5bb09",
   "metadata": {},
   "source": [
    "## Separar em primeira e segunda hora"
   ]
  },
  {
   "cell_type": "code",
   "execution_count": 154,
   "id": "97324440",
   "metadata": {
    "ExecuteTime": {
     "end_time": "2023-06-16T16:06:46.314499Z",
     "start_time": "2023-06-16T16:06:46.285811Z"
    }
   },
   "outputs": [],
   "source": [
    "df_primeira_hora = df2_30.loc[df2_30['hora'].dt.hour < 17,:]\n",
    "df_segunda_hora = df2_30.loc[(df2_30['hora'].dt.hour >= 17) & (df2_30['hora'].dt.minute != 50),:]\n",
    "df_leilao = df2_30.loc[(df2_30['hora'].dt.hour >= 17) & (df2_30['hora'].dt.minute == 50),:]"
   ]
  },
  {
   "cell_type": "markdown",
   "id": "f2f9e030",
   "metadata": {},
   "source": [
    "## Separar 1,3,5,7,10,15,20,25,30 dias"
   ]
  },
  {
   "cell_type": "code",
   "execution_count": 190,
   "id": "b753e3e1",
   "metadata": {
    "ExecuteTime": {
     "end_time": "2023-06-16T18:48:22.766389Z",
     "start_time": "2023-06-16T18:48:22.686772Z"
    }
   },
   "outputs": [],
   "source": [
    "dias_lista = [1,3,5,7,10,15,20,25,30]\n",
    "df_dias = {}\n",
    "\n",
    "for dias in dias_lista:\n",
    "    ultimos_dias = df2_30['data'].unique()[:dias]\n",
    "    df_filtrado = df2_30.loc[df2_30['data'].isin(ultimos_dias),:]\n",
    "    df_dias[dias] = df_filtrado.copy()"
   ]
  },
  {
   "cell_type": "code",
   "execution_count": 197,
   "id": "695f56c1",
   "metadata": {
    "ExecuteTime": {
     "end_time": "2023-06-16T18:50:01.110731Z",
     "start_time": "2023-06-16T18:50:01.081407Z"
    }
   },
   "outputs": [
    {
     "data": {
      "text/html": [
       "<div>\n",
       "<style scoped>\n",
       "    .dataframe tbody tr th:only-of-type {\n",
       "        vertical-align: middle;\n",
       "    }\n",
       "\n",
       "    .dataframe tbody tr th {\n",
       "        vertical-align: top;\n",
       "    }\n",
       "\n",
       "    .dataframe thead th {\n",
       "        text-align: right;\n",
       "    }\n",
       "</style>\n",
       "<table border=\"1\" class=\"dataframe\">\n",
       "  <thead>\n",
       "    <tr style=\"text-align: right;\">\n",
       "      <th></th>\n",
       "      <th>ativo</th>\n",
       "      <th>data</th>\n",
       "      <th>hora</th>\n",
       "      <th>abertura</th>\n",
       "      <th>maximo</th>\n",
       "      <th>minimo</th>\n",
       "      <th>fechamento</th>\n",
       "      <th>volume</th>\n",
       "      <th>quantidade</th>\n",
       "      <th>variacao</th>\n",
       "      <th>tipo_candle</th>\n",
       "    </tr>\n",
       "  </thead>\n",
       "  <tbody>\n",
       "    <tr>\n",
       "      <th>16</th>\n",
       "      <td>AALR3</td>\n",
       "      <td>2023-06-05</td>\n",
       "      <td>1900-01-01 17:50:00</td>\n",
       "      <td>2320.0</td>\n",
       "      <td>2320.0</td>\n",
       "      <td>2315.0</td>\n",
       "      <td>2315.0</td>\n",
       "      <td>1317308.0</td>\n",
       "      <td>56.9</td>\n",
       "      <td>-0.002155</td>\n",
       "      <td>negativo</td>\n",
       "    </tr>\n",
       "    <tr>\n",
       "      <th>17</th>\n",
       "      <td>AALR3</td>\n",
       "      <td>2023-06-05</td>\n",
       "      <td>1900-01-01 17:45:00</td>\n",
       "      <td>2321.0</td>\n",
       "      <td>2321.0</td>\n",
       "      <td>2318.0</td>\n",
       "      <td>2318.0</td>\n",
       "      <td>13918.0</td>\n",
       "      <td>600.0</td>\n",
       "      <td>-0.001293</td>\n",
       "      <td>negativo</td>\n",
       "    </tr>\n",
       "    <tr>\n",
       "      <th>18</th>\n",
       "      <td>AALR3</td>\n",
       "      <td>2023-06-05</td>\n",
       "      <td>1900-01-01 17:40:00</td>\n",
       "      <td>2320.0</td>\n",
       "      <td>2322.0</td>\n",
       "      <td>2316.0</td>\n",
       "      <td>2319.0</td>\n",
       "      <td>171597.0</td>\n",
       "      <td>7.4</td>\n",
       "      <td>-0.000431</td>\n",
       "      <td>negativo</td>\n",
       "    </tr>\n",
       "    <tr>\n",
       "      <th>19</th>\n",
       "      <td>AALR3</td>\n",
       "      <td>2023-06-05</td>\n",
       "      <td>1900-01-01 17:35:00</td>\n",
       "      <td>2318.0</td>\n",
       "      <td>2320.0</td>\n",
       "      <td>2318.0</td>\n",
       "      <td>2319.0</td>\n",
       "      <td>18554.0</td>\n",
       "      <td>800.0</td>\n",
       "      <td>0.000431</td>\n",
       "      <td>positivo</td>\n",
       "    </tr>\n",
       "    <tr>\n",
       "      <th>20</th>\n",
       "      <td>AALR3</td>\n",
       "      <td>2023-06-05</td>\n",
       "      <td>1900-01-01 17:30:00</td>\n",
       "      <td>2318.0</td>\n",
       "      <td>2324.0</td>\n",
       "      <td>2318.0</td>\n",
       "      <td>2319.0</td>\n",
       "      <td>41777.0</td>\n",
       "      <td>1.8</td>\n",
       "      <td>0.000431</td>\n",
       "      <td>positivo</td>\n",
       "    </tr>\n",
       "    <tr>\n",
       "      <th>21</th>\n",
       "      <td>AALR3</td>\n",
       "      <td>2023-06-05</td>\n",
       "      <td>1900-01-01 17:25:00</td>\n",
       "      <td>2320.0</td>\n",
       "      <td>2321.0</td>\n",
       "      <td>2318.0</td>\n",
       "      <td>2320.0</td>\n",
       "      <td>27834.0</td>\n",
       "      <td>1.2</td>\n",
       "      <td>0.000000</td>\n",
       "      <td>zero</td>\n",
       "    </tr>\n",
       "    <tr>\n",
       "      <th>22</th>\n",
       "      <td>AALR3</td>\n",
       "      <td>2023-06-05</td>\n",
       "      <td>1900-01-01 17:20:00</td>\n",
       "      <td>2314.0</td>\n",
       "      <td>2320.0</td>\n",
       "      <td>2314.0</td>\n",
       "      <td>2320.0</td>\n",
       "      <td>27811.0</td>\n",
       "      <td>1.2</td>\n",
       "      <td>0.002593</td>\n",
       "      <td>positivo</td>\n",
       "    </tr>\n",
       "    <tr>\n",
       "      <th>23</th>\n",
       "      <td>AALR3</td>\n",
       "      <td>2023-06-05</td>\n",
       "      <td>1900-01-01 17:15:00</td>\n",
       "      <td>2310.0</td>\n",
       "      <td>2314.0</td>\n",
       "      <td>2310.0</td>\n",
       "      <td>2314.0</td>\n",
       "      <td>39299.0</td>\n",
       "      <td>1.7</td>\n",
       "      <td>0.001732</td>\n",
       "      <td>positivo</td>\n",
       "    </tr>\n",
       "    <tr>\n",
       "      <th>24</th>\n",
       "      <td>AALR3</td>\n",
       "      <td>2023-06-05</td>\n",
       "      <td>1900-01-01 17:10:00</td>\n",
       "      <td>2311.0</td>\n",
       "      <td>2312.0</td>\n",
       "      <td>2310.0</td>\n",
       "      <td>2312.0</td>\n",
       "      <td>13866.0</td>\n",
       "      <td>600.0</td>\n",
       "      <td>0.000433</td>\n",
       "      <td>positivo</td>\n",
       "    </tr>\n",
       "    <tr>\n",
       "      <th>25</th>\n",
       "      <td>AALR3</td>\n",
       "      <td>2023-06-05</td>\n",
       "      <td>1900-01-01 17:05:00</td>\n",
       "      <td>2311.0</td>\n",
       "      <td>2311.0</td>\n",
       "      <td>2310.0</td>\n",
       "      <td>2310.0</td>\n",
       "      <td>11553.0</td>\n",
       "      <td>500.0</td>\n",
       "      <td>-0.000433</td>\n",
       "      <td>negativo</td>\n",
       "    </tr>\n",
       "    <tr>\n",
       "      <th>26</th>\n",
       "      <td>AALR3</td>\n",
       "      <td>2023-06-05</td>\n",
       "      <td>1900-01-01 17:00:00</td>\n",
       "      <td>2309.0</td>\n",
       "      <td>2311.0</td>\n",
       "      <td>2309.0</td>\n",
       "      <td>2310.0</td>\n",
       "      <td>9241.0</td>\n",
       "      <td>400.0</td>\n",
       "      <td>0.000433</td>\n",
       "      <td>positivo</td>\n",
       "    </tr>\n",
       "    <tr>\n",
       "      <th>27</th>\n",
       "      <td>AALR3</td>\n",
       "      <td>2023-06-05</td>\n",
       "      <td>1900-01-01 16:55:00</td>\n",
       "      <td>2310.0</td>\n",
       "      <td>2310.0</td>\n",
       "      <td>2310.0</td>\n",
       "      <td>2310.0</td>\n",
       "      <td>6930.0</td>\n",
       "      <td>300.0</td>\n",
       "      <td>0.000000</td>\n",
       "      <td>zero</td>\n",
       "    </tr>\n",
       "    <tr>\n",
       "      <th>28</th>\n",
       "      <td>AALR3</td>\n",
       "      <td>2023-06-05</td>\n",
       "      <td>1900-01-01 16:50:00</td>\n",
       "      <td>2311.0</td>\n",
       "      <td>2311.0</td>\n",
       "      <td>2309.0</td>\n",
       "      <td>2309.0</td>\n",
       "      <td>9240.0</td>\n",
       "      <td>400.0</td>\n",
       "      <td>-0.000865</td>\n",
       "      <td>negativo</td>\n",
       "    </tr>\n",
       "    <tr>\n",
       "      <th>29</th>\n",
       "      <td>AALR3</td>\n",
       "      <td>2023-06-05</td>\n",
       "      <td>1900-01-01 16:45:00</td>\n",
       "      <td>2312.0</td>\n",
       "      <td>2313.0</td>\n",
       "      <td>2311.0</td>\n",
       "      <td>2312.0</td>\n",
       "      <td>11559.0</td>\n",
       "      <td>500.0</td>\n",
       "      <td>0.000000</td>\n",
       "      <td>zero</td>\n",
       "    </tr>\n",
       "    <tr>\n",
       "      <th>30</th>\n",
       "      <td>AALR3</td>\n",
       "      <td>2023-06-05</td>\n",
       "      <td>1900-01-01 16:40:00</td>\n",
       "      <td>2309.0</td>\n",
       "      <td>2312.0</td>\n",
       "      <td>2309.0</td>\n",
       "      <td>2312.0</td>\n",
       "      <td>11550.0</td>\n",
       "      <td>500.0</td>\n",
       "      <td>0.001299</td>\n",
       "      <td>positivo</td>\n",
       "    </tr>\n",
       "    <tr>\n",
       "      <th>31</th>\n",
       "      <td>AALR3</td>\n",
       "      <td>2023-06-05</td>\n",
       "      <td>1900-01-01 16:35:00</td>\n",
       "      <td>2299.0</td>\n",
       "      <td>2309.0</td>\n",
       "      <td>2299.0</td>\n",
       "      <td>2308.0</td>\n",
       "      <td>320714.0</td>\n",
       "      <td>13.9</td>\n",
       "      <td>0.003915</td>\n",
       "      <td>positivo</td>\n",
       "    </tr>\n",
       "    <tr>\n",
       "      <th>32</th>\n",
       "      <td>AALR3</td>\n",
       "      <td>2023-06-05</td>\n",
       "      <td>1900-01-01 16:30:00</td>\n",
       "      <td>2298.0</td>\n",
       "      <td>2300.0</td>\n",
       "      <td>2298.0</td>\n",
       "      <td>2300.0</td>\n",
       "      <td>18394.0</td>\n",
       "      <td>800.0</td>\n",
       "      <td>0.000870</td>\n",
       "      <td>positivo</td>\n",
       "    </tr>\n",
       "    <tr>\n",
       "      <th>33</th>\n",
       "      <td>AALR3</td>\n",
       "      <td>2023-06-05</td>\n",
       "      <td>1900-01-01 16:25:00</td>\n",
       "      <td>2300.0</td>\n",
       "      <td>2302.0</td>\n",
       "      <td>2299.0</td>\n",
       "      <td>2301.0</td>\n",
       "      <td>32208.0</td>\n",
       "      <td>1.4</td>\n",
       "      <td>0.000435</td>\n",
       "      <td>positivo</td>\n",
       "    </tr>\n",
       "    <tr>\n",
       "      <th>34</th>\n",
       "      <td>AALR3</td>\n",
       "      <td>2023-06-05</td>\n",
       "      <td>1900-01-01 16:20:00</td>\n",
       "      <td>2296.0</td>\n",
       "      <td>2300.0</td>\n",
       "      <td>2295.0</td>\n",
       "      <td>2300.0</td>\n",
       "      <td>66635.0</td>\n",
       "      <td>2.9</td>\n",
       "      <td>0.001742</td>\n",
       "      <td>positivo</td>\n",
       "    </tr>\n",
       "    <tr>\n",
       "      <th>35</th>\n",
       "      <td>AALR3</td>\n",
       "      <td>2023-06-05</td>\n",
       "      <td>1900-01-01 16:15:00</td>\n",
       "      <td>2294.0</td>\n",
       "      <td>2295.0</td>\n",
       "      <td>2293.0</td>\n",
       "      <td>2293.0</td>\n",
       "      <td>11470.0</td>\n",
       "      <td>500.0</td>\n",
       "      <td>-0.000436</td>\n",
       "      <td>negativo</td>\n",
       "    </tr>\n",
       "    <tr>\n",
       "      <th>36</th>\n",
       "      <td>AALR3</td>\n",
       "      <td>2023-06-05</td>\n",
       "      <td>1900-01-01 16:10:00</td>\n",
       "      <td>2295.0</td>\n",
       "      <td>2295.0</td>\n",
       "      <td>2293.0</td>\n",
       "      <td>2295.0</td>\n",
       "      <td>6883.0</td>\n",
       "      <td>300.0</td>\n",
       "      <td>0.000000</td>\n",
       "      <td>zero</td>\n",
       "    </tr>\n",
       "    <tr>\n",
       "      <th>37</th>\n",
       "      <td>AALR3</td>\n",
       "      <td>2023-06-05</td>\n",
       "      <td>1900-01-01 16:05:00</td>\n",
       "      <td>2296.0</td>\n",
       "      <td>2297.0</td>\n",
       "      <td>2293.0</td>\n",
       "      <td>2295.0</td>\n",
       "      <td>18364.0</td>\n",
       "      <td>800.0</td>\n",
       "      <td>-0.000436</td>\n",
       "      <td>negativo</td>\n",
       "    </tr>\n",
       "    <tr>\n",
       "      <th>38</th>\n",
       "      <td>AALR3</td>\n",
       "      <td>2023-06-05</td>\n",
       "      <td>1900-01-01 16:00:00</td>\n",
       "      <td>2289.0</td>\n",
       "      <td>2297.0</td>\n",
       "      <td>2289.0</td>\n",
       "      <td>2296.0</td>\n",
       "      <td>45891.0</td>\n",
       "      <td>2.0</td>\n",
       "      <td>0.003058</td>\n",
       "      <td>positivo</td>\n",
       "    </tr>\n",
       "    <tr>\n",
       "      <th>95</th>\n",
       "      <td>AALR3</td>\n",
       "      <td>2023-06-02</td>\n",
       "      <td>1900-01-01 17:50:00</td>\n",
       "      <td>2297.0</td>\n",
       "      <td>2299.0</td>\n",
       "      <td>2293.0</td>\n",
       "      <td>2299.0</td>\n",
       "      <td>1314907.0</td>\n",
       "      <td>57.2</td>\n",
       "      <td>0.000871</td>\n",
       "      <td>positivo</td>\n",
       "    </tr>\n",
       "    <tr>\n",
       "      <th>96</th>\n",
       "      <td>AALR3</td>\n",
       "      <td>2023-06-02</td>\n",
       "      <td>1900-01-01 17:45:00</td>\n",
       "      <td>2298.0</td>\n",
       "      <td>2298.0</td>\n",
       "      <td>2296.0</td>\n",
       "      <td>2297.0</td>\n",
       "      <td>39050.0</td>\n",
       "      <td>1.7</td>\n",
       "      <td>-0.000435</td>\n",
       "      <td>negativo</td>\n",
       "    </tr>\n",
       "    <tr>\n",
       "      <th>97</th>\n",
       "      <td>AALR3</td>\n",
       "      <td>2023-06-02</td>\n",
       "      <td>1900-01-01 17:40:00</td>\n",
       "      <td>2295.0</td>\n",
       "      <td>2298.0</td>\n",
       "      <td>2295.0</td>\n",
       "      <td>2298.0</td>\n",
       "      <td>27556.0</td>\n",
       "      <td>1.2</td>\n",
       "      <td>0.001307</td>\n",
       "      <td>positivo</td>\n",
       "    </tr>\n",
       "    <tr>\n",
       "      <th>98</th>\n",
       "      <td>AALR3</td>\n",
       "      <td>2023-06-02</td>\n",
       "      <td>1900-01-01 17:35:00</td>\n",
       "      <td>2294.0</td>\n",
       "      <td>2296.0</td>\n",
       "      <td>2293.0</td>\n",
       "      <td>2293.0</td>\n",
       "      <td>50469.0</td>\n",
       "      <td>2.2</td>\n",
       "      <td>-0.000436</td>\n",
       "      <td>negativo</td>\n",
       "    </tr>\n",
       "    <tr>\n",
       "      <th>99</th>\n",
       "      <td>AALR3</td>\n",
       "      <td>2023-06-02</td>\n",
       "      <td>1900-01-01 17:30:00</td>\n",
       "      <td>2293.0</td>\n",
       "      <td>2293.0</td>\n",
       "      <td>2293.0</td>\n",
       "      <td>2293.0</td>\n",
       "      <td>6879.0</td>\n",
       "      <td>300.0</td>\n",
       "      <td>0.000000</td>\n",
       "      <td>zero</td>\n",
       "    </tr>\n",
       "    <tr>\n",
       "      <th>100</th>\n",
       "      <td>AALR3</td>\n",
       "      <td>2023-06-02</td>\n",
       "      <td>1900-01-01 17:25:00</td>\n",
       "      <td>2289.0</td>\n",
       "      <td>2294.0</td>\n",
       "      <td>2287.0</td>\n",
       "      <td>2292.0</td>\n",
       "      <td>84777.0</td>\n",
       "      <td>3.7</td>\n",
       "      <td>0.001311</td>\n",
       "      <td>positivo</td>\n",
       "    </tr>\n",
       "    <tr>\n",
       "      <th>101</th>\n",
       "      <td>AALR3</td>\n",
       "      <td>2023-06-02</td>\n",
       "      <td>1900-01-01 17:20:00</td>\n",
       "      <td>2291.0</td>\n",
       "      <td>2293.0</td>\n",
       "      <td>2282.0</td>\n",
       "      <td>2290.0</td>\n",
       "      <td>1412157.0</td>\n",
       "      <td>61.8</td>\n",
       "      <td>-0.000436</td>\n",
       "      <td>negativo</td>\n",
       "    </tr>\n",
       "    <tr>\n",
       "      <th>102</th>\n",
       "      <td>AALR3</td>\n",
       "      <td>2023-06-02</td>\n",
       "      <td>1900-01-01 17:15:00</td>\n",
       "      <td>2290.0</td>\n",
       "      <td>2292.0</td>\n",
       "      <td>2290.0</td>\n",
       "      <td>2290.0</td>\n",
       "      <td>11453.0</td>\n",
       "      <td>500.0</td>\n",
       "      <td>0.000000</td>\n",
       "      <td>zero</td>\n",
       "    </tr>\n",
       "    <tr>\n",
       "      <th>103</th>\n",
       "      <td>AALR3</td>\n",
       "      <td>2023-06-02</td>\n",
       "      <td>1900-01-01 17:10:00</td>\n",
       "      <td>2292.0</td>\n",
       "      <td>2293.0</td>\n",
       "      <td>2291.0</td>\n",
       "      <td>2293.0</td>\n",
       "      <td>20629.0</td>\n",
       "      <td>900.0</td>\n",
       "      <td>0.000436</td>\n",
       "      <td>positivo</td>\n",
       "    </tr>\n",
       "    <tr>\n",
       "      <th>104</th>\n",
       "      <td>AALR3</td>\n",
       "      <td>2023-06-02</td>\n",
       "      <td>1900-01-01 17:05:00</td>\n",
       "      <td>2292.0</td>\n",
       "      <td>2293.0</td>\n",
       "      <td>2292.0</td>\n",
       "      <td>2293.0</td>\n",
       "      <td>6877.0</td>\n",
       "      <td>300.0</td>\n",
       "      <td>0.000436</td>\n",
       "      <td>positivo</td>\n",
       "    </tr>\n",
       "    <tr>\n",
       "      <th>105</th>\n",
       "      <td>AALR3</td>\n",
       "      <td>2023-06-02</td>\n",
       "      <td>1900-01-01 17:00:00</td>\n",
       "      <td>2295.0</td>\n",
       "      <td>2295.0</td>\n",
       "      <td>2293.0</td>\n",
       "      <td>2293.0</td>\n",
       "      <td>16054.0</td>\n",
       "      <td>700.0</td>\n",
       "      <td>-0.000871</td>\n",
       "      <td>negativo</td>\n",
       "    </tr>\n",
       "    <tr>\n",
       "      <th>106</th>\n",
       "      <td>AALR3</td>\n",
       "      <td>2023-06-02</td>\n",
       "      <td>1900-01-01 16:55:00</td>\n",
       "      <td>2293.0</td>\n",
       "      <td>2295.0</td>\n",
       "      <td>2292.0</td>\n",
       "      <td>2295.0</td>\n",
       "      <td>25225.0</td>\n",
       "      <td>1.1</td>\n",
       "      <td>0.000872</td>\n",
       "      <td>positivo</td>\n",
       "    </tr>\n",
       "    <tr>\n",
       "      <th>107</th>\n",
       "      <td>AALR3</td>\n",
       "      <td>2023-06-02</td>\n",
       "      <td>1900-01-01 16:50:00</td>\n",
       "      <td>2294.0</td>\n",
       "      <td>2294.0</td>\n",
       "      <td>2292.0</td>\n",
       "      <td>2292.0</td>\n",
       "      <td>11464.0</td>\n",
       "      <td>500.0</td>\n",
       "      <td>-0.000872</td>\n",
       "      <td>negativo</td>\n",
       "    </tr>\n",
       "    <tr>\n",
       "      <th>108</th>\n",
       "      <td>AALR3</td>\n",
       "      <td>2023-06-02</td>\n",
       "      <td>1900-01-01 16:45:00</td>\n",
       "      <td>2291.0</td>\n",
       "      <td>2295.0</td>\n",
       "      <td>2291.0</td>\n",
       "      <td>2294.0</td>\n",
       "      <td>43571.0</td>\n",
       "      <td>1.9</td>\n",
       "      <td>0.001309</td>\n",
       "      <td>positivo</td>\n",
       "    </tr>\n",
       "    <tr>\n",
       "      <th>109</th>\n",
       "      <td>AALR3</td>\n",
       "      <td>2023-06-02</td>\n",
       "      <td>1900-01-01 16:40:00</td>\n",
       "      <td>2291.0</td>\n",
       "      <td>2291.0</td>\n",
       "      <td>2291.0</td>\n",
       "      <td>2291.0</td>\n",
       "      <td>9164.0</td>\n",
       "      <td>400.0</td>\n",
       "      <td>0.000000</td>\n",
       "      <td>zero</td>\n",
       "    </tr>\n",
       "    <tr>\n",
       "      <th>110</th>\n",
       "      <td>AALR3</td>\n",
       "      <td>2023-06-02</td>\n",
       "      <td>1900-01-01 16:35:00</td>\n",
       "      <td>2290.0</td>\n",
       "      <td>2291.0</td>\n",
       "      <td>2290.0</td>\n",
       "      <td>2291.0</td>\n",
       "      <td>16036.0</td>\n",
       "      <td>700.0</td>\n",
       "      <td>0.000437</td>\n",
       "      <td>positivo</td>\n",
       "    </tr>\n",
       "    <tr>\n",
       "      <th>111</th>\n",
       "      <td>AALR3</td>\n",
       "      <td>2023-06-02</td>\n",
       "      <td>1900-01-01 16:30:00</td>\n",
       "      <td>2288.0</td>\n",
       "      <td>2290.0</td>\n",
       "      <td>2288.0</td>\n",
       "      <td>2290.0</td>\n",
       "      <td>338894.0</td>\n",
       "      <td>14.8</td>\n",
       "      <td>0.000874</td>\n",
       "      <td>positivo</td>\n",
       "    </tr>\n",
       "  </tbody>\n",
       "</table>\n",
       "</div>"
      ],
      "text/plain": [
       "     ativo       data                hora  abertura  maximo  minimo  fechamento     volume  quantidade  variacao tipo_candle\n",
       "16   AALR3 2023-06-05 1900-01-01 17:50:00    2320.0  2320.0  2315.0      2315.0  1317308.0        56.9 -0.002155    negativo\n",
       "17   AALR3 2023-06-05 1900-01-01 17:45:00    2321.0  2321.0  2318.0      2318.0    13918.0       600.0 -0.001293    negativo\n",
       "18   AALR3 2023-06-05 1900-01-01 17:40:00    2320.0  2322.0  2316.0      2319.0   171597.0         7.4 -0.000431    negativo\n",
       "19   AALR3 2023-06-05 1900-01-01 17:35:00    2318.0  2320.0  2318.0      2319.0    18554.0       800.0  0.000431    positivo\n",
       "20   AALR3 2023-06-05 1900-01-01 17:30:00    2318.0  2324.0  2318.0      2319.0    41777.0         1.8  0.000431    positivo\n",
       "21   AALR3 2023-06-05 1900-01-01 17:25:00    2320.0  2321.0  2318.0      2320.0    27834.0         1.2  0.000000        zero\n",
       "22   AALR3 2023-06-05 1900-01-01 17:20:00    2314.0  2320.0  2314.0      2320.0    27811.0         1.2  0.002593    positivo\n",
       "23   AALR3 2023-06-05 1900-01-01 17:15:00    2310.0  2314.0  2310.0      2314.0    39299.0         1.7  0.001732    positivo\n",
       "24   AALR3 2023-06-05 1900-01-01 17:10:00    2311.0  2312.0  2310.0      2312.0    13866.0       600.0  0.000433    positivo\n",
       "25   AALR3 2023-06-05 1900-01-01 17:05:00    2311.0  2311.0  2310.0      2310.0    11553.0       500.0 -0.000433    negativo\n",
       "26   AALR3 2023-06-05 1900-01-01 17:00:00    2309.0  2311.0  2309.0      2310.0     9241.0       400.0  0.000433    positivo\n",
       "27   AALR3 2023-06-05 1900-01-01 16:55:00    2310.0  2310.0  2310.0      2310.0     6930.0       300.0  0.000000        zero\n",
       "28   AALR3 2023-06-05 1900-01-01 16:50:00    2311.0  2311.0  2309.0      2309.0     9240.0       400.0 -0.000865    negativo\n",
       "29   AALR3 2023-06-05 1900-01-01 16:45:00    2312.0  2313.0  2311.0      2312.0    11559.0       500.0  0.000000        zero\n",
       "30   AALR3 2023-06-05 1900-01-01 16:40:00    2309.0  2312.0  2309.0      2312.0    11550.0       500.0  0.001299    positivo\n",
       "31   AALR3 2023-06-05 1900-01-01 16:35:00    2299.0  2309.0  2299.0      2308.0   320714.0        13.9  0.003915    positivo\n",
       "32   AALR3 2023-06-05 1900-01-01 16:30:00    2298.0  2300.0  2298.0      2300.0    18394.0       800.0  0.000870    positivo\n",
       "33   AALR3 2023-06-05 1900-01-01 16:25:00    2300.0  2302.0  2299.0      2301.0    32208.0         1.4  0.000435    positivo\n",
       "34   AALR3 2023-06-05 1900-01-01 16:20:00    2296.0  2300.0  2295.0      2300.0    66635.0         2.9  0.001742    positivo\n",
       "35   AALR3 2023-06-05 1900-01-01 16:15:00    2294.0  2295.0  2293.0      2293.0    11470.0       500.0 -0.000436    negativo\n",
       "36   AALR3 2023-06-05 1900-01-01 16:10:00    2295.0  2295.0  2293.0      2295.0     6883.0       300.0  0.000000        zero\n",
       "37   AALR3 2023-06-05 1900-01-01 16:05:00    2296.0  2297.0  2293.0      2295.0    18364.0       800.0 -0.000436    negativo\n",
       "38   AALR3 2023-06-05 1900-01-01 16:00:00    2289.0  2297.0  2289.0      2296.0    45891.0         2.0  0.003058    positivo\n",
       "95   AALR3 2023-06-02 1900-01-01 17:50:00    2297.0  2299.0  2293.0      2299.0  1314907.0        57.2  0.000871    positivo\n",
       "96   AALR3 2023-06-02 1900-01-01 17:45:00    2298.0  2298.0  2296.0      2297.0    39050.0         1.7 -0.000435    negativo\n",
       "97   AALR3 2023-06-02 1900-01-01 17:40:00    2295.0  2298.0  2295.0      2298.0    27556.0         1.2  0.001307    positivo\n",
       "98   AALR3 2023-06-02 1900-01-01 17:35:00    2294.0  2296.0  2293.0      2293.0    50469.0         2.2 -0.000436    negativo\n",
       "99   AALR3 2023-06-02 1900-01-01 17:30:00    2293.0  2293.0  2293.0      2293.0     6879.0       300.0  0.000000        zero\n",
       "100  AALR3 2023-06-02 1900-01-01 17:25:00    2289.0  2294.0  2287.0      2292.0    84777.0         3.7  0.001311    positivo\n",
       "101  AALR3 2023-06-02 1900-01-01 17:20:00    2291.0  2293.0  2282.0      2290.0  1412157.0        61.8 -0.000436    negativo\n",
       "102  AALR3 2023-06-02 1900-01-01 17:15:00    2290.0  2292.0  2290.0      2290.0    11453.0       500.0  0.000000        zero\n",
       "103  AALR3 2023-06-02 1900-01-01 17:10:00    2292.0  2293.0  2291.0      2293.0    20629.0       900.0  0.000436    positivo\n",
       "104  AALR3 2023-06-02 1900-01-01 17:05:00    2292.0  2293.0  2292.0      2293.0     6877.0       300.0  0.000436    positivo\n",
       "105  AALR3 2023-06-02 1900-01-01 17:00:00    2295.0  2295.0  2293.0      2293.0    16054.0       700.0 -0.000871    negativo\n",
       "106  AALR3 2023-06-02 1900-01-01 16:55:00    2293.0  2295.0  2292.0      2295.0    25225.0         1.1  0.000872    positivo\n",
       "107  AALR3 2023-06-02 1900-01-01 16:50:00    2294.0  2294.0  2292.0      2292.0    11464.0       500.0 -0.000872    negativo\n",
       "108  AALR3 2023-06-02 1900-01-01 16:45:00    2291.0  2295.0  2291.0      2294.0    43571.0         1.9  0.001309    positivo\n",
       "109  AALR3 2023-06-02 1900-01-01 16:40:00    2291.0  2291.0  2291.0      2291.0     9164.0       400.0  0.000000        zero\n",
       "110  AALR3 2023-06-02 1900-01-01 16:35:00    2290.0  2291.0  2290.0      2291.0    16036.0       700.0  0.000437    positivo\n",
       "111  AALR3 2023-06-02 1900-01-01 16:30:00    2288.0  2290.0  2288.0      2290.0   338894.0        14.8  0.000874    positivo"
      ]
     },
     "execution_count": 197,
     "metadata": {},
     "output_type": "execute_result"
    }
   ],
   "source": [
    "df_dias[3]"
   ]
  },
  {
   "cell_type": "markdown",
   "id": "b3ced29a",
   "metadata": {},
   "source": [
    "## Média e Dias Positivos Primeira Hora"
   ]
  },
  {
   "cell_type": "code",
   "execution_count": 174,
   "id": "4411ad9b",
   "metadata": {
    "ExecuteTime": {
     "end_time": "2023-06-16T16:26:27.033407Z",
     "start_time": "2023-06-16T16:26:26.143364Z"
    }
   },
   "outputs": [],
   "source": [
    "df_med_pos_neg_primeira_hora = (df_primeira_hora.loc[df_primeira_hora['tipo_candle'] == 'positivo',['ativo','data','variacao','volume','tipo_candle']]\n",
    "                      .groupby(['ativo', 'data'])\n",
    "                      .agg(medias = ('variacao', 'mean'),\n",
    "                           std = ('variacao', 'std'),\n",
    "                           num_pos = ('tipo_candle', lambda x: (x == 'positivo').sum()),\n",
    "                           med_volume = ('volume', 'mean')).reset_index())"
   ]
  },
  {
   "cell_type": "code",
   "execution_count": 175,
   "id": "906307c2",
   "metadata": {
    "ExecuteTime": {
     "end_time": "2023-06-16T16:26:28.615514Z",
     "start_time": "2023-06-16T16:26:28.593770Z"
    }
   },
   "outputs": [
    {
     "data": {
      "text/html": [
       "<div>\n",
       "<style scoped>\n",
       "    .dataframe tbody tr th:only-of-type {\n",
       "        vertical-align: middle;\n",
       "    }\n",
       "\n",
       "    .dataframe tbody tr th {\n",
       "        vertical-align: top;\n",
       "    }\n",
       "\n",
       "    .dataframe thead th {\n",
       "        text-align: right;\n",
       "    }\n",
       "</style>\n",
       "<table border=\"1\" class=\"dataframe\">\n",
       "  <thead>\n",
       "    <tr style=\"text-align: right;\">\n",
       "      <th></th>\n",
       "      <th>ativo</th>\n",
       "      <th>data</th>\n",
       "      <th>medias</th>\n",
       "      <th>std</th>\n",
       "      <th>num_pos</th>\n",
       "      <th>med_volume</th>\n",
       "    </tr>\n",
       "  </thead>\n",
       "  <tbody>\n",
       "    <tr>\n",
       "      <th>29</th>\n",
       "      <td>AALR3</td>\n",
       "      <td>2023-06-05</td>\n",
       "      <td>0.001887</td>\n",
       "      <td>0.001341</td>\n",
       "      <td>6</td>\n",
       "      <td>82565.333333</td>\n",
       "    </tr>\n",
       "    <tr>\n",
       "      <th>28</th>\n",
       "      <td>AALR3</td>\n",
       "      <td>2023-06-02</td>\n",
       "      <td>0.000728</td>\n",
       "      <td>0.000356</td>\n",
       "      <td>6</td>\n",
       "      <td>82816.500000</td>\n",
       "    </tr>\n",
       "    <tr>\n",
       "      <th>27</th>\n",
       "      <td>AALR3</td>\n",
       "      <td>2023-06-01</td>\n",
       "      <td>0.000944</td>\n",
       "      <td>0.000328</td>\n",
       "      <td>6</td>\n",
       "      <td>34446.833333</td>\n",
       "    </tr>\n",
       "    <tr>\n",
       "      <th>26</th>\n",
       "      <td>AALR3</td>\n",
       "      <td>2023-05-31</td>\n",
       "      <td>0.000582</td>\n",
       "      <td>0.000252</td>\n",
       "      <td>3</td>\n",
       "      <td>21376.000000</td>\n",
       "    </tr>\n",
       "    <tr>\n",
       "      <th>25</th>\n",
       "      <td>AALR3</td>\n",
       "      <td>2023-05-30</td>\n",
       "      <td>0.000750</td>\n",
       "      <td>0.000417</td>\n",
       "      <td>7</td>\n",
       "      <td>21878.285714</td>\n",
       "    </tr>\n",
       "    <tr>\n",
       "      <th>...</th>\n",
       "      <td>...</td>\n",
       "      <td>...</td>\n",
       "      <td>...</td>\n",
       "      <td>...</td>\n",
       "      <td>...</td>\n",
       "      <td>...</td>\n",
       "    </tr>\n",
       "    <tr>\n",
       "      <th>7539</th>\n",
       "      <td>ZAMP3</td>\n",
       "      <td>2023-04-28</td>\n",
       "      <td>0.003680</td>\n",
       "      <td>0.001426</td>\n",
       "      <td>4</td>\n",
       "      <td>69240.500000</td>\n",
       "    </tr>\n",
       "    <tr>\n",
       "      <th>7538</th>\n",
       "      <td>ZAMP3</td>\n",
       "      <td>2023-04-27</td>\n",
       "      <td>0.002516</td>\n",
       "      <td>0.000004</td>\n",
       "      <td>2</td>\n",
       "      <td>9552.000000</td>\n",
       "    </tr>\n",
       "    <tr>\n",
       "      <th>7537</th>\n",
       "      <td>ZAMP3</td>\n",
       "      <td>2023-04-26</td>\n",
       "      <td>0.007626</td>\n",
       "      <td>0.007177</td>\n",
       "      <td>4</td>\n",
       "      <td>141301.250000</td>\n",
       "    </tr>\n",
       "    <tr>\n",
       "      <th>7536</th>\n",
       "      <td>ZAMP3</td>\n",
       "      <td>2023-04-25</td>\n",
       "      <td>0.005758</td>\n",
       "      <td>0.002870</td>\n",
       "      <td>5</td>\n",
       "      <td>31804.400000</td>\n",
       "    </tr>\n",
       "    <tr>\n",
       "      <th>7535</th>\n",
       "      <td>ZAMP3</td>\n",
       "      <td>2023-04-24</td>\n",
       "      <td>0.003893</td>\n",
       "      <td>0.001841</td>\n",
       "      <td>2</td>\n",
       "      <td>39241.500000</td>\n",
       "    </tr>\n",
       "  </tbody>\n",
       "</table>\n",
       "<p>7565 rows × 6 columns</p>\n",
       "</div>"
      ],
      "text/plain": [
       "      ativo       data    medias       std  num_pos     med_volume\n",
       "29    AALR3 2023-06-05  0.001887  0.001341        6   82565.333333\n",
       "28    AALR3 2023-06-02  0.000728  0.000356        6   82816.500000\n",
       "27    AALR3 2023-06-01  0.000944  0.000328        6   34446.833333\n",
       "26    AALR3 2023-05-31  0.000582  0.000252        3   21376.000000\n",
       "25    AALR3 2023-05-30  0.000750  0.000417        7   21878.285714\n",
       "...     ...        ...       ...       ...      ...            ...\n",
       "7539  ZAMP3 2023-04-28  0.003680  0.001426        4   69240.500000\n",
       "7538  ZAMP3 2023-04-27  0.002516  0.000004        2    9552.000000\n",
       "7537  ZAMP3 2023-04-26  0.007626  0.007177        4  141301.250000\n",
       "7536  ZAMP3 2023-04-25  0.005758  0.002870        5   31804.400000\n",
       "7535  ZAMP3 2023-04-24  0.003893  0.001841        2   39241.500000\n",
       "\n",
       "[7565 rows x 6 columns]"
      ]
     },
     "execution_count": 175,
     "metadata": {},
     "output_type": "execute_result"
    }
   ],
   "source": [
    "df_med_pos_neg_primeira_hora.sort_values(by=['ativo','data'], ascending=[True, False])"
   ]
  },
  {
   "cell_type": "code",
   "execution_count": 177,
   "id": "7ec25420",
   "metadata": {
    "ExecuteTime": {
     "end_time": "2023-06-16T16:26:54.625361Z",
     "start_time": "2023-06-16T16:26:54.605344Z"
    }
   },
   "outputs": [],
   "source": [
    "df_resume = (df_med_pos_neg_primeira_hora.loc[:,['ativo','medias','num_pos','med_volume','std']].groupby(['ativo'])\n",
    "                            .agg(media = ('medias','mean'),\n",
    "                                 std = ('std', 'std'),\n",
    "                                 num_pos = ('num_pos', 'sum'),\n",
    "                                 med_volume = ('med_volume', 'mean')).reset_index()).sort_values(by='media', ascending=False)"
   ]
  },
  {
   "cell_type": "code",
   "execution_count": 178,
   "id": "2d0144e1",
   "metadata": {
    "ExecuteTime": {
     "end_time": "2023-06-16T16:26:57.464630Z",
     "start_time": "2023-06-16T16:26:57.450165Z"
    }
   },
   "outputs": [],
   "source": [
    "df_resume = df_resume.loc[df_resume['med_volume'] > 500000,:]\n",
    "df_resume['med_volume'] = df_resume['med_volume']/100000\n",
    "df_resume['media'] = df_resume['media']*100\n",
    "df_resume['std'] = df_resume['std']*100"
   ]
  },
  {
   "cell_type": "code",
   "execution_count": 182,
   "id": "e3d14d22",
   "metadata": {
    "ExecuteTime": {
     "end_time": "2023-06-16T16:30:59.883566Z",
     "start_time": "2023-06-16T16:30:59.863905Z"
    }
   },
   "outputs": [
    {
     "data": {
      "text/html": [
       "<div>\n",
       "<style scoped>\n",
       "    .dataframe tbody tr th:only-of-type {\n",
       "        vertical-align: middle;\n",
       "    }\n",
       "\n",
       "    .dataframe tbody tr th {\n",
       "        vertical-align: top;\n",
       "    }\n",
       "\n",
       "    .dataframe thead th {\n",
       "        text-align: right;\n",
       "    }\n",
       "</style>\n",
       "<table border=\"1\" class=\"dataframe\">\n",
       "  <thead>\n",
       "    <tr style=\"text-align: right;\">\n",
       "      <th></th>\n",
       "      <th>ativo</th>\n",
       "      <th>media</th>\n",
       "      <th>std</th>\n",
       "      <th>num_pos</th>\n",
       "      <th>med_volume</th>\n",
       "    </tr>\n",
       "  </thead>\n",
       "  <tbody>\n",
       "    <tr>\n",
       "      <th>235</th>\n",
       "      <td>SMAL11</td>\n",
       "      <td>0.086403</td>\n",
       "      <td>0.040185</td>\n",
       "      <td>185</td>\n",
       "      <td>40.845432</td>\n",
       "    </tr>\n",
       "    <tr>\n",
       "      <th>133</th>\n",
       "      <td>IVVB11</td>\n",
       "      <td>0.055015</td>\n",
       "      <td>0.017415</td>\n",
       "      <td>180</td>\n",
       "      <td>8.667942</td>\n",
       "    </tr>\n",
       "    <tr>\n",
       "      <th>280</th>\n",
       "      <td>XPBR31</td>\n",
       "      <td>0.147779</td>\n",
       "      <td>0.040408</td>\n",
       "      <td>177</td>\n",
       "      <td>5.054878</td>\n",
       "    </tr>\n",
       "    <tr>\n",
       "      <th>279</th>\n",
       "      <td>WSPFUT</td>\n",
       "      <td>0.044207</td>\n",
       "      <td>0.013410</td>\n",
       "      <td>176</td>\n",
       "      <td>15.994395</td>\n",
       "    </tr>\n",
       "    <tr>\n",
       "      <th>81</th>\n",
       "      <td>ELET6</td>\n",
       "      <td>0.109681</td>\n",
       "      <td>0.084491</td>\n",
       "      <td>176</td>\n",
       "      <td>13.435217</td>\n",
       "    </tr>\n",
       "    <tr>\n",
       "      <th>226</th>\n",
       "      <td>SBSP3</td>\n",
       "      <td>0.104731</td>\n",
       "      <td>0.043427</td>\n",
       "      <td>174</td>\n",
       "      <td>15.603713</td>\n",
       "    </tr>\n",
       "    <tr>\n",
       "      <th>17</th>\n",
       "      <td>ARZZ3</td>\n",
       "      <td>0.193897</td>\n",
       "      <td>0.078784</td>\n",
       "      <td>173</td>\n",
       "      <td>15.840215</td>\n",
       "    </tr>\n",
       "    <tr>\n",
       "      <th>244</th>\n",
       "      <td>TAEE11</td>\n",
       "      <td>0.081118</td>\n",
       "      <td>0.022477</td>\n",
       "      <td>171</td>\n",
       "      <td>8.260517</td>\n",
       "    </tr>\n",
       "    <tr>\n",
       "      <th>128</th>\n",
       "      <td>IRBR3</td>\n",
       "      <td>0.220689</td>\n",
       "      <td>0.072340</td>\n",
       "      <td>170</td>\n",
       "      <td>9.821958</td>\n",
       "    </tr>\n",
       "    <tr>\n",
       "      <th>275</th>\n",
       "      <td>WDOFUT</td>\n",
       "      <td>0.043315</td>\n",
       "      <td>0.016500</td>\n",
       "      <td>169</td>\n",
       "      <td>10429.576147</td>\n",
       "    </tr>\n",
       "    <tr>\n",
       "      <th>269</th>\n",
       "      <td>VIVA3</td>\n",
       "      <td>0.216790</td>\n",
       "      <td>0.112473</td>\n",
       "      <td>168</td>\n",
       "      <td>5.951851</td>\n",
       "    </tr>\n",
       "    <tr>\n",
       "      <th>278</th>\n",
       "      <td>WINFUT</td>\n",
       "      <td>0.059849</td>\n",
       "      <td>0.037845</td>\n",
       "      <td>168</td>\n",
       "      <td>24861.015370</td>\n",
       "    </tr>\n",
       "    <tr>\n",
       "      <th>252</th>\n",
       "      <td>TOTS3</td>\n",
       "      <td>0.127621</td>\n",
       "      <td>0.047168</td>\n",
       "      <td>166</td>\n",
       "      <td>14.673343</td>\n",
       "    </tr>\n",
       "    <tr>\n",
       "      <th>35</th>\n",
       "      <td>BOVA11</td>\n",
       "      <td>0.063867</td>\n",
       "      <td>0.038641</td>\n",
       "      <td>165</td>\n",
       "      <td>101.561696</td>\n",
       "    </tr>\n",
       "    <tr>\n",
       "      <th>135</th>\n",
       "      <td>JBSS3</td>\n",
       "      <td>0.153163</td>\n",
       "      <td>0.061548</td>\n",
       "      <td>163</td>\n",
       "      <td>18.228711</td>\n",
       "    </tr>\n",
       "    <tr>\n",
       "      <th>186</th>\n",
       "      <td>PETR3</td>\n",
       "      <td>0.103589</td>\n",
       "      <td>0.084041</td>\n",
       "      <td>163</td>\n",
       "      <td>40.240613</td>\n",
       "    </tr>\n",
       "    <tr>\n",
       "      <th>216</th>\n",
       "      <td>RENT3</td>\n",
       "      <td>0.117824</td>\n",
       "      <td>0.058026</td>\n",
       "      <td>162</td>\n",
       "      <td>46.751103</td>\n",
       "    </tr>\n",
       "    <tr>\n",
       "      <th>119</th>\n",
       "      <td>HYPE3</td>\n",
       "      <td>0.102874</td>\n",
       "      <td>0.061361</td>\n",
       "      <td>162</td>\n",
       "      <td>14.346940</td>\n",
       "    </tr>\n",
       "    <tr>\n",
       "      <th>237</th>\n",
       "      <td>SMTO3</td>\n",
       "      <td>0.181407</td>\n",
       "      <td>0.096073</td>\n",
       "      <td>162</td>\n",
       "      <td>9.635013</td>\n",
       "    </tr>\n",
       "    <tr>\n",
       "      <th>242</th>\n",
       "      <td>SUZB3</td>\n",
       "      <td>0.094965</td>\n",
       "      <td>0.035511</td>\n",
       "      <td>161</td>\n",
       "      <td>35.287062</td>\n",
       "    </tr>\n",
       "  </tbody>\n",
       "</table>\n",
       "</div>"
      ],
      "text/plain": [
       "      ativo     media       std  num_pos    med_volume\n",
       "235  SMAL11  0.086403  0.040185      185     40.845432\n",
       "133  IVVB11  0.055015  0.017415      180      8.667942\n",
       "280  XPBR31  0.147779  0.040408      177      5.054878\n",
       "279  WSPFUT  0.044207  0.013410      176     15.994395\n",
       "81    ELET6  0.109681  0.084491      176     13.435217\n",
       "226   SBSP3  0.104731  0.043427      174     15.603713\n",
       "17    ARZZ3  0.193897  0.078784      173     15.840215\n",
       "244  TAEE11  0.081118  0.022477      171      8.260517\n",
       "128   IRBR3  0.220689  0.072340      170      9.821958\n",
       "275  WDOFUT  0.043315  0.016500      169  10429.576147\n",
       "269   VIVA3  0.216790  0.112473      168      5.951851\n",
       "278  WINFUT  0.059849  0.037845      168  24861.015370\n",
       "252   TOTS3  0.127621  0.047168      166     14.673343\n",
       "35   BOVA11  0.063867  0.038641      165    101.561696\n",
       "135   JBSS3  0.153163  0.061548      163     18.228711\n",
       "186   PETR3  0.103589  0.084041      163     40.240613\n",
       "216   RENT3  0.117824  0.058026      162     46.751103\n",
       "119   HYPE3  0.102874  0.061361      162     14.346940\n",
       "237   SMTO3  0.181407  0.096073      162      9.635013\n",
       "242   SUZB3  0.094965  0.035511      161     35.287062"
      ]
     },
     "execution_count": 182,
     "metadata": {},
     "output_type": "execute_result"
    }
   ],
   "source": [
    "df_resume.sort_values(by=['num_pos'], ascending=[False]).head(20)"
   ]
  },
  {
   "cell_type": "markdown",
   "id": "9d499796",
   "metadata": {},
   "source": [
    "## Média e Dias Positivos Primeira Hora"
   ]
  },
  {
   "cell_type": "code",
   "execution_count": null,
   "id": "07d74e7d",
   "metadata": {},
   "outputs": [],
   "source": []
  },
  {
   "cell_type": "code",
   "execution_count": null,
   "id": "400461cc",
   "metadata": {},
   "outputs": [],
   "source": []
  },
  {
   "cell_type": "code",
   "execution_count": null,
   "id": "4be31349",
   "metadata": {},
   "outputs": [],
   "source": []
  },
  {
   "cell_type": "code",
   "execution_count": null,
   "id": "5f5b5e36",
   "metadata": {},
   "outputs": [],
   "source": []
  },
  {
   "cell_type": "code",
   "execution_count": null,
   "id": "0478a0d0",
   "metadata": {},
   "outputs": [],
   "source": []
  },
  {
   "cell_type": "markdown",
   "id": "e59968c3",
   "metadata": {
    "heading_collapsed": true
   },
   "source": [
    "## % Winfut"
   ]
  },
  {
   "cell_type": "code",
   "execution_count": 44,
   "id": "c658c2fb",
   "metadata": {
    "ExecuteTime": {
     "end_time": "2023-05-23T17:42:02.598515Z",
     "start_time": "2023-05-23T17:42:02.412742Z"
    },
    "hidden": true
   },
   "outputs": [],
   "source": [
    "# #create futures variation\n",
    "# df_win = pd.read_csv('C:/Users/edils/repos/leilao_fechamento/data/futuros/WINFUT_F_0_5min.csv', encoding='iso-8859-1', sep=';')\n",
    "# # df_dol = pd.read_csv('C:/Users/edils/repos/leilao_fechamento/data/futuros/WINFUT_F_0_5min.csv', encoding='iso-8859-1', sep=';')\n",
    "# # df_sp = pd.read_csv('C:/Users/edils/repos/leilao_fechamento/data/futuros/WINFUT_F_0_5min.csv', encoding='iso-8859-1', sep=';')\n",
    "\n",
    "# df_win = clean_futuros(df_win)\n",
    "# # df_dol = clean_futuros(df_dol)\n",
    "# # df_sp = clean_futuros(df_sp)"
   ]
  },
  {
   "cell_type": "code",
   "execution_count": 45,
   "id": "e4f144ac",
   "metadata": {
    "ExecuteTime": {
     "end_time": "2023-05-23T17:42:02.723085Z",
     "start_time": "2023-05-23T17:42:02.600518Z"
    },
    "hidden": true,
    "scrolled": false
   },
   "outputs": [],
   "source": [
    "# df2 = pd.merge(df2, df_win[['data','hora','variacao']], on=['data','hora'], how='left')\n",
    "# df2 = df2.rename(columns={'variacao_x':'variacao', 'variacao_y':'variacao_win'})\n"
   ]
  },
  {
   "cell_type": "code",
   "execution_count": 46,
   "id": "449f71c8",
   "metadata": {
    "ExecuteTime": {
     "end_time": "2023-05-23T17:42:02.801174Z",
     "start_time": "2023-05-23T17:42:02.725131Z"
    },
    "hidden": true
   },
   "outputs": [],
   "source": [
    "# df2 = df2.dropna()"
   ]
  },
  {
   "cell_type": "markdown",
   "id": "57a6d96d",
   "metadata": {},
   "source": [
    "# 3.0 EDA"
   ]
  },
  {
   "cell_type": "code",
   "execution_count": 48,
   "id": "58113e6d",
   "metadata": {
    "ExecuteTime": {
     "end_time": "2023-05-23T17:42:02.832794Z",
     "start_time": "2023-05-23T17:42:02.817808Z"
    }
   },
   "outputs": [],
   "source": [
    "df3 = df2.copy()"
   ]
  },
  {
   "cell_type": "code",
   "execution_count": 49,
   "id": "24763265",
   "metadata": {
    "ExecuteTime": {
     "end_time": "2023-05-23T17:42:02.848204Z",
     "start_time": "2023-05-23T17:42:02.833869Z"
    }
   },
   "outputs": [],
   "source": [
    "numerical_attributes = df3.select_dtypes(include=['float64','datetime64[ns]'])"
   ]
  },
  {
   "cell_type": "code",
   "execution_count": 50,
   "id": "54bdb7cc",
   "metadata": {
    "ExecuteTime": {
     "end_time": "2023-05-23T17:42:05.853446Z",
     "start_time": "2023-05-23T17:42:02.849290Z"
    }
   },
   "outputs": [],
   "source": [
    "stats = numerical_attributes.agg(['min','max', lambda x: max(x)-min(x),'mean','std','skew', 'kurtosis']).T"
   ]
  },
  {
   "cell_type": "code",
   "execution_count": 51,
   "id": "1824e20f",
   "metadata": {
    "ExecuteTime": {
     "end_time": "2023-05-23T17:42:05.869430Z",
     "start_time": "2023-05-23T17:42:05.854475Z"
    }
   },
   "outputs": [
    {
     "data": {
      "text/html": [
       "<div>\n",
       "<style scoped>\n",
       "    .dataframe tbody tr th:only-of-type {\n",
       "        vertical-align: middle;\n",
       "    }\n",
       "\n",
       "    .dataframe tbody tr th {\n",
       "        vertical-align: top;\n",
       "    }\n",
       "\n",
       "    .dataframe thead th {\n",
       "        text-align: right;\n",
       "    }\n",
       "</style>\n",
       "<table border=\"1\" class=\"dataframe\">\n",
       "  <thead>\n",
       "    <tr style=\"text-align: right;\">\n",
       "      <th></th>\n",
       "      <th>min</th>\n",
       "      <th>max</th>\n",
       "      <th>&lt;lambda&gt;</th>\n",
       "      <th>mean</th>\n",
       "      <th>std</th>\n",
       "      <th>skew</th>\n",
       "      <th>kurtosis</th>\n",
       "    </tr>\n",
       "  </thead>\n",
       "  <tbody>\n",
       "    <tr>\n",
       "      <th>data</th>\n",
       "      <td>2023-01-06 00:00:00</td>\n",
       "      <td>2023-05-04 00:00:00</td>\n",
       "      <td>118 days 00:00:00</td>\n",
       "      <td>2023-03-05 01:51:13.035680</td>\n",
       "      <td>34 days 06:26:48.341962556</td>\n",
       "      <td>NaN</td>\n",
       "      <td>NaN</td>\n",
       "    </tr>\n",
       "    <tr>\n",
       "      <th>hora</th>\n",
       "      <td>1900-01-01 16:00:00</td>\n",
       "      <td>1900-01-01 17:50:00</td>\n",
       "      <td>0 days 01:50:00</td>\n",
       "      <td>1900-01-01 16:55:13.611250432</td>\n",
       "      <td>0 days 00:33:13.265610203</td>\n",
       "      <td>NaN</td>\n",
       "      <td>NaN</td>\n",
       "    </tr>\n",
       "    <tr>\n",
       "      <th>maximo</th>\n",
       "      <td>0.33</td>\n",
       "      <td>240.0</td>\n",
       "      <td>239.67</td>\n",
       "      <td>16.214881</td>\n",
       "      <td>20.997625</td>\n",
       "      <td>5.277196</td>\n",
       "      <td>43.606413</td>\n",
       "    </tr>\n",
       "    <tr>\n",
       "      <th>minimo</th>\n",
       "      <td>0.33</td>\n",
       "      <td>238.62</td>\n",
       "      <td>238.29</td>\n",
       "      <td>16.169963</td>\n",
       "      <td>20.961162</td>\n",
       "      <td>5.281476</td>\n",
       "      <td>43.664698</td>\n",
       "    </tr>\n",
       "    <tr>\n",
       "      <th>volume</th>\n",
       "      <td>4.64</td>\n",
       "      <td>1947680443.0</td>\n",
       "      <td>1947680438.36</td>\n",
       "      <td>1414418.319905</td>\n",
       "      <td>8999845.506107</td>\n",
       "      <td>72.166575</td>\n",
       "      <td>10670.239713</td>\n",
       "    </tr>\n",
       "    <tr>\n",
       "      <th>quantidade</th>\n",
       "      <td>1.0</td>\n",
       "      <td>94180900.0</td>\n",
       "      <td>94180899.0</td>\n",
       "      <td>96846.140049</td>\n",
       "      <td>533635.17791</td>\n",
       "      <td>56.352781</td>\n",
       "      <td>6764.730224</td>\n",
       "    </tr>\n",
       "    <tr>\n",
       "      <th>variacao</th>\n",
       "      <td>-0.125</td>\n",
       "      <td>0.125</td>\n",
       "      <td>0.25</td>\n",
       "      <td>0.000032</td>\n",
       "      <td>0.004307</td>\n",
       "      <td>1.001705</td>\n",
       "      <td>116.691997</td>\n",
       "    </tr>\n",
       "    <tr>\n",
       "      <th>variacao_win</th>\n",
       "      <td>-0.007396</td>\n",
       "      <td>0.005519</td>\n",
       "      <td>0.012915</td>\n",
       "      <td>-0.000006</td>\n",
       "      <td>0.000932</td>\n",
       "      <td>-0.069485</td>\n",
       "      <td>5.040173</td>\n",
       "    </tr>\n",
       "  </tbody>\n",
       "</table>\n",
       "</div>"
      ],
      "text/plain": [
       "                              min                  max           <lambda>  \\\n",
       "data          2023-01-06 00:00:00  2023-05-04 00:00:00  118 days 00:00:00   \n",
       "hora          1900-01-01 16:00:00  1900-01-01 17:50:00    0 days 01:50:00   \n",
       "maximo                       0.33                240.0             239.67   \n",
       "minimo                       0.33               238.62             238.29   \n",
       "volume                       4.64         1947680443.0      1947680438.36   \n",
       "quantidade                    1.0           94180900.0         94180899.0   \n",
       "variacao                   -0.125                0.125               0.25   \n",
       "variacao_win            -0.007396             0.005519           0.012915   \n",
       "\n",
       "                                       mean                         std  \\\n",
       "data             2023-03-05 01:51:13.035680  34 days 06:26:48.341962556   \n",
       "hora          1900-01-01 16:55:13.611250432   0 days 00:33:13.265610203   \n",
       "maximo                            16.214881                   20.997625   \n",
       "minimo                            16.169963                   20.961162   \n",
       "volume                       1414418.319905              8999845.506107   \n",
       "quantidade                     96846.140049                533635.17791   \n",
       "variacao                           0.000032                    0.004307   \n",
       "variacao_win                      -0.000006                    0.000932   \n",
       "\n",
       "                   skew      kurtosis  \n",
       "data                NaN           NaN  \n",
       "hora                NaN           NaN  \n",
       "maximo         5.277196     43.606413  \n",
       "minimo         5.281476     43.664698  \n",
       "volume        72.166575  10670.239713  \n",
       "quantidade    56.352781   6764.730224  \n",
       "variacao       1.001705    116.691997  \n",
       "variacao_win  -0.069485      5.040173  "
      ]
     },
     "execution_count": 51,
     "metadata": {},
     "output_type": "execute_result"
    }
   ],
   "source": [
    "stats"
   ]
  },
  {
   "cell_type": "code",
   "execution_count": 52,
   "id": "a3de91be",
   "metadata": {
    "ExecuteTime": {
     "end_time": "2023-05-23T17:42:07.398466Z",
     "start_time": "2023-05-23T17:42:05.870477Z"
    }
   },
   "outputs": [
    {
     "data": {
      "image/png": "[encoded data removed]",
      "text/plain": [
       "<Figure size 2000x1000 with 9 Axes>"
      ]
     },
     "metadata": {},
     "output_type": "display_data"
    }
   ],
   "source": [
    "fig = plt.figure(figsize=(20,10))\n",
    "ax = fig.gca()\n",
    "numerical_attributes.hist(ax = ax, bins=25);"
   ]
  },
  {
   "cell_type": "code",
   "execution_count": 53,
   "id": "1874813f",
   "metadata": {
    "ExecuteTime": {
     "end_time": "2023-05-23T17:42:07.728350Z",
     "start_time": "2023-05-23T17:42:07.400604Z"
    }
   },
   "outputs": [
    {
     "data": {
      "text/plain": [
       "<Axes: >"
      ]
     },
     "execution_count": 53,
     "metadata": {},
     "output_type": "execute_result"
    },
    {
     "data": {
      "image/png": "[encoded data removed]",
      "text/plain": [
       "<Figure size 640x480 with 2 Axes>"
      ]
     },
     "metadata": {},
     "output_type": "display_data"
    }
   ],
   "source": [
    "sns.heatmap(numerical_attributes.corr(method='pearson'), annot=True)"
   ]
  },
  {
   "cell_type": "markdown",
   "id": "72971f20",
   "metadata": {},
   "source": [
    "# 4.0 Data Preparation"
   ]
  },
  {
   "cell_type": "code",
   "execution_count": 104,
   "id": "72b922a6",
   "metadata": {
    "ExecuteTime": {
     "end_time": "2023-05-23T17:42:07.743923Z",
     "start_time": "2023-05-23T17:42:07.729515Z"
    }
   },
   "outputs": [],
   "source": [
    "df4 = df3.copy()"
   ]
  },
  {
   "cell_type": "code",
   "execution_count": 105,
   "id": "25b093c8",
   "metadata": {
    "ExecuteTime": {
     "end_time": "2023-05-23T17:42:07.759327Z",
     "start_time": "2023-05-23T17:42:07.745427Z"
    }
   },
   "outputs": [
    {
     "data": {
      "text/html": [
       "<div>\n",
       "<style scoped>\n",
       "    .dataframe tbody tr th:only-of-type {\n",
       "        vertical-align: middle;\n",
       "    }\n",
       "\n",
       "    .dataframe tbody tr th {\n",
       "        vertical-align: top;\n",
       "    }\n",
       "\n",
       "    .dataframe thead th {\n",
       "        text-align: right;\n",
       "    }\n",
       "</style>\n",
       "<table border=\"1\" class=\"dataframe\">\n",
       "  <thead>\n",
       "    <tr style=\"text-align: right;\">\n",
       "      <th></th>\n",
       "      <th>ativo</th>\n",
       "      <th>data</th>\n",
       "      <th>hora</th>\n",
       "      <th>maximo</th>\n",
       "      <th>minimo</th>\n",
       "      <th>volume</th>\n",
       "      <th>quantidade</th>\n",
       "      <th>variacao</th>\n",
       "      <th>variacao_win</th>\n",
       "    </tr>\n",
       "  </thead>\n",
       "  <tbody>\n",
       "    <tr>\n",
       "      <th>4</th>\n",
       "      <td>VITT3</td>\n",
       "      <td>2023-02-01</td>\n",
       "      <td>1900-01-01 17:25:00</td>\n",
       "      <td>12.09</td>\n",
       "      <td>12.05</td>\n",
       "      <td>18114.0</td>\n",
       "      <td>1500.0</td>\n",
       "      <td>-0.002483</td>\n",
       "      <td>0.000352</td>\n",
       "    </tr>\n",
       "    <tr>\n",
       "      <th>7</th>\n",
       "      <td>WEGE3</td>\n",
       "      <td>2023-01-17</td>\n",
       "      <td>1900-01-01 17:30:00</td>\n",
       "      <td>38.23</td>\n",
       "      <td>38.16</td>\n",
       "      <td>1253692.0</td>\n",
       "      <td>32600.0</td>\n",
       "      <td>0.001048</td>\n",
       "      <td>-0.000129</td>\n",
       "    </tr>\n",
       "    <tr>\n",
       "      <th>11</th>\n",
       "      <td>FRTA3</td>\n",
       "      <td>2023-01-23</td>\n",
       "      <td>1900-01-01 16:20:00</td>\n",
       "      <td>2.67</td>\n",
       "      <td>2.67</td>\n",
       "      <td>267.0</td>\n",
       "      <td>100.0</td>\n",
       "      <td>0.000000</td>\n",
       "      <td>-0.000043</td>\n",
       "    </tr>\n",
       "    <tr>\n",
       "      <th>12</th>\n",
       "      <td>CAML3</td>\n",
       "      <td>2023-03-10</td>\n",
       "      <td>1900-01-01 17:15:00</td>\n",
       "      <td>7.61</td>\n",
       "      <td>7.59</td>\n",
       "      <td>80566.0</td>\n",
       "      <td>10600.0</td>\n",
       "      <td>-0.001316</td>\n",
       "      <td>-0.001200</td>\n",
       "    </tr>\n",
       "    <tr>\n",
       "      <th>14</th>\n",
       "      <td>CVCB3</td>\n",
       "      <td>2023-03-03</td>\n",
       "      <td>1900-01-01 17:40:00</td>\n",
       "      <td>2.81</td>\n",
       "      <td>2.79</td>\n",
       "      <td>449133.0</td>\n",
       "      <td>160400.0</td>\n",
       "      <td>0.003584</td>\n",
       "      <td>-0.000523</td>\n",
       "    </tr>\n",
       "  </tbody>\n",
       "</table>\n",
       "</div>"
      ],
      "text/plain": [
       "    ativo       data                hora  maximo  minimo     volume  \\\n",
       "4   VITT3 2023-02-01 1900-01-01 17:25:00   12.09   12.05    18114.0   \n",
       "7   WEGE3 2023-01-17 1900-01-01 17:30:00   38.23   38.16  1253692.0   \n",
       "11  FRTA3 2023-01-23 1900-01-01 16:20:00    2.67    2.67      267.0   \n",
       "12  CAML3 2023-03-10 1900-01-01 17:15:00    7.61    7.59    80566.0   \n",
       "14  CVCB3 2023-03-03 1900-01-01 17:40:00    2.81    2.79   449133.0   \n",
       "\n",
       "    quantidade  variacao  variacao_win  \n",
       "4       1500.0 -0.002483      0.000352  \n",
       "7      32600.0  0.001048     -0.000129  \n",
       "11       100.0  0.000000     -0.000043  \n",
       "12     10600.0 -0.001316     -0.001200  \n",
       "14    160400.0  0.003584     -0.000523  "
      ]
     },
     "execution_count": 105,
     "metadata": {},
     "output_type": "execute_result"
    }
   ],
   "source": [
    "df4.head()"
   ]
  },
  {
   "cell_type": "markdown",
   "id": "b4320812",
   "metadata": {},
   "source": [
    "## 4.1 Rescalling "
   ]
  },
  {
   "cell_type": "code",
   "execution_count": 106,
   "id": "d5ccba4e",
   "metadata": {
    "ExecuteTime": {
     "end_time": "2023-05-23T17:42:07.806142Z",
     "start_time": "2023-05-23T17:42:07.760352Z"
    }
   },
   "outputs": [],
   "source": [
    "ss = StandardScaler()\n",
    "mms = MinMaxScaler()\n",
    "\n",
    "#Poisson -> abertura, maximo, minimo fechamento Usar \n",
    "df4['maximo'] = mms.fit_transform(df4['maximo'].values.reshape(-1,1))\n",
    "df4['minimo'] = mms.fit_transform(df4['minimo'].values.reshape(-1,1))\n",
    "df4['volume'] = mms.fit_transform(df4['volume'].values.reshape(-1,1))\n",
    "df4['quantidade'] = mms.fit_transform(df4['quantidade'].values.reshape(-1,1))\n",
    "df4['variacao'] = mms.fit_transform(df4['variacao'].values.reshape(-1,1))\n",
    "df4['variacao_win'] = mms.fit_transform(df4['variacao_win'].values.reshape(-1,1))"
   ]
  },
  {
   "cell_type": "code",
   "execution_count": 107,
   "id": "c12d27d4",
   "metadata": {
    "ExecuteTime": {
     "end_time": "2023-05-23T17:42:07.822089Z",
     "start_time": "2023-05-23T17:42:07.807201Z"
    }
   },
   "outputs": [],
   "source": [
    "numerical_attributes_transformed = df4.select_dtypes(include='float64')"
   ]
  },
  {
   "cell_type": "code",
   "execution_count": 108,
   "id": "0dc3ba51",
   "metadata": {
    "ExecuteTime": {
     "end_time": "2023-05-23T17:42:09.086576Z",
     "start_time": "2023-05-23T17:42:07.826914Z"
    }
   },
   "outputs": [
    {
     "data": {
      "image/png": "[encoded data removed]",
      "text/plain": [
       "<Figure size 2000x1000 with 6 Axes>"
      ]
     },
     "metadata": {},
     "output_type": "display_data"
    }
   ],
   "source": [
    "fig = plt.figure(figsize=(20,10))\n",
    "ax = fig.gca()\n",
    "numerical_attributes_transformed.hist(ax = ax, bins=25);"
   ]
  },
  {
   "cell_type": "markdown",
   "id": "72796b2d",
   "metadata": {},
   "source": [
    "## 4.2 Nature Transformation"
   ]
  },
  {
   "cell_type": "code",
   "execution_count": 109,
   "id": "8b3e034d",
   "metadata": {
    "ExecuteTime": {
     "end_time": "2023-05-23T17:42:12.618330Z",
     "start_time": "2023-05-23T17:42:09.088652Z"
    }
   },
   "outputs": [],
   "source": [
    "df4['data_sin'] = df4['data'].apply(lambda x: np.sin((x.day * (2. * np.pi/21)) + (x.month * (2. * np.pi/12))))\n",
    "df4['data_cos'] = df4['data'].apply(lambda x: np.cos((x.day * (2. * np.pi/21)) + (x.month * (2. * np.pi/12))))\n",
    "\n",
    "df4['hora_sin'] = df4['hora'].apply(lambda x: np.sin((x.hour * (2. * np.pi/24)) + (x.minute * (2.*np.pi/60))))\n",
    "df4['hora_cos'] = df4['hora'].apply(lambda x: np.cos((x.hour * (2. * np.pi/24)) + (x.minute * (2.*np.pi/60))))\n"
   ]
  },
  {
   "cell_type": "markdown",
   "id": "2b0e3dc0",
   "metadata": {},
   "source": [
    "## 4.3 Encoding"
   ]
  },
  {
   "cell_type": "code",
   "execution_count": 110,
   "id": "4b6a7158",
   "metadata": {
    "ExecuteTime": {
     "end_time": "2023-05-23T17:42:12.649054Z",
     "start_time": "2023-05-23T17:42:12.619376Z"
    }
   },
   "outputs": [],
   "source": [
    "#Frequency encoding no ativo\n",
    "fe_ativo = df4['ativo'].value_counts(normalize=True)\n",
    "df4['ativo'] = df4['ativo'].map(fe_ativo)"
   ]
  },
  {
   "cell_type": "markdown",
   "id": "6a7379f4",
   "metadata": {},
   "source": [
    "## 4.4 Split train Validation"
   ]
  },
  {
   "cell_type": "code",
   "execution_count": 137,
   "id": "6f7ceeb9",
   "metadata": {
    "ExecuteTime": {
     "end_time": "2023-05-23T17:42:12.696313Z",
     "start_time": "2023-05-23T17:42:12.650110Z"
    }
   },
   "outputs": [],
   "source": [
    "X = df4.drop('variacao', axis=1).copy()\n",
    "y = df4['variacao']"
   ]
  },
  {
   "cell_type": "code",
   "execution_count": 138,
   "id": "e1ccda2b",
   "metadata": {
    "ExecuteTime": {
     "end_time": "2023-05-23T17:42:12.758483Z",
     "start_time": "2023-05-23T17:42:12.697388Z"
    }
   },
   "outputs": [],
   "source": [
    "X_train, X_val, y_train, y_val = ms.train_test_split(X, y, test_size=0.2, random_state=0)"
   ]
  },
  {
   "cell_type": "markdown",
   "id": "fe1fdf17",
   "metadata": {},
   "source": [
    "# 5.0 Feature Selection"
   ]
  },
  {
   "cell_type": "markdown",
   "id": "1d7c3315",
   "metadata": {},
   "source": [
    "## 5.1 Boruta"
   ]
  },
  {
   "cell_type": "code",
   "execution_count": 63,
   "id": "3d5d748a",
   "metadata": {
    "ExecuteTime": {
     "end_time": "2023-05-23T17:42:12.774168Z",
     "start_time": "2023-05-23T17:42:12.760535Z"
    }
   },
   "outputs": [],
   "source": [
    "#Retirar datetime para usra no boruta\n",
    "x_train_boruta = X_train.drop(columns=(['data','hora'])).copy()"
   ]
  },
  {
   "cell_type": "code",
   "execution_count": 64,
   "id": "b8a060ab",
   "metadata": {
    "ExecuteTime": {
     "end_time": "2023-05-23T17:42:12.789713Z",
     "start_time": "2023-05-23T17:42:12.775169Z"
    }
   },
   "outputs": [],
   "source": [
    "rf = en.RandomForestRegressor(n_jobs=-1)"
   ]
  },
  {
   "cell_type": "code",
   "execution_count": 65,
   "id": "ff1cb7ec",
   "metadata": {
    "ExecuteTime": {
     "end_time": "2023-05-23T17:55:09.604873Z",
     "start_time": "2023-05-23T17:42:12.790755Z"
    }
   },
   "outputs": [
    {
     "name": "stdout",
     "output_type": "stream",
     "text": [
      "Iteration: \t1 / 100\n",
      "Confirmed: \t0\n",
      "Tentative: \t10\n",
      "Rejected: \t0\n"
     ]
    },
    {
     "ename": "KeyboardInterrupt",
     "evalue": "",
     "output_type": "error",
     "traceback": [
      "\u001b[1;31m---------------------------------------------------------------------------\u001b[0m",
      "\u001b[1;31mKeyboardInterrupt\u001b[0m                         Traceback (most recent call last)",
      "Cell \u001b[1;32mIn[65], line 3\u001b[0m\n\u001b[0;32m      1\u001b[0m x_train_n \u001b[38;5;241m=\u001b[39m x_train_boruta\u001b[38;5;241m.\u001b[39mvalues\n\u001b[0;32m      2\u001b[0m y_train_n \u001b[38;5;241m=\u001b[39m y_train\u001b[38;5;241m.\u001b[39mvalues\n\u001b[1;32m----> 3\u001b[0m boruta \u001b[38;5;241m=\u001b[39m \u001b[43mBorutaPy\u001b[49m\u001b[43m(\u001b[49m\u001b[43mrf\u001b[49m\u001b[43m,\u001b[49m\u001b[43m \u001b[49m\u001b[43mn_estimators\u001b[49m\u001b[38;5;241;43m=\u001b[39;49m\u001b[38;5;124;43m'\u001b[39;49m\u001b[38;5;124;43mauto\u001b[39;49m\u001b[38;5;124;43m'\u001b[39;49m\u001b[43m,\u001b[49m\u001b[43m \u001b[49m\u001b[43mverbose\u001b[49m\u001b[38;5;241;43m=\u001b[39;49m\u001b[38;5;241;43m2\u001b[39;49m\u001b[43m,\u001b[49m\u001b[43m \u001b[49m\u001b[43mrandom_state\u001b[49m\u001b[38;5;241;43m=\u001b[39;49m\u001b[38;5;241;43m42\u001b[39;49m\u001b[43m)\u001b[49m\u001b[38;5;241;43m.\u001b[39;49m\u001b[43mfit\u001b[49m\u001b[43m(\u001b[49m\u001b[43mx_train_n\u001b[49m\u001b[43m,\u001b[49m\u001b[43m \u001b[49m\u001b[43my_train_n\u001b[49m\u001b[43m)\u001b[49m\n",
      "File \u001b[1;32m~\\anaconda3\\envs\\leilao_fechamento\\lib\\site-packages\\boruta\\boruta_py.py:201\u001b[0m, in \u001b[0;36mBorutaPy.fit\u001b[1;34m(self, X, y)\u001b[0m\n\u001b[0;32m    188\u001b[0m \u001b[38;5;28;01mdef\u001b[39;00m \u001b[38;5;21mfit\u001b[39m(\u001b[38;5;28mself\u001b[39m, X, y):\n\u001b[0;32m    189\u001b[0m     \u001b[38;5;124;03m\"\"\"\u001b[39;00m\n\u001b[0;32m    190\u001b[0m \u001b[38;5;124;03m    Fits the Boruta feature selection with the provided estimator.\u001b[39;00m\n\u001b[0;32m    191\u001b[0m \n\u001b[1;32m   (...)\u001b[0m\n\u001b[0;32m    198\u001b[0m \u001b[38;5;124;03m        The target values.\u001b[39;00m\n\u001b[0;32m    199\u001b[0m \u001b[38;5;124;03m    \"\"\"\u001b[39;00m\n\u001b[1;32m--> 201\u001b[0m     \u001b[38;5;28;01mreturn\u001b[39;00m \u001b[38;5;28;43mself\u001b[39;49m\u001b[38;5;241;43m.\u001b[39;49m\u001b[43m_fit\u001b[49m\u001b[43m(\u001b[49m\u001b[43mX\u001b[49m\u001b[43m,\u001b[49m\u001b[43m \u001b[49m\u001b[43my\u001b[49m\u001b[43m)\u001b[49m\n",
      "File \u001b[1;32m~\\anaconda3\\envs\\leilao_fechamento\\lib\\site-packages\\boruta\\boruta_py.py:285\u001b[0m, in \u001b[0;36mBorutaPy._fit\u001b[1;34m(self, X, y)\u001b[0m\n\u001b[0;32m    282\u001b[0m \u001b[38;5;28mself\u001b[39m\u001b[38;5;241m.\u001b[39mestimator\u001b[38;5;241m.\u001b[39mset_params(random_state\u001b[38;5;241m=\u001b[39m\u001b[38;5;28mself\u001b[39m\u001b[38;5;241m.\u001b[39mrandom_state)\n\u001b[0;32m    284\u001b[0m \u001b[38;5;66;03m# add shadow attributes, shuffle them and train estimator, get imps\u001b[39;00m\n\u001b[1;32m--> 285\u001b[0m cur_imp \u001b[38;5;241m=\u001b[39m \u001b[38;5;28;43mself\u001b[39;49m\u001b[38;5;241;43m.\u001b[39;49m\u001b[43m_add_shadows_get_imps\u001b[49m\u001b[43m(\u001b[49m\u001b[43mX\u001b[49m\u001b[43m,\u001b[49m\u001b[43m \u001b[49m\u001b[43my\u001b[49m\u001b[43m,\u001b[49m\u001b[43m \u001b[49m\u001b[43mdec_reg\u001b[49m\u001b[43m)\u001b[49m\n\u001b[0;32m    287\u001b[0m \u001b[38;5;66;03m# get the threshold of shadow importances we will use for rejection\u001b[39;00m\n\u001b[0;32m    288\u001b[0m imp_sha_max \u001b[38;5;241m=\u001b[39m np\u001b[38;5;241m.\u001b[39mpercentile(cur_imp[\u001b[38;5;241m1\u001b[39m], \u001b[38;5;28mself\u001b[39m\u001b[38;5;241m.\u001b[39mperc)\n",
      "File \u001b[1;32m~\\anaconda3\\envs\\leilao_fechamento\\lib\\site-packages\\boruta\\boruta_py.py:412\u001b[0m, in \u001b[0;36mBorutaPy._add_shadows_get_imps\u001b[1;34m(self, X, y, dec_reg)\u001b[0m\n\u001b[0;32m    410\u001b[0m x_sha \u001b[38;5;241m=\u001b[39m np\u001b[38;5;241m.\u001b[39mapply_along_axis(\u001b[38;5;28mself\u001b[39m\u001b[38;5;241m.\u001b[39m_get_shuffle, \u001b[38;5;241m0\u001b[39m, x_sha)\n\u001b[0;32m    411\u001b[0m \u001b[38;5;66;03m# get importance of the merged matrix\u001b[39;00m\n\u001b[1;32m--> 412\u001b[0m imp \u001b[38;5;241m=\u001b[39m \u001b[38;5;28;43mself\u001b[39;49m\u001b[38;5;241;43m.\u001b[39;49m\u001b[43m_get_imp\u001b[49m\u001b[43m(\u001b[49m\u001b[43mnp\u001b[49m\u001b[38;5;241;43m.\u001b[39;49m\u001b[43mhstack\u001b[49m\u001b[43m(\u001b[49m\u001b[43m(\u001b[49m\u001b[43mx_cur\u001b[49m\u001b[43m,\u001b[49m\u001b[43m \u001b[49m\u001b[43mx_sha\u001b[49m\u001b[43m)\u001b[49m\u001b[43m)\u001b[49m\u001b[43m,\u001b[49m\u001b[43m \u001b[49m\u001b[43my\u001b[49m\u001b[43m)\u001b[49m\n\u001b[0;32m    413\u001b[0m \u001b[38;5;66;03m# separate importances of real and shadow features\u001b[39;00m\n\u001b[0;32m    414\u001b[0m imp_sha \u001b[38;5;241m=\u001b[39m imp[x_cur_w:]\n",
      "File \u001b[1;32m~\\anaconda3\\envs\\leilao_fechamento\\lib\\site-packages\\boruta\\boruta_py.py:384\u001b[0m, in \u001b[0;36mBorutaPy._get_imp\u001b[1;34m(self, X, y)\u001b[0m\n\u001b[0;32m    382\u001b[0m \u001b[38;5;28;01mdef\u001b[39;00m \u001b[38;5;21m_get_imp\u001b[39m(\u001b[38;5;28mself\u001b[39m, X, y):\n\u001b[0;32m    383\u001b[0m     \u001b[38;5;28;01mtry\u001b[39;00m:\n\u001b[1;32m--> 384\u001b[0m         \u001b[38;5;28;43mself\u001b[39;49m\u001b[38;5;241;43m.\u001b[39;49m\u001b[43mestimator\u001b[49m\u001b[38;5;241;43m.\u001b[39;49m\u001b[43mfit\u001b[49m\u001b[43m(\u001b[49m\u001b[43mX\u001b[49m\u001b[43m,\u001b[49m\u001b[43m \u001b[49m\u001b[43my\u001b[49m\u001b[43m)\u001b[49m\n\u001b[0;32m    385\u001b[0m     \u001b[38;5;28;01mexcept\u001b[39;00m \u001b[38;5;167;01mException\u001b[39;00m \u001b[38;5;28;01mas\u001b[39;00m e:\n\u001b[0;32m    386\u001b[0m         \u001b[38;5;28;01mraise\u001b[39;00m \u001b[38;5;167;01mValueError\u001b[39;00m(\u001b[38;5;124m'\u001b[39m\u001b[38;5;124mPlease check your X and y variable. The provided\u001b[39m\u001b[38;5;124m'\u001b[39m\n\u001b[0;32m    387\u001b[0m                          \u001b[38;5;124m'\u001b[39m\u001b[38;5;124mestimator cannot be fitted to your data.\u001b[39m\u001b[38;5;130;01m\\n\u001b[39;00m\u001b[38;5;124m'\u001b[39m \u001b[38;5;241m+\u001b[39m \u001b[38;5;28mstr\u001b[39m(e))\n",
      "File \u001b[1;32m~\\anaconda3\\envs\\leilao_fechamento\\lib\\site-packages\\sklearn\\ensemble\\_forest.py:473\u001b[0m, in \u001b[0;36mBaseForest.fit\u001b[1;34m(self, X, y, sample_weight)\u001b[0m\n\u001b[0;32m    462\u001b[0m trees \u001b[38;5;241m=\u001b[39m [\n\u001b[0;32m    463\u001b[0m     \u001b[38;5;28mself\u001b[39m\u001b[38;5;241m.\u001b[39m_make_estimator(append\u001b[38;5;241m=\u001b[39m\u001b[38;5;28;01mFalse\u001b[39;00m, random_state\u001b[38;5;241m=\u001b[39mrandom_state)\n\u001b[0;32m    464\u001b[0m     \u001b[38;5;28;01mfor\u001b[39;00m i \u001b[38;5;129;01min\u001b[39;00m \u001b[38;5;28mrange\u001b[39m(n_more_estimators)\n\u001b[0;32m    465\u001b[0m ]\n\u001b[0;32m    467\u001b[0m \u001b[38;5;66;03m# Parallel loop: we prefer the threading backend as the Cython code\u001b[39;00m\n\u001b[0;32m    468\u001b[0m \u001b[38;5;66;03m# for fitting the trees is internally releasing the Python GIL\u001b[39;00m\n\u001b[0;32m    469\u001b[0m \u001b[38;5;66;03m# making threading more efficient than multiprocessing in\u001b[39;00m\n\u001b[0;32m    470\u001b[0m \u001b[38;5;66;03m# that case. However, for joblib 0.12+ we respect any\u001b[39;00m\n\u001b[0;32m    471\u001b[0m \u001b[38;5;66;03m# parallel_backend contexts set at a higher level,\u001b[39;00m\n\u001b[0;32m    472\u001b[0m \u001b[38;5;66;03m# since correctness does not rely on using threads.\u001b[39;00m\n\u001b[1;32m--> 473\u001b[0m trees \u001b[38;5;241m=\u001b[39m \u001b[43mParallel\u001b[49m\u001b[43m(\u001b[49m\n\u001b[0;32m    474\u001b[0m \u001b[43m    \u001b[49m\u001b[43mn_jobs\u001b[49m\u001b[38;5;241;43m=\u001b[39;49m\u001b[38;5;28;43mself\u001b[39;49m\u001b[38;5;241;43m.\u001b[39;49m\u001b[43mn_jobs\u001b[49m\u001b[43m,\u001b[49m\n\u001b[0;32m    475\u001b[0m \u001b[43m    \u001b[49m\u001b[43mverbose\u001b[49m\u001b[38;5;241;43m=\u001b[39;49m\u001b[38;5;28;43mself\u001b[39;49m\u001b[38;5;241;43m.\u001b[39;49m\u001b[43mverbose\u001b[49m\u001b[43m,\u001b[49m\n\u001b[0;32m    476\u001b[0m \u001b[43m    \u001b[49m\u001b[43mprefer\u001b[49m\u001b[38;5;241;43m=\u001b[39;49m\u001b[38;5;124;43m\"\u001b[39;49m\u001b[38;5;124;43mthreads\u001b[39;49m\u001b[38;5;124;43m\"\u001b[39;49m\u001b[43m,\u001b[49m\n\u001b[0;32m    477\u001b[0m \u001b[43m\u001b[49m\u001b[43m)\u001b[49m\u001b[43m(\u001b[49m\n\u001b[0;32m    478\u001b[0m \u001b[43m    \u001b[49m\u001b[43mdelayed\u001b[49m\u001b[43m(\u001b[49m\u001b[43m_parallel_build_trees\u001b[49m\u001b[43m)\u001b[49m\u001b[43m(\u001b[49m\n\u001b[0;32m    479\u001b[0m \u001b[43m        \u001b[49m\u001b[43mt\u001b[49m\u001b[43m,\u001b[49m\n\u001b[0;32m    480\u001b[0m \u001b[43m        \u001b[49m\u001b[38;5;28;43mself\u001b[39;49m\u001b[38;5;241;43m.\u001b[39;49m\u001b[43mbootstrap\u001b[49m\u001b[43m,\u001b[49m\n\u001b[0;32m    481\u001b[0m \u001b[43m        \u001b[49m\u001b[43mX\u001b[49m\u001b[43m,\u001b[49m\n\u001b[0;32m    482\u001b[0m \u001b[43m        \u001b[49m\u001b[43my\u001b[49m\u001b[43m,\u001b[49m\n\u001b[0;32m    483\u001b[0m \u001b[43m        \u001b[49m\u001b[43msample_weight\u001b[49m\u001b[43m,\u001b[49m\n\u001b[0;32m    484\u001b[0m \u001b[43m        \u001b[49m\u001b[43mi\u001b[49m\u001b[43m,\u001b[49m\n\u001b[0;32m    485\u001b[0m \u001b[43m        \u001b[49m\u001b[38;5;28;43mlen\u001b[39;49m\u001b[43m(\u001b[49m\u001b[43mtrees\u001b[49m\u001b[43m)\u001b[49m\u001b[43m,\u001b[49m\n\u001b[0;32m    486\u001b[0m \u001b[43m        \u001b[49m\u001b[43mverbose\u001b[49m\u001b[38;5;241;43m=\u001b[39;49m\u001b[38;5;28;43mself\u001b[39;49m\u001b[38;5;241;43m.\u001b[39;49m\u001b[43mverbose\u001b[49m\u001b[43m,\u001b[49m\n\u001b[0;32m    487\u001b[0m \u001b[43m        \u001b[49m\u001b[43mclass_weight\u001b[49m\u001b[38;5;241;43m=\u001b[39;49m\u001b[38;5;28;43mself\u001b[39;49m\u001b[38;5;241;43m.\u001b[39;49m\u001b[43mclass_weight\u001b[49m\u001b[43m,\u001b[49m\n\u001b[0;32m    488\u001b[0m \u001b[43m        \u001b[49m\u001b[43mn_samples_bootstrap\u001b[49m\u001b[38;5;241;43m=\u001b[39;49m\u001b[43mn_samples_bootstrap\u001b[49m\u001b[43m,\u001b[49m\n\u001b[0;32m    489\u001b[0m \u001b[43m    \u001b[49m\u001b[43m)\u001b[49m\n\u001b[0;32m    490\u001b[0m \u001b[43m    \u001b[49m\u001b[38;5;28;43;01mfor\u001b[39;49;00m\u001b[43m \u001b[49m\u001b[43mi\u001b[49m\u001b[43m,\u001b[49m\u001b[43m \u001b[49m\u001b[43mt\u001b[49m\u001b[43m \u001b[49m\u001b[38;5;129;43;01min\u001b[39;49;00m\u001b[43m \u001b[49m\u001b[38;5;28;43menumerate\u001b[39;49m\u001b[43m(\u001b[49m\u001b[43mtrees\u001b[49m\u001b[43m)\u001b[49m\n\u001b[0;32m    491\u001b[0m \u001b[43m\u001b[49m\u001b[43m)\u001b[49m\n\u001b[0;32m    493\u001b[0m \u001b[38;5;66;03m# Collect newly grown trees\u001b[39;00m\n\u001b[0;32m    494\u001b[0m \u001b[38;5;28mself\u001b[39m\u001b[38;5;241m.\u001b[39mestimators_\u001b[38;5;241m.\u001b[39mextend(trees)\n",
      "File \u001b[1;32m~\\anaconda3\\envs\\leilao_fechamento\\lib\\site-packages\\sklearn\\utils\\parallel.py:63\u001b[0m, in \u001b[0;36mParallel.__call__\u001b[1;34m(self, iterable)\u001b[0m\n\u001b[0;32m     58\u001b[0m config \u001b[38;5;241m=\u001b[39m get_config()\n\u001b[0;32m     59\u001b[0m iterable_with_config \u001b[38;5;241m=\u001b[39m (\n\u001b[0;32m     60\u001b[0m     (_with_config(delayed_func, config), args, kwargs)\n\u001b[0;32m     61\u001b[0m     \u001b[38;5;28;01mfor\u001b[39;00m delayed_func, args, kwargs \u001b[38;5;129;01min\u001b[39;00m iterable\n\u001b[0;32m     62\u001b[0m )\n\u001b[1;32m---> 63\u001b[0m \u001b[38;5;28;01mreturn\u001b[39;00m \u001b[38;5;28;43msuper\u001b[39;49m\u001b[43m(\u001b[49m\u001b[43m)\u001b[49m\u001b[38;5;241;43m.\u001b[39;49m\u001b[38;5;21;43m__call__\u001b[39;49m\u001b[43m(\u001b[49m\u001b[43miterable_with_config\u001b[49m\u001b[43m)\u001b[49m\n",
      "File \u001b[1;32m~\\anaconda3\\envs\\leilao_fechamento\\lib\\site-packages\\joblib\\parallel.py:1061\u001b[0m, in \u001b[0;36mParallel.__call__\u001b[1;34m(self, iterable)\u001b[0m\n\u001b[0;32m   1058\u001b[0m     \u001b[38;5;28mself\u001b[39m\u001b[38;5;241m.\u001b[39m_iterating \u001b[38;5;241m=\u001b[39m \u001b[38;5;28;01mFalse\u001b[39;00m\n\u001b[0;32m   1060\u001b[0m \u001b[38;5;28;01mwith\u001b[39;00m \u001b[38;5;28mself\u001b[39m\u001b[38;5;241m.\u001b[39m_backend\u001b[38;5;241m.\u001b[39mretrieval_context():\n\u001b[1;32m-> 1061\u001b[0m     \u001b[38;5;28;43mself\u001b[39;49m\u001b[38;5;241;43m.\u001b[39;49m\u001b[43mretrieve\u001b[49m\u001b[43m(\u001b[49m\u001b[43m)\u001b[49m\n\u001b[0;32m   1062\u001b[0m \u001b[38;5;66;03m# Make sure that we get a last message telling us we are done\u001b[39;00m\n\u001b[0;32m   1063\u001b[0m elapsed_time \u001b[38;5;241m=\u001b[39m time\u001b[38;5;241m.\u001b[39mtime() \u001b[38;5;241m-\u001b[39m \u001b[38;5;28mself\u001b[39m\u001b[38;5;241m.\u001b[39m_start_time\n",
      "File \u001b[1;32m~\\anaconda3\\envs\\leilao_fechamento\\lib\\site-packages\\joblib\\parallel.py:938\u001b[0m, in \u001b[0;36mParallel.retrieve\u001b[1;34m(self)\u001b[0m\n\u001b[0;32m    936\u001b[0m \u001b[38;5;28;01mtry\u001b[39;00m:\n\u001b[0;32m    937\u001b[0m     \u001b[38;5;28;01mif\u001b[39;00m \u001b[38;5;28mgetattr\u001b[39m(\u001b[38;5;28mself\u001b[39m\u001b[38;5;241m.\u001b[39m_backend, \u001b[38;5;124m'\u001b[39m\u001b[38;5;124msupports_timeout\u001b[39m\u001b[38;5;124m'\u001b[39m, \u001b[38;5;28;01mFalse\u001b[39;00m):\n\u001b[1;32m--> 938\u001b[0m         \u001b[38;5;28mself\u001b[39m\u001b[38;5;241m.\u001b[39m_output\u001b[38;5;241m.\u001b[39mextend(\u001b[43mjob\u001b[49m\u001b[38;5;241;43m.\u001b[39;49m\u001b[43mget\u001b[49m\u001b[43m(\u001b[49m\u001b[43mtimeout\u001b[49m\u001b[38;5;241;43m=\u001b[39;49m\u001b[38;5;28;43mself\u001b[39;49m\u001b[38;5;241;43m.\u001b[39;49m\u001b[43mtimeout\u001b[49m\u001b[43m)\u001b[49m)\n\u001b[0;32m    939\u001b[0m     \u001b[38;5;28;01melse\u001b[39;00m:\n\u001b[0;32m    940\u001b[0m         \u001b[38;5;28mself\u001b[39m\u001b[38;5;241m.\u001b[39m_output\u001b[38;5;241m.\u001b[39mextend(job\u001b[38;5;241m.\u001b[39mget())\n",
      "File \u001b[1;32m~\\anaconda3\\envs\\leilao_fechamento\\lib\\multiprocessing\\pool.py:768\u001b[0m, in \u001b[0;36mApplyResult.get\u001b[1;34m(self, timeout)\u001b[0m\n\u001b[0;32m    767\u001b[0m \u001b[38;5;28;01mdef\u001b[39;00m \u001b[38;5;21mget\u001b[39m(\u001b[38;5;28mself\u001b[39m, timeout\u001b[38;5;241m=\u001b[39m\u001b[38;5;28;01mNone\u001b[39;00m):\n\u001b[1;32m--> 768\u001b[0m     \u001b[38;5;28;43mself\u001b[39;49m\u001b[38;5;241;43m.\u001b[39;49m\u001b[43mwait\u001b[49m\u001b[43m(\u001b[49m\u001b[43mtimeout\u001b[49m\u001b[43m)\u001b[49m\n\u001b[0;32m    769\u001b[0m     \u001b[38;5;28;01mif\u001b[39;00m \u001b[38;5;129;01mnot\u001b[39;00m \u001b[38;5;28mself\u001b[39m\u001b[38;5;241m.\u001b[39mready():\n\u001b[0;32m    770\u001b[0m         \u001b[38;5;28;01mraise\u001b[39;00m \u001b[38;5;167;01mTimeoutError\u001b[39;00m\n",
      "File \u001b[1;32m~\\anaconda3\\envs\\leilao_fechamento\\lib\\multiprocessing\\pool.py:765\u001b[0m, in \u001b[0;36mApplyResult.wait\u001b[1;34m(self, timeout)\u001b[0m\n\u001b[0;32m    764\u001b[0m \u001b[38;5;28;01mdef\u001b[39;00m \u001b[38;5;21mwait\u001b[39m(\u001b[38;5;28mself\u001b[39m, timeout\u001b[38;5;241m=\u001b[39m\u001b[38;5;28;01mNone\u001b[39;00m):\n\u001b[1;32m--> 765\u001b[0m     \u001b[38;5;28;43mself\u001b[39;49m\u001b[38;5;241;43m.\u001b[39;49m\u001b[43m_event\u001b[49m\u001b[38;5;241;43m.\u001b[39;49m\u001b[43mwait\u001b[49m\u001b[43m(\u001b[49m\u001b[43mtimeout\u001b[49m\u001b[43m)\u001b[49m\n",
      "File \u001b[1;32m~\\anaconda3\\envs\\leilao_fechamento\\lib\\threading.py:607\u001b[0m, in \u001b[0;36mEvent.wait\u001b[1;34m(self, timeout)\u001b[0m\n\u001b[0;32m    605\u001b[0m signaled \u001b[38;5;241m=\u001b[39m \u001b[38;5;28mself\u001b[39m\u001b[38;5;241m.\u001b[39m_flag\n\u001b[0;32m    606\u001b[0m \u001b[38;5;28;01mif\u001b[39;00m \u001b[38;5;129;01mnot\u001b[39;00m signaled:\n\u001b[1;32m--> 607\u001b[0m     signaled \u001b[38;5;241m=\u001b[39m \u001b[38;5;28;43mself\u001b[39;49m\u001b[38;5;241;43m.\u001b[39;49m\u001b[43m_cond\u001b[49m\u001b[38;5;241;43m.\u001b[39;49m\u001b[43mwait\u001b[49m\u001b[43m(\u001b[49m\u001b[43mtimeout\u001b[49m\u001b[43m)\u001b[49m\n\u001b[0;32m    608\u001b[0m \u001b[38;5;28;01mreturn\u001b[39;00m signaled\n",
      "File \u001b[1;32m~\\anaconda3\\envs\\leilao_fechamento\\lib\\threading.py:320\u001b[0m, in \u001b[0;36mCondition.wait\u001b[1;34m(self, timeout)\u001b[0m\n\u001b[0;32m    318\u001b[0m \u001b[38;5;28;01mtry\u001b[39;00m:    \u001b[38;5;66;03m# restore state no matter what (e.g., KeyboardInterrupt)\u001b[39;00m\n\u001b[0;32m    319\u001b[0m     \u001b[38;5;28;01mif\u001b[39;00m timeout \u001b[38;5;129;01mis\u001b[39;00m \u001b[38;5;28;01mNone\u001b[39;00m:\n\u001b[1;32m--> 320\u001b[0m         \u001b[43mwaiter\u001b[49m\u001b[38;5;241;43m.\u001b[39;49m\u001b[43macquire\u001b[49m\u001b[43m(\u001b[49m\u001b[43m)\u001b[49m\n\u001b[0;32m    321\u001b[0m         gotit \u001b[38;5;241m=\u001b[39m \u001b[38;5;28;01mTrue\u001b[39;00m\n\u001b[0;32m    322\u001b[0m     \u001b[38;5;28;01melse\u001b[39;00m:\n",
      "\u001b[1;31mKeyboardInterrupt\u001b[0m: "
     ]
    }
   ],
   "source": [
    "x_train_n = x_train_boruta.values\n",
    "y_train_n = y_train.values\n",
    "boruta = BorutaPy(rf, n_estimators='auto', verbose=2, random_state=42).fit(x_train_n, y_train_n)"
   ]
  },
  {
   "cell_type": "code",
   "execution_count": 48,
   "id": "c5bee309",
   "metadata": {
    "ExecuteTime": {
     "end_time": "2023-05-23T18:08:23.177562Z",
     "start_time": "2023-05-23T18:08:23.168590Z"
    }
   },
   "outputs": [],
   "source": [
    "cols_boruta = boruta.support_.tolist()"
   ]
  },
  {
   "cell_type": "code",
   "execution_count": 51,
   "id": "88614af2",
   "metadata": {
    "ExecuteTime": {
     "end_time": "2023-05-23T18:09:10.665079Z",
     "start_time": "2023-05-23T18:09:10.648361Z"
    }
   },
   "outputs": [],
   "source": [
    "x_train_selected_boruta = x_train_boruta.loc[:,cols_boruta].columns.tolist()"
   ]
  },
  {
   "cell_type": "code",
   "execution_count": 52,
   "id": "e5343409",
   "metadata": {
    "ExecuteTime": {
     "end_time": "2023-05-23T18:09:16.478778Z",
     "start_time": "2023-05-23T18:09:16.460880Z"
    }
   },
   "outputs": [
    {
     "data": {
      "text/plain": [
       "['abertura', 'fechamento', 'volume', 'quantidade', 'variacao_win']"
      ]
     },
     "execution_count": 52,
     "metadata": {},
     "output_type": "execute_result"
    }
   ],
   "source": [
    "x_train_selected_boruta"
   ]
  },
  {
   "cell_type": "markdown",
   "id": "33aec694",
   "metadata": {},
   "source": [
    "## 5.2 Extratree Regressor"
   ]
  },
  {
   "cell_type": "code",
   "execution_count": 113,
   "id": "b451279c",
   "metadata": {
    "ExecuteTime": {
     "end_time": "2023-05-23T17:57:17.019462Z",
     "start_time": "2023-05-23T17:57:17.009095Z"
    }
   },
   "outputs": [],
   "source": [
    "et = en.RandomForestRegressor(n_jobs=-1)"
   ]
  },
  {
   "cell_type": "code",
   "execution_count": 114,
   "id": "e48910c5",
   "metadata": {
    "ExecuteTime": {
     "end_time": "2023-05-23T17:58:35.822784Z",
     "start_time": "2023-05-23T17:57:17.507900Z"
    }
   },
   "outputs": [
    {
     "data": {
      "text/html": [
       "<style>#sk-container-id-2 {color: black;background-color: white;}#sk-container-id-2 pre{padding: 0;}#sk-container-id-2 div.sk-toggleable {background-color: white;}#sk-container-id-2 label.sk-toggleable__label {cursor: pointer;display: block;width: 100%;margin-bottom: 0;padding: 0.3em;box-sizing: border-box;text-align: center;}#sk-container-id-2 label.sk-toggleable__label-arrow:before {content: \"▸\";float: left;margin-right: 0.25em;color: #696969;}#sk-container-id-2 label.sk-toggleable__label-arrow:hover:before {color: black;}#sk-container-id-2 div.sk-estimator:hover label.sk-toggleable__label-arrow:before {color: black;}#sk-container-id-2 div.sk-toggleable__content {max-height: 0;max-width: 0;overflow: hidden;text-align: left;background-color: #f0f8ff;}#sk-container-id-2 div.sk-toggleable__content pre {margin: 0.2em;color: black;border-radius: 0.25em;background-color: #f0f8ff;}#sk-container-id-2 input.sk-toggleable__control:checked~div.sk-toggleable__content {max-height: 200px;max-width: 100%;overflow: auto;}#sk-container-id-2 input.sk-toggleable__control:checked~label.sk-toggleable__label-arrow:before {content: \"▾\";}#sk-container-id-2 div.sk-estimator input.sk-toggleable__control:checked~label.sk-toggleable__label {background-color: #d4ebff;}#sk-container-id-2 div.sk-label input.sk-toggleable__control:checked~label.sk-toggleable__label {background-color: #d4ebff;}#sk-container-id-2 input.sk-hidden--visually {border: 0;clip: rect(1px 1px 1px 1px);clip: rect(1px, 1px, 1px, 1px);height: 1px;margin: -1px;overflow: hidden;padding: 0;position: absolute;width: 1px;}#sk-container-id-2 div.sk-estimator {font-family: monospace;background-color: #f0f8ff;border: 1px dotted black;border-radius: 0.25em;box-sizing: border-box;margin-bottom: 0.5em;}#sk-container-id-2 div.sk-estimator:hover {background-color: #d4ebff;}#sk-container-id-2 div.sk-parallel-item::after {content: \"\";width: 100%;border-bottom: 1px solid gray;flex-grow: 1;}#sk-container-id-2 div.sk-label:hover label.sk-toggleable__label {background-color: #d4ebff;}#sk-container-id-2 div.sk-serial::before {content: \"\";position: absolute;border-left: 1px solid gray;box-sizing: border-box;top: 0;bottom: 0;left: 50%;z-index: 0;}#sk-container-id-2 div.sk-serial {display: flex;flex-direction: column;align-items: center;background-color: white;padding-right: 0.2em;padding-left: 0.2em;position: relative;}#sk-container-id-2 div.sk-item {position: relative;z-index: 1;}#sk-container-id-2 div.sk-parallel {display: flex;align-items: stretch;justify-content: center;background-color: white;position: relative;}#sk-container-id-2 div.sk-item::before, #sk-container-id-2 div.sk-parallel-item::before {content: \"\";position: absolute;border-left: 1px solid gray;box-sizing: border-box;top: 0;bottom: 0;left: 50%;z-index: -1;}#sk-container-id-2 div.sk-parallel-item {display: flex;flex-direction: column;z-index: 1;position: relative;background-color: white;}#sk-container-id-2 div.sk-parallel-item:first-child::after {align-self: flex-end;width: 50%;}#sk-container-id-2 div.sk-parallel-item:last-child::after {align-self: flex-start;width: 50%;}#sk-container-id-2 div.sk-parallel-item:only-child::after {width: 0;}#sk-container-id-2 div.sk-dashed-wrapped {border: 1px dashed gray;margin: 0 0.4em 0.5em 0.4em;box-sizing: border-box;padding-bottom: 0.4em;background-color: white;}#sk-container-id-2 div.sk-label label {font-family: monospace;font-weight: bold;display: inline-block;line-height: 1.2em;}#sk-container-id-2 div.sk-label-container {text-align: center;}#sk-container-id-2 div.sk-container {/* jupyter's `normalize.less` sets `[hidden] { display: none; }` but bootstrap.min.css set `[hidden] { display: none !important; }` so we also need the `!important` here to be able to override the default hidden behavior on the sphinx rendered scikit-learn.org. See: https://github.com/scikit-learn/scikit-learn/issues/21755 */display: inline-block !important;position: relative;}#sk-container-id-2 div.sk-text-repr-fallback {display: none;}</style><div id=\"sk-container-id-2\" class=\"sk-top-container\"><div class=\"sk-text-repr-fallback\"><pre>RandomForestRegressor(n_jobs=-1)</pre><b>In a Jupyter environment, please rerun this cell to show the HTML representation or trust the notebook. <br />On GitHub, the HTML representation is unable to render, please try loading this page with nbviewer.org.</b></div><div class=\"sk-container\" hidden><div class=\"sk-item\"><div class=\"sk-estimator sk-toggleable\"><input class=\"sk-toggleable__control sk-hidden--visually\" id=\"sk-estimator-id-2\" type=\"checkbox\" checked><label for=\"sk-estimator-id-2\" class=\"sk-toggleable__label sk-toggleable__label-arrow\">RandomForestRegressor</label><div class=\"sk-toggleable__content\"><pre>RandomForestRegressor(n_jobs=-1)</pre></div></div></div></div></div>"
      ],
      "text/plain": [
       "RandomForestRegressor(n_jobs=-1)"
      ]
     },
     "execution_count": 114,
     "metadata": {},
     "output_type": "execute_result"
    }
   ],
   "source": [
    "et.fit(x_train_n, y_train_n)"
   ]
  },
  {
   "cell_type": "code",
   "execution_count": 115,
   "id": "6413fdfe",
   "metadata": {
    "ExecuteTime": {
     "end_time": "2023-05-23T18:13:30.712321Z",
     "start_time": "2023-05-23T18:13:30.646980Z"
    }
   },
   "outputs": [
    {
     "data": {
      "text/html": [
       "<div>\n",
       "<style scoped>\n",
       "    .dataframe tbody tr th:only-of-type {\n",
       "        vertical-align: middle;\n",
       "    }\n",
       "\n",
       "    .dataframe tbody tr th {\n",
       "        vertical-align: top;\n",
       "    }\n",
       "\n",
       "    .dataframe thead th {\n",
       "        text-align: right;\n",
       "    }\n",
       "</style>\n",
       "<table border=\"1\" class=\"dataframe\">\n",
       "  <thead>\n",
       "    <tr style=\"text-align: right;\">\n",
       "      <th></th>\n",
       "      <th>Features</th>\n",
       "      <th>Ranking</th>\n",
       "    </tr>\n",
       "  </thead>\n",
       "  <tbody>\n",
       "    <tr>\n",
       "      <th>3</th>\n",
       "      <td>volume</td>\n",
       "      <td>0.172512</td>\n",
       "    </tr>\n",
       "    <tr>\n",
       "      <th>4</th>\n",
       "      <td>quantidade</td>\n",
       "      <td>0.153515</td>\n",
       "    </tr>\n",
       "    <tr>\n",
       "      <th>5</th>\n",
       "      <td>variacao_win</td>\n",
       "      <td>0.124016</td>\n",
       "    </tr>\n",
       "    <tr>\n",
       "      <th>2</th>\n",
       "      <td>minimo</td>\n",
       "      <td>0.118528</td>\n",
       "    </tr>\n",
       "    <tr>\n",
       "      <th>0</th>\n",
       "      <td>ativo</td>\n",
       "      <td>0.111949</td>\n",
       "    </tr>\n",
       "    <tr>\n",
       "      <th>1</th>\n",
       "      <td>maximo</td>\n",
       "      <td>0.106947</td>\n",
       "    </tr>\n",
       "    <tr>\n",
       "      <th>7</th>\n",
       "      <td>data_cos</td>\n",
       "      <td>0.059218</td>\n",
       "    </tr>\n",
       "    <tr>\n",
       "      <th>6</th>\n",
       "      <td>data_sin</td>\n",
       "      <td>0.057037</td>\n",
       "    </tr>\n",
       "    <tr>\n",
       "      <th>9</th>\n",
       "      <td>hora_cos</td>\n",
       "      <td>0.048336</td>\n",
       "    </tr>\n",
       "    <tr>\n",
       "      <th>8</th>\n",
       "      <td>hora_sin</td>\n",
       "      <td>0.047942</td>\n",
       "    </tr>\n",
       "  </tbody>\n",
       "</table>\n",
       "</div>"
      ],
      "text/plain": [
       "       Features   Ranking\n",
       "3        volume  0.172512\n",
       "4    quantidade  0.153515\n",
       "5  variacao_win  0.124016\n",
       "2        minimo  0.118528\n",
       "0         ativo  0.111949\n",
       "1        maximo  0.106947\n",
       "7      data_cos  0.059218\n",
       "6      data_sin  0.057037\n",
       "9      hora_cos  0.048336\n",
       "8      hora_sin  0.047942"
      ]
     },
     "execution_count": 115,
     "metadata": {},
     "output_type": "execute_result"
    }
   ],
   "source": [
    "importances = et.feature_importances_\n",
    "features = {}\n",
    "\n",
    "for i in range(len(x_train_boruta.columns)):\n",
    "    features[x_train_boruta.columns[i]] = importances[i]\n",
    "    \n",
    "features = pd.DataFrame(features, index=[0])    \n",
    "features = features.melt(var_name='Features', value_name='Ranking')\n",
    "features.sort_values(ascending=False, by='Ranking')"
   ]
  },
  {
   "cell_type": "code",
   "execution_count": 139,
   "id": "07bf66ee",
   "metadata": {
    "ExecuteTime": {
     "end_time": "2023-05-23T18:15:30.892129Z",
     "start_time": "2023-05-23T18:15:30.880537Z"
    }
   },
   "outputs": [],
   "source": [
    "cols_selected = {'volume','quantidade','variacao_win','minimo','ativo','maximo'}"
   ]
  },
  {
   "cell_type": "markdown",
   "id": "ec4b679e",
   "metadata": {},
   "source": [
    "# 6.0 Machine Learning"
   ]
  },
  {
   "cell_type": "code",
   "execution_count": 140,
   "id": "c738de1c",
   "metadata": {
    "ExecuteTime": {
     "end_time": "2023-05-23T19:23:36.480942Z",
     "start_time": "2023-05-23T19:23:36.453328Z"
    }
   },
   "outputs": [],
   "source": [
    "x_train = X_train.loc[:,cols_selected]\n",
    "x_val = X_val.loc[:,cols_selected]"
   ]
  },
  {
   "cell_type": "markdown",
   "id": "1c820269",
   "metadata": {},
   "source": [
    "## 6.1 Average Model"
   ]
  },
  {
   "cell_type": "code",
   "execution_count": 118,
   "id": "61f11879",
   "metadata": {
    "ExecuteTime": {
     "end_time": "2023-05-23T20:17:14.403111Z",
     "start_time": "2023-05-23T20:17:14.313752Z"
    }
   },
   "outputs": [],
   "source": [
    "aux1 = x_train.copy()\n",
    "aux1['variacao'] = y_train.copy()\n",
    "\n",
    "#prediction\n",
    "media_aux1 = aux1.loc[:,['ativo','variacao']].groupby('ativo').mean().reset_index().rename(columns={'variacao':'prediction'})\n",
    "aux1 = pd.merge(aux1, media_aux1, how='left', on='ativo')\n",
    "yhat_baseline = aux1['prediction']\n",
    "\n",
    "#performance\n",
    "metrics_avg = ml_error( 'Average Model', y_train, yhat_baseline )\n"
   ]
  },
  {
   "cell_type": "markdown",
   "id": "becbb37d",
   "metadata": {},
   "source": [
    "## 6.2 Linear Regression"
   ]
  },
  {
   "cell_type": "code",
   "execution_count": 119,
   "id": "b3cd5110",
   "metadata": {
    "ExecuteTime": {
     "end_time": "2023-05-23T20:17:16.460259Z",
     "start_time": "2023-05-23T20:17:16.399476Z"
    }
   },
   "outputs": [],
   "source": [
    "lr = LinearRegression()\n",
    "\n",
    "lr.fit(x_train, y_train)\n",
    "\n",
    "yhat_lr = lr.predict(x_val)"
   ]
  },
  {
   "cell_type": "code",
   "execution_count": 120,
   "id": "9754cb31",
   "metadata": {
    "ExecuteTime": {
     "end_time": "2023-05-23T20:17:20.923791Z",
     "start_time": "2023-05-23T20:17:20.908612Z"
    }
   },
   "outputs": [],
   "source": [
    "metrics_lr = ml_error('Linear Regression', y_val, yhat_lr)"
   ]
  },
  {
   "cell_type": "markdown",
   "id": "ecf7af04",
   "metadata": {},
   "source": [
    "## 6.3 Linear Regression LASSO"
   ]
  },
  {
   "cell_type": "code",
   "execution_count": 121,
   "id": "70af640b",
   "metadata": {
    "ExecuteTime": {
     "end_time": "2023-05-23T20:17:23.798241Z",
     "start_time": "2023-05-23T20:17:23.764145Z"
    }
   },
   "outputs": [],
   "source": [
    "lasso = Lasso(alpha=0.01)\n",
    "\n",
    "lasso.fit(x_train, y_train)\n",
    "\n",
    "yhat_lasso = lasso.predict(x_val)"
   ]
  },
  {
   "cell_type": "code",
   "execution_count": 122,
   "id": "27de9b45",
   "metadata": {
    "ExecuteTime": {
     "end_time": "2023-05-23T20:17:24.326125Z",
     "start_time": "2023-05-23T20:17:24.317430Z"
    }
   },
   "outputs": [],
   "source": [
    "metrics_lasso = ml_error('Lasso', y_val, yhat_lasso)"
   ]
  },
  {
   "cell_type": "markdown",
   "id": "d943c182",
   "metadata": {},
   "source": [
    "## 6.4 Random Forest"
   ]
  },
  {
   "cell_type": "code",
   "execution_count": 123,
   "id": "8266223d",
   "metadata": {
    "ExecuteTime": {
     "end_time": "2023-05-23T19:36:29.929234Z",
     "start_time": "2023-05-23T19:35:35.483547Z"
    }
   },
   "outputs": [],
   "source": [
    "rf = en.RandomForestRegressor(n_jobs=-1)\n",
    "\n",
    "rf.fit(x_train, y_train)\n",
    "\n",
    "yhat_rf = rf.predict(x_val)"
   ]
  },
  {
   "cell_type": "code",
   "execution_count": 124,
   "id": "b9b25c2c",
   "metadata": {
    "ExecuteTime": {
     "end_time": "2023-05-23T20:03:20.261003Z",
     "start_time": "2023-05-23T20:03:20.244958Z"
    }
   },
   "outputs": [],
   "source": [
    "metrics_rf = ml_error('Random Forest', y_val, yhat_rf )"
   ]
  },
  {
   "cell_type": "markdown",
   "id": "5c0c90e1",
   "metadata": {},
   "source": [
    "##  6.5 XGBoost"
   ]
  },
  {
   "cell_type": "code",
   "execution_count": 125,
   "id": "d614c0e8",
   "metadata": {
    "ExecuteTime": {
     "end_time": "2023-05-23T19:38:33.048241Z",
     "start_time": "2023-05-23T19:38:25.140074Z"
    }
   },
   "outputs": [],
   "source": [
    "xgb_model = xgb.XGBRegressor()\n",
    "\n",
    "xgb_model.fit(x_train, y_train)\n",
    "\n",
    "yhat_xgb = xgb_model.predict(x_val)\n"
   ]
  },
  {
   "cell_type": "code",
   "execution_count": 126,
   "id": "6954093b",
   "metadata": {
    "ExecuteTime": {
     "end_time": "2023-05-23T20:03:22.494708Z",
     "start_time": "2023-05-23T20:03:22.478929Z"
    }
   },
   "outputs": [],
   "source": [
    "metrics_xgb = ml_error('XGBoost', y_val, yhat_xgb)"
   ]
  },
  {
   "cell_type": "markdown",
   "id": "3a42f984",
   "metadata": {},
   "source": [
    "## 6.6 SVM"
   ]
  },
  {
   "cell_type": "code",
   "execution_count": 127,
   "id": "d723616c",
   "metadata": {
    "ExecuteTime": {
     "end_time": "2023-05-23T20:15:04.262601Z",
     "start_time": "2023-05-23T20:14:10.354070Z"
    }
   },
   "outputs": [],
   "source": [
    "model_svm = svm.LinearSVR()\n",
    "\n",
    "model_svm.fit(x_train, y_train)\n",
    "\n",
    "yhat_svm = model_svm.predict(x_val)"
   ]
  },
  {
   "cell_type": "code",
   "execution_count": 128,
   "id": "d1da859f",
   "metadata": {
    "ExecuteTime": {
     "end_time": "2023-05-23T20:15:07.706398Z",
     "start_time": "2023-05-23T20:15:07.688458Z"
    }
   },
   "outputs": [],
   "source": [
    "metrics_svm = ml_error('SVM', y_val, yhat_svm)"
   ]
  },
  {
   "cell_type": "markdown",
   "id": "f94e03ec",
   "metadata": {},
   "source": [
    "## 6.7 LSTM"
   ]
  },
  {
   "cell_type": "code",
   "execution_count": 141,
   "id": "027545f0",
   "metadata": {},
   "outputs": [],
   "source": [
    "x_train_exp = np.expand_dims(x_train, axis=2)\n",
    "x_val_exp = np.expand_dims(x_val, axis=2)\n",
    "\n",
    "# Definir o número de características\n",
    "n_features = len(cols_selected)\n",
    "\n",
    "# Definir o modelo LSTM\n",
    "model = Sequential()\n",
    "model.add(LSTM(64, activation='relu', input_shape=(n_features, 1)))\n",
    "model.add(Dense(1))\n",
    "model.compile(optimizer='adam', loss='mse')\n",
    "\n",
    "# Treinar o modelo\n",
    "model.fit(x_train_exp, y_train, epochs=10, batch_size=32, validation_data=(x_val_exp, y_val))"
   ]
  },
  {
   "cell_type": "code",
   "execution_count": 132,
   "id": "e16d620b",
   "metadata": {},
   "outputs": [
    {
     "name": "stdout",
     "output_type": "stream",
     "text": [
      "2162/2162 [==============================] - 3s 2ms/step\n"
     ]
    }
   ],
   "source": [
    "yhat_lstm = model.predict(x_val_exp)"
   ]
  },
  {
   "cell_type": "code",
   "execution_count": 134,
   "id": "e26f7e1a",
   "metadata": {},
   "outputs": [
    {
     "data": {
      "text/plain": [
       "array([[0.4946571 ],\n",
       "       [0.49360162],\n",
       "       [0.49754885],\n",
       "       ...,\n",
       "       [0.49917766],\n",
       "       [0.50005484],\n",
       "       [0.49941757]], dtype=float32)"
      ]
     },
     "execution_count": 134,
     "metadata": {},
     "output_type": "execute_result"
    }
   ],
   "source": [
    "yhat_lstm"
   ]
  },
  {
   "cell_type": "code",
   "execution_count": 145,
   "id": "d5a7a009",
   "metadata": {},
   "outputs": [
    {
     "data": {
      "text/plain": [
       "294141    0.509193\n",
       "369058    0.516000\n",
       "233257    0.496974\n",
       "358349    0.495280\n",
       "38777     0.472943\n",
       "            ...   \n",
       "327888    0.518519\n",
       "473282    0.500000\n",
       "104558    0.488701\n",
       "282707    0.486885\n",
       "440976    0.502625\n",
       "Name: variacao, Length: 69177, dtype: float64"
      ]
     },
     "execution_count": 145,
     "metadata": {},
     "output_type": "execute_result"
    }
   ],
   "source": [
    "y_val"
   ]
  },
  {
   "cell_type": "code",
   "execution_count": 142,
   "id": "994a8393",
   "metadata": {},
   "outputs": [
    {
     "data": {
      "text/html": [
       "<div>\n",
       "<style scoped>\n",
       "    .dataframe tbody tr th:only-of-type {\n",
       "        vertical-align: middle;\n",
       "    }\n",
       "\n",
       "    .dataframe tbody tr th {\n",
       "        vertical-align: top;\n",
       "    }\n",
       "\n",
       "    .dataframe thead th {\n",
       "        text-align: right;\n",
       "    }\n",
       "</style>\n",
       "<table border=\"1\" class=\"dataframe\">\n",
       "  <thead>\n",
       "    <tr style=\"text-align: right;\">\n",
       "      <th></th>\n",
       "      <th>Model Name</th>\n",
       "      <th>MAE</th>\n",
       "      <th>MAPE</th>\n",
       "      <th>RMSE</th>\n",
       "    </tr>\n",
       "  </thead>\n",
       "  <tbody>\n",
       "    <tr>\n",
       "      <th>0</th>\n",
       "      <td>LSTM</td>\n",
       "      <td>0.008337</td>\n",
       "      <td>0.017067</td>\n",
       "      <td>0.017245</td>\n",
       "    </tr>\n",
       "  </tbody>\n",
       "</table>\n",
       "</div>"
      ],
      "text/plain": [
       "  Model Name       MAE      MAPE      RMSE\n",
       "0       LSTM  0.008337  0.017067  0.017245"
      ]
     },
     "execution_count": 142,
     "metadata": {},
     "output_type": "execute_result"
    }
   ],
   "source": [
    "ml_error('LSTM', y_val, yhat_lstm)"
   ]
  },
  {
   "cell_type": "markdown",
   "id": "24287b25",
   "metadata": {},
   "source": [
    "## 6.7 Model Perfomance Compare"
   ]
  },
  {
   "cell_type": "code",
   "execution_count": 143,
   "id": "0f1010cf",
   "metadata": {
    "ExecuteTime": {
     "end_time": "2023-05-23T20:17:29.591384Z",
     "start_time": "2023-05-23T20:17:29.583037Z"
    }
   },
   "outputs": [],
   "source": [
    "metrics = pd.concat([metrics_avg, metrics_lr, metrics_lasso, metrics_rf, metrics_xgb, metrics_svm])"
   ]
  },
  {
   "cell_type": "code",
   "execution_count": 144,
   "id": "b351bd38",
   "metadata": {
    "ExecuteTime": {
     "end_time": "2023-05-23T20:18:00.013856Z",
     "start_time": "2023-05-23T20:18:00.002777Z"
    }
   },
   "outputs": [
    {
     "data": {
      "text/html": [
       "<div>\n",
       "<style scoped>\n",
       "    .dataframe tbody tr th:only-of-type {\n",
       "        vertical-align: middle;\n",
       "    }\n",
       "\n",
       "    .dataframe tbody tr th {\n",
       "        vertical-align: top;\n",
       "    }\n",
       "\n",
       "    .dataframe thead th {\n",
       "        text-align: right;\n",
       "    }\n",
       "</style>\n",
       "<table border=\"1\" class=\"dataframe\">\n",
       "  <thead>\n",
       "    <tr style=\"text-align: right;\">\n",
       "      <th></th>\n",
       "      <th>Model Name</th>\n",
       "      <th>MAE</th>\n",
       "      <th>MAPE</th>\n",
       "      <th>RMSE</th>\n",
       "    </tr>\n",
       "  </thead>\n",
       "  <tbody>\n",
       "    <tr>\n",
       "      <th>0</th>\n",
       "      <td>Average Model</td>\n",
       "      <td>0.008332</td>\n",
       "      <td>8.244356e+09</td>\n",
       "      <td>0.017119</td>\n",
       "    </tr>\n",
       "    <tr>\n",
       "      <th>0</th>\n",
       "      <td>Linear Regression</td>\n",
       "      <td>0.008178</td>\n",
       "      <td>1.682804e-02</td>\n",
       "      <td>0.017181</td>\n",
       "    </tr>\n",
       "    <tr>\n",
       "      <th>0</th>\n",
       "      <td>SVM</td>\n",
       "      <td>0.008114</td>\n",
       "      <td>1.667754e-02</td>\n",
       "      <td>0.017213</td>\n",
       "    </tr>\n",
       "    <tr>\n",
       "      <th>0</th>\n",
       "      <td>XGBoost</td>\n",
       "      <td>0.008184</td>\n",
       "      <td>1.682697e-02</td>\n",
       "      <td>0.017359</td>\n",
       "    </tr>\n",
       "    <tr>\n",
       "      <th>0</th>\n",
       "      <td>Lasso</td>\n",
       "      <td>0.008247</td>\n",
       "      <td>1.694171e-02</td>\n",
       "      <td>0.017444</td>\n",
       "    </tr>\n",
       "    <tr>\n",
       "      <th>0</th>\n",
       "      <td>Random Forest</td>\n",
       "      <td>0.008535</td>\n",
       "      <td>1.752849e-02</td>\n",
       "      <td>0.017927</td>\n",
       "    </tr>\n",
       "  </tbody>\n",
       "</table>\n",
       "</div>"
      ],
      "text/plain": [
       "          Model Name       MAE          MAPE      RMSE\n",
       "0      Average Model  0.008332  8.244356e+09  0.017119\n",
       "0  Linear Regression  0.008178  1.682804e-02  0.017181\n",
       "0                SVM  0.008114  1.667754e-02  0.017213\n",
       "0            XGBoost  0.008184  1.682697e-02  0.017359\n",
       "0              Lasso  0.008247  1.694171e-02  0.017444\n",
       "0      Random Forest  0.008535  1.752849e-02  0.017927"
      ]
     },
     "execution_count": 144,
     "metadata": {},
     "output_type": "execute_result"
    }
   ],
   "source": [
    "metrics.sort_values(by='RMSE')"
   ]
  },
  {
   "cell_type": "code",
   "execution_count": 102,
   "id": "77d21bdf",
   "metadata": {},
   "outputs": [
    {
     "data": {
      "text/plain": [
       "294141    0.526169\n",
       "369058    0.921279\n",
       "233257   -0.183071\n",
       "358349   -0.281402\n",
       "38777    -1.577998\n",
       "            ...   \n",
       "327888    1.067467\n",
       "473282   -0.007443\n",
       "104558   -0.663320\n",
       "282707   -0.768690\n",
       "440976    0.144907\n",
       "Name: variacao, Length: 69177, dtype: float64"
      ]
     },
     "execution_count": 102,
     "metadata": {},
     "output_type": "execute_result"
    }
   ],
   "source": [
    "y_val"
   ]
  },
  {
   "cell_type": "code",
   "execution_count": 103,
   "id": "76cb5faf",
   "metadata": {},
   "outputs": [
    {
     "data": {
      "text/plain": [
       "array([-0.20773979, -0.26806396, -0.05848419, ...,  0.02295487,\n",
       "        0.13367519,  0.08648355], dtype=float32)"
      ]
     },
     "execution_count": 103,
     "metadata": {},
     "output_type": "execute_result"
    }
   ],
   "source": [
    "yhat_xgb"
   ]
  },
  {
   "cell_type": "markdown",
   "id": "cfb16725",
   "metadata": {},
   "source": [
    "## 6.8 Cross Validation"
   ]
  },
  {
   "cell_type": "code",
   "execution_count": 116,
   "id": "48c30fbb",
   "metadata": {
    "ExecuteTime": {
     "end_time": "2023-05-23T20:21:34.295622Z",
     "start_time": "2023-05-23T20:21:34.263016Z"
    }
   },
   "outputs": [],
   "source": [
    "x_cross = X.loc[:,cols_selected]"
   ]
  },
  {
   "cell_type": "code",
   "execution_count": null,
   "id": "8b308ce0",
   "metadata": {},
   "outputs": [],
   "source": [
    "lr_cross_val = ms.cross_val_score(lr, x_cross, y, cv=5 )"
   ]
  },
  {
   "cell_type": "code",
   "execution_count": 128,
   "id": "168a5f48",
   "metadata": {
    "ExecuteTime": {
     "end_time": "2023-05-23T20:34:05.740623Z",
     "start_time": "2023-05-23T20:34:05.736569Z"
    }
   },
   "outputs": [
    {
     "name": "stdout",
     "output_type": "stream",
     "text": [
      "0.9994839888425145\n"
     ]
    }
   ],
   "source": [
    "print(np.mean(lr_cross_val))"
   ]
  },
  {
   "cell_type": "code",
   "execution_count": null,
   "id": "8410eb42",
   "metadata": {},
   "outputs": [],
   "source": []
  },
  {
   "cell_type": "code",
   "execution_count": null,
   "id": "6d369ec0",
   "metadata": {},
   "outputs": [],
   "source": []
  },
  {
   "cell_type": "code",
   "execution_count": null,
   "id": "f3115b74",
   "metadata": {},
   "outputs": [],
   "source": []
  }
 ],
 "metadata": {
  "hide_input": false,
  "kernelspec": {
   "display_name": "Python 3 (ipykernel)",
   "language": "python",
   "name": "python3"
  },
  "language_info": {
   "codemirror_mode": {
    "name": "ipython",
    "version": 3
   },
   "file_extension": ".py",
   "mimetype": "text/x-python",
   "name": "python",
   "nbconvert_exporter": "python",
   "pygments_lexer": "ipython3",
   "version": "3.10.11"
  },
  "varInspector": {
   "cols": {
    "lenName": 16,
    "lenType": 16,
    "lenVar": 40
   },
   "kernels_config": {
    "python": {
     "delete_cmd_postfix": "",
     "delete_cmd_prefix": "del ",
     "library": "var_list.py",
     "varRefreshCmd": "print(var_dic_list())"
    },
    "r": {
     "delete_cmd_postfix": ") ",
     "delete_cmd_prefix": "rm(",
     "library": "var_list.r",
     "varRefreshCmd": "cat(var_dic_list()) "
    }
   },
   "types_to_exclude": [
    "module",
    "function",
    "builtin_function_or_method",
    "instance",
    "_Feature"
   ],
   "window_display": false
  }
 },
 "nbformat": 4,
 "nbformat_minor": 5
}
